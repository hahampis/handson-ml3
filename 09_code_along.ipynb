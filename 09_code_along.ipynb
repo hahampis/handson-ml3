{
  "cells": [
    {
      "cell_type": "code",
      "execution_count": null,
      "metadata": {
        "id": "hUzmXCWsi7bL"
      },
      "outputs": [],
      "source": [
        "import numpy as np\n",
        "import pandas as pd\n",
        "import matplotlib.pyplot as plt"
      ]
    },
    {
      "cell_type": "markdown",
      "metadata": {
        "id": "k-e6JVeRi7bM"
      },
      "source": [
        "### K-Means"
      ]
    },
    {
      "cell_type": "code",
      "execution_count": null,
      "metadata": {
        "id": "mZnC5uMxi7bN"
      },
      "outputs": [],
      "source": [
        "from sklearn.cluster import KMeans\n",
        "from sklearn.datasets import make_blobs\n",
        "\n",
        "blob_centers = np.array([[ 0.2,  2.3], [-1.5 ,  2.3], [-2.8,  1.8],\n",
        "                         [-2.8,  2.8], [-2.8,  1.3]])\n",
        "blob_std = np.array([0.4, 0.3, 0.1, 0.1, 0.1])\n",
        "X, y = make_blobs(n_samples=2000, centers=blob_centers, cluster_std=blob_std,\n",
        "                  random_state=7) # y contains the cluster IDS, which we want to find with K-Means\n",
        "k = 5\n",
        "kmeans = KMeans(n_clusters=k, n_init=10, random_state=42)\n",
        "y_pred = kmeans.fit_predict(X)"
      ]
    },
    {
      "cell_type": "code",
      "source": [
        "y_pred"
      ],
      "metadata": {
        "colab": {
          "base_uri": "https://localhost:8080/"
        },
        "id": "Kp28hcgCktSo",
        "outputId": "56bc5a44-52b8-4940-8d4c-b77d0ca9f4e6"
      },
      "execution_count": null,
      "outputs": [
        {
          "output_type": "execute_result",
          "data": {
            "text/plain": [
              "array([4, 0, 1, ..., 2, 1, 0], dtype=int32)"
            ]
          },
          "metadata": {},
          "execution_count": 3
        }
      ]
    },
    {
      "cell_type": "code",
      "execution_count": null,
      "metadata": {
        "id": "UtXD0JoFi7bO",
        "outputId": "ca405b51-aea2-457f-f077-f860edac3b91",
        "colab": {
          "base_uri": "https://localhost:8080/"
        }
      },
      "outputs": [
        {
          "output_type": "execute_result",
          "data": {
            "text/plain": [
              "True"
            ]
          },
          "metadata": {},
          "execution_count": 4
        }
      ],
      "source": [
        "y_pred is kmeans.labels_"
      ]
    },
    {
      "cell_type": "code",
      "execution_count": null,
      "metadata": {
        "id": "mTBwe7a6i7bP",
        "outputId": "d075917c-c0a1-48d5-81c4-ab783aa01f4e",
        "colab": {
          "base_uri": "https://localhost:8080/"
        }
      },
      "outputs": [
        {
          "output_type": "execute_result",
          "data": {
            "text/plain": [
              "array([[-2.80389616,  1.80117999],\n",
              "       [ 0.20876306,  2.25551336],\n",
              "       [-2.79290307,  2.79641063],\n",
              "       [-1.46679593,  2.28585348],\n",
              "       [-2.80037642,  1.30082566]])"
            ]
          },
          "metadata": {},
          "execution_count": 5
        }
      ],
      "source": [
        "kmeans.cluster_centers_"
      ]
    },
    {
      "cell_type": "code",
      "execution_count": null,
      "metadata": {
        "id": "PQy6JRV9i7bP",
        "outputId": "29ab2851-7c8e-4fb6-dae9-4bf9de0533e6",
        "colab": {
          "base_uri": "https://localhost:8080/"
        }
      },
      "outputs": [
        {
          "output_type": "execute_result",
          "data": {
            "text/plain": [
              "array([1, 1, 2, 2], dtype=int32)"
            ]
          },
          "metadata": {},
          "execution_count": 6
        }
      ],
      "source": [
        "X_new = np.array([[0, 2], [3, 2], [-3, 3], [-3, 2.5]])\n",
        "kmeans.predict(X_new)"
      ]
    },
    {
      "cell_type": "code",
      "execution_count": null,
      "metadata": {
        "id": "CpxRgTBpi7bQ",
        "outputId": "fe8222aa-dc55-490b-a791-b79ced5cbedc",
        "colab": {
          "base_uri": "https://localhost:8080/"
        }
      },
      "outputs": [
        {
          "output_type": "execute_result",
          "data": {
            "text/plain": [
              "array([[2.81, 0.33, 2.9 , 1.49, 2.89],\n",
              "       [5.81, 2.8 , 5.85, 4.48, 5.84],\n",
              "       [1.21, 3.29, 0.29, 1.69, 1.71],\n",
              "       [0.73, 3.22, 0.36, 1.55, 1.22]])"
            ]
          },
          "metadata": {},
          "execution_count": 7
        }
      ],
      "source": [
        "# Soft clustering\n",
        "# kmeans.transform() returns the (Euclidean) distances of an instance to every centroid\n",
        "kmeans.transform(X_new).round(2)"
      ]
    },
    {
      "cell_type": "code",
      "execution_count": null,
      "metadata": {
        "id": "PhFBeBsUi7bR",
        "outputId": "5e6d819f-362c-4f25-d2e5-741323a671a7",
        "colab": {
          "base_uri": "https://localhost:8080/",
          "height": 161
        }
      },
      "outputs": [
        {
          "output_type": "execute_result",
          "data": {
            "text/plain": [
              "KMeans(init=array([[-3,  3],\n",
              "       [-3,  2],\n",
              "       [-3,  1],\n",
              "       [-1,  2],\n",
              "       [ 0,  2]]),\n",
              "       n_clusters=5, n_init=1, random_state=42)"
            ],
            "text/html": [
              "<style>#sk-container-id-1 {color: black;background-color: white;}#sk-container-id-1 pre{padding: 0;}#sk-container-id-1 div.sk-toggleable {background-color: white;}#sk-container-id-1 label.sk-toggleable__label {cursor: pointer;display: block;width: 100%;margin-bottom: 0;padding: 0.3em;box-sizing: border-box;text-align: center;}#sk-container-id-1 label.sk-toggleable__label-arrow:before {content: \"▸\";float: left;margin-right: 0.25em;color: #696969;}#sk-container-id-1 label.sk-toggleable__label-arrow:hover:before {color: black;}#sk-container-id-1 div.sk-estimator:hover label.sk-toggleable__label-arrow:before {color: black;}#sk-container-id-1 div.sk-toggleable__content {max-height: 0;max-width: 0;overflow: hidden;text-align: left;background-color: #f0f8ff;}#sk-container-id-1 div.sk-toggleable__content pre {margin: 0.2em;color: black;border-radius: 0.25em;background-color: #f0f8ff;}#sk-container-id-1 input.sk-toggleable__control:checked~div.sk-toggleable__content {max-height: 200px;max-width: 100%;overflow: auto;}#sk-container-id-1 input.sk-toggleable__control:checked~label.sk-toggleable__label-arrow:before {content: \"▾\";}#sk-container-id-1 div.sk-estimator input.sk-toggleable__control:checked~label.sk-toggleable__label {background-color: #d4ebff;}#sk-container-id-1 div.sk-label input.sk-toggleable__control:checked~label.sk-toggleable__label {background-color: #d4ebff;}#sk-container-id-1 input.sk-hidden--visually {border: 0;clip: rect(1px 1px 1px 1px);clip: rect(1px, 1px, 1px, 1px);height: 1px;margin: -1px;overflow: hidden;padding: 0;position: absolute;width: 1px;}#sk-container-id-1 div.sk-estimator {font-family: monospace;background-color: #f0f8ff;border: 1px dotted black;border-radius: 0.25em;box-sizing: border-box;margin-bottom: 0.5em;}#sk-container-id-1 div.sk-estimator:hover {background-color: #d4ebff;}#sk-container-id-1 div.sk-parallel-item::after {content: \"\";width: 100%;border-bottom: 1px solid gray;flex-grow: 1;}#sk-container-id-1 div.sk-label:hover label.sk-toggleable__label {background-color: #d4ebff;}#sk-container-id-1 div.sk-serial::before {content: \"\";position: absolute;border-left: 1px solid gray;box-sizing: border-box;top: 0;bottom: 0;left: 50%;z-index: 0;}#sk-container-id-1 div.sk-serial {display: flex;flex-direction: column;align-items: center;background-color: white;padding-right: 0.2em;padding-left: 0.2em;position: relative;}#sk-container-id-1 div.sk-item {position: relative;z-index: 1;}#sk-container-id-1 div.sk-parallel {display: flex;align-items: stretch;justify-content: center;background-color: white;position: relative;}#sk-container-id-1 div.sk-item::before, #sk-container-id-1 div.sk-parallel-item::before {content: \"\";position: absolute;border-left: 1px solid gray;box-sizing: border-box;top: 0;bottom: 0;left: 50%;z-index: -1;}#sk-container-id-1 div.sk-parallel-item {display: flex;flex-direction: column;z-index: 1;position: relative;background-color: white;}#sk-container-id-1 div.sk-parallel-item:first-child::after {align-self: flex-end;width: 50%;}#sk-container-id-1 div.sk-parallel-item:last-child::after {align-self: flex-start;width: 50%;}#sk-container-id-1 div.sk-parallel-item:only-child::after {width: 0;}#sk-container-id-1 div.sk-dashed-wrapped {border: 1px dashed gray;margin: 0 0.4em 0.5em 0.4em;box-sizing: border-box;padding-bottom: 0.4em;background-color: white;}#sk-container-id-1 div.sk-label label {font-family: monospace;font-weight: bold;display: inline-block;line-height: 1.2em;}#sk-container-id-1 div.sk-label-container {text-align: center;}#sk-container-id-1 div.sk-container {/* jupyter's `normalize.less` sets `[hidden] { display: none; }` but bootstrap.min.css set `[hidden] { display: none !important; }` so we also need the `!important` here to be able to override the default hidden behavior on the sphinx rendered scikit-learn.org. See: https://github.com/scikit-learn/scikit-learn/issues/21755 */display: inline-block !important;position: relative;}#sk-container-id-1 div.sk-text-repr-fallback {display: none;}</style><div id=\"sk-container-id-1\" class=\"sk-top-container\"><div class=\"sk-text-repr-fallback\"><pre>KMeans(init=array([[-3,  3],\n",
              "       [-3,  2],\n",
              "       [-3,  1],\n",
              "       [-1,  2],\n",
              "       [ 0,  2]]),\n",
              "       n_clusters=5, n_init=1, random_state=42)</pre><b>In a Jupyter environment, please rerun this cell to show the HTML representation or trust the notebook. <br />On GitHub, the HTML representation is unable to render, please try loading this page with nbviewer.org.</b></div><div class=\"sk-container\" hidden><div class=\"sk-item\"><div class=\"sk-estimator sk-toggleable\"><input class=\"sk-toggleable__control sk-hidden--visually\" id=\"sk-estimator-id-1\" type=\"checkbox\" checked><label for=\"sk-estimator-id-1\" class=\"sk-toggleable__label sk-toggleable__label-arrow\">KMeans</label><div class=\"sk-toggleable__content\"><pre>KMeans(init=array([[-3,  3],\n",
              "       [-3,  2],\n",
              "       [-3,  1],\n",
              "       [-1,  2],\n",
              "       [ 0,  2]]),\n",
              "       n_clusters=5, n_init=1, random_state=42)</pre></div></div></div></div></div>"
            ]
          },
          "metadata": {},
          "execution_count": 8
        }
      ],
      "source": [
        "# Provide initial centroids if you have an idea about them\n",
        "good_init = np.array([[-3, 3], [-3, 2], [-3, 1], [-1, 2], [0, 2]])\n",
        "kmeans = KMeans(n_clusters=5, init=good_init, n_init=1, random_state=42)\n",
        "kmeans.fit(X)"
      ]
    },
    {
      "cell_type": "code",
      "execution_count": null,
      "metadata": {
        "id": "JPOS4XUui7bS",
        "outputId": "45aa9d35-aa1f-4bf1-ce2b-6e347001350b",
        "colab": {
          "base_uri": "https://localhost:8080/"
        }
      },
      "outputs": [
        {
          "output_type": "execute_result",
          "data": {
            "text/plain": [
              "211.5985372581684"
            ]
          },
          "metadata": {},
          "execution_count": 9
        }
      ],
      "source": [
        "# The sum of the squared distances between the instances and their closest centroids\n",
        "kmeans.inertia_"
      ]
    },
    {
      "cell_type": "code",
      "execution_count": null,
      "metadata": {
        "id": "K9rfu_V_i7bT",
        "outputId": "a4571fd6-576a-4d16-c42e-30fce12c5da8",
        "colab": {
          "base_uri": "https://localhost:8080/"
        }
      },
      "outputs": [
        {
          "output_type": "execute_result",
          "data": {
            "text/plain": [
              "-211.59853725816836"
            ]
          },
          "metadata": {},
          "execution_count": 10
        }
      ],
      "source": [
        "kmeans.score(X)"
      ]
    },
    {
      "cell_type": "code",
      "execution_count": null,
      "metadata": {
        "id": "9RH4MBYAi7bT",
        "outputId": "e01a8a1a-1eb1-482e-9d40-fdec2590d0a0",
        "colab": {
          "base_uri": "https://localhost:8080/",
          "height": 74
        }
      },
      "outputs": [
        {
          "output_type": "execute_result",
          "data": {
            "text/plain": [
              "MiniBatchKMeans(n_clusters=5, n_init=10, random_state=42)"
            ],
            "text/html": [
              "<style>#sk-container-id-2 {color: black;background-color: white;}#sk-container-id-2 pre{padding: 0;}#sk-container-id-2 div.sk-toggleable {background-color: white;}#sk-container-id-2 label.sk-toggleable__label {cursor: pointer;display: block;width: 100%;margin-bottom: 0;padding: 0.3em;box-sizing: border-box;text-align: center;}#sk-container-id-2 label.sk-toggleable__label-arrow:before {content: \"▸\";float: left;margin-right: 0.25em;color: #696969;}#sk-container-id-2 label.sk-toggleable__label-arrow:hover:before {color: black;}#sk-container-id-2 div.sk-estimator:hover label.sk-toggleable__label-arrow:before {color: black;}#sk-container-id-2 div.sk-toggleable__content {max-height: 0;max-width: 0;overflow: hidden;text-align: left;background-color: #f0f8ff;}#sk-container-id-2 div.sk-toggleable__content pre {margin: 0.2em;color: black;border-radius: 0.25em;background-color: #f0f8ff;}#sk-container-id-2 input.sk-toggleable__control:checked~div.sk-toggleable__content {max-height: 200px;max-width: 100%;overflow: auto;}#sk-container-id-2 input.sk-toggleable__control:checked~label.sk-toggleable__label-arrow:before {content: \"▾\";}#sk-container-id-2 div.sk-estimator input.sk-toggleable__control:checked~label.sk-toggleable__label {background-color: #d4ebff;}#sk-container-id-2 div.sk-label input.sk-toggleable__control:checked~label.sk-toggleable__label {background-color: #d4ebff;}#sk-container-id-2 input.sk-hidden--visually {border: 0;clip: rect(1px 1px 1px 1px);clip: rect(1px, 1px, 1px, 1px);height: 1px;margin: -1px;overflow: hidden;padding: 0;position: absolute;width: 1px;}#sk-container-id-2 div.sk-estimator {font-family: monospace;background-color: #f0f8ff;border: 1px dotted black;border-radius: 0.25em;box-sizing: border-box;margin-bottom: 0.5em;}#sk-container-id-2 div.sk-estimator:hover {background-color: #d4ebff;}#sk-container-id-2 div.sk-parallel-item::after {content: \"\";width: 100%;border-bottom: 1px solid gray;flex-grow: 1;}#sk-container-id-2 div.sk-label:hover label.sk-toggleable__label {background-color: #d4ebff;}#sk-container-id-2 div.sk-serial::before {content: \"\";position: absolute;border-left: 1px solid gray;box-sizing: border-box;top: 0;bottom: 0;left: 50%;z-index: 0;}#sk-container-id-2 div.sk-serial {display: flex;flex-direction: column;align-items: center;background-color: white;padding-right: 0.2em;padding-left: 0.2em;position: relative;}#sk-container-id-2 div.sk-item {position: relative;z-index: 1;}#sk-container-id-2 div.sk-parallel {display: flex;align-items: stretch;justify-content: center;background-color: white;position: relative;}#sk-container-id-2 div.sk-item::before, #sk-container-id-2 div.sk-parallel-item::before {content: \"\";position: absolute;border-left: 1px solid gray;box-sizing: border-box;top: 0;bottom: 0;left: 50%;z-index: -1;}#sk-container-id-2 div.sk-parallel-item {display: flex;flex-direction: column;z-index: 1;position: relative;background-color: white;}#sk-container-id-2 div.sk-parallel-item:first-child::after {align-self: flex-end;width: 50%;}#sk-container-id-2 div.sk-parallel-item:last-child::after {align-self: flex-start;width: 50%;}#sk-container-id-2 div.sk-parallel-item:only-child::after {width: 0;}#sk-container-id-2 div.sk-dashed-wrapped {border: 1px dashed gray;margin: 0 0.4em 0.5em 0.4em;box-sizing: border-box;padding-bottom: 0.4em;background-color: white;}#sk-container-id-2 div.sk-label label {font-family: monospace;font-weight: bold;display: inline-block;line-height: 1.2em;}#sk-container-id-2 div.sk-label-container {text-align: center;}#sk-container-id-2 div.sk-container {/* jupyter's `normalize.less` sets `[hidden] { display: none; }` but bootstrap.min.css set `[hidden] { display: none !important; }` so we also need the `!important` here to be able to override the default hidden behavior on the sphinx rendered scikit-learn.org. See: https://github.com/scikit-learn/scikit-learn/issues/21755 */display: inline-block !important;position: relative;}#sk-container-id-2 div.sk-text-repr-fallback {display: none;}</style><div id=\"sk-container-id-2\" class=\"sk-top-container\"><div class=\"sk-text-repr-fallback\"><pre>MiniBatchKMeans(n_clusters=5, n_init=10, random_state=42)</pre><b>In a Jupyter environment, please rerun this cell to show the HTML representation or trust the notebook. <br />On GitHub, the HTML representation is unable to render, please try loading this page with nbviewer.org.</b></div><div class=\"sk-container\" hidden><div class=\"sk-item\"><div class=\"sk-estimator sk-toggleable\"><input class=\"sk-toggleable__control sk-hidden--visually\" id=\"sk-estimator-id-2\" type=\"checkbox\" checked><label for=\"sk-estimator-id-2\" class=\"sk-toggleable__label sk-toggleable__label-arrow\">MiniBatchKMeans</label><div class=\"sk-toggleable__content\"><pre>MiniBatchKMeans(n_clusters=5, n_init=10, random_state=42)</pre></div></div></div></div></div>"
            ]
          },
          "metadata": {},
          "execution_count": 11
        }
      ],
      "source": [
        "# Mini-batch kmeans\n",
        "from sklearn.cluster import MiniBatchKMeans\n",
        "\n",
        "minibatch_kmeans = MiniBatchKMeans(n_clusters=5, n_init=10, random_state=42)\n",
        "minibatch_kmeans.fit(X)\n",
        "\n"
      ]
    },
    {
      "cell_type": "code",
      "execution_count": null,
      "metadata": {
        "id": "61SjfTP-i7bU",
        "outputId": "5418a1b6-4aa8-4d94-991f-08ab8d063132",
        "colab": {
          "base_uri": "https://localhost:8080/"
        }
      },
      "outputs": [
        {
          "output_type": "execute_result",
          "data": {
            "text/plain": [
              "0.655517642572828"
            ]
          },
          "metadata": {},
          "execution_count": 12
        }
      ],
      "source": [
        "# Using the silhouette score for choosing the number of clusters\n",
        "from sklearn.metrics import silhouette_score\n",
        "\n",
        "silhouette_score(X, kmeans.labels_)"
      ]
    },
    {
      "cell_type": "markdown",
      "source": [
        "### Using Clustering for Image Segmentation"
      ],
      "metadata": {
        "id": "QLhwOaiHwPK3"
      }
    },
    {
      "cell_type": "code",
      "execution_count": null,
      "metadata": {
        "id": "zc42l6Z5i7bV",
        "colab": {
          "base_uri": "https://localhost:8080/"
        },
        "outputId": "a84e6f52-e859-4b8a-c29a-0645a2101fbc"
      },
      "outputs": [
        {
          "output_type": "stream",
          "name": "stdout",
          "text": [
            "Downloading ladybug.png\n"
          ]
        }
      ],
      "source": [
        "# extra code – downloads the ladybug image\n",
        "\n",
        "import urllib.request\n",
        "from pathlib import Path\n",
        "\n",
        "IMAGES_PATH = Path() / \"images\" / \"unsupervised_learning\"\n",
        "IMAGES_PATH.mkdir(parents=True, exist_ok=True)\n",
        "\n",
        "\n",
        "homl3_root = \"https://github.com/ageron/handson-ml3/raw/main/\"\n",
        "filename = \"ladybug.png\"\n",
        "filepath = IMAGES_PATH / filename\n",
        "if not filepath.is_file():\n",
        "    print(\"Downloading\", filename)\n",
        "    url = f\"{homl3_root}/images/unsupervised_learning/{filename}\"\n",
        "    urllib.request.urlretrieve(url, filepath)"
      ]
    },
    {
      "cell_type": "code",
      "source": [
        "import PIL\n",
        "\n",
        "image = np.asarray(PIL.Image.open(filepath))\n",
        "image.shape"
      ],
      "metadata": {
        "colab": {
          "base_uri": "https://localhost:8080/"
        },
        "id": "AJbifcOjw7zp",
        "outputId": "515f8c50-cbc8-457a-d99b-603cd47054eb"
      },
      "execution_count": null,
      "outputs": [
        {
          "output_type": "execute_result",
          "data": {
            "text/plain": [
              "(533, 800, 3)"
            ]
          },
          "metadata": {},
          "execution_count": 14
        }
      ]
    },
    {
      "cell_type": "code",
      "source": [
        "X = image.reshape(-1, 3)\n",
        "kmeans = KMeans(n_clusters=8, n_init=10, random_state=42).fit(X)\n",
        "# segmented_img replaces the color of each pixel with the mean color of its cluster\n",
        "# by taking advantage of numpy's advanced indexing\n",
        "segmented_img = kmeans.cluster_centers_[kmeans.labels_]\n"
      ],
      "metadata": {
        "id": "gxn9pbFqxIp7"
      },
      "execution_count": null,
      "outputs": []
    },
    {
      "cell_type": "code",
      "source": [
        "kmeans.labels_.shape"
      ],
      "metadata": {
        "colab": {
          "base_uri": "https://localhost:8080/"
        },
        "id": "_9zwJVyt0KhK",
        "outputId": "0fe2f0a0-0d7f-4e5a-d90e-be016161ed23"
      },
      "execution_count": null,
      "outputs": [
        {
          "output_type": "execute_result",
          "data": {
            "text/plain": [
              "(426400,)"
            ]
          },
          "metadata": {},
          "execution_count": 16
        }
      ]
    },
    {
      "cell_type": "code",
      "source": [
        "kmeans.labels_"
      ],
      "metadata": {
        "colab": {
          "base_uri": "https://localhost:8080/"
        },
        "id": "BUEbLBCt0N50",
        "outputId": "799461dc-770e-4fa8-e3d9-92acd13f85f1"
      },
      "execution_count": null,
      "outputs": [
        {
          "output_type": "execute_result",
          "data": {
            "text/plain": [
              "array([1, 1, 1, ..., 4, 1, 1], dtype=int32)"
            ]
          },
          "metadata": {},
          "execution_count": 17
        }
      ]
    },
    {
      "cell_type": "code",
      "source": [
        "kmeans.cluster_centers_.shape"
      ],
      "metadata": {
        "colab": {
          "base_uri": "https://localhost:8080/"
        },
        "id": "CdKZqMjH0RMz",
        "outputId": "38cd834a-c713-4576-c72b-e23f461e2f73"
      },
      "execution_count": null,
      "outputs": [
        {
          "output_type": "execute_result",
          "data": {
            "text/plain": [
              "(8, 3)"
            ]
          },
          "metadata": {},
          "execution_count": 18
        }
      ]
    },
    {
      "cell_type": "code",
      "source": [
        "kmeans.cluster_centers_"
      ],
      "metadata": {
        "colab": {
          "base_uri": "https://localhost:8080/"
        },
        "id": "DWvMMXy00U9S",
        "outputId": "a8e9dbf3-9df2-4af6-83ac-1578b352eeca"
      },
      "execution_count": null,
      "outputs": [
        {
          "output_type": "execute_result",
          "data": {
            "text/plain": [
              "array([[250.80339083, 238.65268971,   6.56603259],\n",
              "       [  5.83448628,  28.22616668,   1.47552886],\n",
              "       [ 55.88206518,  98.62346563,  14.79208777],\n",
              "       [193.20797818,  54.13433345,  11.37470167],\n",
              "       [ 25.47759236,  64.83281062,   4.31953567],\n",
              "       [156.22887957, 160.67579389,  98.81396046],\n",
              "       [ 94.89017515, 133.51803159,  40.11328915],\n",
              "       [225.57151644, 185.02493849,   8.77650414]])"
            ]
          },
          "metadata": {},
          "execution_count": 19
        }
      ]
    },
    {
      "cell_type": "code",
      "source": [
        "# Reshape segmented_img to the original shape\n",
        "segmented_img = segmented_img.reshape(image.shape)"
      ],
      "metadata": {
        "id": "VwLgCmL50YHi"
      },
      "execution_count": null,
      "outputs": []
    },
    {
      "cell_type": "code",
      "source": [
        "plt.imshow(segmented_img)"
      ],
      "metadata": {
        "colab": {
          "base_uri": "https://localhost:8080/",
          "height": 451
        },
        "id": "Hj9oUEl11JOK",
        "outputId": "0c54390a-8ca7-4e16-a709-2ed17c482e2f"
      },
      "execution_count": null,
      "outputs": [
        {
          "output_type": "stream",
          "name": "stderr",
          "text": [
            "WARNING:matplotlib.image:Clipping input data to the valid range for imshow with RGB data ([0..1] for floats or [0..255] for integers).\n"
          ]
        },
        {
          "output_type": "execute_result",
          "data": {
            "text/plain": [
              "<matplotlib.image.AxesImage at 0x7888422fdfc0>"
            ]
          },
          "metadata": {},
          "execution_count": 21
        },
        {
          "output_type": "display_data",
          "data": {
            "text/plain": [
              "<Figure size 640x480 with 1 Axes>"
            ],
            "image/png": "[encoded data removed]"
          },
          "metadata": {}
        }
      ]
    },
    {
      "cell_type": "code",
      "source": [
        "plt.imshow(segmented_img / 255)"
      ],
      "metadata": {
        "colab": {
          "base_uri": "https://localhost:8080/",
          "height": 413
        },
        "id": "wCPohB_s0jkw",
        "outputId": "24c9e8a2-52b3-4d10-dd3b-1f330eed63f5"
      },
      "execution_count": null,
      "outputs": [
        {
          "output_type": "execute_result",
          "data": {
            "text/plain": [
              "<matplotlib.image.AxesImage at 0x788802cb0490>"
            ]
          },
          "metadata": {},
          "execution_count": 22
        },
        {
          "output_type": "display_data",
          "data": {
            "text/plain": [
              "<Figure size 640x480 with 1 Axes>"
            ],
            "image/png": "[encoded data removed]"
          },
          "metadata": {}
        }
      ]
    },
    {
      "cell_type": "code",
      "source": [
        "segmented_img / 255"
      ],
      "metadata": {
        "colab": {
          "base_uri": "https://localhost:8080/"
        },
        "id": "eu27KrWI0pLf",
        "outputId": "d74eac10-2587-4e96-8114-9e0ae2133602"
      },
      "execution_count": null,
      "outputs": [
        {
          "output_type": "execute_result",
          "data": {
            "text/plain": [
              "array([[[0.02288034, 0.11069085, 0.00578639],\n",
              "        [0.02288034, 0.11069085, 0.00578639],\n",
              "        [0.02288034, 0.11069085, 0.00578639],\n",
              "        ...,\n",
              "        [0.21914535, 0.38675869, 0.05800819],\n",
              "        [0.21914535, 0.38675869, 0.05800819],\n",
              "        [0.21914535, 0.38675869, 0.05800819]],\n",
              "\n",
              "       [[0.02288034, 0.11069085, 0.00578639],\n",
              "        [0.02288034, 0.11069085, 0.00578639],\n",
              "        [0.02288034, 0.11069085, 0.00578639],\n",
              "        ...,\n",
              "        [0.21914535, 0.38675869, 0.05800819],\n",
              "        [0.21914535, 0.38675869, 0.05800819],\n",
              "        [0.21914535, 0.38675869, 0.05800819]],\n",
              "\n",
              "       [[0.02288034, 0.11069085, 0.00578639],\n",
              "        [0.02288034, 0.11069085, 0.00578639],\n",
              "        [0.02288034, 0.11069085, 0.00578639],\n",
              "        ...,\n",
              "        [0.21914535, 0.38675869, 0.05800819],\n",
              "        [0.21914535, 0.38675869, 0.05800819],\n",
              "        [0.21914535, 0.38675869, 0.05800819]],\n",
              "\n",
              "       ...,\n",
              "\n",
              "       [[0.02288034, 0.11069085, 0.00578639],\n",
              "        [0.02288034, 0.11069085, 0.00578639],\n",
              "        [0.02288034, 0.11069085, 0.00578639],\n",
              "        ...,\n",
              "        [0.09991213, 0.25424632, 0.01693936],\n",
              "        [0.09991213, 0.25424632, 0.01693936],\n",
              "        [0.02288034, 0.11069085, 0.00578639]],\n",
              "\n",
              "       [[0.02288034, 0.11069085, 0.00578639],\n",
              "        [0.02288034, 0.11069085, 0.00578639],\n",
              "        [0.02288034, 0.11069085, 0.00578639],\n",
              "        ...,\n",
              "        [0.09991213, 0.25424632, 0.01693936],\n",
              "        [0.09991213, 0.25424632, 0.01693936],\n",
              "        [0.02288034, 0.11069085, 0.00578639]],\n",
              "\n",
              "       [[0.02288034, 0.11069085, 0.00578639],\n",
              "        [0.02288034, 0.11069085, 0.00578639],\n",
              "        [0.02288034, 0.11069085, 0.00578639],\n",
              "        ...,\n",
              "        [0.09991213, 0.25424632, 0.01693936],\n",
              "        [0.02288034, 0.11069085, 0.00578639],\n",
              "        [0.02288034, 0.11069085, 0.00578639]]])"
            ]
          },
          "metadata": {},
          "execution_count": 23
        }
      ]
    },
    {
      "cell_type": "markdown",
      "source": [
        "### Using Clustering for Semi-Supervised Learning"
      ],
      "metadata": {
        "id": "-a826E0M31Bo"
      }
    },
    {
      "cell_type": "code",
      "source": [
        "from sklearn.datasets import load_digits\n",
        "\n",
        "X_digits, y_digits = load_digits(return_X_y=True)\n",
        "X_train, y_train = X_digits[:1400], y_digits[:1400]\n",
        "X_test, y_test = X_digits[1400:], y_digits[1400:]"
      ],
      "metadata": {
        "id": "m7pZdr0t2SKt"
      },
      "execution_count": null,
      "outputs": []
    },
    {
      "cell_type": "code",
      "source": [
        "# Let's pretend we only have labels for 50 instances\n",
        "from sklearn.linear_model import LogisticRegression\n",
        "\n",
        "n_labeled = 50\n",
        "log_reg = LogisticRegression(max_iter=10_000)\n",
        "log_reg.fit(X_train[:n_labeled], y_train[:n_labeled])"
      ],
      "metadata": {
        "colab": {
          "base_uri": "https://localhost:8080/",
          "height": 74
        },
        "id": "q-uqb3Iy4TTC",
        "outputId": "5a78933d-99a0-4223-da28-9c96e009ef8e"
      },
      "execution_count": null,
      "outputs": [
        {
          "output_type": "execute_result",
          "data": {
            "text/plain": [
              "LogisticRegression(max_iter=10000)"
            ],
            "text/html": [
              "<style>#sk-container-id-3 {color: black;background-color: white;}#sk-container-id-3 pre{padding: 0;}#sk-container-id-3 div.sk-toggleable {background-color: white;}#sk-container-id-3 label.sk-toggleable__label {cursor: pointer;display: block;width: 100%;margin-bottom: 0;padding: 0.3em;box-sizing: border-box;text-align: center;}#sk-container-id-3 label.sk-toggleable__label-arrow:before {content: \"▸\";float: left;margin-right: 0.25em;color: #696969;}#sk-container-id-3 label.sk-toggleable__label-arrow:hover:before {color: black;}#sk-container-id-3 div.sk-estimator:hover label.sk-toggleable__label-arrow:before {color: black;}#sk-container-id-3 div.sk-toggleable__content {max-height: 0;max-width: 0;overflow: hidden;text-align: left;background-color: #f0f8ff;}#sk-container-id-3 div.sk-toggleable__content pre {margin: 0.2em;color: black;border-radius: 0.25em;background-color: #f0f8ff;}#sk-container-id-3 input.sk-toggleable__control:checked~div.sk-toggleable__content {max-height: 200px;max-width: 100%;overflow: auto;}#sk-container-id-3 input.sk-toggleable__control:checked~label.sk-toggleable__label-arrow:before {content: \"▾\";}#sk-container-id-3 div.sk-estimator input.sk-toggleable__control:checked~label.sk-toggleable__label {background-color: #d4ebff;}#sk-container-id-3 div.sk-label input.sk-toggleable__control:checked~label.sk-toggleable__label {background-color: #d4ebff;}#sk-container-id-3 input.sk-hidden--visually {border: 0;clip: rect(1px 1px 1px 1px);clip: rect(1px, 1px, 1px, 1px);height: 1px;margin: -1px;overflow: hidden;padding: 0;position: absolute;width: 1px;}#sk-container-id-3 div.sk-estimator {font-family: monospace;background-color: #f0f8ff;border: 1px dotted black;border-radius: 0.25em;box-sizing: border-box;margin-bottom: 0.5em;}#sk-container-id-3 div.sk-estimator:hover {background-color: #d4ebff;}#sk-container-id-3 div.sk-parallel-item::after {content: \"\";width: 100%;border-bottom: 1px solid gray;flex-grow: 1;}#sk-container-id-3 div.sk-label:hover label.sk-toggleable__label {background-color: #d4ebff;}#sk-container-id-3 div.sk-serial::before {content: \"\";position: absolute;border-left: 1px solid gray;box-sizing: border-box;top: 0;bottom: 0;left: 50%;z-index: 0;}#sk-container-id-3 div.sk-serial {display: flex;flex-direction: column;align-items: center;background-color: white;padding-right: 0.2em;padding-left: 0.2em;position: relative;}#sk-container-id-3 div.sk-item {position: relative;z-index: 1;}#sk-container-id-3 div.sk-parallel {display: flex;align-items: stretch;justify-content: center;background-color: white;position: relative;}#sk-container-id-3 div.sk-item::before, #sk-container-id-3 div.sk-parallel-item::before {content: \"\";position: absolute;border-left: 1px solid gray;box-sizing: border-box;top: 0;bottom: 0;left: 50%;z-index: -1;}#sk-container-id-3 div.sk-parallel-item {display: flex;flex-direction: column;z-index: 1;position: relative;background-color: white;}#sk-container-id-3 div.sk-parallel-item:first-child::after {align-self: flex-end;width: 50%;}#sk-container-id-3 div.sk-parallel-item:last-child::after {align-self: flex-start;width: 50%;}#sk-container-id-3 div.sk-parallel-item:only-child::after {width: 0;}#sk-container-id-3 div.sk-dashed-wrapped {border: 1px dashed gray;margin: 0 0.4em 0.5em 0.4em;box-sizing: border-box;padding-bottom: 0.4em;background-color: white;}#sk-container-id-3 div.sk-label label {font-family: monospace;font-weight: bold;display: inline-block;line-height: 1.2em;}#sk-container-id-3 div.sk-label-container {text-align: center;}#sk-container-id-3 div.sk-container {/* jupyter's `normalize.less` sets `[hidden] { display: none; }` but bootstrap.min.css set `[hidden] { display: none !important; }` so we also need the `!important` here to be able to override the default hidden behavior on the sphinx rendered scikit-learn.org. See: https://github.com/scikit-learn/scikit-learn/issues/21755 */display: inline-block !important;position: relative;}#sk-container-id-3 div.sk-text-repr-fallback {display: none;}</style><div id=\"sk-container-id-3\" class=\"sk-top-container\"><div class=\"sk-text-repr-fallback\"><pre>LogisticRegression(max_iter=10000)</pre><b>In a Jupyter environment, please rerun this cell to show the HTML representation or trust the notebook. <br />On GitHub, the HTML representation is unable to render, please try loading this page with nbviewer.org.</b></div><div class=\"sk-container\" hidden><div class=\"sk-item\"><div class=\"sk-estimator sk-toggleable\"><input class=\"sk-toggleable__control sk-hidden--visually\" id=\"sk-estimator-id-3\" type=\"checkbox\" checked><label for=\"sk-estimator-id-3\" class=\"sk-toggleable__label sk-toggleable__label-arrow\">LogisticRegression</label><div class=\"sk-toggleable__content\"><pre>LogisticRegression(max_iter=10000)</pre></div></div></div></div></div>"
            ]
          },
          "metadata": {},
          "execution_count": 25
        }
      ]
    },
    {
      "cell_type": "code",
      "source": [
        "# Measure the accuracy onthe test set (the test set must be labeled)\n",
        "log_reg.score(X_test, y_test)"
      ],
      "metadata": {
        "colab": {
          "base_uri": "https://localhost:8080/"
        },
        "id": "9hFJqrTB46AL",
        "outputId": "e0d9e2d2-22ff-447a-a007-64df8afaf93e"
      },
      "execution_count": null,
      "outputs": [
        {
          "output_type": "execute_result",
          "data": {
            "text/plain": [
              "0.7481108312342569"
            ]
          },
          "metadata": {},
          "execution_count": 26
        }
      ]
    },
    {
      "cell_type": "code",
      "source": [
        "# It's the same as using the accuracy_score() function\n",
        "from sklearn.metrics import accuracy_score\n",
        "\n",
        "accuracy_score(y_test, log_reg.predict(X_test))"
      ],
      "metadata": {
        "colab": {
          "base_uri": "https://localhost:8080/"
        },
        "id": "luFCEyQs5CeP",
        "outputId": "76d1ca08-f4d6-43c1-cad5-e971677df8d9"
      },
      "execution_count": null,
      "outputs": [
        {
          "output_type": "execute_result",
          "data": {
            "text/plain": [
              "0.7481108312342569"
            ]
          },
          "metadata": {},
          "execution_count": 27
        }
      ]
    },
    {
      "cell_type": "code",
      "source": [
        "# Cluster the training set into 50(!) clusters\n",
        "# Then, for each cluster, find the image closest to the centroid\n",
        "k = 50\n",
        "kmeans = KMeans(n_clusters=k, n_init=10, random_state=42)\n",
        "X_digits_dist = kmeans.fit_transform(X_train)\n",
        "representative_digit_idx = np.argmin(X_digits_dist, axis=0)\n",
        "X_representative_digits = X_train[representative_digit_idx]"
      ],
      "metadata": {
        "id": "5NzV5JDS5Lal"
      },
      "execution_count": null,
      "outputs": []
    },
    {
      "cell_type": "code",
      "source": [
        "plt.figure(figsize=(8, 2))\n",
        "for index, X_representative_digit in enumerate(X_representative_digits):\n",
        "    plt.subplot(k // 10, 10, index + 1)\n",
        "    plt.imshow(X_representative_digit.reshape(8, 8), cmap=\"binary\",\n",
        "               interpolation=\"bilinear\")\n",
        "    plt.axis('off')\n",
        "\n",
        "# save_fig(\"representative_images_plot\", tight_layout=False)\n",
        "plt.show()"
      ],
      "metadata": {
        "colab": {
          "base_uri": "https://localhost:8080/",
          "height": 191
        },
        "id": "BADaDyUj6mYY",
        "outputId": "e9b533f0-9a85-473a-f90a-c7303df77386"
      },
      "execution_count": null,
      "outputs": [
        {
          "output_type": "display_data",
          "data": {
            "text/plain": [
              "<Figure size 800x200 with 50 Axes>"
            ],
            "image/png": "[encoded data removed]"
          },
          "metadata": {}
        }
      ]
    },
    {
      "cell_type": "code",
      "source": [
        "# Manually label the representative digits\n",
        "y_representative_digits = np.array([\n",
        "    1, 3, 6, 0, 7, 9, 2, 4, 8, 9,\n",
        "    5, 4, 7, 1, 2, 6, 1, 2, 5, 1,\n",
        "    4, 1, 3, 3, 8, 8, 2, 5, 6, 9,\n",
        "    1, 4, 0, 6, 8, 3, 4, 6, 7, 2,\n",
        "    4, 1, 0, 7, 5, 1, 9, 9, 3, 7\n",
        "])"
      ],
      "metadata": {
        "id": "2UlBSFZB6zZb"
      },
      "execution_count": null,
      "outputs": []
    },
    {
      "cell_type": "code",
      "source": [
        "# Again, we only have 50 labeled instances, but instead of them being random,\n",
        "# each of them is a representative image of its cluster\n",
        "log_reg = LogisticRegression(max_iter=10_000)\n",
        "log_reg.fit(X_representative_digits, y_representative_digits)\n",
        "log_reg.score(X_test, y_test)"
      ],
      "metadata": {
        "colab": {
          "base_uri": "https://localhost:8080/"
        },
        "id": "GXIgEIym7F4h",
        "outputId": "299a7cd1-701a-430f-d23d-c3774d07c7aa"
      },
      "execution_count": null,
      "outputs": [
        {
          "output_type": "execute_result",
          "data": {
            "text/plain": [
              "0.8488664987405542"
            ]
          },
          "metadata": {},
          "execution_count": 31
        }
      ]
    },
    {
      "cell_type": "code",
      "source": [
        "# Propagate the labels to all the other instances in the same cluster\n",
        "y_train_propagated = np.empty(len(X_train), dtype=np.int64)\n",
        "for i in range(k):\n",
        "  y_train_propagated[kmeans.labels_ == i] = y_representative_digits[i]"
      ],
      "metadata": {
        "id": "846w05uJ7WiG"
      },
      "execution_count": null,
      "outputs": []
    },
    {
      "cell_type": "code",
      "source": [
        "kmeans.labels_"
      ],
      "metadata": {
        "colab": {
          "base_uri": "https://localhost:8080/"
        },
        "id": "KQSiR1u68sip",
        "outputId": "3bc4dc48-f0b5-490f-cc1c-a28bb25a0140"
      },
      "execution_count": null,
      "outputs": [
        {
          "output_type": "execute_result",
          "data": {
            "text/plain": [
              "array([32, 41, 39, ..., 40, 40, 43], dtype=int32)"
            ]
          },
          "metadata": {},
          "execution_count": 33
        }
      ]
    },
    {
      "cell_type": "code",
      "source": [
        "kmeans.labels_.shape"
      ],
      "metadata": {
        "colab": {
          "base_uri": "https://localhost:8080/"
        },
        "id": "aeCw3JQe8xso",
        "outputId": "a66742e7-e4c5-4e4e-b50e-7ce382e1d7b4"
      },
      "execution_count": null,
      "outputs": [
        {
          "output_type": "execute_result",
          "data": {
            "text/plain": [
              "(1400,)"
            ]
          },
          "metadata": {},
          "execution_count": 34
        }
      ]
    },
    {
      "cell_type": "code",
      "source": [
        "# 1400 True / False\n",
        "kmeans.labels_ == 6"
      ],
      "metadata": {
        "colab": {
          "base_uri": "https://localhost:8080/"
        },
        "id": "dc0YpQQh81xL",
        "outputId": "eb301ec1-d17c-4d8a-ffb6-e242a6cb62ca"
      },
      "execution_count": null,
      "outputs": [
        {
          "output_type": "execute_result",
          "data": {
            "text/plain": [
              "array([False, False, False, ..., False, False, False])"
            ]
          },
          "metadata": {},
          "execution_count": 35
        }
      ]
    },
    {
      "cell_type": "code",
      "source": [
        "log_reg = LogisticRegression(max_iter=10_000)\n",
        "log_reg.fit(X_train, y_train_propagated)\n",
        "log_reg.score(X_test, y_test)"
      ],
      "metadata": {
        "colab": {
          "base_uri": "https://localhost:8080/"
        },
        "id": "0Fpq1InU9Gsd",
        "outputId": "ad3a76ef-1de8-4f36-a9d8-461b445ea26c"
      },
      "execution_count": null,
      "outputs": [
        {
          "output_type": "execute_result",
          "data": {
            "text/plain": [
              "0.8942065491183879"
            ]
          },
          "metadata": {},
          "execution_count": 36
        }
      ]
    },
    {
      "cell_type": "code",
      "source": [
        "# Ignore the 1% of instances that are farthest from their cluster center\n",
        "# (i.e. eliminate outliers)\n",
        "percentile_closest = 99\n",
        "\n",
        "# The distance of each instance from its cluster center\n",
        "X_cluster_dist = X_digits_dist[np.arange(len(X_train)), kmeans.labels_]\n",
        "\n",
        "for i in range(k):\n",
        "  in_cluster = (kmeans.labels_ == i)\n",
        "  # We consider only instances of cluster i\n",
        "  cluster_dist = X_cluster_dist[in_cluster]\n",
        "  cutoff_distance = np.percentile(cluster_dist, percentile_closest)\n",
        "  above_cutoff = (X_cluster_dist > cutoff_distance)\n",
        "  X_cluster_dist[in_cluster & above_cutoff] = -1\n",
        "\n",
        "partially_propagated = (X_cluster_dist != -1)\n",
        "X_train_partially_propagated = X_train[partially_propagated]\n",
        "y_train_partially_propagated = y_train_propagated[partially_propagated]"
      ],
      "metadata": {
        "id": "4ki-nPNk9bqS"
      },
      "execution_count": null,
      "outputs": []
    },
    {
      "cell_type": "code",
      "source": [
        "log_reg = LogisticRegression(max_iter=10_000)\n",
        "log_reg.fit(X_train_partially_propagated, y_train_partially_propagated)\n",
        "log_reg.score(X_test, y_test)"
      ],
      "metadata": {
        "colab": {
          "base_uri": "https://localhost:8080/"
        },
        "id": "sk7xaTzaBMWc",
        "outputId": "e31af53a-ab4f-4971-df09-cd9dcda494a9"
      },
      "execution_count": null,
      "outputs": [
        {
          "output_type": "execute_result",
          "data": {
            "text/plain": [
              "0.9093198992443325"
            ]
          },
          "metadata": {},
          "execution_count": 38
        }
      ]
    },
    {
      "cell_type": "code",
      "source": [
        "(y_train_partially_propagated == y_train[partially_propagated]).mean()"
      ],
      "metadata": {
        "colab": {
          "base_uri": "https://localhost:8080/"
        },
        "id": "VUb1bG4EBe-v",
        "outputId": "2c6a6712-4eb2-47dd-baa4-3e76a4addc5f"
      },
      "execution_count": null,
      "outputs": [
        {
          "output_type": "execute_result",
          "data": {
            "text/plain": [
              "0.9755555555555555"
            ]
          },
          "metadata": {},
          "execution_count": 39
        }
      ]
    },
    {
      "cell_type": "code",
      "source": [
        "from sklearn.semi_supervised import LabelPropagation, LabelSpreading, SelfTrainingClassifier"
      ],
      "metadata": {
        "id": "AwliII90B6B1"
      },
      "execution_count": null,
      "outputs": []
    },
    {
      "cell_type": "markdown",
      "source": [
        "### DBSCAN"
      ],
      "metadata": {
        "id": "Xnwc05aZI6y5"
      }
    },
    {
      "cell_type": "code",
      "source": [
        "from sklearn.cluster import DBSCAN\n",
        "from sklearn.datasets import make_moons\n",
        "\n",
        "X, y = make_moons(n_samples=1000, noise=0.05)\n",
        "dbscan = DBSCAN(eps=0.05, min_samples=5)\n",
        "dbscan.fit(X)"
      ],
      "metadata": {
        "colab": {
          "base_uri": "https://localhost:8080/",
          "height": 74
        },
        "id": "x58iRPBRCYQK",
        "outputId": "563c7714-19b2-4c0e-9c39-b3204e2689e6"
      },
      "execution_count": null,
      "outputs": [
        {
          "output_type": "execute_result",
          "data": {
            "text/plain": [
              "DBSCAN(eps=0.05)"
            ],
            "text/html": [
              "<style>#sk-container-id-4 {color: black;background-color: white;}#sk-container-id-4 pre{padding: 0;}#sk-container-id-4 div.sk-toggleable {background-color: white;}#sk-container-id-4 label.sk-toggleable__label {cursor: pointer;display: block;width: 100%;margin-bottom: 0;padding: 0.3em;box-sizing: border-box;text-align: center;}#sk-container-id-4 label.sk-toggleable__label-arrow:before {content: \"▸\";float: left;margin-right: 0.25em;color: #696969;}#sk-container-id-4 label.sk-toggleable__label-arrow:hover:before {color: black;}#sk-container-id-4 div.sk-estimator:hover label.sk-toggleable__label-arrow:before {color: black;}#sk-container-id-4 div.sk-toggleable__content {max-height: 0;max-width: 0;overflow: hidden;text-align: left;background-color: #f0f8ff;}#sk-container-id-4 div.sk-toggleable__content pre {margin: 0.2em;color: black;border-radius: 0.25em;background-color: #f0f8ff;}#sk-container-id-4 input.sk-toggleable__control:checked~div.sk-toggleable__content {max-height: 200px;max-width: 100%;overflow: auto;}#sk-container-id-4 input.sk-toggleable__control:checked~label.sk-toggleable__label-arrow:before {content: \"▾\";}#sk-container-id-4 div.sk-estimator input.sk-toggleable__control:checked~label.sk-toggleable__label {background-color: #d4ebff;}#sk-container-id-4 div.sk-label input.sk-toggleable__control:checked~label.sk-toggleable__label {background-color: #d4ebff;}#sk-container-id-4 input.sk-hidden--visually {border: 0;clip: rect(1px 1px 1px 1px);clip: rect(1px, 1px, 1px, 1px);height: 1px;margin: -1px;overflow: hidden;padding: 0;position: absolute;width: 1px;}#sk-container-id-4 div.sk-estimator {font-family: monospace;background-color: #f0f8ff;border: 1px dotted black;border-radius: 0.25em;box-sizing: border-box;margin-bottom: 0.5em;}#sk-container-id-4 div.sk-estimator:hover {background-color: #d4ebff;}#sk-container-id-4 div.sk-parallel-item::after {content: \"\";width: 100%;border-bottom: 1px solid gray;flex-grow: 1;}#sk-container-id-4 div.sk-label:hover label.sk-toggleable__label {background-color: #d4ebff;}#sk-container-id-4 div.sk-serial::before {content: \"\";position: absolute;border-left: 1px solid gray;box-sizing: border-box;top: 0;bottom: 0;left: 50%;z-index: 0;}#sk-container-id-4 div.sk-serial {display: flex;flex-direction: column;align-items: center;background-color: white;padding-right: 0.2em;padding-left: 0.2em;position: relative;}#sk-container-id-4 div.sk-item {position: relative;z-index: 1;}#sk-container-id-4 div.sk-parallel {display: flex;align-items: stretch;justify-content: center;background-color: white;position: relative;}#sk-container-id-4 div.sk-item::before, #sk-container-id-4 div.sk-parallel-item::before {content: \"\";position: absolute;border-left: 1px solid gray;box-sizing: border-box;top: 0;bottom: 0;left: 50%;z-index: -1;}#sk-container-id-4 div.sk-parallel-item {display: flex;flex-direction: column;z-index: 1;position: relative;background-color: white;}#sk-container-id-4 div.sk-parallel-item:first-child::after {align-self: flex-end;width: 50%;}#sk-container-id-4 div.sk-parallel-item:last-child::after {align-self: flex-start;width: 50%;}#sk-container-id-4 div.sk-parallel-item:only-child::after {width: 0;}#sk-container-id-4 div.sk-dashed-wrapped {border: 1px dashed gray;margin: 0 0.4em 0.5em 0.4em;box-sizing: border-box;padding-bottom: 0.4em;background-color: white;}#sk-container-id-4 div.sk-label label {font-family: monospace;font-weight: bold;display: inline-block;line-height: 1.2em;}#sk-container-id-4 div.sk-label-container {text-align: center;}#sk-container-id-4 div.sk-container {/* jupyter's `normalize.less` sets `[hidden] { display: none; }` but bootstrap.min.css set `[hidden] { display: none !important; }` so we also need the `!important` here to be able to override the default hidden behavior on the sphinx rendered scikit-learn.org. See: https://github.com/scikit-learn/scikit-learn/issues/21755 */display: inline-block !important;position: relative;}#sk-container-id-4 div.sk-text-repr-fallback {display: none;}</style><div id=\"sk-container-id-4\" class=\"sk-top-container\"><div class=\"sk-text-repr-fallback\"><pre>DBSCAN(eps=0.05)</pre><b>In a Jupyter environment, please rerun this cell to show the HTML representation or trust the notebook. <br />On GitHub, the HTML representation is unable to render, please try loading this page with nbviewer.org.</b></div><div class=\"sk-container\" hidden><div class=\"sk-item\"><div class=\"sk-estimator sk-toggleable\"><input class=\"sk-toggleable__control sk-hidden--visually\" id=\"sk-estimator-id-4\" type=\"checkbox\" checked><label for=\"sk-estimator-id-4\" class=\"sk-toggleable__label sk-toggleable__label-arrow\">DBSCAN</label><div class=\"sk-toggleable__content\"><pre>DBSCAN(eps=0.05)</pre></div></div></div></div></div>"
            ]
          },
          "metadata": {},
          "execution_count": 41
        }
      ]
    },
    {
      "cell_type": "code",
      "source": [
        "dbscan.labels_"
      ],
      "metadata": {
        "colab": {
          "base_uri": "https://localhost:8080/"
        },
        "id": "_iQxGANOJQdk",
        "outputId": "c31b6802-4cf9-4f96-8016-48cc11d4d110"
      },
      "execution_count": null,
      "outputs": [
        {
          "output_type": "execute_result",
          "data": {
            "text/plain": [
              "array([ 0,  1,  2, -1,  3,  2, -1,  3,  2,  2,  2,  1,  3,  3,  0,  3,  0,\n",
              "        3,  1,  2,  3,  2,  3,  2,  1,  0,  1,  3,  0,  3,  3,  1,  2,  2,\n",
              "        3,  3,  2,  2,  1,  2,  2,  3,  3,  2,  2,  2,  2,  0,  2,  3, -1,\n",
              "        2,  3,  3, -1,  3,  3,  2,  2,  2,  2,  1,  3,  0,  0,  3,  2,  0,\n",
              "        1,  3,  2,  3,  1,  2,  2,  1,  1,  3,  3,  2,  2,  3,  2,  3,  0,\n",
              "        3,  1,  3,  3,  2,  3,  3,  3,  1,  1,  0,  2,  3,  3,  0,  2,  3,\n",
              "        1,  3, -1,  3,  1,  1,  0,  3,  0,  3,  3,  1,  2,  2,  3,  0,  2,\n",
              "        3,  2,  0,  3,  0,  3,  1, -1,  2,  2,  3, -1,  0,  3,  3,  3,  0,\n",
              "        0,  3,  2, -1,  1,  1,  3,  2,  2,  1,  1,  0,  0,  2,  0,  3,  2,\n",
              "        1,  2,  3, -1,  3,  2,  2,  0,  2,  2,  3,  3,  3,  1,  2,  0,  1,\n",
              "        0,  2,  1,  2,  2, -1,  0,  3,  3,  0,  1,  3,  1,  3,  2, -1,  3,\n",
              "        2,  0, -1,  2,  1,  1,  2,  0,  2, -1, -1,  1,  0,  0,  3,  3,  3,\n",
              "        1,  3,  0,  1,  2,  0,  0,  0,  0,  2,  1,  3,  2,  3,  2,  1,  2,\n",
              "       -1,  2,  3,  2,  1,  2,  1,  0,  0,  3,  3,  3,  1, -1,  2,  0,  3,\n",
              "        0,  3,  2,  0,  2,  2,  3,  2,  2, -1,  3,  0,  1,  0,  0,  0,  3,\n",
              "       -1,  3,  3,  2,  3,  1,  1,  3,  3,  3,  3,  0,  2, -1,  1,  2,  1,\n",
              "        1,  1,  3,  2,  3,  3,  0,  3,  0,  1,  0,  3,  0,  2,  3,  3,  3,\n",
              "        2,  3,  0,  2, -1,  3,  2,  1,  2,  3,  2,  0,  1,  0,  0,  1,  2,\n",
              "        3,  3,  3,  1,  2,  3,  3,  0,  2, -1,  3,  0,  3,  2,  0,  0,  3,\n",
              "        1,  3,  0,  0,  3,  0,  1,  3,  3,  2,  1,  3,  1,  1,  1,  2,  1,\n",
              "        0,  3,  3,  1,  3,  3,  3,  3,  2, -1,  2,  3,  3,  1,  2,  2,  3,\n",
              "        0,  3,  0,  3,  2,  0,  0,  0,  3,  2,  1,  1,  2,  3,  1,  0,  2,\n",
              "        3,  2,  2,  2,  2,  1, -1,  3,  2,  3,  2, -1,  0,  1,  2,  3,  3,\n",
              "        0,  1,  2,  3, -1, -1,  0,  0,  0,  2,  0,  3,  3,  3,  1,  0,  0,\n",
              "        2,  3,  1,  2,  3,  2,  0,  2,  1, -1,  2,  2,  0,  1,  2,  3,  3,\n",
              "        3,  2,  0, -1,  3,  2,  3,  0,  0,  3,  2,  1,  0,  3,  2, -1, -1,\n",
              "        1,  2,  0,  2,  1,  1,  1,  2,  3,  0,  3,  2,  2,  2, -1,  2,  0,\n",
              "        0,  1,  3,  0,  1,  2, -1, -1,  0,  0,  0,  3,  2,  3,  0,  1,  1,\n",
              "        1,  2,  3,  1, -1,  0,  3,  0,  2,  0,  2,  1,  0,  0,  3,  1,  2,\n",
              "        2,  3,  0,  2, -1,  1, -1,  3,  2,  1,  0,  3,  2, -1,  2,  1,  3,\n",
              "        1,  3,  0,  3,  3,  2, -1,  0,  2,  2,  2,  0,  0,  3,  0,  0,  2,\n",
              "        2,  3,  3,  3,  2,  2,  3,  3,  1,  3,  3,  3,  0,  3,  0,  3,  1,\n",
              "        3,  1,  1,  3,  2, -1,  3,  2,  1,  1,  0,  1,  2,  1,  3,  3,  2,\n",
              "        3, -1,  2,  2,  2,  2,  3,  0, -1,  3,  0,  2,  2,  0,  3,  1,  3,\n",
              "        2,  3, -1,  1,  0,  2,  2,  1,  3,  0,  2,  3,  2, -1,  3,  0,  0,\n",
              "        1,  3,  3,  1,  2,  3,  3,  0,  2,  1,  2,  0,  3,  3,  1,  3,  3,\n",
              "        3,  2,  1,  0,  0,  3,  1,  2,  3,  0,  2,  3,  2, -1,  0,  1, -1,\n",
              "        2,  3,  1,  2, -1,  1,  3,  3,  3,  3,  1,  2,  2,  2,  1,  3,  3,\n",
              "        1,  1,  3,  0,  1,  2,  3,  0,  0,  1,  1,  3,  2,  3,  2,  2,  1,\n",
              "        2,  2,  2,  1,  3,  1,  2,  1,  1,  0,  1,  2,  2,  3,  1,  0, -1,\n",
              "       -1,  3,  2,  1,  3,  2,  0,  3,  2,  3,  2,  2,  2,  2,  3,  3,  0,\n",
              "        1,  2,  2,  0,  3,  2,  0,  1,  1,  3,  2, -1,  3, -1,  1,  3,  2,\n",
              "        2,  2,  3,  0,  1, -1,  1,  3,  2,  3,  2,  0,  1,  3,  3,  3,  1,\n",
              "        3,  1,  0,  2,  2,  3,  0,  0, -1,  2,  1,  2,  2,  1,  0,  2,  3,\n",
              "        1,  3,  2,  1,  0,  0,  2,  0,  3,  2,  1,  3,  3,  0,  3,  2,  3,\n",
              "        2,  3,  2,  2,  1,  1,  2,  1, -1,  0,  3,  0,  2, -1,  1,  3,  2,\n",
              "        2,  2,  1,  0,  0,  1,  3,  3,  1,  3,  2,  0, -1,  3,  2,  1,  1,\n",
              "        3,  3,  3,  0,  1,  3,  2, -1,  1,  1,  2,  2,  0,  0,  1, -1,  0,\n",
              "        3,  2, -1,  1,  2,  2,  3,  2,  0,  3,  2,  2,  0,  2,  0,  1,  3,\n",
              "        2,  1,  2,  3,  0,  0,  2,  2, -1,  2,  2,  3,  2,  3,  3,  3,  3,\n",
              "        3,  2,  1, -1,  2,  1,  2,  2,  3,  3, -1,  2,  3,  3,  3,  1,  1,\n",
              "        2,  2,  1,  1, -1,  1,  3,  0, -1,  2,  2,  2,  2,  0, -1,  3, -1,\n",
              "        1,  2,  2,  0,  3,  2,  0,  1,  0,  1,  1,  3,  3,  2,  2,  1,  0,\n",
              "        2,  0,  3,  1,  3,  1,  0,  0,  3,  2,  2,  2,  2,  1,  2,  3,  3,\n",
              "        3,  0,  1,  1, -1,  3,  2,  3,  2,  0,  1, -1,  3, -1,  0,  2,  2,\n",
              "        2,  1, -1,  0,  2,  0,  3,  2, -1,  1,  1,  2,  3,  0,  1,  2,  3,\n",
              "        1,  3,  2,  1,  0,  0,  3, -1,  2, -1,  3,  2,  2,  3,  0,  3,  3,\n",
              "        2,  0,  3,  0,  3,  2,  0,  2,  2,  0,  3,  2,  3,  3,  0, -1,  3,\n",
              "        3,  0,  1,  3, -1,  0,  0,  3,  2,  2,  2,  3, -1,  0])"
            ]
          },
          "metadata": {},
          "execution_count": 42
        }
      ]
    },
    {
      "cell_type": "code",
      "source": [
        "dbscan.core_sample_indices_"
      ],
      "metadata": {
        "colab": {
          "base_uri": "https://localhost:8080/"
        },
        "id": "z_MkDiUUJTk2",
        "outputId": "32e7a56e-8e30-4f11-e9fd-3fc203333607"
      },
      "execution_count": null,
      "outputs": [
        {
          "output_type": "execute_result",
          "data": {
            "text/plain": [
              "array([  0,   1,   2,   4,   5,   8,   9,  10,  12,  13,  14,  15,  16,\n",
              "        17,  18,  19,  20,  21,  22,  23,  24,  25,  26,  27,  28,  30,\n",
              "        31,  32,  33,  34,  35,  36,  37,  38,  39,  41,  42,  43,  44,\n",
              "        45,  46,  47,  49,  51,  52,  53,  55,  56,  57,  60,  61,  62,\n",
              "        63,  64,  65,  68,  69,  70,  71,  72,  74,  75,  76,  77,  79,\n",
              "        80,  82,  84,  86,  87,  89,  90,  91,  92,  93,  94,  95,  96,\n",
              "        98,  99, 100, 101, 102, 105, 106, 107, 108, 109, 110, 111, 112,\n",
              "       113, 114, 115, 116, 117, 118, 119, 120, 121, 122, 123, 124, 125,\n",
              "       127, 128, 129, 131, 132, 133, 134, 136, 137, 138, 140, 142, 143,\n",
              "       144, 145, 146, 147, 148, 149, 150, 151, 152, 153, 154, 157, 158,\n",
              "       160, 161, 162, 163, 164, 165, 166, 167, 168, 169, 171, 172, 173,\n",
              "       174, 176, 178, 179, 180, 182, 183, 184, 186, 187, 188, 190, 191,\n",
              "       193, 194, 195, 198, 199, 200, 201, 202, 204, 205, 206, 207, 208,\n",
              "       209, 210, 212, 213, 215, 216, 217, 218, 219, 222, 223, 224, 225,\n",
              "       226, 227, 228, 230, 232, 233, 235, 236, 237, 238, 239, 240, 241,\n",
              "       242, 243, 245, 246, 248, 249, 250, 251, 252, 253, 254, 256, 257,\n",
              "       258, 259, 261, 262, 263, 264, 265, 266, 269, 270, 271, 272, 275,\n",
              "       276, 277, 278, 279, 280, 281, 282, 283, 284, 285, 286, 287, 288,\n",
              "       290, 291, 292, 294, 295, 297, 298, 299, 302, 303, 304, 305, 306,\n",
              "       307, 308, 309, 310, 311, 312, 313, 314, 317, 318, 319, 320, 321,\n",
              "       322, 323, 324, 326, 328, 329, 330, 331, 332, 333, 335, 336, 337,\n",
              "       338, 339, 340, 341, 342, 343, 344, 345, 346, 347, 348, 351, 352,\n",
              "       353, 354, 355, 356, 357, 358, 359, 360, 362, 363, 364, 365, 366,\n",
              "       367, 368, 369, 371, 372, 373, 374, 375, 376, 378, 379, 381, 382,\n",
              "       383, 384, 386, 387, 389, 390, 391, 392, 393, 394, 397, 399, 400,\n",
              "       401, 402, 403, 404, 405, 406, 407, 408, 410, 411, 412, 413, 414,\n",
              "       416, 418, 419, 421, 422, 423, 424, 425, 426, 427, 429, 430, 431,\n",
              "       432, 433, 434, 435, 436, 437, 438, 439, 442, 443, 444, 445, 446,\n",
              "       447, 448, 450, 451, 452, 453, 454, 455, 459, 460, 461, 462, 463,\n",
              "       464, 468, 470, 471, 473, 475, 476, 477, 478, 479, 481, 482, 483,\n",
              "       484, 485, 486, 487, 488, 489, 490, 491, 492, 493, 494, 495, 496,\n",
              "       498, 500, 501, 502, 503, 504, 507, 508, 509, 511, 512, 513, 514,\n",
              "       515, 517, 518, 519, 521, 522, 523, 524, 525, 526, 527, 528, 529,\n",
              "       532, 533, 534, 535, 536, 537, 538, 539, 540, 541, 542, 543, 544,\n",
              "       545, 546, 547, 548, 550, 551, 552, 555, 557, 558, 559, 560, 561,\n",
              "       563, 564, 565, 566, 567, 568, 570, 571, 572, 573, 574, 576, 577,\n",
              "       578, 579, 581, 582, 583, 585, 586, 588, 589, 590, 592, 593, 594,\n",
              "       595, 597, 598, 599, 600, 601, 602, 603, 604, 605, 606, 607, 609,\n",
              "       610, 611, 613, 614, 616, 617, 618, 619, 620, 621, 622, 623, 624,\n",
              "       627, 629, 630, 631, 632, 634, 635, 636, 637, 638, 639, 641, 642,\n",
              "       644, 645, 646, 647, 648, 649, 650, 651, 652, 653, 654, 655, 656,\n",
              "       657, 658, 659, 660, 661, 662, 663, 665, 666, 667, 668, 670, 671,\n",
              "       672, 673, 674, 675, 676, 677, 678, 681, 682, 684, 685, 687, 689,\n",
              "       690, 691, 693, 694, 695, 696, 697, 698, 699, 700, 701, 702, 703,\n",
              "       704, 705, 706, 707, 709, 712, 713, 714, 715, 716, 717, 718, 720,\n",
              "       722, 723, 724, 725, 726, 727, 728, 730, 731, 732, 733, 734, 735,\n",
              "       736, 737, 738, 740, 742, 743, 744, 745, 746, 747, 748, 749, 751,\n",
              "       752, 753, 756, 757, 758, 759, 760, 762, 763, 764, 765, 766, 767,\n",
              "       769, 770, 772, 774, 775, 776, 777, 779, 780, 781, 782, 783, 784,\n",
              "       785, 786, 787, 788, 789, 790, 791, 792, 793, 795, 797, 798, 799,\n",
              "       800, 801, 803, 804, 805, 807, 808, 810, 811, 812, 815, 816, 817,\n",
              "       819, 820, 821, 822, 823, 824, 825, 828, 829, 830, 831, 832, 833,\n",
              "       835, 836, 837, 838, 839, 843, 844, 845, 846, 847, 848, 849, 851,\n",
              "       852, 854, 855, 856, 857, 858, 859, 861, 862, 863, 864, 865, 866,\n",
              "       867, 868, 869, 870, 872, 873, 876, 877, 878, 879, 880, 882, 884,\n",
              "       885, 887, 888, 889, 890, 891, 892, 893, 894, 895, 896, 897, 898,\n",
              "       899, 900, 901, 902, 904, 905, 906, 909, 910, 911, 912, 913, 914,\n",
              "       915, 917, 919, 920, 921, 924, 925, 926, 927, 928, 930, 932, 933,\n",
              "       934, 935, 936, 938, 939, 940, 941, 942, 944, 946, 947, 948, 949,\n",
              "       950, 951, 952, 953, 954, 956, 957, 958, 960, 962, 963, 965, 966,\n",
              "       968, 969, 970, 971, 972, 974, 975, 976, 977, 978, 979, 980, 981,\n",
              "       982, 983, 985, 986, 987, 988, 989, 991, 993, 994, 995, 996, 997,\n",
              "       999])"
            ]
          },
          "metadata": {},
          "execution_count": 43
        }
      ]
    },
    {
      "cell_type": "code",
      "source": [
        "dbscan.components_"
      ],
      "metadata": {
        "colab": {
          "base_uri": "https://localhost:8080/"
        },
        "id": "jzF6Je_jJ67y",
        "outputId": "779dbca7-80e1-4d48-ba69-a99bb35c5778"
      },
      "execution_count": null,
      "outputs": [
        {
          "output_type": "execute_result",
          "data": {
            "text/plain": [
              "array([[-0.69761836,  0.63443653],\n",
              "       [ 1.96513498,  0.42124888],\n",
              "       [-0.09293496,  1.01202565],\n",
              "       ...,\n",
              "       [ 0.88932961,  0.47728925],\n",
              "       [ 1.32447107, -0.40464645],\n",
              "       [-0.93253827,  0.1801946 ]])"
            ]
          },
          "metadata": {},
          "execution_count": 44
        }
      ]
    },
    {
      "cell_type": "code",
      "source": [
        "dbscan.components_.shape"
      ],
      "metadata": {
        "colab": {
          "base_uri": "https://localhost:8080/"
        },
        "id": "_kAJGeixJ8-B",
        "outputId": "f730f2d4-0e85-4656-9a41-0c798617181c"
      },
      "execution_count": null,
      "outputs": [
        {
          "output_type": "execute_result",
          "data": {
            "text/plain": [
              "(807, 2)"
            ]
          },
          "metadata": {},
          "execution_count": 45
        }
      ]
    },
    {
      "cell_type": "code",
      "source": [
        "np.unique(dbscan.labels_)"
      ],
      "metadata": {
        "colab": {
          "base_uri": "https://localhost:8080/"
        },
        "id": "5paIeQfbKDhq",
        "outputId": "08566ea5-db2b-4a91-8d28-912e1da6907e"
      },
      "execution_count": null,
      "outputs": [
        {
          "output_type": "execute_result",
          "data": {
            "text/plain": [
              "array([-1,  0,  1,  2,  3])"
            ]
          },
          "metadata": {},
          "execution_count": 46
        }
      ]
    },
    {
      "cell_type": "code",
      "source": [
        "# If we widen the neighborhood we get just two clusters, which is correct\n",
        "dbscan = DBSCAN(eps=0.20, min_samples=5)\n",
        "dbscan.fit(X)\n",
        "np.unique(dbscan.labels_)"
      ],
      "metadata": {
        "colab": {
          "base_uri": "https://localhost:8080/"
        },
        "id": "RSc1ZyrKKVUb",
        "outputId": "b1228f44-90cb-4004-a0c5-25fe4e680e12"
      },
      "execution_count": null,
      "outputs": [
        {
          "output_type": "execute_result",
          "data": {
            "text/plain": [
              "array([0, 1])"
            ]
          },
          "metadata": {},
          "execution_count": 47
        }
      ]
    },
    {
      "cell_type": "code",
      "source": [
        "# DBSCAN does not have a predict() method, so we have to train a classifier ourselves\n",
        "from sklearn.neighbors import KNeighborsClassifier\n",
        "\n",
        "knn = KNeighborsClassifier(n_neighbors=50)\n",
        "# We train on the core instances, but we could choose to train on all the instances\n",
        "# or all but the anomalies (instances with label = -1)\n",
        "knn.fit(dbscan.components_, dbscan.labels_[dbscan.core_sample_indices_])"
      ],
      "metadata": {
        "colab": {
          "base_uri": "https://localhost:8080/",
          "height": 74
        },
        "id": "8HMmHG9HKml_",
        "outputId": "d3c1445c-5534-483d-e491-f6457a876234"
      },
      "execution_count": null,
      "outputs": [
        {
          "output_type": "execute_result",
          "data": {
            "text/plain": [
              "KNeighborsClassifier(n_neighbors=50)"
            ],
            "text/html": [
              "<style>#sk-container-id-5 {color: black;background-color: white;}#sk-container-id-5 pre{padding: 0;}#sk-container-id-5 div.sk-toggleable {background-color: white;}#sk-container-id-5 label.sk-toggleable__label {cursor: pointer;display: block;width: 100%;margin-bottom: 0;padding: 0.3em;box-sizing: border-box;text-align: center;}#sk-container-id-5 label.sk-toggleable__label-arrow:before {content: \"▸\";float: left;margin-right: 0.25em;color: #696969;}#sk-container-id-5 label.sk-toggleable__label-arrow:hover:before {color: black;}#sk-container-id-5 div.sk-estimator:hover label.sk-toggleable__label-arrow:before {color: black;}#sk-container-id-5 div.sk-toggleable__content {max-height: 0;max-width: 0;overflow: hidden;text-align: left;background-color: #f0f8ff;}#sk-container-id-5 div.sk-toggleable__content pre {margin: 0.2em;color: black;border-radius: 0.25em;background-color: #f0f8ff;}#sk-container-id-5 input.sk-toggleable__control:checked~div.sk-toggleable__content {max-height: 200px;max-width: 100%;overflow: auto;}#sk-container-id-5 input.sk-toggleable__control:checked~label.sk-toggleable__label-arrow:before {content: \"▾\";}#sk-container-id-5 div.sk-estimator input.sk-toggleable__control:checked~label.sk-toggleable__label {background-color: #d4ebff;}#sk-container-id-5 div.sk-label input.sk-toggleable__control:checked~label.sk-toggleable__label {background-color: #d4ebff;}#sk-container-id-5 input.sk-hidden--visually {border: 0;clip: rect(1px 1px 1px 1px);clip: rect(1px, 1px, 1px, 1px);height: 1px;margin: -1px;overflow: hidden;padding: 0;position: absolute;width: 1px;}#sk-container-id-5 div.sk-estimator {font-family: monospace;background-color: #f0f8ff;border: 1px dotted black;border-radius: 0.25em;box-sizing: border-box;margin-bottom: 0.5em;}#sk-container-id-5 div.sk-estimator:hover {background-color: #d4ebff;}#sk-container-id-5 div.sk-parallel-item::after {content: \"\";width: 100%;border-bottom: 1px solid gray;flex-grow: 1;}#sk-container-id-5 div.sk-label:hover label.sk-toggleable__label {background-color: #d4ebff;}#sk-container-id-5 div.sk-serial::before {content: \"\";position: absolute;border-left: 1px solid gray;box-sizing: border-box;top: 0;bottom: 0;left: 50%;z-index: 0;}#sk-container-id-5 div.sk-serial {display: flex;flex-direction: column;align-items: center;background-color: white;padding-right: 0.2em;padding-left: 0.2em;position: relative;}#sk-container-id-5 div.sk-item {position: relative;z-index: 1;}#sk-container-id-5 div.sk-parallel {display: flex;align-items: stretch;justify-content: center;background-color: white;position: relative;}#sk-container-id-5 div.sk-item::before, #sk-container-id-5 div.sk-parallel-item::before {content: \"\";position: absolute;border-left: 1px solid gray;box-sizing: border-box;top: 0;bottom: 0;left: 50%;z-index: -1;}#sk-container-id-5 div.sk-parallel-item {display: flex;flex-direction: column;z-index: 1;position: relative;background-color: white;}#sk-container-id-5 div.sk-parallel-item:first-child::after {align-self: flex-end;width: 50%;}#sk-container-id-5 div.sk-parallel-item:last-child::after {align-self: flex-start;width: 50%;}#sk-container-id-5 div.sk-parallel-item:only-child::after {width: 0;}#sk-container-id-5 div.sk-dashed-wrapped {border: 1px dashed gray;margin: 0 0.4em 0.5em 0.4em;box-sizing: border-box;padding-bottom: 0.4em;background-color: white;}#sk-container-id-5 div.sk-label label {font-family: monospace;font-weight: bold;display: inline-block;line-height: 1.2em;}#sk-container-id-5 div.sk-label-container {text-align: center;}#sk-container-id-5 div.sk-container {/* jupyter's `normalize.less` sets `[hidden] { display: none; }` but bootstrap.min.css set `[hidden] { display: none !important; }` so we also need the `!important` here to be able to override the default hidden behavior on the sphinx rendered scikit-learn.org. See: https://github.com/scikit-learn/scikit-learn/issues/21755 */display: inline-block !important;position: relative;}#sk-container-id-5 div.sk-text-repr-fallback {display: none;}</style><div id=\"sk-container-id-5\" class=\"sk-top-container\"><div class=\"sk-text-repr-fallback\"><pre>KNeighborsClassifier(n_neighbors=50)</pre><b>In a Jupyter environment, please rerun this cell to show the HTML representation or trust the notebook. <br />On GitHub, the HTML representation is unable to render, please try loading this page with nbviewer.org.</b></div><div class=\"sk-container\" hidden><div class=\"sk-item\"><div class=\"sk-estimator sk-toggleable\"><input class=\"sk-toggleable__control sk-hidden--visually\" id=\"sk-estimator-id-5\" type=\"checkbox\" checked><label for=\"sk-estimator-id-5\" class=\"sk-toggleable__label sk-toggleable__label-arrow\">KNeighborsClassifier</label><div class=\"sk-toggleable__content\"><pre>KNeighborsClassifier(n_neighbors=50)</pre></div></div></div></div></div>"
            ]
          },
          "metadata": {},
          "execution_count": 48
        }
      ]
    },
    {
      "cell_type": "code",
      "source": [
        "X_new = np.array([[-0.5, 0], [0, 0.5], [1, -0.1], [2, 1]])\n",
        "knn.predict(X_new)"
      ],
      "metadata": {
        "colab": {
          "base_uri": "https://localhost:8080/"
        },
        "id": "4kkywjroLxVW",
        "outputId": "6269baf0-62ba-445f-941f-07834341d24c"
      },
      "execution_count": null,
      "outputs": [
        {
          "output_type": "execute_result",
          "data": {
            "text/plain": [
              "array([0, 1, 0, 1])"
            ]
          },
          "metadata": {},
          "execution_count": 49
        }
      ]
    },
    {
      "cell_type": "code",
      "source": [
        "knn.predict_proba(X_new)"
      ],
      "metadata": {
        "colab": {
          "base_uri": "https://localhost:8080/"
        },
        "id": "4r7bwmNmL-Hk",
        "outputId": "a46b7c17-f465-465c-a0aa-e704b80fed69"
      },
      "execution_count": null,
      "outputs": [
        {
          "output_type": "execute_result",
          "data": {
            "text/plain": [
              "array([[0.82, 0.18],\n",
              "       [0.  , 1.  ],\n",
              "       [0.8 , 0.2 ],\n",
              "       [0.  , 1.  ]])"
            ]
          },
          "metadata": {},
          "execution_count": 50
        }
      ]
    },
    {
      "cell_type": "code",
      "source": [
        "# Introduce a maximum distance and classify instances beyond that distance as anomalies\n",
        "\n",
        "# We find the nearest neighbor of each new instance and assign its label to it\n",
        "y_dist, y_pred_idx = knn.kneighbors(X_new, n_neighbors=1)\n",
        "y_pred = dbscan.labels_[dbscan.core_sample_indices_][y_pred_idx]\n"
      ],
      "metadata": {
        "id": "uHtdGFAtOI9t"
      },
      "execution_count": null,
      "outputs": []
    },
    {
      "cell_type": "code",
      "source": [
        "# We set any distance > 0.2 to -1 (anomaly)\n",
        "y_pred[y_dist > 0.2] = -1\n",
        "y_pred.ravel()"
      ],
      "metadata": {
        "colab": {
          "base_uri": "https://localhost:8080/"
        },
        "id": "GYd1-aM6PvNj",
        "outputId": "be5bc544-2052-47ea-b6d5-8a7dc200ac42"
      },
      "execution_count": null,
      "outputs": [
        {
          "output_type": "execute_result",
          "data": {
            "text/plain": [
              "array([-1,  1,  0, -1])"
            ]
          },
          "metadata": {},
          "execution_count": 52
        }
      ]
    },
    {
      "cell_type": "markdown",
      "source": [
        "### Gaussian Mixture Models"
      ],
      "metadata": {
        "id": "4S_F7hrjvmR0"
      }
    },
    {
      "cell_type": "code",
      "source": [
        "X1, y1 = make_blobs(n_samples=1000, centers=((4, -4), (0, 0)), random_state=42)\n",
        "X1 = X1.dot(np.array([[0.374, 0.95], [0.732, 0.598]]))\n",
        "X2, y2 = make_blobs(n_samples=250, centers=1, random_state=42)\n",
        "X2 = X2 + [6, -8]\n",
        "X = np.r_[X1, X2]\n",
        "y = np.r_[y1, y2]"
      ],
      "metadata": {
        "id": "inuRnZ3QwrOr"
      },
      "execution_count": null,
      "outputs": []
    },
    {
      "cell_type": "code",
      "source": [
        "from sklearn.mixture import GaussianMixture\n",
        "\n",
        "gm = GaussianMixture(n_components=3, n_init=10, random_state=42)\n",
        "gm.fit(X)"
      ],
      "metadata": {
        "colab": {
          "base_uri": "https://localhost:8080/",
          "height": 74
        },
        "id": "ORngSNAzvo1Y",
        "outputId": "dc8a2e1b-9a8a-4a33-ff2c-2f5bd50850eb"
      },
      "execution_count": null,
      "outputs": [
        {
          "output_type": "execute_result",
          "data": {
            "text/plain": [
              "GaussianMixture(n_components=3, n_init=10, random_state=42)"
            ],
            "text/html": [
              "<style>#sk-container-id-6 {color: black;background-color: white;}#sk-container-id-6 pre{padding: 0;}#sk-container-id-6 div.sk-toggleable {background-color: white;}#sk-container-id-6 label.sk-toggleable__label {cursor: pointer;display: block;width: 100%;margin-bottom: 0;padding: 0.3em;box-sizing: border-box;text-align: center;}#sk-container-id-6 label.sk-toggleable__label-arrow:before {content: \"▸\";float: left;margin-right: 0.25em;color: #696969;}#sk-container-id-6 label.sk-toggleable__label-arrow:hover:before {color: black;}#sk-container-id-6 div.sk-estimator:hover label.sk-toggleable__label-arrow:before {color: black;}#sk-container-id-6 div.sk-toggleable__content {max-height: 0;max-width: 0;overflow: hidden;text-align: left;background-color: #f0f8ff;}#sk-container-id-6 div.sk-toggleable__content pre {margin: 0.2em;color: black;border-radius: 0.25em;background-color: #f0f8ff;}#sk-container-id-6 input.sk-toggleable__control:checked~div.sk-toggleable__content {max-height: 200px;max-width: 100%;overflow: auto;}#sk-container-id-6 input.sk-toggleable__control:checked~label.sk-toggleable__label-arrow:before {content: \"▾\";}#sk-container-id-6 div.sk-estimator input.sk-toggleable__control:checked~label.sk-toggleable__label {background-color: #d4ebff;}#sk-container-id-6 div.sk-label input.sk-toggleable__control:checked~label.sk-toggleable__label {background-color: #d4ebff;}#sk-container-id-6 input.sk-hidden--visually {border: 0;clip: rect(1px 1px 1px 1px);clip: rect(1px, 1px, 1px, 1px);height: 1px;margin: -1px;overflow: hidden;padding: 0;position: absolute;width: 1px;}#sk-container-id-6 div.sk-estimator {font-family: monospace;background-color: #f0f8ff;border: 1px dotted black;border-radius: 0.25em;box-sizing: border-box;margin-bottom: 0.5em;}#sk-container-id-6 div.sk-estimator:hover {background-color: #d4ebff;}#sk-container-id-6 div.sk-parallel-item::after {content: \"\";width: 100%;border-bottom: 1px solid gray;flex-grow: 1;}#sk-container-id-6 div.sk-label:hover label.sk-toggleable__label {background-color: #d4ebff;}#sk-container-id-6 div.sk-serial::before {content: \"\";position: absolute;border-left: 1px solid gray;box-sizing: border-box;top: 0;bottom: 0;left: 50%;z-index: 0;}#sk-container-id-6 div.sk-serial {display: flex;flex-direction: column;align-items: center;background-color: white;padding-right: 0.2em;padding-left: 0.2em;position: relative;}#sk-container-id-6 div.sk-item {position: relative;z-index: 1;}#sk-container-id-6 div.sk-parallel {display: flex;align-items: stretch;justify-content: center;background-color: white;position: relative;}#sk-container-id-6 div.sk-item::before, #sk-container-id-6 div.sk-parallel-item::before {content: \"\";position: absolute;border-left: 1px solid gray;box-sizing: border-box;top: 0;bottom: 0;left: 50%;z-index: -1;}#sk-container-id-6 div.sk-parallel-item {display: flex;flex-direction: column;z-index: 1;position: relative;background-color: white;}#sk-container-id-6 div.sk-parallel-item:first-child::after {align-self: flex-end;width: 50%;}#sk-container-id-6 div.sk-parallel-item:last-child::after {align-self: flex-start;width: 50%;}#sk-container-id-6 div.sk-parallel-item:only-child::after {width: 0;}#sk-container-id-6 div.sk-dashed-wrapped {border: 1px dashed gray;margin: 0 0.4em 0.5em 0.4em;box-sizing: border-box;padding-bottom: 0.4em;background-color: white;}#sk-container-id-6 div.sk-label label {font-family: monospace;font-weight: bold;display: inline-block;line-height: 1.2em;}#sk-container-id-6 div.sk-label-container {text-align: center;}#sk-container-id-6 div.sk-container {/* jupyter's `normalize.less` sets `[hidden] { display: none; }` but bootstrap.min.css set `[hidden] { display: none !important; }` so we also need the `!important` here to be able to override the default hidden behavior on the sphinx rendered scikit-learn.org. See: https://github.com/scikit-learn/scikit-learn/issues/21755 */display: inline-block !important;position: relative;}#sk-container-id-6 div.sk-text-repr-fallback {display: none;}</style><div id=\"sk-container-id-6\" class=\"sk-top-container\"><div class=\"sk-text-repr-fallback\"><pre>GaussianMixture(n_components=3, n_init=10, random_state=42)</pre><b>In a Jupyter environment, please rerun this cell to show the HTML representation or trust the notebook. <br />On GitHub, the HTML representation is unable to render, please try loading this page with nbviewer.org.</b></div><div class=\"sk-container\" hidden><div class=\"sk-item\"><div class=\"sk-estimator sk-toggleable\"><input class=\"sk-toggleable__control sk-hidden--visually\" id=\"sk-estimator-id-6\" type=\"checkbox\" checked><label for=\"sk-estimator-id-6\" class=\"sk-toggleable__label sk-toggleable__label-arrow\">GaussianMixture</label><div class=\"sk-toggleable__content\"><pre>GaussianMixture(n_components=3, n_init=10, random_state=42)</pre></div></div></div></div></div>"
            ]
          },
          "metadata": {},
          "execution_count": 54
        }
      ]
    },
    {
      "cell_type": "code",
      "source": [
        "# The probability that an instance is generated from each model\n",
        "gm.weights_"
      ],
      "metadata": {
        "colab": {
          "base_uri": "https://localhost:8080/"
        },
        "id": "UJsPZQBwyVMN",
        "outputId": "695f2be1-1d91-468e-b1a4-06746a36c00b"
      },
      "execution_count": null,
      "outputs": [
        {
          "output_type": "execute_result",
          "data": {
            "text/plain": [
              "array([0.39025715, 0.40007391, 0.20966893])"
            ]
          },
          "metadata": {},
          "execution_count": 55
        }
      ]
    },
    {
      "cell_type": "code",
      "source": [
        "# The mean of each model\n",
        "gm.means_"
      ],
      "metadata": {
        "colab": {
          "base_uri": "https://localhost:8080/"
        },
        "id": "BsfKcSZryWk3",
        "outputId": "f570d3f5-74e8-4566-d165-d76b3209d972"
      },
      "execution_count": null,
      "outputs": [
        {
          "output_type": "execute_result",
          "data": {
            "text/plain": [
              "array([[ 0.05131611,  0.07521837],\n",
              "       [-1.40763156,  1.42708225],\n",
              "       [ 3.39893794,  1.05928897]])"
            ]
          },
          "metadata": {},
          "execution_count": 56
        }
      ]
    },
    {
      "cell_type": "code",
      "source": [
        "gm.covariances_"
      ],
      "metadata": {
        "colab": {
          "base_uri": "https://localhost:8080/"
        },
        "id": "EG5UI_hfylsh",
        "outputId": "e423dfec-85fa-4f58-9afa-946a3ddae51f"
      },
      "execution_count": null,
      "outputs": [
        {
          "output_type": "execute_result",
          "data": {
            "text/plain": [
              "array([[[ 0.68799922,  0.79606357],\n",
              "        [ 0.79606357,  1.21236106]],\n",
              "\n",
              "       [[ 0.63479409,  0.72970799],\n",
              "        [ 0.72970799,  1.1610351 ]],\n",
              "\n",
              "       [[ 1.14833585, -0.03256179],\n",
              "        [-0.03256179,  0.95490931]]])"
            ]
          },
          "metadata": {},
          "execution_count": 57
        }
      ]
    },
    {
      "cell_type": "code",
      "source": [
        "gm.converged_"
      ],
      "metadata": {
        "colab": {
          "base_uri": "https://localhost:8080/"
        },
        "id": "E2eUq8E7yrD4",
        "outputId": "f0bbc40c-902d-48fe-e31d-d579a55b826b"
      },
      "execution_count": null,
      "outputs": [
        {
          "output_type": "execute_result",
          "data": {
            "text/plain": [
              "True"
            ]
          },
          "metadata": {},
          "execution_count": 58
        }
      ]
    },
    {
      "cell_type": "code",
      "source": [
        "gm.n_iter_"
      ],
      "metadata": {
        "colab": {
          "base_uri": "https://localhost:8080/"
        },
        "id": "nzbMin_96pgb",
        "outputId": "57afafea-6d70-4654-c0ba-aafbea2bb49d"
      },
      "execution_count": null,
      "outputs": [
        {
          "output_type": "execute_result",
          "data": {
            "text/plain": [
              "4"
            ]
          },
          "metadata": {},
          "execution_count": 59
        }
      ]
    },
    {
      "cell_type": "code",
      "source": [
        "# hard clustering\n",
        "gm.predict(X)"
      ],
      "metadata": {
        "colab": {
          "base_uri": "https://localhost:8080/"
        },
        "id": "YNWDcwMR6rkR",
        "outputId": "727fb646-a50a-4a21-c244-b295750f62e2"
      },
      "execution_count": null,
      "outputs": [
        {
          "output_type": "execute_result",
          "data": {
            "text/plain": [
              "array([0, 0, 1, ..., 2, 2, 2])"
            ]
          },
          "metadata": {},
          "execution_count": 60
        }
      ]
    },
    {
      "cell_type": "code",
      "source": [
        "# soft clustering\n",
        "gm.predict_proba(X).round(3)"
      ],
      "metadata": {
        "colab": {
          "base_uri": "https://localhost:8080/"
        },
        "id": "OIYpKwPG64-L",
        "outputId": "1dbc1b1c-0906-45f5-8733-bb4219d7d170"
      },
      "execution_count": null,
      "outputs": [
        {
          "output_type": "execute_result",
          "data": {
            "text/plain": [
              "array([[0.977, 0.   , 0.023],\n",
              "       [0.983, 0.001, 0.016],\n",
              "       [0.   , 1.   , 0.   ],\n",
              "       ...,\n",
              "       [0.   , 0.   , 1.   ],\n",
              "       [0.   , 0.   , 1.   ],\n",
              "       [0.   , 0.   , 1.   ]])"
            ]
          },
          "metadata": {},
          "execution_count": 61
        }
      ]
    },
    {
      "cell_type": "code",
      "source": [
        "# Generative AI!\n",
        "X_new, y_new = gm.sample(6)\n",
        "X_new"
      ],
      "metadata": {
        "colab": {
          "base_uri": "https://localhost:8080/"
        },
        "id": "I9c28kKK68WU",
        "outputId": "8f5c5cb2-86f5-4bf6-ad35-6e8c7738273e"
      },
      "execution_count": null,
      "outputs": [
        {
          "output_type": "execute_result",
          "data": {
            "text/plain": [
              "array([[-0.86944074, -0.32767626],\n",
              "       [ 0.29836051,  0.28297011],\n",
              "       [-2.8014927 , -0.09047309],\n",
              "       [ 3.98203732,  1.49951491],\n",
              "       [ 3.81677148,  0.53095244],\n",
              "       [ 2.84104923, -0.73858639]])"
            ]
          },
          "metadata": {},
          "execution_count": 62
        }
      ]
    },
    {
      "cell_type": "code",
      "source": [
        "y_new"
      ],
      "metadata": {
        "colab": {
          "base_uri": "https://localhost:8080/"
        },
        "id": "jOqxvYtb7KqC",
        "outputId": "91958379-266b-4671-eecf-e53a187d9f94"
      },
      "execution_count": null,
      "outputs": [
        {
          "output_type": "execute_result",
          "data": {
            "text/plain": [
              "array([0, 0, 1, 2, 2, 2])"
            ]
          },
          "metadata": {},
          "execution_count": 63
        }
      ]
    },
    {
      "cell_type": "code",
      "source": [
        "# Estimate the density of the model at any given location\n",
        "# (Compute the exponential of these scores to get the pdf)\n",
        "gm.score_samples(X).round(2)"
      ],
      "metadata": {
        "colab": {
          "base_uri": "https://localhost:8080/"
        },
        "id": "EpKEIGeH7O1f",
        "outputId": "fe70a187-a964-4541-a7c5-8a2c0777b99f"
      },
      "execution_count": null,
      "outputs": [
        {
          "output_type": "execute_result",
          "data": {
            "text/plain": [
              "array([-2.61, -3.57, -3.33, ..., -3.51, -4.4 , -3.81])"
            ]
          },
          "metadata": {},
          "execution_count": 64
        }
      ]
    },
    {
      "cell_type": "code",
      "source": [
        "np.exp(-2.61)"
      ],
      "metadata": {
        "colab": {
          "base_uri": "https://localhost:8080/"
        },
        "id": "93hxbJ1A7fJG",
        "outputId": "ee71f167-b3db-4ff6-af7d-2ac39e2fbe21"
      },
      "execution_count": null,
      "outputs": [
        {
          "output_type": "execute_result",
          "data": {
            "text/plain": [
              "0.0735345437630571"
            ]
          },
          "metadata": {},
          "execution_count": 65
        }
      ]
    },
    {
      "cell_type": "markdown",
      "source": [
        "### Using Gaussian Mixtures for Anomaly Detection"
      ],
      "metadata": {
        "id": "pHRqvNYH_xBG"
      }
    },
    {
      "cell_type": "code",
      "source": [
        "# Use the second percentile lowest density as the threshold\n",
        "# for anomaly detection(i.e., 2% of the instances will be considered anomalies)\n",
        "densities = gm.score_samples(X)\n",
        "density_threshold = np.percentile(densities, 2)\n",
        "anomalies = X[densities < density_threshold]"
      ],
      "metadata": {
        "id": "VUS7lq_q9xui"
      },
      "execution_count": null,
      "outputs": []
    },
    {
      "cell_type": "markdown",
      "source": [
        "### Selecting the number k of clusters (Gaussian Models)"
      ],
      "metadata": {
        "id": "AAh4-ctLs2AP"
      }
    },
    {
      "cell_type": "code",
      "source": [
        "# Lower is better\n",
        "\n",
        "print(gm.bic(X))\n",
        "print(gm.aic(X))"
      ],
      "metadata": {
        "colab": {
          "base_uri": "https://localhost:8080/"
        },
        "id": "KKAhnUfHs1Bu",
        "outputId": "9fa3df78-8b97-48fd-af15-2a86aeb4cda5"
      },
      "execution_count": null,
      "outputs": [
        {
          "output_type": "stream",
          "name": "stdout",
          "text": [
            "8189.747000497186\n",
            "8102.521720382148\n"
          ]
        }
      ]
    },
    {
      "cell_type": "code",
      "source": [
        "# BayesianGaussianMixture class eliminates unnecessary clusters\n",
        "from sklearn.mixture import BayesianGaussianMixture\n",
        "\n",
        "bgm = BayesianGaussianMixture(n_components=10, n_init=10, random_state=42)\n",
        "bgm.fit(X)\n",
        "bgm.weights_.round(2)"
      ],
      "metadata": {
        "colab": {
          "base_uri": "https://localhost:8080/"
        },
        "id": "FuF21owwtCck",
        "outputId": "320d31a5-cc52-4c90-8970-d5ca25bd3136"
      },
      "execution_count": null,
      "outputs": [
        {
          "output_type": "execute_result",
          "data": {
            "text/plain": [
              "array([0.4 , 0.21, 0.4 , 0.  , 0.  , 0.  , 0.  , 0.  , 0.  , 0.  ])"
            ]
          },
          "metadata": {},
          "execution_count": 74
        }
      ]
    }
  ],
  "metadata": {
    "kernelspec": {
      "display_name": "handson-ml3-DRIwlIAE-py3.10",
      "language": "python",
      "name": "python3"
    },
    "language_info": {
      "codemirror_mode": {
        "name": "ipython",
        "version": 3
      },
      "file_extension": ".py",
      "mimetype": "text/x-python",
      "name": "python",
      "nbconvert_exporter": "python",
      "pygments_lexer": "ipython3",
      "version": "3.10.7"
    },
    "colab": {
      "provenance": []
    }
  },
  "nbformat": 4,
  "nbformat_minor": 0
}