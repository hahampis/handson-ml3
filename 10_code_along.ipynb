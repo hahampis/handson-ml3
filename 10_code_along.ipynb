{
 "cells": [
  {
   "cell_type": "code",
   "execution_count": 1,
   "metadata": {},
   "outputs": [],
   "source": [
    "import numpy as np\n",
    "import pandas as pd\n",
    "import matplotlib.pyplot as plt\n"
   ]
  },
  {
   "cell_type": "markdown",
   "metadata": {},
   "source": [
    "### Perceptron class from sklearn"
   ]
  },
  {
   "cell_type": "code",
   "execution_count": 2,
   "metadata": {},
   "outputs": [
    {
     "data": {
      "text/plain": [
       "array([ True, False])"
      ]
     },
     "execution_count": 2,
     "metadata": {},
     "output_type": "execute_result"
    }
   ],
   "source": [
    "from sklearn.datasets import load_iris\n",
    "from sklearn.linear_model import Perceptron\n",
    "\n",
    "iris = load_iris(as_frame=True)\n",
    "X = iris.data[[\"petal length (cm)\", \"petal width (cm)\"]].values\n",
    "y = (iris.target == 0)  # Iris setosa\n",
    "\n",
    "per_clf = Perceptron(random_state=42)\n",
    "per_clf.fit(X, y)\n",
    "\n",
    "X_new = [[2, 0.5], [3, 1]]\n",
    "y_pred = per_clf.predict(X_new)\n",
    "y_pred"
   ]
  },
  {
   "cell_type": "markdown",
   "metadata": {},
   "source": [
    "### Regression MLPs"
   ]
  },
  {
   "cell_type": "code",
   "execution_count": 3,
   "metadata": {},
   "outputs": [
    {
     "data": {
      "text/plain": [
       "0.5053326657968588"
      ]
     },
     "execution_count": 3,
     "metadata": {},
     "output_type": "execute_result"
    }
   ],
   "source": [
    "from sklearn.datasets import fetch_california_housing\n",
    "from sklearn.metrics import root_mean_squared_error\n",
    "from sklearn.model_selection import train_test_split\n",
    "from sklearn.neural_network import MLPRegressor\n",
    "from sklearn.pipeline import make_pipeline\n",
    "from sklearn.preprocessing import StandardScaler\n",
    "\n",
    "housing = fetch_california_housing()\n",
    "X_train_full, X_test, y_train_full, y_test = train_test_split(\n",
    "    housing.data, housing.target, random_state=42)\n",
    "X_train, X_valid, y_train, y_valid, = train_test_split(\n",
    "    X_train_full, y_train_full, random_state=42)\n",
    "\n",
    "mlp_reg = MLPRegressor(hidden_layer_sizes=[50, 50, 50], random_state=42)\n",
    "pipeline = make_pipeline(StandardScaler(), mlp_reg)\n",
    "pipeline.fit(X_train, y_train)\n",
    "y_pred = pipeline.predict(X_valid)\n",
    "rmse = root_mean_squared_error(y_valid, y_pred)\n",
    "rmse"
   ]
  },
  {
   "cell_type": "markdown",
   "metadata": {},
   "source": [
    "### Classification MLPs"
   ]
  },
  {
   "cell_type": "code",
   "execution_count": 4,
   "metadata": {},
   "outputs": [
    {
     "data": {
      "text/plain": [
       "array([ True, False])"
      ]
     },
     "execution_count": 4,
     "metadata": {},
     "output_type": "execute_result"
    }
   ],
   "source": [
    "from sklearn.neural_network import MLPClassifier\n",
    "from sklearn.datasets import load_iris\n",
    "from sklearn.pipeline import make_pipeline\n",
    "from sklearn.preprocessing import StandardScaler\n",
    "\n",
    "iris = load_iris(as_frame=True)\n",
    "X = iris.data[[\"petal length (cm)\", \"petal width (cm)\"]].values\n",
    "y = (iris.target == 0)  # Iris setosa\n",
    "\n",
    "X_train_full, X_test, y_train_full, y_test = train_test_split(\n",
    "    X, y, random_state=42, test_size=0.1)\n",
    "X_train, X_valid, y_train, y_valid, = train_test_split(\n",
    "    X_train_full, y_train_full, random_state=42, test_size=0.1)\n",
    "\n",
    "mlp_clf = MLPClassifier(hidden_layer_sizes=[10], random_state=42, max_iter=1000)\n",
    "pipeline = make_pipeline(StandardScaler(), mlp_clf)\n",
    "pipeline.fit(X_train, y_train)\n",
    "\n",
    "X_new = [[2, 0.5], [3, 1]]\n",
    "y_pred = pipeline.predict(X_new)\n",
    "y_pred"
   ]
  },
  {
   "cell_type": "code",
   "execution_count": 5,
   "metadata": {},
   "outputs": [
    {
     "data": {
      "text/plain": [
       "1.0"
      ]
     },
     "execution_count": 5,
     "metadata": {},
     "output_type": "execute_result"
    }
   ],
   "source": [
    "pipeline.score(X_valid, y_valid)"
   ]
  },
  {
   "cell_type": "markdown",
   "metadata": {},
   "source": [
    "### Implementing MLPs with Keras (!)"
   ]
  },
  {
   "cell_type": "code",
   "execution_count": 6,
   "metadata": {},
   "outputs": [],
   "source": [
    "import tensorflow as tf\n",
    "\n",
    "fashion_mnist = tf.keras.datasets.fashion_mnist.load_data()\n",
    "(X_train_full, y_train_full), (X_test, y_test) = fashion_mnist\n",
    "X_train, y_train = X_train_full[:-5000], y_train_full[:-5000]\n",
    "X_valid, y_valid = X_train_full[-5000:], y_train_full[-5000:]"
   ]
  },
  {
   "cell_type": "code",
   "execution_count": 7,
   "metadata": {},
   "outputs": [
    {
     "data": {
      "text/plain": [
       "(55000, 28, 28)"
      ]
     },
     "execution_count": 7,
     "metadata": {},
     "output_type": "execute_result"
    }
   ],
   "source": [
    "X_train.shape"
   ]
  },
  {
   "cell_type": "code",
   "execution_count": 8,
   "metadata": {},
   "outputs": [
    {
     "data": {
      "text/plain": [
       "dtype('uint8')"
      ]
     },
     "execution_count": 8,
     "metadata": {},
     "output_type": "execute_result"
    }
   ],
   "source": [
    "X_train.dtype"
   ]
  },
  {
   "cell_type": "code",
   "execution_count": 9,
   "metadata": {},
   "outputs": [],
   "source": [
    "# Scale the pixel intensities\n",
    "X_train, X_valid, X_test = X_train / 255., X_valid / 255., X_test / 255."
   ]
  },
  {
   "cell_type": "code",
   "execution_count": 10,
   "metadata": {},
   "outputs": [
    {
     "data": {
      "text/plain": [
       "'Ankle boot'"
      ]
     },
     "execution_count": 10,
     "metadata": {},
     "output_type": "execute_result"
    }
   ],
   "source": [
    "class_names = [\"T-shirt/top\", \"Trouser\", \"Pullover\", \"Dress\", \"Coat\",\n",
    "               \"Sandal\", \"Shirt\", \"Sneaker\", \"Bag\", \"Ankle boot\"]\n",
    "class_names[y_train[0]]"
   ]
  },
  {
   "cell_type": "code",
   "execution_count": 11,
   "metadata": {},
   "outputs": [
    {
     "data": {
      "text/plain": [
       "<matplotlib.image.AxesImage at 0x34a242860>"
      ]
     },
     "execution_count": 11,
     "metadata": {},
     "output_type": "execute_result"
    },
    {
     "data": {
      "image/png": "[encoded data removed]",
      "text/plain": [
       "<Figure size 640x480 with 1 Axes>"
      ]
     },
     "metadata": {},
     "output_type": "display_data"
    }
   ],
   "source": [
    "plt.imshow(X_train[0], cmap=\"binary\")"
   ]
  },
  {
   "cell_type": "markdown",
   "metadata": {},
   "source": [
    "### Creating the model using the sequential API"
   ]
  },
  {
   "cell_type": "code",
   "execution_count": 12,
   "metadata": {},
   "outputs": [
    {
     "name": "stderr",
     "output_type": "stream",
     "text": [
      "2024-04-03 09:31:44.711279: I metal_plugin/src/device/metal_device.cc:1154] Metal device set to: Apple M2 Max\n",
      "2024-04-03 09:31:44.711296: I metal_plugin/src/device/metal_device.cc:296] systemMemory: 32.00 GB\n",
      "2024-04-03 09:31:44.711341: I metal_plugin/src/device/metal_device.cc:313] maxCacheSize: 10.67 GB\n",
      "2024-04-03 09:31:44.711395: I tensorflow/core/common_runtime/pluggable_device/pluggable_device_factory.cc:306] Could not identify NUMA node of platform GPU ID 0, defaulting to 0. Your kernel may not have been built with NUMA support.\n",
      "2024-04-03 09:31:44.711414: I tensorflow/core/common_runtime/pluggable_device/pluggable_device_factory.cc:272] Created TensorFlow device (/job:localhost/replica:0/task:0/device:GPU:0 with 0 MB memory) -> physical PluggableDevice (device: 0, name: METAL, pci bus id: <undefined>)\n"
     ]
    }
   ],
   "source": [
    "tf.random.set_seed(42)\n",
    "model = tf.keras.Sequential()\n",
    "model.add(tf.keras.layers.Input(shape=[28, 28]))  # without the batch size - only the shape of the instances\n",
    "model.add(tf.keras.layers.Flatten())\n",
    "model.add(tf.keras.layers.Dense(300, activation=\"relu\"))\n",
    "model.add(tf.keras.layers.Dense(100, activation=\"relu\"))\n",
    "model.add(tf.keras.layers.Dense(10, activation=\"softmax\"))"
   ]
  },
  {
   "cell_type": "code",
   "execution_count": 13,
   "metadata": {},
   "outputs": [],
   "source": [
    "# Alternatively - pass a list of layers and drop the Input layer\n",
    "model = tf.keras.Sequential([\n",
    "    tf.keras.layers.Flatten(input_shape=[28, 28]),\n",
    "    tf.keras.layers.Dense(300, activation=\"relu\"),\n",
    "    tf.keras.layers.Dense(100, activation=tf.keras.activations.relu),\n",
    "    tf.keras.layers.Dense(10, activation=\"softmax\")\n",
    "])"
   ]
  },
  {
   "cell_type": "code",
   "execution_count": 14,
   "metadata": {},
   "outputs": [
    {
     "data": {
      "image/png": "[encoded data removed]",
      "text/plain": [
       "<IPython.core.display.Image object>"
      ]
     },
     "execution_count": 14,
     "metadata": {},
     "output_type": "execute_result"
    }
   ],
   "source": [
    "tf.keras.utils.plot_model(model, show_shapes=True, show_layer_activations=True)"
   ]
  },
  {
   "cell_type": "code",
   "execution_count": 15,
   "metadata": {},
   "outputs": [
    {
     "name": "stdout",
     "output_type": "stream",
     "text": [
      "Model: \"sequential_1\"\n",
      "_________________________________________________________________\n",
      " Layer (type)                Output Shape              Param #   \n",
      "=================================================================\n",
      " flatten_1 (Flatten)         (None, 784)               0         \n",
      "                                                                 \n",
      " dense_3 (Dense)             (None, 300)               235500    \n",
      "                                                                 \n",
      " dense_4 (Dense)             (None, 100)               30100     \n",
      "                                                                 \n",
      " dense_5 (Dense)             (None, 10)                1010      \n",
      "                                                                 \n",
      "=================================================================\n",
      "Total params: 266610 (1.02 MB)\n",
      "Trainable params: 266610 (1.02 MB)\n",
      "Non-trainable params: 0 (0.00 Byte)\n",
      "_________________________________________________________________\n"
     ]
    }
   ],
   "source": [
    "model.summary()"
   ]
  },
  {
   "cell_type": "code",
   "execution_count": 16,
   "metadata": {},
   "outputs": [
    {
     "data": {
      "text/plain": [
       "[<keras.src.layers.reshaping.flatten.Flatten at 0x34c299f90>,\n",
       " <keras.src.layers.core.dense.Dense at 0x34c37d840>,\n",
       " <keras.src.layers.core.dense.Dense at 0x34c37e500>,\n",
       " <keras.src.layers.core.dense.Dense at 0x34c37f5e0>]"
      ]
     },
     "execution_count": 16,
     "metadata": {},
     "output_type": "execute_result"
    }
   ],
   "source": [
    "model.layers"
   ]
  },
  {
   "cell_type": "code",
   "execution_count": 17,
   "metadata": {},
   "outputs": [
    {
     "data": {
      "text/plain": [
       "'dense_3'"
      ]
     },
     "execution_count": 17,
     "metadata": {},
     "output_type": "execute_result"
    }
   ],
   "source": [
    "hidden1 = model.layers[1]\n",
    "hidden1.name"
   ]
  },
  {
   "cell_type": "code",
   "execution_count": 18,
   "metadata": {},
   "outputs": [
    {
     "data": {
      "text/plain": [
       "True"
      ]
     },
     "execution_count": 18,
     "metadata": {},
     "output_type": "execute_result"
    }
   ],
   "source": [
    "model.get_layer('dense_3') is hidden1"
   ]
  },
  {
   "cell_type": "code",
   "execution_count": 19,
   "metadata": {},
   "outputs": [
    {
     "data": {
      "text/plain": [
       "array([[ 0.01363183, -0.0064534 , -0.03357818, ...,  0.04057486,\n",
       "         0.05770628, -0.00602245],\n",
       "       [-0.03769851, -0.00991012,  0.02514662, ..., -0.0160962 ,\n",
       "        -0.0063583 , -0.01822722],\n",
       "       [-0.05236876, -0.03247916, -0.05243875, ...,  0.04046609,\n",
       "        -0.05584462, -0.01234635],\n",
       "       ...,\n",
       "       [-0.01618595, -0.01764088, -0.00329108, ...,  0.01477209,\n",
       "        -0.03136854, -0.02013789],\n",
       "       [ 0.02045064, -0.05833961,  0.01563741, ...,  0.01267207,\n",
       "         0.06807442, -0.00845388],\n",
       "       [ 0.05424432,  0.02514328, -0.07062188, ...,  0.03845251,\n",
       "        -0.0449319 , -0.04701321]], dtype=float32)"
      ]
     },
     "execution_count": 19,
     "metadata": {},
     "output_type": "execute_result"
    }
   ],
   "source": [
    "weights, biases = hidden1.get_weights()\n",
    "weights"
   ]
  },
  {
   "cell_type": "code",
   "execution_count": 20,
   "metadata": {},
   "outputs": [
    {
     "data": {
      "text/plain": [
       "array([0., 0., 0., 0., 0., 0., 0., 0., 0., 0., 0., 0., 0., 0., 0., 0., 0.,\n",
       "       0., 0., 0., 0., 0., 0., 0., 0., 0., 0., 0., 0., 0., 0., 0., 0., 0.,\n",
       "       0., 0., 0., 0., 0., 0., 0., 0., 0., 0., 0., 0., 0., 0., 0., 0., 0.,\n",
       "       0., 0., 0., 0., 0., 0., 0., 0., 0., 0., 0., 0., 0., 0., 0., 0., 0.,\n",
       "       0., 0., 0., 0., 0., 0., 0., 0., 0., 0., 0., 0., 0., 0., 0., 0., 0.,\n",
       "       0., 0., 0., 0., 0., 0., 0., 0., 0., 0., 0., 0., 0., 0., 0., 0., 0.,\n",
       "       0., 0., 0., 0., 0., 0., 0., 0., 0., 0., 0., 0., 0., 0., 0., 0., 0.,\n",
       "       0., 0., 0., 0., 0., 0., 0., 0., 0., 0., 0., 0., 0., 0., 0., 0., 0.,\n",
       "       0., 0., 0., 0., 0., 0., 0., 0., 0., 0., 0., 0., 0., 0., 0., 0., 0.,\n",
       "       0., 0., 0., 0., 0., 0., 0., 0., 0., 0., 0., 0., 0., 0., 0., 0., 0.,\n",
       "       0., 0., 0., 0., 0., 0., 0., 0., 0., 0., 0., 0., 0., 0., 0., 0., 0.,\n",
       "       0., 0., 0., 0., 0., 0., 0., 0., 0., 0., 0., 0., 0., 0., 0., 0., 0.,\n",
       "       0., 0., 0., 0., 0., 0., 0., 0., 0., 0., 0., 0., 0., 0., 0., 0., 0.,\n",
       "       0., 0., 0., 0., 0., 0., 0., 0., 0., 0., 0., 0., 0., 0., 0., 0., 0.,\n",
       "       0., 0., 0., 0., 0., 0., 0., 0., 0., 0., 0., 0., 0., 0., 0., 0., 0.,\n",
       "       0., 0., 0., 0., 0., 0., 0., 0., 0., 0., 0., 0., 0., 0., 0., 0., 0.,\n",
       "       0., 0., 0., 0., 0., 0., 0., 0., 0., 0., 0., 0., 0., 0., 0., 0., 0.,\n",
       "       0., 0., 0., 0., 0., 0., 0., 0., 0., 0., 0.], dtype=float32)"
      ]
     },
     "execution_count": 20,
     "metadata": {},
     "output_type": "execute_result"
    }
   ],
   "source": [
    "biases"
   ]
  },
  {
   "cell_type": "code",
   "execution_count": 21,
   "metadata": {},
   "outputs": [],
   "source": [
    "# Compile the model to specify loss function, optimizer, metrics etc.\n",
    "# When we have sparse labels (e.g. from 0 to 9): use sparse_categorical_crossentropy\n",
    "# One-hot vector labels (e.g. [0., 0., 1., 0., ..., 0.] for class 2): use categorical_crossentropy\n",
    "# Binary classification: use binary_crossentropy\n",
    "# NOTE: we should tune the learning rate when using optimizer=\"sgd\"\n",
    "model.compile(loss=\"sparse_categorical_crossentropy\",\n",
    "              optimizer=\"sgd\",\n",
    "              metrics=[\"accuracy\"])"
   ]
  },
  {
   "cell_type": "code",
   "execution_count": 22,
   "metadata": {},
   "outputs": [
    {
     "name": "stdout",
     "output_type": "stream",
     "text": [
      "Epoch 1/30\n",
      "  14/1719 [..............................] - ETA: 6s - loss: 2.3388 - accuracy: 0.1719  "
     ]
    },
    {
     "name": "stderr",
     "output_type": "stream",
     "text": [
      "2024-04-03 09:31:45.277184: I tensorflow/core/grappler/optimizers/custom_graph_optimizer_registry.cc:117] Plugin optimizer for device_type GPU is enabled.\n"
     ]
    },
    {
     "name": "stdout",
     "output_type": "stream",
     "text": [
      "1719/1719 [==============================] - 7s 4ms/step - loss: 0.7134 - accuracy: 0.7594 - val_loss: 0.5200 - val_accuracy: 0.8188\n",
      "Epoch 2/30\n",
      "1719/1719 [==============================] - 6s 4ms/step - loss: 0.5103 - accuracy: 0.8220 - val_loss: 0.4849 - val_accuracy: 0.8224\n",
      "Epoch 3/30\n",
      "1719/1719 [==============================] - 6s 4ms/step - loss: 0.4738 - accuracy: 0.8356 - val_loss: 0.4542 - val_accuracy: 0.8382\n",
      "Epoch 4/30\n",
      "1719/1719 [==============================] - 6s 4ms/step - loss: 0.4582 - accuracy: 0.8403 - val_loss: 0.4330 - val_accuracy: 0.8466\n",
      "Epoch 5/30\n",
      "1719/1719 [==============================] - 6s 4ms/step - loss: 0.4456 - accuracy: 0.8451 - val_loss: 0.4328 - val_accuracy: 0.8472\n",
      "Epoch 6/30\n",
      "1719/1719 [==============================] - 6s 4ms/step - loss: 0.4377 - accuracy: 0.8475 - val_loss: 0.4464 - val_accuracy: 0.8446\n",
      "Epoch 7/30\n",
      "1719/1719 [==============================] - 6s 4ms/step - loss: 0.4331 - accuracy: 0.8495 - val_loss: 0.4292 - val_accuracy: 0.8486\n",
      "Epoch 8/30\n",
      "1719/1719 [==============================] - 6s 4ms/step - loss: 0.4292 - accuracy: 0.8521 - val_loss: 0.4312 - val_accuracy: 0.8470\n",
      "Epoch 9/30\n",
      "1719/1719 [==============================] - 6s 4ms/step - loss: 0.4270 - accuracy: 0.8519 - val_loss: 0.4147 - val_accuracy: 0.8532\n",
      "Epoch 10/30\n",
      "1719/1719 [==============================] - 6s 4ms/step - loss: 0.4250 - accuracy: 0.8532 - val_loss: 0.4311 - val_accuracy: 0.8478\n",
      "Epoch 11/30\n",
      "1719/1719 [==============================] - 6s 4ms/step - loss: 0.4256 - accuracy: 0.8527 - val_loss: 0.4797 - val_accuracy: 0.8192\n",
      "Epoch 12/30\n",
      "1719/1719 [==============================] - 6s 4ms/step - loss: 0.4314 - accuracy: 0.8514 - val_loss: 0.4363 - val_accuracy: 0.8446\n",
      "Epoch 13/30\n",
      "1719/1719 [==============================] - 6s 4ms/step - loss: 0.4406 - accuracy: 0.8476 - val_loss: 0.4534 - val_accuracy: 0.8378\n",
      "Epoch 14/30\n",
      "1719/1719 [==============================] - 6s 4ms/step - loss: 0.4655 - accuracy: 0.8417 - val_loss: 0.5025 - val_accuracy: 0.8264\n",
      "Epoch 15/30\n",
      "1719/1719 [==============================] - 6s 4ms/step - loss: 0.5182 - accuracy: 0.8315 - val_loss: 0.5826 - val_accuracy: 0.8282\n",
      "Epoch 16/30\n",
      "1719/1719 [==============================] - 6s 4ms/step - loss: 0.6019 - accuracy: 0.8211 - val_loss: 1.1886 - val_accuracy: 0.7404\n",
      "Epoch 17/30\n",
      "1719/1719 [==============================] - 6s 4ms/step - loss: 0.7900 - accuracy: 0.8067 - val_loss: 1.1325 - val_accuracy: 0.7978\n",
      "Epoch 18/30\n",
      "1719/1719 [==============================] - 6s 4ms/step - loss: 1.0593 - accuracy: 0.7966 - val_loss: 1.1424 - val_accuracy: 0.7674\n",
      "Epoch 19/30\n",
      "1719/1719 [==============================] - 6s 4ms/step - loss: 1.7102 - accuracy: 0.7793 - val_loss: 2.1389 - val_accuracy: 0.7240\n",
      "Epoch 20/30\n",
      "1719/1719 [==============================] - 6s 4ms/step - loss: 3.1350 - accuracy: 0.7633 - val_loss: 4.1272 - val_accuracy: 0.7182\n",
      "Epoch 21/30\n",
      "1719/1719 [==============================] - 6s 4ms/step - loss: 7.4691 - accuracy: 0.7383 - val_loss: 8.1356 - val_accuracy: 0.7262\n",
      "Epoch 22/30\n",
      "1719/1719 [==============================] - 6s 4ms/step - loss: 20.4249 - accuracy: 0.7190 - val_loss: 49.5824 - val_accuracy: 0.6460\n",
      "Epoch 23/30\n",
      "1719/1719 [==============================] - 6s 4ms/step - loss: 82.4518 - accuracy: 0.7008 - val_loss: 186.6991 - val_accuracy: 0.6314\n",
      "Epoch 24/30\n",
      "1719/1719 [==============================] - 6s 4ms/step - loss: 1197.1353 - accuracy: 0.6715 - val_loss: 10122.7881 - val_accuracy: 0.5548\n",
      "Epoch 25/30\n",
      "1719/1719 [==============================] - 6s 4ms/step - loss: nan - accuracy: 0.1129 - val_loss: nan - val_accuracy: 0.1042\n",
      "Epoch 26/30\n",
      "1719/1719 [==============================] - 6s 4ms/step - loss: nan - accuracy: 0.0996 - val_loss: nan - val_accuracy: 0.1042\n",
      "Epoch 27/30\n",
      "1719/1719 [==============================] - 6s 4ms/step - loss: nan - accuracy: 0.0996 - val_loss: nan - val_accuracy: 0.1042\n",
      "Epoch 28/30\n",
      "1719/1719 [==============================] - 6s 4ms/step - loss: nan - accuracy: 0.0996 - val_loss: nan - val_accuracy: 0.1042\n",
      "Epoch 29/30\n",
      "1719/1719 [==============================] - 6s 4ms/step - loss: nan - accuracy: 0.0996 - val_loss: nan - val_accuracy: 0.1042\n",
      "Epoch 30/30\n",
      "1719/1719 [==============================] - 6s 4ms/step - loss: nan - accuracy: 0.0996 - val_loss: nan - val_accuracy: 0.1042\n"
     ]
    }
   ],
   "source": [
    "history = model.fit(X_train, y_train, epochs=30,\n",
    "                    validation_data=(X_valid, y_valid))"
   ]
  },
  {
   "cell_type": "markdown",
   "metadata": {},
   "source": [
    "Oh oh! We get nan loss and accuracy drops after a few epochs! This seems to be an tensorflow-metal (on Apple Silicon) issue.\n",
    "Someone suggested to use tanh activation function instead of relu. Let's try it:"
   ]
  },
  {
   "cell_type": "code",
   "execution_count": 23,
   "metadata": {},
   "outputs": [
    {
     "name": "stdout",
     "output_type": "stream",
     "text": [
      "Epoch 1/30\n",
      "1719/1719 [==============================] - 7s 4ms/step - loss: 0.6706 - accuracy: 0.7787 - val_loss: 0.4968 - val_accuracy: 0.8262\n",
      "Epoch 2/30\n",
      "1719/1719 [==============================] - 6s 4ms/step - loss: 0.4727 - accuracy: 0.8335 - val_loss: 0.4417 - val_accuracy: 0.8380\n",
      "Epoch 3/30\n",
      "1719/1719 [==============================] - 6s 4ms/step - loss: 0.4322 - accuracy: 0.8473 - val_loss: 0.4136 - val_accuracy: 0.8512\n",
      "Epoch 4/30\n",
      "1719/1719 [==============================] - 6s 4ms/step - loss: 0.4105 - accuracy: 0.8543 - val_loss: 0.3955 - val_accuracy: 0.8584\n",
      "Epoch 5/30\n",
      "1719/1719 [==============================] - 6s 4ms/step - loss: 0.3932 - accuracy: 0.8590 - val_loss: 0.3850 - val_accuracy: 0.8586\n",
      "Epoch 6/30\n",
      "1719/1719 [==============================] - 6s 4ms/step - loss: 0.3801 - accuracy: 0.8642 - val_loss: 0.3910 - val_accuracy: 0.8576\n",
      "Epoch 7/30\n",
      "1719/1719 [==============================] - 6s 4ms/step - loss: 0.3698 - accuracy: 0.8667 - val_loss: 0.3709 - val_accuracy: 0.8690\n",
      "Epoch 8/30\n",
      "1719/1719 [==============================] - 6s 4ms/step - loss: 0.3610 - accuracy: 0.8705 - val_loss: 0.3732 - val_accuracy: 0.8634\n",
      "Epoch 9/30\n",
      "1719/1719 [==============================] - 6s 4ms/step - loss: 0.3529 - accuracy: 0.8737 - val_loss: 0.3550 - val_accuracy: 0.8674\n",
      "Epoch 10/30\n",
      "1719/1719 [==============================] - 6s 4ms/step - loss: 0.3449 - accuracy: 0.8760 - val_loss: 0.3568 - val_accuracy: 0.8708\n",
      "Epoch 11/30\n",
      "1719/1719 [==============================] - 6s 4ms/step - loss: 0.3384 - accuracy: 0.8786 - val_loss: 0.3523 - val_accuracy: 0.8730\n",
      "Epoch 12/30\n",
      "1719/1719 [==============================] - 6s 4ms/step - loss: 0.3322 - accuracy: 0.8798 - val_loss: 0.3507 - val_accuracy: 0.8708\n",
      "Epoch 13/30\n",
      "1719/1719 [==============================] - 6s 4ms/step - loss: 0.3265 - accuracy: 0.8837 - val_loss: 0.3381 - val_accuracy: 0.8760\n",
      "Epoch 14/30\n",
      "1719/1719 [==============================] - 6s 4ms/step - loss: 0.3210 - accuracy: 0.8845 - val_loss: 0.3457 - val_accuracy: 0.8756\n",
      "Epoch 15/30\n",
      "1719/1719 [==============================] - 6s 4ms/step - loss: 0.3161 - accuracy: 0.8872 - val_loss: 0.3403 - val_accuracy: 0.8766\n",
      "Epoch 16/30\n",
      "1719/1719 [==============================] - 6s 4ms/step - loss: 0.3108 - accuracy: 0.8883 - val_loss: 0.3340 - val_accuracy: 0.8762\n",
      "Epoch 17/30\n",
      "1719/1719 [==============================] - 6s 4ms/step - loss: 0.3068 - accuracy: 0.8886 - val_loss: 0.3395 - val_accuracy: 0.8752\n",
      "Epoch 18/30\n",
      "1719/1719 [==============================] - 6s 4ms/step - loss: 0.3022 - accuracy: 0.8912 - val_loss: 0.3340 - val_accuracy: 0.8802\n",
      "Epoch 19/30\n",
      "1719/1719 [==============================] - 6s 4ms/step - loss: 0.2981 - accuracy: 0.8919 - val_loss: 0.3368 - val_accuracy: 0.8752\n",
      "Epoch 20/30\n",
      "1719/1719 [==============================] - 6s 4ms/step - loss: 0.2941 - accuracy: 0.8947 - val_loss: 0.3246 - val_accuracy: 0.8772\n",
      "Epoch 21/30\n",
      "1719/1719 [==============================] - 6s 4ms/step - loss: 0.2903 - accuracy: 0.8949 - val_loss: 0.3233 - val_accuracy: 0.8824\n",
      "Epoch 22/30\n",
      "1719/1719 [==============================] - 6s 4ms/step - loss: 0.2861 - accuracy: 0.8967 - val_loss: 0.3228 - val_accuracy: 0.8810\n",
      "Epoch 23/30\n",
      "1719/1719 [==============================] - 6s 4ms/step - loss: 0.2825 - accuracy: 0.8976 - val_loss: 0.3438 - val_accuracy: 0.8714\n",
      "Epoch 24/30\n",
      "1719/1719 [==============================] - 6s 4ms/step - loss: 0.2788 - accuracy: 0.9002 - val_loss: 0.3252 - val_accuracy: 0.8786\n",
      "Epoch 25/30\n",
      "1719/1719 [==============================] - 6s 4ms/step - loss: 0.2754 - accuracy: 0.9005 - val_loss: 0.3173 - val_accuracy: 0.8820\n",
      "Epoch 26/30\n",
      "1719/1719 [==============================] - 6s 4ms/step - loss: 0.2726 - accuracy: 0.9025 - val_loss: 0.3163 - val_accuracy: 0.8800\n",
      "Epoch 27/30\n",
      "1719/1719 [==============================] - 6s 4ms/step - loss: 0.2687 - accuracy: 0.9026 - val_loss: 0.3290 - val_accuracy: 0.8784\n",
      "Epoch 28/30\n",
      "1719/1719 [==============================] - 6s 4ms/step - loss: 0.2663 - accuracy: 0.9039 - val_loss: 0.3172 - val_accuracy: 0.8844\n",
      "Epoch 29/30\n",
      "1719/1719 [==============================] - 6s 4ms/step - loss: 0.2632 - accuracy: 0.9055 - val_loss: 0.3200 - val_accuracy: 0.8818\n",
      "Epoch 30/30\n",
      "1719/1719 [==============================] - 6s 4ms/step - loss: 0.2608 - accuracy: 0.9057 - val_loss: 0.3150 - val_accuracy: 0.8822\n"
     ]
    }
   ],
   "source": [
    "model = tf.keras.Sequential([\n",
    "    tf.keras.layers.Flatten(input_shape=[28, 28]),\n",
    "    tf.keras.layers.Dense(300, activation=tf.keras.activations.tanh),\n",
    "    tf.keras.layers.Dense(100, activation=tf.keras.activations.tanh),\n",
    "    tf.keras.layers.Dense(10, activation=\"softmax\")\n",
    "])\n",
    "model.compile(loss=\"sparse_categorical_crossentropy\",\n",
    "              optimizer=\"sgd\",\n",
    "              metrics=[\"accuracy\"])\n",
    "history = model.fit(X_train, y_train, epochs=30,\n",
    "                    validation_data=(X_valid, y_valid))"
   ]
  },
  {
   "cell_type": "markdown",
   "metadata": {},
   "source": [
    "Using `tanh` activation function seems to help.\n",
    "\n",
    "I wonder what is the issue with ReLU.. maybe the fact that it is not differentiable at z = 0 and its derivative is 0 for z < 0?\n",
    "\n",
    "Let's try also softplus activation function which is a smooth variant of ReLU:"
   ]
  },
  {
   "cell_type": "code",
   "execution_count": 24,
   "metadata": {},
   "outputs": [
    {
     "name": "stdout",
     "output_type": "stream",
     "text": [
      "Epoch 1/30\n",
      "1719/1719 [==============================] - 9s 5ms/step - loss: 0.8320 - accuracy: 0.7179 - val_loss: 0.5743 - val_accuracy: 0.7930\n",
      "Epoch 2/30\n",
      "1719/1719 [==============================] - 8s 5ms/step - loss: 0.5569 - accuracy: 0.8018 - val_loss: 0.5270 - val_accuracy: 0.8062\n",
      "Epoch 3/30\n",
      "1719/1719 [==============================] - 8s 5ms/step - loss: 0.5029 - accuracy: 0.8216 - val_loss: 0.4772 - val_accuracy: 0.8272\n",
      "Epoch 4/30\n",
      "1719/1719 [==============================] - 8s 5ms/step - loss: 0.4772 - accuracy: 0.8318 - val_loss: 0.4493 - val_accuracy: 0.8406\n",
      "Epoch 5/30\n",
      "1719/1719 [==============================] - 8s 5ms/step - loss: 0.4562 - accuracy: 0.8395 - val_loss: 0.4434 - val_accuracy: 0.8394\n",
      "Epoch 6/30\n",
      "1719/1719 [==============================] - 8s 5ms/step - loss: 0.4414 - accuracy: 0.8443 - val_loss: 0.4433 - val_accuracy: 0.8386\n",
      "Epoch 7/30\n",
      "1719/1719 [==============================] - 8s 5ms/step - loss: 0.4308 - accuracy: 0.8487 - val_loss: 0.4228 - val_accuracy: 0.8500\n",
      "Epoch 8/30\n",
      "1719/1719 [==============================] - 8s 5ms/step - loss: 0.4207 - accuracy: 0.8526 - val_loss: 0.4234 - val_accuracy: 0.8448\n",
      "Epoch 9/30\n",
      "1719/1719 [==============================] - 8s 5ms/step - loss: 0.4118 - accuracy: 0.8541 - val_loss: 0.4006 - val_accuracy: 0.8542\n",
      "Epoch 10/30\n",
      "1719/1719 [==============================] - 8s 5ms/step - loss: 0.4036 - accuracy: 0.8585 - val_loss: 0.4004 - val_accuracy: 0.8542\n",
      "Epoch 11/30\n",
      "1719/1719 [==============================] - 8s 5ms/step - loss: 0.3976 - accuracy: 0.8593 - val_loss: 0.4212 - val_accuracy: 0.8436\n",
      "Epoch 12/30\n",
      "1719/1719 [==============================] - 8s 5ms/step - loss: 0.3913 - accuracy: 0.8615 - val_loss: 0.3975 - val_accuracy: 0.8522\n",
      "Epoch 13/30\n",
      "1719/1719 [==============================] - 8s 5ms/step - loss: 0.3861 - accuracy: 0.8639 - val_loss: 0.3819 - val_accuracy: 0.8594\n",
      "Epoch 14/30\n",
      "1719/1719 [==============================] - 8s 5ms/step - loss: 0.3807 - accuracy: 0.8649 - val_loss: 0.3848 - val_accuracy: 0.8608\n",
      "Epoch 15/30\n",
      "1719/1719 [==============================] - 8s 5ms/step - loss: 0.3764 - accuracy: 0.8665 - val_loss: 0.3787 - val_accuracy: 0.8614\n",
      "Epoch 16/30\n",
      "1719/1719 [==============================] - 8s 5ms/step - loss: 0.3710 - accuracy: 0.8681 - val_loss: 0.3798 - val_accuracy: 0.8606\n",
      "Epoch 17/30\n",
      "1719/1719 [==============================] - 8s 5ms/step - loss: 0.3671 - accuracy: 0.8677 - val_loss: 0.3841 - val_accuracy: 0.8554\n",
      "Epoch 18/30\n",
      "1719/1719 [==============================] - 8s 5ms/step - loss: 0.3637 - accuracy: 0.8693 - val_loss: 0.3735 - val_accuracy: 0.8656\n",
      "Epoch 19/30\n",
      "1719/1719 [==============================] - 8s 5ms/step - loss: 0.3598 - accuracy: 0.8708 - val_loss: 0.3928 - val_accuracy: 0.8522\n",
      "Epoch 20/30\n",
      "1719/1719 [==============================] - 8s 5ms/step - loss: 0.3565 - accuracy: 0.8710 - val_loss: 0.3641 - val_accuracy: 0.8658\n",
      "Epoch 21/30\n",
      "1719/1719 [==============================] - 8s 5ms/step - loss: 0.3528 - accuracy: 0.8724 - val_loss: 0.3673 - val_accuracy: 0.8636\n",
      "Epoch 22/30\n",
      "1719/1719 [==============================] - 8s 5ms/step - loss: 0.3487 - accuracy: 0.8749 - val_loss: 0.3586 - val_accuracy: 0.8672\n",
      "Epoch 23/30\n",
      "1719/1719 [==============================] - 8s 5ms/step - loss: 0.3460 - accuracy: 0.8760 - val_loss: 0.3869 - val_accuracy: 0.8540\n",
      "Epoch 24/30\n",
      "1719/1719 [==============================] - 8s 5ms/step - loss: 0.3426 - accuracy: 0.8764 - val_loss: 0.3680 - val_accuracy: 0.8638\n",
      "Epoch 25/30\n",
      "1719/1719 [==============================] - 8s 5ms/step - loss: 0.3394 - accuracy: 0.8780 - val_loss: 0.3572 - val_accuracy: 0.8676\n",
      "Epoch 26/30\n",
      "1719/1719 [==============================] - 8s 5ms/step - loss: 0.3371 - accuracy: 0.8783 - val_loss: 0.3546 - val_accuracy: 0.8696\n",
      "Epoch 27/30\n",
      "1719/1719 [==============================] - 8s 5ms/step - loss: 0.3340 - accuracy: 0.8790 - val_loss: 0.3694 - val_accuracy: 0.8608\n",
      "Epoch 28/30\n",
      "1719/1719 [==============================] - 8s 5ms/step - loss: 0.3321 - accuracy: 0.8806 - val_loss: 0.3584 - val_accuracy: 0.8662\n",
      "Epoch 29/30\n",
      "1719/1719 [==============================] - 8s 5ms/step - loss: 0.3290 - accuracy: 0.8804 - val_loss: 0.3516 - val_accuracy: 0.8682\n",
      "Epoch 30/30\n",
      "1719/1719 [==============================] - 8s 5ms/step - loss: 0.3269 - accuracy: 0.8831 - val_loss: 0.3575 - val_accuracy: 0.8688\n"
     ]
    }
   ],
   "source": [
    "model = tf.keras.Sequential([\n",
    "    tf.keras.layers.Flatten(input_shape=[28, 28]),\n",
    "    tf.keras.layers.Dense(300, activation=tf.keras.activations.softplus),\n",
    "    tf.keras.layers.Dense(100, activation=tf.keras.activations.softplus),\n",
    "    tf.keras.layers.Dense(10, activation=\"softmax\")\n",
    "])\n",
    "model.compile(loss=\"sparse_categorical_crossentropy\",\n",
    "              optimizer=\"sgd\",\n",
    "              metrics=[\"accuracy\"])\n",
    "history = model.fit(X_train, y_train, epochs=30,\n",
    "                    validation_data=(X_valid, y_valid))"
   ]
  },
  {
   "cell_type": "markdown",
   "metadata": {},
   "source": [
    "`softplus` seems ok too. Let's keep that in mind for the time being.\n",
    "\n",
    "We may have a penalty in terms of performance (relu's main advantage is that it is fast) but what can you do..."
   ]
  },
  {
   "cell_type": "code",
   "execution_count": 25,
   "metadata": {},
   "outputs": [],
   "source": [
    "# Let's try to familiarize ourselves with shape errors\n",
    "# model = tf.keras.Sequential([\n",
    "#     tf.keras.layers.Flatten(input_shape=[29, 28]),\n",
    "#     tf.keras.layers.Dense(300, activation=tf.keras.activations.softplus),\n",
    "#     tf.keras.layers.Dense(100, activation=tf.keras.activations.softplus),\n",
    "#     tf.keras.layers.Dense(10, activation=\"softmax\")\n",
    "# ])\n",
    "# model.compile(loss=\"sparse_categorical_crossentropy\",\n",
    "#               optimizer=\"sgd\",\n",
    "#               metrics=[\"accuracy\"])\n",
    "# history = model.fit(X_train, y_train, epochs=30,\n",
    "#                     validation_data=(X_valid, y_valid))"
   ]
  },
  {
   "cell_type": "code",
   "execution_count": 26,
   "metadata": {},
   "outputs": [],
   "source": [
    "# Use the wrong loss\n",
    "# model = tf.keras.Sequential([\n",
    "#     tf.keras.layers.Flatten(input_shape=[28, 28]),\n",
    "#     tf.keras.layers.Dense(300, activation=tf.keras.activations.softplus),\n",
    "#     tf.keras.layers.Dense(100, activation=tf.keras.activations.softplus),\n",
    "#     tf.keras.layers.Dense(10, activation=\"softmax\")\n",
    "# ])\n",
    "# model.compile(loss=\"categorical_crossentropy\",\n",
    "#               optimizer=\"sgd\",\n",
    "#               metrics=[\"accuracy\"])\n",
    "# history = model.fit(X_train, y_train, epochs=30,\n",
    "#                     validation_data=(X_valid, y_valid))"
   ]
  },
  {
   "cell_type": "code",
   "execution_count": 27,
   "metadata": {},
   "outputs": [],
   "source": [
    "# Remove the Flatten layer\n",
    "# model = tf.keras.Sequential([\n",
    "#     tf.keras.layers.Dense(300, activation=tf.keras.activations.softplus),\n",
    "#     tf.keras.layers.Dense(100, activation=tf.keras.activations.softplus),\n",
    "#     tf.keras.layers.Dense(10, activation=\"softmax\")\n",
    "# ])\n",
    "# model.compile(loss=\"sparse_categorical_crossentropy\",\n",
    "#               optimizer=\"sgd\",\n",
    "#               metrics=[\"accuracy\"])\n",
    "# history = model.fit(X_train, y_train, epochs=30,\n",
    "#                     validation_data=(X_valid, y_valid))"
   ]
  },
  {
   "cell_type": "code",
   "execution_count": 28,
   "metadata": {},
   "outputs": [
    {
     "data": {
      "text/plain": [
       "{'verbose': 1, 'epochs': 30, 'steps': 1719}"
      ]
     },
     "execution_count": 28,
     "metadata": {},
     "output_type": "execute_result"
    }
   ],
   "source": [
    "history.params"
   ]
  },
  {
   "cell_type": "code",
   "execution_count": 29,
   "metadata": {},
   "outputs": [
    {
     "data": {
      "text/plain": [
       "[0,\n",
       " 1,\n",
       " 2,\n",
       " 3,\n",
       " 4,\n",
       " 5,\n",
       " 6,\n",
       " 7,\n",
       " 8,\n",
       " 9,\n",
       " 10,\n",
       " 11,\n",
       " 12,\n",
       " 13,\n",
       " 14,\n",
       " 15,\n",
       " 16,\n",
       " 17,\n",
       " 18,\n",
       " 19,\n",
       " 20,\n",
       " 21,\n",
       " 22,\n",
       " 23,\n",
       " 24,\n",
       " 25,\n",
       " 26,\n",
       " 27,\n",
       " 28,\n",
       " 29]"
      ]
     },
     "execution_count": 29,
     "metadata": {},
     "output_type": "execute_result"
    }
   ],
   "source": [
    "history.epoch"
   ]
  },
  {
   "cell_type": "code",
   "execution_count": 30,
   "metadata": {},
   "outputs": [
    {
     "data": {
      "text/plain": [
       "{'loss': [0.8319823145866394,\n",
       "  0.5569268465042114,\n",
       "  0.5028631687164307,\n",
       "  0.477220356464386,\n",
       "  0.4561792016029358,\n",
       "  0.4414079189300537,\n",
       "  0.4308372735977173,\n",
       "  0.4206526577472687,\n",
       "  0.41182079911231995,\n",
       "  0.4036434590816498,\n",
       "  0.3975549042224884,\n",
       "  0.39125096797943115,\n",
       "  0.38610801100730896,\n",
       "  0.3806838095188141,\n",
       "  0.3763628304004669,\n",
       "  0.37096887826919556,\n",
       "  0.36705347895622253,\n",
       "  0.3636661171913147,\n",
       "  0.35978245735168457,\n",
       "  0.356462299823761,\n",
       "  0.3528011441230774,\n",
       "  0.3487282395362854,\n",
       "  0.3460271656513214,\n",
       "  0.34258919954299927,\n",
       "  0.3393532335758209,\n",
       "  0.3370760977268219,\n",
       "  0.33399656414985657,\n",
       "  0.33213841915130615,\n",
       "  0.3289774954319,\n",
       "  0.3268956243991852],\n",
       " 'accuracy': [0.7178727388381958,\n",
       "  0.801800012588501,\n",
       "  0.8216363787651062,\n",
       "  0.831818163394928,\n",
       "  0.8394908905029297,\n",
       "  0.8442727327346802,\n",
       "  0.848690927028656,\n",
       "  0.8526181578636169,\n",
       "  0.8541091084480286,\n",
       "  0.8585454821586609,\n",
       "  0.8592908978462219,\n",
       "  0.8615090847015381,\n",
       "  0.863945484161377,\n",
       "  0.8649272918701172,\n",
       "  0.866527259349823,\n",
       "  0.8680545687675476,\n",
       "  0.8676727414131165,\n",
       "  0.8693272471427917,\n",
       "  0.8707818388938904,\n",
       "  0.8709818124771118,\n",
       "  0.8724363446235657,\n",
       "  0.8748727440834045,\n",
       "  0.8760181665420532,\n",
       "  0.8764363527297974,\n",
       "  0.8780182003974915,\n",
       "  0.8783454298973083,\n",
       "  0.8789636492729187,\n",
       "  0.880618155002594,\n",
       "  0.8804000020027161,\n",
       "  0.8830727338790894],\n",
       " 'val_loss': [0.5742998719215393,\n",
       "  0.5270376205444336,\n",
       "  0.4772099554538727,\n",
       "  0.4493444263935089,\n",
       "  0.44344618916511536,\n",
       "  0.443325012922287,\n",
       "  0.4228017032146454,\n",
       "  0.4233618676662445,\n",
       "  0.40061309933662415,\n",
       "  0.40040451288223267,\n",
       "  0.42117828130722046,\n",
       "  0.39750921726226807,\n",
       "  0.3818652629852295,\n",
       "  0.3848044276237488,\n",
       "  0.37872767448425293,\n",
       "  0.3797631561756134,\n",
       "  0.3841036260128021,\n",
       "  0.3735261857509613,\n",
       "  0.39283043146133423,\n",
       "  0.3640909790992737,\n",
       "  0.36731669306755066,\n",
       "  0.35862940549850464,\n",
       "  0.38694649934768677,\n",
       "  0.3680134117603302,\n",
       "  0.3571937084197998,\n",
       "  0.35457125306129456,\n",
       "  0.36937183141708374,\n",
       "  0.3583935499191284,\n",
       "  0.35156068205833435,\n",
       "  0.35752174258232117],\n",
       " 'val_accuracy': [0.7929999828338623,\n",
       "  0.8062000274658203,\n",
       "  0.8271999955177307,\n",
       "  0.8406000137329102,\n",
       "  0.8393999934196472,\n",
       "  0.8385999798774719,\n",
       "  0.8500000238418579,\n",
       "  0.8447999954223633,\n",
       "  0.854200005531311,\n",
       "  0.854200005531311,\n",
       "  0.8435999751091003,\n",
       "  0.8521999716758728,\n",
       "  0.8593999743461609,\n",
       "  0.86080002784729,\n",
       "  0.8614000082015991,\n",
       "  0.8605999946594238,\n",
       "  0.855400025844574,\n",
       "  0.8655999898910522,\n",
       "  0.8521999716758728,\n",
       "  0.8658000230789185,\n",
       "  0.8636000156402588,\n",
       "  0.8672000169754028,\n",
       "  0.8539999723434448,\n",
       "  0.8637999892234802,\n",
       "  0.8676000237464905,\n",
       "  0.8695999979972839,\n",
       "  0.86080002784729,\n",
       "  0.8661999702453613,\n",
       "  0.8682000041007996,\n",
       "  0.8687999844551086]}"
      ]
     },
     "execution_count": 30,
     "metadata": {},
     "output_type": "execute_result"
    }
   ],
   "source": [
    "history.history"
   ]
  },
  {
   "cell_type": "code",
   "execution_count": 31,
   "metadata": {},
   "outputs": [
    {
     "data": {
      "text/plain": [
       "<Axes: xlabel='Epoch'>"
      ]
     },
     "execution_count": 31,
     "metadata": {},
     "output_type": "execute_result"
    },
    {
     "data": {
      "image/png": "[encoded data removed]",
      "text/plain": [
       "<Figure size 800x500 with 1 Axes>"
      ]
     },
     "metadata": {},
     "output_type": "display_data"
    }
   ],
   "source": [
    "# plot the learning curves\n",
    "pd.DataFrame(history.history).plot(\n",
    "    figsize=(8, 5), xlim=[0, 29], ylim=[0, 1], grid=True, xlabel=\"Epoch\",\n",
    "    style=[\"r--\", \"r--.\", \"b-\", \"b-*\"]\n",
    ")"
   ]
  },
  {
   "cell_type": "code",
   "execution_count": 32,
   "metadata": {},
   "outputs": [
    {
     "name": "stdout",
     "output_type": "stream",
     "text": [
      "Epoch 1/10\n",
      "1719/1719 [==============================] - 8s 5ms/step - loss: 0.3235 - accuracy: 0.8830 - val_loss: 0.3666 - val_accuracy: 0.8624\n",
      "Epoch 2/10\n",
      "1719/1719 [==============================] - 8s 5ms/step - loss: 0.3218 - accuracy: 0.8841 - val_loss: 0.3550 - val_accuracy: 0.8678\n",
      "Epoch 3/10\n",
      "1719/1719 [==============================] - 8s 5ms/step - loss: 0.3180 - accuracy: 0.8847 - val_loss: 0.3468 - val_accuracy: 0.8748\n",
      "Epoch 4/10\n",
      "1719/1719 [==============================] - 8s 5ms/step - loss: 0.3177 - accuracy: 0.8863 - val_loss: 0.3450 - val_accuracy: 0.8730\n",
      "Epoch 5/10\n",
      "1719/1719 [==============================] - 8s 5ms/step - loss: 0.3148 - accuracy: 0.8862 - val_loss: 0.3517 - val_accuracy: 0.8680\n",
      "Epoch 6/10\n",
      "1719/1719 [==============================] - 8s 5ms/step - loss: 0.3123 - accuracy: 0.8870 - val_loss: 0.3509 - val_accuracy: 0.8716\n",
      "Epoch 7/10\n",
      "1719/1719 [==============================] - 8s 5ms/step - loss: 0.3108 - accuracy: 0.8868 - val_loss: 0.3505 - val_accuracy: 0.8736\n",
      "Epoch 8/10\n",
      "1719/1719 [==============================] - 8s 5ms/step - loss: 0.3085 - accuracy: 0.8880 - val_loss: 0.3559 - val_accuracy: 0.8686\n",
      "Epoch 9/10\n",
      "1719/1719 [==============================] - 8s 5ms/step - loss: 0.3066 - accuracy: 0.8890 - val_loss: 0.3407 - val_accuracy: 0.8732\n",
      "Epoch 10/10\n",
      "1719/1719 [==============================] - 8s 5ms/step - loss: 0.3039 - accuracy: 0.8891 - val_loss: 0.3457 - val_accuracy: 0.8724\n"
     ]
    }
   ],
   "source": [
    "# Let's continue training for a few more epochs\n",
    "history = model.fit(X_train, y_train, epochs=10,\n",
    "                    validation_data=(X_valid, y_valid))"
   ]
  },
  {
   "cell_type": "code",
   "execution_count": 33,
   "metadata": {},
   "outputs": [
    {
     "name": "stdout",
     "output_type": "stream",
     "text": [
      "313/313 [==============================] - 1s 4ms/step - loss: 0.3682 - accuracy: 0.8667\n"
     ]
    },
    {
     "data": {
      "text/plain": [
       "[0.36822932958602905, 0.8666999936103821]"
      ]
     },
     "execution_count": 33,
     "metadata": {},
     "output_type": "execute_result"
    }
   ],
   "source": [
    "model.evaluate(X_test, y_test)"
   ]
  },
  {
   "cell_type": "code",
   "execution_count": 34,
   "metadata": {},
   "outputs": [
    {
     "name": "stdout",
     "output_type": "stream",
     "text": [
      "1/1 [==============================] - 0s 47ms/step\n"
     ]
    },
    {
     "data": {
      "text/plain": [
       "array([[0.  , 0.  , 0.  , 0.  , 0.  , 0.04, 0.  , 0.04, 0.  , 0.92],\n",
       "       [0.  , 0.  , 1.  , 0.  , 0.  , 0.  , 0.  , 0.  , 0.  , 0.  ],\n",
       "       [0.  , 1.  , 0.  , 0.  , 0.  , 0.  , 0.  , 0.  , 0.  , 0.  ]],\n",
       "      dtype=float32)"
      ]
     },
     "execution_count": 34,
     "metadata": {},
     "output_type": "execute_result"
    }
   ],
   "source": [
    "X_new = X_test[:3]\n",
    "y_proba = model.predict(X_new)\n",
    "y_proba.round(2)"
   ]
  },
  {
   "cell_type": "code",
   "execution_count": 35,
   "metadata": {},
   "outputs": [
    {
     "data": {
      "text/plain": [
       "array([9, 2, 1])"
      ]
     },
     "execution_count": 35,
     "metadata": {},
     "output_type": "execute_result"
    }
   ],
   "source": [
    "y_pred = y_proba.argmax(axis=-1)\n",
    "y_pred"
   ]
  },
  {
   "cell_type": "code",
   "execution_count": 36,
   "metadata": {},
   "outputs": [
    {
     "data": {
      "text/plain": [
       "array(['Ankle boot', 'Pullover', 'Trouser'], dtype='<U11')"
      ]
     },
     "execution_count": 36,
     "metadata": {},
     "output_type": "execute_result"
    }
   ],
   "source": [
    "np.array(class_names)[y_pred]"
   ]
  },
  {
   "cell_type": "code",
   "execution_count": 37,
   "metadata": {},
   "outputs": [
    {
     "data": {
      "text/plain": [
       "array([9, 2, 1], dtype=uint8)"
      ]
     },
     "execution_count": 37,
     "metadata": {},
     "output_type": "execute_result"
    }
   ],
   "source": [
    "y_new = y_test[:3]\n",
    "y_new"
   ]
  },
  {
   "cell_type": "markdown",
   "metadata": {},
   "source": [
    "### Building a Regression MLP using the Sequential API"
   ]
  },
  {
   "cell_type": "code",
   "execution_count": 38,
   "metadata": {},
   "outputs": [
    {
     "name": "stdout",
     "output_type": "stream",
     "text": [
      "Epoch 1/20\n",
      "363/363 [==============================] - 3s 7ms/step - loss: 0.7040 - root_mean_squared_error: 0.8391 - val_loss: 3.9026 - val_root_mean_squared_error: 1.9755\n",
      "Epoch 2/20\n",
      "363/363 [==============================] - 2s 6ms/step - loss: 0.5001 - root_mean_squared_error: 0.7072 - val_loss: 0.8968 - val_root_mean_squared_error: 0.9470\n",
      "Epoch 3/20\n",
      "363/363 [==============================] - 2s 6ms/step - loss: 0.4652 - root_mean_squared_error: 0.6820 - val_loss: 1.4117 - val_root_mean_squared_error: 1.1881\n",
      "Epoch 4/20\n",
      "363/363 [==============================] - 2s 6ms/step - loss: 0.4408 - root_mean_squared_error: 0.6639 - val_loss: 0.4072 - val_root_mean_squared_error: 0.6382\n",
      "Epoch 5/20\n",
      "363/363 [==============================] - 2s 6ms/step - loss: 0.4219 - root_mean_squared_error: 0.6496 - val_loss: 0.4126 - val_root_mean_squared_error: 0.6423\n",
      "Epoch 6/20\n",
      "363/363 [==============================] - 2s 6ms/step - loss: 0.4059 - root_mean_squared_error: 0.6371 - val_loss: 0.4584 - val_root_mean_squared_error: 0.6771\n",
      "Epoch 7/20\n",
      "363/363 [==============================] - 2s 6ms/step - loss: 0.3965 - root_mean_squared_error: 0.6297 - val_loss: 0.4310 - val_root_mean_squared_error: 0.6565\n",
      "Epoch 8/20\n",
      "363/363 [==============================] - 2s 6ms/step - loss: 0.3823 - root_mean_squared_error: 0.6183 - val_loss: 0.3958 - val_root_mean_squared_error: 0.6291\n",
      "Epoch 9/20\n",
      "363/363 [==============================] - 2s 6ms/step - loss: 0.3788 - root_mean_squared_error: 0.6155 - val_loss: 0.5647 - val_root_mean_squared_error: 0.7514\n",
      "Epoch 10/20\n",
      "363/363 [==============================] - 2s 6ms/step - loss: 0.3720 - root_mean_squared_error: 0.6099 - val_loss: 0.4165 - val_root_mean_squared_error: 0.6454\n",
      "Epoch 11/20\n",
      "363/363 [==============================] - 2s 6ms/step - loss: 0.3711 - root_mean_squared_error: 0.6092 - val_loss: 0.3410 - val_root_mean_squared_error: 0.5840\n",
      "Epoch 12/20\n",
      "363/363 [==============================] - 2s 6ms/step - loss: 0.3730 - root_mean_squared_error: 0.6107 - val_loss: 0.6578 - val_root_mean_squared_error: 0.8110\n",
      "Epoch 13/20\n",
      "363/363 [==============================] - 2s 6ms/step - loss: 0.3688 - root_mean_squared_error: 0.6073 - val_loss: 0.3708 - val_root_mean_squared_error: 0.6090\n",
      "Epoch 14/20\n",
      "363/363 [==============================] - 2s 6ms/step - loss: 0.3645 - root_mean_squared_error: 0.6037 - val_loss: 0.5735 - val_root_mean_squared_error: 0.7573\n",
      "Epoch 15/20\n",
      "363/363 [==============================] - 2s 6ms/step - loss: 0.3649 - root_mean_squared_error: 0.6041 - val_loss: 0.3405 - val_root_mean_squared_error: 0.5836\n",
      "Epoch 16/20\n",
      "363/363 [==============================] - 2s 6ms/step - loss: 0.3627 - root_mean_squared_error: 0.6022 - val_loss: 0.4226 - val_root_mean_squared_error: 0.6501\n",
      "Epoch 17/20\n",
      "363/363 [==============================] - 2s 6ms/step - loss: 0.3632 - root_mean_squared_error: 0.6027 - val_loss: 0.3517 - val_root_mean_squared_error: 0.5930\n",
      "Epoch 18/20\n",
      "363/363 [==============================] - 2s 6ms/step - loss: 0.3579 - root_mean_squared_error: 0.5983 - val_loss: 0.3774 - val_root_mean_squared_error: 0.6143\n",
      "Epoch 19/20\n",
      "363/363 [==============================] - 2s 6ms/step - loss: 0.3562 - root_mean_squared_error: 0.5968 - val_loss: 0.4142 - val_root_mean_squared_error: 0.6436\n",
      "Epoch 20/20\n",
      "363/363 [==============================] - 2s 6ms/step - loss: 0.3572 - root_mean_squared_error: 0.5977 - val_loss: 0.3766 - val_root_mean_squared_error: 0.6136\n",
      "162/162 [==============================] - 1s 4ms/step - loss: 0.3520 - root_mean_squared_error: 0.5933\n",
      "1/1 [==============================] - 0s 49ms/step\n"
     ]
    }
   ],
   "source": [
    "housing = fetch_california_housing()\n",
    "X_train_full, X_test, y_train_full, y_test = train_test_split(\n",
    "    housing.data, housing.target, random_state=42)\n",
    "X_train, X_valid, y_train, y_valid = train_test_split(\n",
    "    X_train_full, y_train_full, random_state=42)\n",
    "\n",
    "tf.random.set_seed(42)\n",
    "norm_layer = tf.keras.layers.Normalization(input_shape=X_train.shape[1:])\n",
    "model = tf.keras.Sequential([\n",
    "    norm_layer,\n",
    "    tf.keras.layers.Dense(50, activation=\"softplus\"),\n",
    "    tf.keras.layers.Dense(50, activation=\"softplus\"),\n",
    "    tf.keras.layers.Dense(50, activation=\"softplus\"),\n",
    "    tf.keras.layers.Dense(1)\n",
    "])\n",
    "optimizer = tf.keras.optimizers.legacy.Adam(learning_rate=1e-3)\n",
    "model.compile(loss=\"mse\", optimizer=optimizer, metrics=[\"RootMeanSquaredError\"])\n",
    "norm_layer.adapt(X_train)  # must be called before model.fit()\n",
    "history = model.fit(X_train, y_train, epochs=20,\n",
    "                    validation_data=(X_valid, y_valid))\n",
    "mse_test, rmse_test = model.evaluate(X_test, y_test)\n",
    "X_new = X_test[:3]\n",
    "y_pred = model.predict(X_new)"
   ]
  },
  {
   "cell_type": "code",
   "execution_count": 39,
   "metadata": {},
   "outputs": [
    {
     "data": {
      "text/plain": [
       "<Axes: xlabel='Epoch'>"
      ]
     },
     "execution_count": 39,
     "metadata": {},
     "output_type": "execute_result"
    },
    {
     "data": {
      "image/png": "[encoded data removed]",
      "text/plain": [
       "<Figure size 800x500 with 1 Axes>"
      ]
     },
     "metadata": {},
     "output_type": "display_data"
    }
   ],
   "source": [
    "# plot the learning curves\n",
    "pd.DataFrame(history.history).plot(\n",
    "    figsize=(8, 5), grid=True, xlabel=\"Epoch\",\n",
    "    style=[\"r--\", \"r--.\", \"b-\", \"b-*\"]\n",
    ")"
   ]
  },
  {
   "cell_type": "code",
   "execution_count": 40,
   "metadata": {},
   "outputs": [
    {
     "name": "stdout",
     "output_type": "stream",
     "text": [
      "Model: \"sequential_4\"\n",
      "_________________________________________________________________\n",
      " Layer (type)                Output Shape              Param #   \n",
      "=================================================================\n",
      " normalization (Normalizati  (None, 8)                 17        \n",
      " on)                                                             \n",
      "                                                                 \n",
      " dense_12 (Dense)            (None, 50)                450       \n",
      "                                                                 \n",
      " dense_13 (Dense)            (None, 50)                2550      \n",
      "                                                                 \n",
      " dense_14 (Dense)            (None, 50)                2550      \n",
      "                                                                 \n",
      " dense_15 (Dense)            (None, 1)                 51        \n",
      "                                                                 \n",
      "=================================================================\n",
      "Total params: 5618 (21.95 KB)\n",
      "Trainable params: 5601 (21.88 KB)\n",
      "Non-trainable params: 17 (72.00 Byte)\n",
      "_________________________________________________________________\n"
     ]
    }
   ],
   "source": [
    "model.summary()"
   ]
  },
  {
   "cell_type": "code",
   "execution_count": 41,
   "metadata": {},
   "outputs": [
    {
     "data": {
      "text/plain": [
       "[array([ 3.8917589e+00,  2.8624548e+01,  5.4559393e+00,  1.0996355e+00,\n",
       "         1.4242802e+03,  2.9588675e+00,  3.5646435e+01, -1.1958442e+02],\n",
       "       dtype=float32),\n",
       " array([3.6453257e+00, 1.5979272e+02, 6.5044355e+00, 2.1665320e-01,\n",
       "        1.2006890e+06, 5.5761123e+00, 4.5563760e+00, 4.0037251e+00],\n",
       "       dtype=float32),\n",
       " 11610]"
      ]
     },
     "execution_count": 41,
     "metadata": {},
     "output_type": "execute_result"
    }
   ],
   "source": [
    "norm_layer.get_weights()"
   ]
  },
  {
   "cell_type": "markdown",
   "metadata": {},
   "source": [
    "### Building Complex Models Using the Functional API"
   ]
  },
  {
   "cell_type": "code",
   "execution_count": 42,
   "metadata": {},
   "outputs": [],
   "source": [
    "# Wide and Deep architecture: Some or all the inputs are directly connected to the outputs\n",
    "normalization_layer = tf.keras.layers.Normalization()\n",
    "hidden_layer1 = tf.keras.layers.Dense(30, activation=\"softplus\")\n",
    "hidden_layer2 = tf.keras.layers.Dense(30, activation=\"softplus\")\n",
    "concat_layer = tf.keras.layers.Concatenate()\n",
    "output_layer = tf.keras.layers.Dense(1)\n",
    "\n",
    "# We call each layer object like a function, passing it the output of the previous layer\n",
    "input_ = tf.keras.layers.Input(shape=X_train.shape[1:])\n",
    "normalized = normalization_layer(input_)\n",
    "hidden1 = hidden_layer1(normalized)\n",
    "hidden2 = hidden_layer2(hidden1)\n",
    "concat = concat_layer([normalized, hidden2])\n",
    "output = output_layer(concat)\n",
    "\n",
    "model = tf.keras.Model(inputs=[input_], outputs=[output])"
   ]
  },
  {
   "cell_type": "code",
   "execution_count": 43,
   "metadata": {},
   "outputs": [
    {
     "name": "stdout",
     "output_type": "stream",
     "text": [
      "Model: \"model\"\n",
      "__________________________________________________________________________________________________\n",
      " Layer (type)                Output Shape                 Param #   Connected to                  \n",
      "==================================================================================================\n",
      " input_2 (InputLayer)        [(None, 8)]                  0         []                            \n",
      "                                                                                                  \n",
      " normalization_1 (Normaliza  (None, 8)                    17        ['input_2[0][0]']             \n",
      " tion)                                                                                            \n",
      "                                                                                                  \n",
      " dense_16 (Dense)            (None, 30)                   270       ['normalization_1[0][0]']     \n",
      "                                                                                                  \n",
      " dense_17 (Dense)            (None, 30)                   930       ['dense_16[0][0]']            \n",
      "                                                                                                  \n",
      " concatenate (Concatenate)   (None, 38)                   0         ['normalization_1[0][0]',     \n",
      "                                                                     'dense_17[0][0]']            \n",
      "                                                                                                  \n",
      " dense_18 (Dense)            (None, 1)                    39        ['concatenate[0][0]']         \n",
      "                                                                                                  \n",
      "==================================================================================================\n",
      "Total params: 1256 (4.91 KB)\n",
      "Trainable params: 1239 (4.84 KB)\n",
      "Non-trainable params: 17 (72.00 Byte)\n",
      "__________________________________________________________________________________________________\n"
     ]
    }
   ],
   "source": [
    "model.summary()"
   ]
  },
  {
   "cell_type": "code",
   "execution_count": 44,
   "metadata": {},
   "outputs": [
    {
     "name": "stdout",
     "output_type": "stream",
     "text": [
      "Epoch 1/20\n",
      "363/363 [==============================] - 2s 6ms/step - loss: 0.8925 - root_mean_squared_error: 0.9447 - val_loss: 0.5074 - val_root_mean_squared_error: 0.7123\n",
      "Epoch 2/20\n",
      "363/363 [==============================] - 2s 5ms/step - loss: 0.4998 - root_mean_squared_error: 0.7070 - val_loss: 0.4994 - val_root_mean_squared_error: 0.7067\n",
      "Epoch 3/20\n",
      "363/363 [==============================] - 2s 5ms/step - loss: 0.4634 - root_mean_squared_error: 0.6807 - val_loss: 0.8663 - val_root_mean_squared_error: 0.9308\n",
      "Epoch 4/20\n",
      "363/363 [==============================] - 2s 5ms/step - loss: 0.4561 - root_mean_squared_error: 0.6753 - val_loss: 1.3359 - val_root_mean_squared_error: 1.1558\n",
      "Epoch 5/20\n",
      "363/363 [==============================] - 2s 5ms/step - loss: 0.4445 - root_mean_squared_error: 0.6667 - val_loss: 2.6354 - val_root_mean_squared_error: 1.6234\n",
      "Epoch 6/20\n",
      "363/363 [==============================] - 2s 5ms/step - loss: 0.4513 - root_mean_squared_error: 0.6718 - val_loss: 1.4999 - val_root_mean_squared_error: 1.2247\n",
      "Epoch 7/20\n",
      "363/363 [==============================] - 2s 5ms/step - loss: 0.4336 - root_mean_squared_error: 0.6585 - val_loss: 2.8369 - val_root_mean_squared_error: 1.6843\n",
      "Epoch 8/20\n",
      "363/363 [==============================] - 2s 5ms/step - loss: 0.4291 - root_mean_squared_error: 0.6550 - val_loss: 2.6822 - val_root_mean_squared_error: 1.6377\n",
      "Epoch 9/20\n",
      "363/363 [==============================] - 2s 5ms/step - loss: 0.4218 - root_mean_squared_error: 0.6495 - val_loss: 1.4089 - val_root_mean_squared_error: 1.1870\n",
      "Epoch 10/20\n",
      "363/363 [==============================] - 2s 5ms/step - loss: 0.4058 - root_mean_squared_error: 0.6370 - val_loss: 0.3907 - val_root_mean_squared_error: 0.6250\n",
      "Epoch 11/20\n",
      "363/363 [==============================] - 2s 5ms/step - loss: 0.3873 - root_mean_squared_error: 0.6223 - val_loss: 0.4044 - val_root_mean_squared_error: 0.6360\n",
      "Epoch 12/20\n",
      "363/363 [==============================] - 2s 5ms/step - loss: 0.3795 - root_mean_squared_error: 0.6160 - val_loss: 0.8548 - val_root_mean_squared_error: 0.9246\n",
      "Epoch 13/20\n",
      "363/363 [==============================] - 2s 5ms/step - loss: 0.3779 - root_mean_squared_error: 0.6147 - val_loss: 0.4523 - val_root_mean_squared_error: 0.6726\n",
      "Epoch 14/20\n",
      "363/363 [==============================] - 2s 5ms/step - loss: 0.3705 - root_mean_squared_error: 0.6087 - val_loss: 0.5745 - val_root_mean_squared_error: 0.7580\n",
      "Epoch 15/20\n",
      "363/363 [==============================] - 2s 5ms/step - loss: 0.3712 - root_mean_squared_error: 0.6093 - val_loss: 0.5619 - val_root_mean_squared_error: 0.7496\n",
      "Epoch 16/20\n",
      "363/363 [==============================] - 2s 5ms/step - loss: 0.3672 - root_mean_squared_error: 0.6060 - val_loss: 0.7746 - val_root_mean_squared_error: 0.8801\n",
      "Epoch 17/20\n",
      "363/363 [==============================] - 2s 5ms/step - loss: 0.3703 - root_mean_squared_error: 0.6085 - val_loss: 0.7683 - val_root_mean_squared_error: 0.8765\n",
      "Epoch 18/20\n",
      "363/363 [==============================] - 2s 5ms/step - loss: 0.3654 - root_mean_squared_error: 0.6045 - val_loss: 2.4547 - val_root_mean_squared_error: 1.5667\n",
      "Epoch 19/20\n",
      "363/363 [==============================] - 2s 5ms/step - loss: 0.3736 - root_mean_squared_error: 0.6112 - val_loss: 1.3207 - val_root_mean_squared_error: 1.1492\n",
      "Epoch 20/20\n",
      "363/363 [==============================] - 2s 5ms/step - loss: 0.3706 - root_mean_squared_error: 0.6088 - val_loss: 1.1554 - val_root_mean_squared_error: 1.0749\n",
      "162/162 [==============================] - 1s 3ms/step - loss: 0.3582 - root_mean_squared_error: 0.5985\n"
     ]
    }
   ],
   "source": [
    "optimizer = tf.keras.optimizers.legacy.Adam(learning_rate=1e-3)\n",
    "model.compile(loss=\"mse\", optimizer=optimizer, metrics=[\"RootMeanSquaredError\"])\n",
    "normalization_layer.adapt(X_train)  # must be called before model.fit()\n",
    "history = model.fit(X_train, y_train, epochs=20,\n",
    "                    validation_data=(X_valid, y_valid))\n",
    "mse_test, rmse_test = model.evaluate(X_test, y_test)"
   ]
  },
  {
   "cell_type": "code",
   "execution_count": 45,
   "metadata": {},
   "outputs": [],
   "source": [
    "# Send some features through the wide path and some other features (possibly overlapping)\n",
    "# through the deep path\n",
    "input_wide = tf.keras.layers.Input(shape=[5])  # features 0 to 4\n",
    "input_deep = tf.keras.layers.Input(shape=[6])  # features 2 to 7\n",
    "norm_layer_wide = tf.keras.layers.Normalization()\n",
    "norm_layer_deep = tf.keras.layers.Normalization()\n",
    "norm_wide = norm_layer_wide(input_wide)\n",
    "norm_deep = norm_layer_deep(input_deep)\n",
    "hidden1 = tf.keras.layers.Dense(30, activation=\"softplus\")(norm_deep)\n",
    "hidden2 = tf.keras.layers.Dense(30, activation=\"softplus\")(hidden1)\n",
    "concat = tf.keras.layers.concatenate([norm_wide, hidden2])  # functional interface to the Concatenate layer\n",
    "output = tf.keras.layers.Dense(1)(concat)\n",
    "model = tf.keras.Model(inputs=[input_wide, input_deep], outputs=[output])"
   ]
  },
  {
   "cell_type": "code",
   "execution_count": 46,
   "metadata": {},
   "outputs": [
    {
     "data": {
      "image/png": "[encoded data removed]",
      "text/plain": [
       "<IPython.core.display.Image object>"
      ]
     },
     "execution_count": 46,
     "metadata": {},
     "output_type": "execute_result"
    }
   ],
   "source": [
    "tf.keras.utils.plot_model(model)"
   ]
  },
  {
   "cell_type": "code",
   "execution_count": 47,
   "metadata": {},
   "outputs": [
    {
     "name": "stdout",
     "output_type": "stream",
     "text": [
      "Epoch 1/20\n",
      "363/363 [==============================] - 2s 6ms/step - loss: 0.8882 - root_mean_squared_error: 0.9424 - val_loss: 0.5933 - val_root_mean_squared_error: 0.7703\n",
      "Epoch 2/20\n",
      "363/363 [==============================] - 2s 6ms/step - loss: 0.5301 - root_mean_squared_error: 0.7281 - val_loss: 0.6786 - val_root_mean_squared_error: 0.8238\n",
      "Epoch 3/20\n",
      "363/363 [==============================] - 2s 6ms/step - loss: 0.4813 - root_mean_squared_error: 0.6938 - val_loss: 0.4454 - val_root_mean_squared_error: 0.6674\n",
      "Epoch 4/20\n",
      "363/363 [==============================] - 2s 6ms/step - loss: 0.4633 - root_mean_squared_error: 0.6807 - val_loss: 0.4746 - val_root_mean_squared_error: 0.6889\n",
      "Epoch 5/20\n",
      "363/363 [==============================] - 2s 6ms/step - loss: 0.4561 - root_mean_squared_error: 0.6754 - val_loss: 0.4292 - val_root_mean_squared_error: 0.6552\n",
      "Epoch 6/20\n",
      "363/363 [==============================] - 2s 6ms/step - loss: 0.4493 - root_mean_squared_error: 0.6703 - val_loss: 0.6226 - val_root_mean_squared_error: 0.7891\n",
      "Epoch 7/20\n",
      "363/363 [==============================] - 2s 6ms/step - loss: 0.4536 - root_mean_squared_error: 0.6735 - val_loss: 0.4693 - val_root_mean_squared_error: 0.6850\n",
      "Epoch 8/20\n",
      "363/363 [==============================] - 2s 6ms/step - loss: 0.4465 - root_mean_squared_error: 0.6682 - val_loss: 0.4053 - val_root_mean_squared_error: 0.6366\n",
      "Epoch 9/20\n",
      "363/363 [==============================] - 2s 6ms/step - loss: 0.4452 - root_mean_squared_error: 0.6672 - val_loss: 0.4203 - val_root_mean_squared_error: 0.6483\n",
      "Epoch 10/20\n",
      "363/363 [==============================] - 2s 6ms/step - loss: 0.4445 - root_mean_squared_error: 0.6667 - val_loss: 0.5576 - val_root_mean_squared_error: 0.7467\n",
      "Epoch 11/20\n",
      "363/363 [==============================] - 2s 6ms/step - loss: 0.4442 - root_mean_squared_error: 0.6665 - val_loss: 0.4043 - val_root_mean_squared_error: 0.6359\n",
      "Epoch 12/20\n",
      "363/363 [==============================] - 2s 6ms/step - loss: 0.4408 - root_mean_squared_error: 0.6639 - val_loss: 0.4661 - val_root_mean_squared_error: 0.6827\n",
      "Epoch 13/20\n",
      "363/363 [==============================] - 2s 6ms/step - loss: 0.4388 - root_mean_squared_error: 0.6624 - val_loss: 0.4255 - val_root_mean_squared_error: 0.6523\n",
      "Epoch 14/20\n",
      "363/363 [==============================] - 2s 6ms/step - loss: 0.4380 - root_mean_squared_error: 0.6618 - val_loss: 0.4548 - val_root_mean_squared_error: 0.6744\n",
      "Epoch 15/20\n",
      "363/363 [==============================] - 2s 6ms/step - loss: 0.4365 - root_mean_squared_error: 0.6607 - val_loss: 0.4778 - val_root_mean_squared_error: 0.6912\n",
      "Epoch 16/20\n",
      "363/363 [==============================] - 2s 6ms/step - loss: 0.4337 - root_mean_squared_error: 0.6586 - val_loss: 0.4127 - val_root_mean_squared_error: 0.6424\n",
      "Epoch 17/20\n",
      "363/363 [==============================] - 2s 6ms/step - loss: 0.4351 - root_mean_squared_error: 0.6596 - val_loss: 0.4416 - val_root_mean_squared_error: 0.6645\n",
      "Epoch 18/20\n",
      "363/363 [==============================] - 2s 6ms/step - loss: 0.4313 - root_mean_squared_error: 0.6567 - val_loss: 0.4035 - val_root_mean_squared_error: 0.6352\n",
      "Epoch 19/20\n",
      "363/363 [==============================] - 2s 6ms/step - loss: 0.4348 - root_mean_squared_error: 0.6594 - val_loss: 0.4502 - val_root_mean_squared_error: 0.6710\n",
      "Epoch 20/20\n",
      "363/363 [==============================] - 2s 6ms/step - loss: 0.4298 - root_mean_squared_error: 0.6556 - val_loss: 0.3943 - val_root_mean_squared_error: 0.6280\n",
      "162/162 [==============================] - 1s 4ms/step - loss: 0.4237 - root_mean_squared_error: 0.6509\n",
      "1/1 [==============================] - 0s 56ms/step\n"
     ]
    }
   ],
   "source": [
    "optimizer = tf.keras.optimizers.legacy.Adam(learning_rate=1e-3)\n",
    "model.compile(loss=\"mse\", optimizer=optimizer, metrics=[\"RootMeanSquaredError\"])\n",
    "\n",
    "X_train_wide, X_train_deep = X_train[:, :5], X_train[:, 2:]\n",
    "X_valid_wide, X_valid_deep = X_valid[:, :5], X_valid[:, 2:]\n",
    "X_test_wide, X_test_deep = X_test[:, :5], X_test[:, 2:]\n",
    "X_new_wide, X_new_deep = X_test_wide[:3], X_test_deep[:3]\n",
    "\n",
    "norm_layer_wide.adapt(X_train_wide)\n",
    "norm_layer_deep.adapt(X_train_deep)\n",
    "history = model.fit((X_train_wide, X_train_deep), y_train, epochs=20,\n",
    "                    validation_data=((X_valid_wide, X_valid_deep), y_valid))\n",
    "mse_test, rmse_test = model.evaluate((X_test_wide, X_test_deep), y_test)\n",
    "y_pred = model.predict((X_new_wide, X_new_deep))"
   ]
  },
  {
   "cell_type": "code",
   "execution_count": 48,
   "metadata": {},
   "outputs": [],
   "source": [
    "# Adding an extra output.\n",
    "# Same as above, up to the main output layer\n",
    "input_wide = tf.keras.layers.Input(shape=[5])  # features 0 to 4\n",
    "input_deep = tf.keras.layers.Input(shape=[6])  # features 2 to 7\n",
    "norm_layer_wide = tf.keras.layers.Normalization()\n",
    "norm_layer_deep = tf.keras.layers.Normalization()\n",
    "norm_wide = norm_layer_wide(input_wide)\n",
    "norm_deep = norm_layer_deep(input_deep)\n",
    "hidden1 = tf.keras.layers.Dense(30, activation=\"softplus\")(norm_deep)\n",
    "hidden2 = tf.keras.layers.Dense(30, activation=\"softplus\")(hidden1)\n",
    "concat = tf.keras.layers.concatenate([norm_wide, hidden2])  # functional interface to the Concatenate layer\n",
    "output = tf.keras.layers.Dense(1)(concat)\n",
    "aux_output = tf.keras.layers.Dense(1)(hidden2)\n",
    "model = tf.keras.Model(inputs=[input_wide, input_deep],\n",
    "                       outputs=[output, aux_output])"
   ]
  },
  {
   "cell_type": "code",
   "execution_count": 49,
   "metadata": {},
   "outputs": [
    {
     "data": {
      "image/png": "[encoded data removed]",
      "text/plain": [
       "<IPython.core.display.Image object>"
      ]
     },
     "execution_count": 49,
     "metadata": {},
     "output_type": "execute_result"
    }
   ],
   "source": [
    "tf.keras.utils.plot_model(model)"
   ]
  },
  {
   "cell_type": "code",
   "execution_count": 50,
   "metadata": {},
   "outputs": [],
   "source": [
    "# Each output needs its own loss. We supply loss_weights since we care\n",
    "# much more about the main output than the auxiliary ouput (which is there for regularization)\n",
    "optimizer = tf.keras.optimizers.legacy.Adam(learning_rate=1e-3)\n",
    "model.compile(loss=(\"mse\", \"mse\"), loss_weights=(0.9, 0.1), optimizer=optimizer,\n",
    "              metrics=[\"RootMeanSquaredError\"])"
   ]
  },
  {
   "cell_type": "code",
   "execution_count": 51,
   "metadata": {},
   "outputs": [
    {
     "name": "stdout",
     "output_type": "stream",
     "text": [
      "Epoch 1/20\n",
      "363/363 [==============================] - 4s 9ms/step - loss: 1.4370 - dense_24_loss: 1.3942 - dense_25_loss: 1.8215 - dense_24_root_mean_squared_error: 1.1808 - dense_25_root_mean_squared_error: 1.3496 - val_loss: 1.0055 - val_dense_24_loss: 0.8644 - val_dense_25_loss: 2.2752 - val_dense_24_root_mean_squared_error: 0.9297 - val_dense_25_root_mean_squared_error: 1.5084\n",
      "Epoch 2/20\n",
      "363/363 [==============================] - 3s 8ms/step - loss: 0.6832 - dense_24_loss: 0.6160 - dense_25_loss: 1.2880 - dense_24_root_mean_squared_error: 0.7848 - dense_25_root_mean_squared_error: 1.1349 - val_loss: 0.5936 - val_dense_24_loss: 0.5320 - val_dense_25_loss: 1.1472 - val_dense_24_root_mean_squared_error: 0.7294 - val_dense_25_root_mean_squared_error: 1.0711\n",
      "Epoch 3/20\n",
      "363/363 [==============================] - 3s 8ms/step - loss: 0.5471 - dense_24_loss: 0.4981 - dense_25_loss: 0.9875 - dense_24_root_mean_squared_error: 0.7058 - dense_25_root_mean_squared_error: 0.9937 - val_loss: 1.0447 - val_dense_24_loss: 1.0651 - val_dense_25_loss: 0.8614 - val_dense_24_root_mean_squared_error: 1.0320 - val_dense_25_root_mean_squared_error: 0.9281\n",
      "Epoch 4/20\n",
      "363/363 [==============================] - 3s 8ms/step - loss: 0.5166 - dense_24_loss: 0.4852 - dense_25_loss: 0.7992 - dense_24_root_mean_squared_error: 0.6966 - dense_25_root_mean_squared_error: 0.8940 - val_loss: 0.5868 - val_dense_24_loss: 0.5527 - val_dense_25_loss: 0.8939 - val_dense_24_root_mean_squared_error: 0.7434 - val_dense_25_root_mean_squared_error: 0.9454\n",
      "Epoch 5/20\n",
      "363/363 [==============================] - 3s 8ms/step - loss: 0.4926 - dense_24_loss: 0.4670 - dense_25_loss: 0.7234 - dense_24_root_mean_squared_error: 0.6834 - dense_25_root_mean_squared_error: 0.8505 - val_loss: 0.5830 - val_dense_24_loss: 0.5428 - val_dense_25_loss: 0.9448 - val_dense_24_root_mean_squared_error: 0.7367 - val_dense_25_root_mean_squared_error: 0.9720\n",
      "Epoch 6/20\n",
      "363/363 [==============================] - 3s 8ms/step - loss: 0.4815 - dense_24_loss: 0.4581 - dense_25_loss: 0.6919 - dense_24_root_mean_squared_error: 0.6768 - dense_25_root_mean_squared_error: 0.8318 - val_loss: 0.4647 - val_dense_24_loss: 0.4209 - val_dense_25_loss: 0.8591 - val_dense_24_root_mean_squared_error: 0.6487 - val_dense_25_root_mean_squared_error: 0.9269\n",
      "Epoch 7/20\n",
      "363/363 [==============================] - 3s 8ms/step - loss: 0.4750 - dense_24_loss: 0.4523 - dense_25_loss: 0.6785 - dense_24_root_mean_squared_error: 0.6726 - dense_25_root_mean_squared_error: 0.8237 - val_loss: 0.5687 - val_dense_24_loss: 0.5168 - val_dense_25_loss: 1.0358 - val_dense_24_root_mean_squared_error: 0.7189 - val_dense_25_root_mean_squared_error: 1.0177\n",
      "Epoch 8/20\n",
      "363/363 [==============================] - 3s 8ms/step - loss: 0.4722 - dense_24_loss: 0.4496 - dense_25_loss: 0.6757 - dense_24_root_mean_squared_error: 0.6705 - dense_25_root_mean_squared_error: 0.8220 - val_loss: 0.6848 - val_dense_24_loss: 0.6877 - val_dense_25_loss: 0.6590 - val_dense_24_root_mean_squared_error: 0.8293 - val_dense_25_root_mean_squared_error: 0.8118\n",
      "Epoch 9/20\n",
      "363/363 [==============================] - 3s 8ms/step - loss: 0.4680 - dense_24_loss: 0.4458 - dense_25_loss: 0.6677 - dense_24_root_mean_squared_error: 0.6677 - dense_25_root_mean_squared_error: 0.8171 - val_loss: 0.7604 - val_dense_24_loss: 0.7309 - val_dense_25_loss: 1.0260 - val_dense_24_root_mean_squared_error: 0.8549 - val_dense_25_root_mean_squared_error: 1.0129\n",
      "Epoch 10/20\n",
      "363/363 [==============================] - 3s 8ms/step - loss: 0.4682 - dense_24_loss: 0.4468 - dense_25_loss: 0.6611 - dense_24_root_mean_squared_error: 0.6684 - dense_25_root_mean_squared_error: 0.8131 - val_loss: 0.4650 - val_dense_24_loss: 0.4164 - val_dense_25_loss: 0.9026 - val_dense_24_root_mean_squared_error: 0.6453 - val_dense_25_root_mean_squared_error: 0.9500\n",
      "Epoch 11/20\n",
      "363/363 [==============================] - 3s 8ms/step - loss: 0.4617 - dense_24_loss: 0.4399 - dense_25_loss: 0.6585 - dense_24_root_mean_squared_error: 0.6632 - dense_25_root_mean_squared_error: 0.8115 - val_loss: 0.4316 - val_dense_24_loss: 0.3985 - val_dense_25_loss: 0.7292 - val_dense_24_root_mean_squared_error: 0.6313 - val_dense_25_root_mean_squared_error: 0.8540\n",
      "Epoch 12/20\n",
      "363/363 [==============================] - 3s 8ms/step - loss: 0.4597 - dense_24_loss: 0.4382 - dense_25_loss: 0.6534 - dense_24_root_mean_squared_error: 0.6619 - dense_25_root_mean_squared_error: 0.8083 - val_loss: 0.7026 - val_dense_24_loss: 0.6527 - val_dense_25_loss: 1.1513 - val_dense_24_root_mean_squared_error: 0.8079 - val_dense_25_root_mean_squared_error: 1.0730\n",
      "Epoch 13/20\n",
      "363/363 [==============================] - 3s 8ms/step - loss: 0.4611 - dense_24_loss: 0.4399 - dense_25_loss: 0.6514 - dense_24_root_mean_squared_error: 0.6633 - dense_25_root_mean_squared_error: 0.8071 - val_loss: 0.5400 - val_dense_24_loss: 0.5155 - val_dense_25_loss: 0.7605 - val_dense_24_root_mean_squared_error: 0.7180 - val_dense_25_root_mean_squared_error: 0.8721\n",
      "Epoch 14/20\n",
      "363/363 [==============================] - 3s 8ms/step - loss: 0.4552 - dense_24_loss: 0.4341 - dense_25_loss: 0.6452 - dense_24_root_mean_squared_error: 0.6589 - dense_25_root_mean_squared_error: 0.8033 - val_loss: 0.4699 - val_dense_24_loss: 0.4462 - val_dense_25_loss: 0.6833 - val_dense_24_root_mean_squared_error: 0.6680 - val_dense_25_root_mean_squared_error: 0.8266\n",
      "Epoch 15/20\n",
      "363/363 [==============================] - 3s 8ms/step - loss: 0.4559 - dense_24_loss: 0.4351 - dense_25_loss: 0.6432 - dense_24_root_mean_squared_error: 0.6596 - dense_25_root_mean_squared_error: 0.8020 - val_loss: 0.4485 - val_dense_24_loss: 0.4152 - val_dense_25_loss: 0.7481 - val_dense_24_root_mean_squared_error: 0.6444 - val_dense_25_root_mean_squared_error: 0.8649\n",
      "Epoch 16/20\n",
      "363/363 [==============================] - 3s 8ms/step - loss: 0.4501 - dense_24_loss: 0.4292 - dense_25_loss: 0.6384 - dense_24_root_mean_squared_error: 0.6551 - dense_25_root_mean_squared_error: 0.7990 - val_loss: 0.4236 - val_dense_24_loss: 0.4009 - val_dense_25_loss: 0.6278 - val_dense_24_root_mean_squared_error: 0.6332 - val_dense_25_root_mean_squared_error: 0.7924\n",
      "Epoch 17/20\n",
      "363/363 [==============================] - 3s 8ms/step - loss: 0.4521 - dense_24_loss: 0.4317 - dense_25_loss: 0.6353 - dense_24_root_mean_squared_error: 0.6571 - dense_25_root_mean_squared_error: 0.7971 - val_loss: 0.4485 - val_dense_24_loss: 0.4058 - val_dense_25_loss: 0.8325 - val_dense_24_root_mean_squared_error: 0.6370 - val_dense_25_root_mean_squared_error: 0.9124\n",
      "Epoch 18/20\n",
      "363/363 [==============================] - 3s 8ms/step - loss: 0.4483 - dense_24_loss: 0.4280 - dense_25_loss: 0.6313 - dense_24_root_mean_squared_error: 0.6542 - dense_25_root_mean_squared_error: 0.7945 - val_loss: 0.4158 - val_dense_24_loss: 0.3945 - val_dense_25_loss: 0.6073 - val_dense_24_root_mean_squared_error: 0.6281 - val_dense_25_root_mean_squared_error: 0.7793\n",
      "Epoch 19/20\n",
      "363/363 [==============================] - 3s 8ms/step - loss: 0.4494 - dense_24_loss: 0.4298 - dense_25_loss: 0.6256 - dense_24_root_mean_squared_error: 0.6556 - dense_25_root_mean_squared_error: 0.7909 - val_loss: 0.4407 - val_dense_24_loss: 0.3986 - val_dense_25_loss: 0.8198 - val_dense_24_root_mean_squared_error: 0.6313 - val_dense_25_root_mean_squared_error: 0.9055\n",
      "Epoch 20/20\n",
      "363/363 [==============================] - 3s 8ms/step - loss: 0.4471 - dense_24_loss: 0.4276 - dense_25_loss: 0.6225 - dense_24_root_mean_squared_error: 0.6539 - dense_25_root_mean_squared_error: 0.7890 - val_loss: 0.4331 - val_dense_24_loss: 0.3924 - val_dense_25_loss: 0.7990 - val_dense_24_root_mean_squared_error: 0.6264 - val_dense_25_root_mean_squared_error: 0.8939\n"
     ]
    }
   ],
   "source": [
    " # we also need to provide labels for each output. In this case, we use the same labels for both\n",
    "norm_layer_wide.adapt(X_train_wide)\n",
    "norm_layer_deep.adapt(X_train_deep)\n",
    "history = model.fit(\n",
    "    (X_train_wide, X_train_deep), (y_train, y_train), epochs=20,\n",
    "    validation_data=((X_valid_wide, X_valid_deep), (y_valid, y_valid))\n",
    ")"
   ]
  },
  {
   "cell_type": "code",
   "execution_count": 52,
   "metadata": {},
   "outputs": [
    {
     "name": "stdout",
     "output_type": "stream",
     "text": [
      "162/162 [==============================] - 1s 5ms/step - loss: 0.4339 - dense_24_loss: 0.4160 - dense_25_loss: 0.5954 - dense_24_root_mean_squared_error: 0.6450 - dense_25_root_mean_squared_error: 0.7716\n"
     ]
    }
   ],
   "source": [
    "eval_results = model.evaluate((X_test_wide, X_test_deep), (y_test, y_test))\n",
    "weighted_sum_of_losses, main_loss, aux_loss, main_rmse, aux_rmse = eval_results"
   ]
  },
  {
   "cell_type": "code",
   "execution_count": 53,
   "metadata": {},
   "outputs": [
    {
     "name": "stdout",
     "output_type": "stream",
     "text": [
      "1/1 [==============================] - 0s 54ms/step\n"
     ]
    }
   ],
   "source": [
    "y_pred_main, y_pred_aux = model.predict((X_new_wide, X_new_deep))"
   ]
  },
  {
   "cell_type": "code",
   "execution_count": 54,
   "metadata": {},
   "outputs": [
    {
     "name": "stdout",
     "output_type": "stream",
     "text": [
      "1/1 [==============================] - 0s 13ms/step\n"
     ]
    },
    {
     "data": {
      "text/plain": [
       "{'dense_24': array([[0.4519375],\n",
       "        [1.8662901],\n",
       "        [3.4103966]], dtype=float32),\n",
       " 'dense_25': array([[0.6318111],\n",
       "        [2.177391 ],\n",
       "        [2.8092778]], dtype=float32)}"
      ]
     },
     "execution_count": 54,
     "metadata": {},
     "output_type": "execute_result"
    }
   ],
   "source": [
    "y_pred_tuple = model.predict((X_new_wide, X_new_deep))\n",
    "y_pred = dict(zip(model.output_names, y_pred_tuple))\n",
    "y_pred"
   ]
  },
  {
   "cell_type": "markdown",
   "metadata": {},
   "source": [
    "### Using the Subclassing API to Build Dynamic Models"
   ]
  },
  {
   "cell_type": "code",
   "execution_count": 55,
   "metadata": {},
   "outputs": [],
   "source": [
    "# Create the previous WideAndDeepModel using the Subclassing API\n",
    "class WideAndDeepModel(tf.keras.Model):\n",
    "    def __init__(self, units=30, activation=\"softplus\", **kwargs):\n",
    "        super().__init__(**kwargs)  # needed to support naming the model\n",
    "        self.norm_layer_wide = tf.keras.layers.Normalization()\n",
    "        self.norm_layer_deep = tf.keras.layers.Normalization()\n",
    "        self.hidden1 = tf.keras.layers.Dense(units, activation=activation)\n",
    "        self.hidden2 = tf.keras.layers.Dense(units, activation=activation)\n",
    "        self.main_output = tf.keras.layers.Dense(1)\n",
    "        self.aux_output = tf.keras.layers.Dense(1)\n",
    "\n",
    "    def call(self, inputs):\n",
    "        input_wide, input_deep = inputs\n",
    "        norm_wide = self.norm_layer_wide(input_wide)\n",
    "        norm_deep = self.norm_layer_deep(input_deep)\n",
    "        hidden1 = self.hidden1(norm_deep)\n",
    "        hidden2 = self.hidden2(hidden1)\n",
    "        concat = tf.keras.layers.concatenate([norm_wide, hidden2])\n",
    "        output = self.main_output(concat)\n",
    "        aux_output = self.aux_output(hidden2)\n",
    "        return output, aux_output\n",
    "    \n",
    "model = WideAndDeepModel(30, activation=\"softplus\", name=\"my_cool_model\")\n",
    "\n"
   ]
  },
  {
   "cell_type": "code",
   "execution_count": 58,
   "metadata": {},
   "outputs": [
    {
     "name": "stdout",
     "output_type": "stream",
     "text": [
      "Epoch 1/20\n",
      "363/363 [==============================] - 4s 9ms/step - loss: 1.0098 - output_1_loss: 0.9190 - output_2_loss: 1.8279 - output_1_root_mean_squared_error: 0.9586 - output_2_root_mean_squared_error: 1.3520 - val_loss: 0.6483 - val_output_1_loss: 0.5744 - val_output_2_loss: 1.3135 - val_output_1_root_mean_squared_error: 0.7579 - val_output_2_root_mean_squared_error: 1.1461\n",
      "Epoch 2/20\n",
      "363/363 [==============================] - 3s 8ms/step - loss: 0.5949 - output_1_loss: 0.5283 - output_2_loss: 1.1939 - output_1_root_mean_squared_error: 0.7269 - output_2_root_mean_squared_error: 1.0927 - val_loss: 0.5641 - val_output_1_loss: 0.4521 - val_output_2_loss: 1.5722 - val_output_1_root_mean_squared_error: 0.6724 - val_output_2_root_mean_squared_error: 1.2539\n",
      "Epoch 3/20\n",
      "363/363 [==============================] - 3s 8ms/step - loss: 0.5249 - output_1_loss: 0.4766 - output_2_loss: 0.9601 - output_1_root_mean_squared_error: 0.6903 - output_2_root_mean_squared_error: 0.9799 - val_loss: 2.1290 - val_output_1_loss: 2.2714 - val_output_2_loss: 0.8475 - val_output_1_root_mean_squared_error: 1.5071 - val_output_2_root_mean_squared_error: 0.9206\n",
      "Epoch 4/20\n",
      "363/363 [==============================] - 3s 8ms/step - loss: 0.5183 - output_1_loss: 0.4885 - output_2_loss: 0.7866 - output_1_root_mean_squared_error: 0.6989 - output_2_root_mean_squared_error: 0.8869 - val_loss: 1.1082 - val_output_1_loss: 1.0368 - val_output_2_loss: 1.7508 - val_output_1_root_mean_squared_error: 1.0182 - val_output_2_root_mean_squared_error: 1.3232\n",
      "Epoch 5/20\n",
      "363/363 [==============================] - 3s 8ms/step - loss: 0.4889 - output_1_loss: 0.4642 - output_2_loss: 0.7111 - output_1_root_mean_squared_error: 0.6813 - output_2_root_mean_squared_error: 0.8433 - val_loss: 0.5982 - val_output_1_loss: 0.5918 - val_output_2_loss: 0.6563 - val_output_1_root_mean_squared_error: 0.7693 - val_output_2_root_mean_squared_error: 0.8101\n",
      "Epoch 6/20\n",
      "363/363 [==============================] - 3s 8ms/step - loss: 0.4753 - output_1_loss: 0.4534 - output_2_loss: 0.6718 - output_1_root_mean_squared_error: 0.6734 - output_2_root_mean_squared_error: 0.8197 - val_loss: 0.4680 - val_output_1_loss: 0.4484 - val_output_2_loss: 0.6442 - val_output_1_root_mean_squared_error: 0.6696 - val_output_2_root_mean_squared_error: 0.8026\n",
      "Epoch 7/20\n",
      "363/363 [==============================] - 3s 8ms/step - loss: 0.4710 - output_1_loss: 0.4502 - output_2_loss: 0.6581 - output_1_root_mean_squared_error: 0.6710 - output_2_root_mean_squared_error: 0.8112 - val_loss: 0.4790 - val_output_1_loss: 0.4588 - val_output_2_loss: 0.6614 - val_output_1_root_mean_squared_error: 0.6773 - val_output_2_root_mean_squared_error: 0.8133\n",
      "Epoch 8/20\n",
      "363/363 [==============================] - 3s 8ms/step - loss: 0.4687 - output_1_loss: 0.4479 - output_2_loss: 0.6559 - output_1_root_mean_squared_error: 0.6692 - output_2_root_mean_squared_error: 0.8099 - val_loss: 0.7254 - val_output_1_loss: 0.7250 - val_output_2_loss: 0.7293 - val_output_1_root_mean_squared_error: 0.8515 - val_output_2_root_mean_squared_error: 0.8540\n",
      "Epoch 9/20\n",
      "363/363 [==============================] - 3s 8ms/step - loss: 0.4646 - output_1_loss: 0.4440 - output_2_loss: 0.6498 - output_1_root_mean_squared_error: 0.6663 - output_2_root_mean_squared_error: 0.8061 - val_loss: 0.6294 - val_output_1_loss: 0.6199 - val_output_2_loss: 0.7149 - val_output_1_root_mean_squared_error: 0.7874 - val_output_2_root_mean_squared_error: 0.8455\n",
      "Epoch 10/20\n",
      "363/363 [==============================] - 3s 8ms/step - loss: 0.4684 - output_1_loss: 0.4485 - output_2_loss: 0.6473 - output_1_root_mean_squared_error: 0.6697 - output_2_root_mean_squared_error: 0.8046 - val_loss: 0.4409 - val_output_1_loss: 0.4181 - val_output_2_loss: 0.6454 - val_output_1_root_mean_squared_error: 0.6466 - val_output_2_root_mean_squared_error: 0.8034\n",
      "Epoch 11/20\n",
      "363/363 [==============================] - 3s 8ms/step - loss: 0.4593 - output_1_loss: 0.4391 - output_2_loss: 0.6403 - output_1_root_mean_squared_error: 0.6627 - output_2_root_mean_squared_error: 0.8002 - val_loss: 0.4905 - val_output_1_loss: 0.4755 - val_output_2_loss: 0.6250 - val_output_1_root_mean_squared_error: 0.6896 - val_output_2_root_mean_squared_error: 0.7905\n",
      "Epoch 12/20\n",
      "363/363 [==============================] - 3s 9ms/step - loss: 0.4602 - output_1_loss: 0.4406 - output_2_loss: 0.6368 - output_1_root_mean_squared_error: 0.6638 - output_2_root_mean_squared_error: 0.7980 - val_loss: 1.0075 - val_output_1_loss: 1.0165 - val_output_2_loss: 0.9269 - val_output_1_root_mean_squared_error: 1.0082 - val_output_2_root_mean_squared_error: 0.9627\n",
      "Epoch 13/20\n",
      "363/363 [==============================] - 3s 8ms/step - loss: 0.4627 - output_1_loss: 0.4432 - output_2_loss: 0.6378 - output_1_root_mean_squared_error: 0.6657 - output_2_root_mean_squared_error: 0.7986 - val_loss: 0.5579 - val_output_1_loss: 0.5388 - val_output_2_loss: 0.7298 - val_output_1_root_mean_squared_error: 0.7340 - val_output_2_root_mean_squared_error: 0.8543\n",
      "Epoch 14/20\n",
      "363/363 [==============================] - 3s 9ms/step - loss: 0.4543 - output_1_loss: 0.4349 - output_2_loss: 0.6292 - output_1_root_mean_squared_error: 0.6595 - output_2_root_mean_squared_error: 0.7932 - val_loss: 0.4195 - val_output_1_loss: 0.3977 - val_output_2_loss: 0.6157 - val_output_1_root_mean_squared_error: 0.6307 - val_output_2_root_mean_squared_error: 0.7847\n",
      "Epoch 15/20\n",
      "363/363 [==============================] - 3s 8ms/step - loss: 0.4554 - output_1_loss: 0.4363 - output_2_loss: 0.6275 - output_1_root_mean_squared_error: 0.6606 - output_2_root_mean_squared_error: 0.7922 - val_loss: 0.4983 - val_output_1_loss: 0.4870 - val_output_2_loss: 0.5999 - val_output_1_root_mean_squared_error: 0.6979 - val_output_2_root_mean_squared_error: 0.7745\n",
      "Epoch 16/20\n",
      "363/363 [==============================] - 3s 8ms/step - loss: 0.4496 - output_1_loss: 0.4304 - output_2_loss: 0.6229 - output_1_root_mean_squared_error: 0.6560 - output_2_root_mean_squared_error: 0.7892 - val_loss: 0.4332 - val_output_1_loss: 0.4136 - val_output_2_loss: 0.6101 - val_output_1_root_mean_squared_error: 0.6431 - val_output_2_root_mean_squared_error: 0.7811\n",
      "Epoch 17/20\n",
      "363/363 [==============================] - 3s 8ms/step - loss: 0.4523 - output_1_loss: 0.4336 - output_2_loss: 0.6206 - output_1_root_mean_squared_error: 0.6585 - output_2_root_mean_squared_error: 0.7878 - val_loss: 0.4278 - val_output_1_loss: 0.4096 - val_output_2_loss: 0.5915 - val_output_1_root_mean_squared_error: 0.6400 - val_output_2_root_mean_squared_error: 0.7691\n",
      "Epoch 18/20\n",
      "363/363 [==============================] - 3s 8ms/step - loss: 0.4483 - output_1_loss: 0.4297 - output_2_loss: 0.6156 - output_1_root_mean_squared_error: 0.6555 - output_2_root_mean_squared_error: 0.7846 - val_loss: 0.4173 - val_output_1_loss: 0.3954 - val_output_2_loss: 0.6137 - val_output_1_root_mean_squared_error: 0.6288 - val_output_2_root_mean_squared_error: 0.7834\n",
      "Epoch 19/20\n",
      "363/363 [==============================] - 3s 8ms/step - loss: 0.4481 - output_1_loss: 0.4299 - output_2_loss: 0.6117 - output_1_root_mean_squared_error: 0.6557 - output_2_root_mean_squared_error: 0.7821 - val_loss: 0.4106 - val_output_1_loss: 0.3911 - val_output_2_loss: 0.5867 - val_output_1_root_mean_squared_error: 0.6254 - val_output_2_root_mean_squared_error: 0.7660\n",
      "Epoch 20/20\n",
      "363/363 [==============================] - 3s 8ms/step - loss: 0.4476 - output_1_loss: 0.4296 - output_2_loss: 0.6097 - output_1_root_mean_squared_error: 0.6555 - output_2_root_mean_squared_error: 0.7808 - val_loss: 0.4113 - val_output_1_loss: 0.3908 - val_output_2_loss: 0.5951 - val_output_1_root_mean_squared_error: 0.6252 - val_output_2_root_mean_squared_error: 0.7714\n"
     ]
    }
   ],
   "source": [
    "model.compile(loss=(\"mse\", \"mse\"), loss_weights=(0.9, 0.1),\n",
    "              optimizer=tf.keras.optimizers.legacy.Adam(learning_rate=1e-3),\n",
    "              metrics=[\"RootMeanSquaredError\"])\n",
    "model.norm_layer_wide.adapt(X_train_wide)\n",
    "model.norm_layer_deep.adapt(X_train_deep)\n",
    "history = model.fit(\n",
    "    (X_train_wide, X_train_deep), (y_train, y_train), epochs=20,\n",
    "    validation_data=((X_valid_wide, X_valid_deep), (y_valid, y_valid))\n",
    ")"
   ]
  },
  {
   "cell_type": "code",
   "execution_count": 59,
   "metadata": {},
   "outputs": [
    {
     "name": "stdout",
     "output_type": "stream",
     "text": [
      "Model: \"my_cool_model\"\n",
      "_________________________________________________________________\n",
      " Layer (type)                Output Shape              Param #   \n",
      "=================================================================\n",
      " normalization_6 (Normaliza  multiple                  11        \n",
      " tion)                                                           \n",
      "                                                                 \n",
      " normalization_7 (Normaliza  multiple                  13        \n",
      " tion)                                                           \n",
      "                                                                 \n",
      " dense_26 (Dense)            multiple                  210       \n",
      "                                                                 \n",
      " dense_27 (Dense)            multiple                  930       \n",
      "                                                                 \n",
      " dense_28 (Dense)            multiple                  36        \n",
      "                                                                 \n",
      " dense_29 (Dense)            multiple                  31        \n",
      "                                                                 \n",
      "=================================================================\n",
      "Total params: 1231 (4.82 KB)\n",
      "Trainable params: 1207 (4.71 KB)\n",
      "Non-trainable params: 24 (104.00 Byte)\n",
      "_________________________________________________________________\n"
     ]
    }
   ],
   "source": [
    "model.summary()"
   ]
  },
  {
   "cell_type": "code",
   "execution_count": 60,
   "metadata": {},
   "outputs": [
    {
     "name": "stdout",
     "output_type": "stream",
     "text": [
      "162/162 [==============================] - 1s 6ms/step - loss: 0.4347 - output_1_loss: 0.4179 - output_2_loss: 0.5860 - output_1_root_mean_squared_error: 0.6464 - output_2_root_mean_squared_error: 0.7655\n"
     ]
    },
    {
     "data": {
      "text/plain": [
       "[0.4346904456615448,\n",
       " 0.41788041591644287,\n",
       " 0.5859800577163696,\n",
       " 0.6464366912841797,\n",
       " 0.7654933333396912]"
      ]
     },
     "execution_count": 60,
     "metadata": {},
     "output_type": "execute_result"
    }
   ],
   "source": [
    "model.evaluate((X_test_wide, X_test_deep), (y_test, y_test))"
   ]
  },
  {
   "cell_type": "markdown",
   "metadata": {},
   "source": [
    "### Saving and Restoring a Model"
   ]
  },
  {
   "cell_type": "code",
   "execution_count": 61,
   "metadata": {},
   "outputs": [
    {
     "name": "stdout",
     "output_type": "stream",
     "text": [
      "INFO:tensorflow:Assets written to: my_keras_model/assets\n"
     ]
    },
    {
     "name": "stderr",
     "output_type": "stream",
     "text": [
      "INFO:tensorflow:Assets written to: my_keras_model/assets\n"
     ]
    }
   ],
   "source": [
    "model.save(\"my_keras_model\", save_format=\"tf\")"
   ]
  },
  {
   "cell_type": "code",
   "execution_count": 62,
   "metadata": {},
   "outputs": [
    {
     "name": "stdout",
     "output_type": "stream",
     "text": [
      "WARNING:tensorflow:5 out of the last 6 calls to <function Model.make_predict_function.<locals>.predict_function at 0x43fe8a680> triggered tf.function retracing. Tracing is expensive and the excessive number of tracings could be due to (1) creating @tf.function repeatedly in a loop, (2) passing tensors with different shapes, (3) passing Python objects instead of tensors. For (1), please define your @tf.function outside of the loop. For (2), @tf.function has reduce_retracing=True option that can avoid unnecessary retracing. For (3), please refer to https://www.tensorflow.org/guide/function#controlling_retracing and https://www.tensorflow.org/api_docs/python/tf/function for  more details.\n"
     ]
    },
    {
     "name": "stderr",
     "output_type": "stream",
     "text": [
      "WARNING:tensorflow:5 out of the last 6 calls to <function Model.make_predict_function.<locals>.predict_function at 0x43fe8a680> triggered tf.function retracing. Tracing is expensive and the excessive number of tracings could be due to (1) creating @tf.function repeatedly in a loop, (2) passing tensors with different shapes, (3) passing Python objects instead of tensors. For (1), please define your @tf.function outside of the loop. For (2), @tf.function has reduce_retracing=True option that can avoid unnecessary retracing. For (3), please refer to https://www.tensorflow.org/guide/function#controlling_retracing and https://www.tensorflow.org/api_docs/python/tf/function for  more details.\n"
     ]
    },
    {
     "name": "stdout",
     "output_type": "stream",
     "text": [
      "1/1 [==============================] - 0s 55ms/step\n"
     ]
    }
   ],
   "source": [
    "model = tf.keras.models.load_model(\"my_keras_model\")\n",
    "y_pred_main, y_pred_aux = model.predict((X_new_wide, X_new_deep))"
   ]
  },
  {
   "cell_type": "code",
   "execution_count": 63,
   "metadata": {},
   "outputs": [],
   "source": [
    "model.save_weights(\"my_weights\")"
   ]
  },
  {
   "cell_type": "code",
   "execution_count": 64,
   "metadata": {},
   "outputs": [
    {
     "data": {
      "text/plain": [
       "<tensorflow.python.checkpoint.checkpoint.CheckpointLoadStatus at 0x45ba47ca0>"
      ]
     },
     "execution_count": 64,
     "metadata": {},
     "output_type": "execute_result"
    }
   ],
   "source": [
    "model.load_weights(\"my_weights\")"
   ]
  },
  {
   "cell_type": "markdown",
   "metadata": {},
   "source": [
    "### Using Callbacks"
   ]
  },
  {
   "cell_type": "code",
   "execution_count": 65,
   "metadata": {},
   "outputs": [
    {
     "name": "stdout",
     "output_type": "stream",
     "text": [
      "Epoch 1/20\n",
      "363/363 [==============================] - 4s 9ms/step - loss: 0.4489 - output_1_loss: 0.4310 - output_2_loss: 0.6098 - output_1_root_mean_squared_error: 0.6565 - output_2_root_mean_squared_error: 0.7809 - val_loss: 0.4518 - val_output_1_loss: 0.4370 - val_output_2_loss: 0.5855 - val_output_1_root_mean_squared_error: 0.6610 - val_output_2_root_mean_squared_error: 0.7652\n",
      "Epoch 2/20\n",
      "363/363 [==============================] - 3s 8ms/step - loss: 0.4476 - output_1_loss: 0.4301 - output_2_loss: 0.6047 - output_1_root_mean_squared_error: 0.6558 - output_2_root_mean_squared_error: 0.7776 - val_loss: 0.4348 - val_output_1_loss: 0.4123 - val_output_2_loss: 0.6376 - val_output_1_root_mean_squared_error: 0.6421 - val_output_2_root_mean_squared_error: 0.7985\n",
      "Epoch 3/20\n",
      "363/363 [==============================] - 3s 8ms/step - loss: 0.4426 - output_1_loss: 0.4251 - output_2_loss: 0.6001 - output_1_root_mean_squared_error: 0.6520 - output_2_root_mean_squared_error: 0.7747 - val_loss: 0.4071 - val_output_1_loss: 0.3882 - val_output_2_loss: 0.5779 - val_output_1_root_mean_squared_error: 0.6230 - val_output_2_root_mean_squared_error: 0.7602\n",
      "Epoch 4/20\n",
      "363/363 [==============================] - 3s 8ms/step - loss: 0.4420 - output_1_loss: 0.4246 - output_2_loss: 0.5987 - output_1_root_mean_squared_error: 0.6516 - output_2_root_mean_squared_error: 0.7737 - val_loss: 0.4426 - val_output_1_loss: 0.4241 - val_output_2_loss: 0.6089 - val_output_1_root_mean_squared_error: 0.6512 - val_output_2_root_mean_squared_error: 0.7803\n",
      "Epoch 5/20\n",
      "363/363 [==============================] - 3s 8ms/step - loss: 0.4416 - output_1_loss: 0.4247 - output_2_loss: 0.5940 - output_1_root_mean_squared_error: 0.6517 - output_2_root_mean_squared_error: 0.7707 - val_loss: 0.4048 - val_output_1_loss: 0.3868 - val_output_2_loss: 0.5670 - val_output_1_root_mean_squared_error: 0.6219 - val_output_2_root_mean_squared_error: 0.7530\n",
      "Epoch 6/20\n",
      "363/363 [==============================] - 3s 8ms/step - loss: 0.4377 - output_1_loss: 0.4206 - output_2_loss: 0.5917 - output_1_root_mean_squared_error: 0.6485 - output_2_root_mean_squared_error: 0.7692 - val_loss: 0.4643 - val_output_1_loss: 0.4509 - val_output_2_loss: 0.5846 - val_output_1_root_mean_squared_error: 0.6715 - val_output_2_root_mean_squared_error: 0.7646\n",
      "Epoch 7/20\n",
      "363/363 [==============================] - 3s 8ms/step - loss: 0.4393 - output_1_loss: 0.4227 - output_2_loss: 0.5884 - output_1_root_mean_squared_error: 0.6502 - output_2_root_mean_squared_error: 0.7671 - val_loss: 0.4904 - val_output_1_loss: 0.4798 - val_output_2_loss: 0.5867 - val_output_1_root_mean_squared_error: 0.6926 - val_output_2_root_mean_squared_error: 0.7660\n",
      "Epoch 8/20\n",
      "363/363 [==============================] - 3s 8ms/step - loss: 0.4387 - output_1_loss: 0.4223 - output_2_loss: 0.5860 - output_1_root_mean_squared_error: 0.6498 - output_2_root_mean_squared_error: 0.7655 - val_loss: 0.5075 - val_output_1_loss: 0.4901 - val_output_2_loss: 0.6641 - val_output_1_root_mean_squared_error: 0.7001 - val_output_2_root_mean_squared_error: 0.8149\n",
      "Epoch 9/20\n",
      "363/363 [==============================] - 3s 8ms/step - loss: 0.4368 - output_1_loss: 0.4206 - output_2_loss: 0.5832 - output_1_root_mean_squared_error: 0.6485 - output_2_root_mean_squared_error: 0.7636 - val_loss: 0.6080 - val_output_1_loss: 0.5764 - val_output_2_loss: 0.8925 - val_output_1_root_mean_squared_error: 0.7592 - val_output_2_root_mean_squared_error: 0.9447\n",
      "Epoch 10/20\n",
      "363/363 [==============================] - 3s 8ms/step - loss: 0.4393 - output_1_loss: 0.4234 - output_2_loss: 0.5830 - output_1_root_mean_squared_error: 0.6507 - output_2_root_mean_squared_error: 0.7636 - val_loss: 0.4320 - val_output_1_loss: 0.4149 - val_output_2_loss: 0.5863 - val_output_1_root_mean_squared_error: 0.6441 - val_output_2_root_mean_squared_error: 0.7657\n",
      "Epoch 11/20\n",
      "363/363 [==============================] - 3s 9ms/step - loss: 0.4341 - output_1_loss: 0.4181 - output_2_loss: 0.5782 - output_1_root_mean_squared_error: 0.6466 - output_2_root_mean_squared_error: 0.7604 - val_loss: 0.4280 - val_output_1_loss: 0.4106 - val_output_2_loss: 0.5850 - val_output_1_root_mean_squared_error: 0.6408 - val_output_2_root_mean_squared_error: 0.7648\n",
      "Epoch 12/20\n",
      "363/363 [==============================] - 3s 8ms/step - loss: 0.4348 - output_1_loss: 0.4192 - output_2_loss: 0.5750 - output_1_root_mean_squared_error: 0.6475 - output_2_root_mean_squared_error: 0.7583 - val_loss: 0.4391 - val_output_1_loss: 0.4263 - val_output_2_loss: 0.5545 - val_output_1_root_mean_squared_error: 0.6529 - val_output_2_root_mean_squared_error: 0.7447\n",
      "Epoch 13/20\n",
      "363/363 [==============================] - 3s 8ms/step - loss: 0.4335 - output_1_loss: 0.4180 - output_2_loss: 0.5721 - output_1_root_mean_squared_error: 0.6466 - output_2_root_mean_squared_error: 0.7564 - val_loss: 0.5247 - val_output_1_loss: 0.5098 - val_output_2_loss: 0.6587 - val_output_1_root_mean_squared_error: 0.7140 - val_output_2_root_mean_squared_error: 0.8116\n",
      "Epoch 14/20\n",
      "363/363 [==============================] - 3s 8ms/step - loss: 0.4322 - output_1_loss: 0.4170 - output_2_loss: 0.5688 - output_1_root_mean_squared_error: 0.6458 - output_2_root_mean_squared_error: 0.7542 - val_loss: 0.5331 - val_output_1_loss: 0.5305 - val_output_2_loss: 0.5571 - val_output_1_root_mean_squared_error: 0.7283 - val_output_2_root_mean_squared_error: 0.7464\n",
      "Epoch 15/20\n",
      "363/363 [==============================] - 3s 8ms/step - loss: 0.4332 - output_1_loss: 0.4182 - output_2_loss: 0.5677 - output_1_root_mean_squared_error: 0.6467 - output_2_root_mean_squared_error: 0.7535 - val_loss: 0.5926 - val_output_1_loss: 0.5864 - val_output_2_loss: 0.6483 - val_output_1_root_mean_squared_error: 0.7658 - val_output_2_root_mean_squared_error: 0.8052\n",
      "Epoch 16/20\n",
      "363/363 [==============================] - 3s 8ms/step - loss: 0.4303 - output_1_loss: 0.4154 - output_2_loss: 0.5647 - output_1_root_mean_squared_error: 0.6445 - output_2_root_mean_squared_error: 0.7515 - val_loss: 0.4584 - val_output_1_loss: 0.4477 - val_output_2_loss: 0.5551 - val_output_1_root_mean_squared_error: 0.6691 - val_output_2_root_mean_squared_error: 0.7451\n",
      "Epoch 17/20\n",
      "363/363 [==============================] - 3s 8ms/step - loss: 0.4334 - output_1_loss: 0.4186 - output_2_loss: 0.5663 - output_1_root_mean_squared_error: 0.6470 - output_2_root_mean_squared_error: 0.7525 - val_loss: 0.5320 - val_output_1_loss: 0.5255 - val_output_2_loss: 0.5906 - val_output_1_root_mean_squared_error: 0.7249 - val_output_2_root_mean_squared_error: 0.7685\n",
      "Epoch 18/20\n",
      "363/363 [==============================] - 3s 8ms/step - loss: 0.4290 - output_1_loss: 0.4143 - output_2_loss: 0.5614 - output_1_root_mean_squared_error: 0.6437 - output_2_root_mean_squared_error: 0.7493 - val_loss: 0.4061 - val_output_1_loss: 0.3917 - val_output_2_loss: 0.5354 - val_output_1_root_mean_squared_error: 0.6259 - val_output_2_root_mean_squared_error: 0.7317\n",
      "Epoch 19/20\n",
      "363/363 [==============================] - 3s 8ms/step - loss: 0.4315 - output_1_loss: 0.4172 - output_2_loss: 0.5604 - output_1_root_mean_squared_error: 0.6459 - output_2_root_mean_squared_error: 0.7486 - val_loss: 0.4235 - val_output_1_loss: 0.4074 - val_output_2_loss: 0.5682 - val_output_1_root_mean_squared_error: 0.6383 - val_output_2_root_mean_squared_error: 0.7538\n",
      "Epoch 20/20\n",
      "363/363 [==============================] - 3s 8ms/step - loss: 0.4295 - output_1_loss: 0.4149 - output_2_loss: 0.5610 - output_1_root_mean_squared_error: 0.6441 - output_2_root_mean_squared_error: 0.7490 - val_loss: 0.4015 - val_output_1_loss: 0.3868 - val_output_2_loss: 0.5339 - val_output_1_root_mean_squared_error: 0.6220 - val_output_2_root_mean_squared_error: 0.7307\n"
     ]
    }
   ],
   "source": [
    "# Save regular checkpoints of your models at the end of each epoch\n",
    "checkpoint_cb = tf.keras.callbacks.ModelCheckpoint(\"my_checkpoints\", save_best_only=True)\n",
    "history = model.fit(\n",
    "    (X_train_wide, X_train_deep), (y_train, y_train), epochs=20,\n",
    "    validation_data=((X_valid_wide, X_valid_deep), (y_valid, y_valid)),\n",
    "    callbacks=[checkpoint_cb]\n",
    ")\n"
   ]
  },
  {
   "cell_type": "code",
   "execution_count": 66,
   "metadata": {},
   "outputs": [
    {
     "name": "stdout",
     "output_type": "stream",
     "text": [
      "Epoch 1/50\n",
      "363/363 [==============================] - 3s 9ms/step - loss: 0.4257 - output_1_loss: 0.4111 - output_2_loss: 0.5573 - output_1_root_mean_squared_error: 0.6412 - output_2_root_mean_squared_error: 0.7465 - val_loss: 0.3980 - val_output_1_loss: 0.3831 - val_output_2_loss: 0.5317 - val_output_1_root_mean_squared_error: 0.6190 - val_output_2_root_mean_squared_error: 0.7292\n",
      "Epoch 2/50\n",
      "363/363 [==============================] - 3s 8ms/step - loss: 0.4293 - output_1_loss: 0.4149 - output_2_loss: 0.5587 - output_1_root_mean_squared_error: 0.6441 - output_2_root_mean_squared_error: 0.7475 - val_loss: 0.4338 - val_output_1_loss: 0.4195 - val_output_2_loss: 0.5630 - val_output_1_root_mean_squared_error: 0.6477 - val_output_2_root_mean_squared_error: 0.7504\n",
      "Epoch 3/50\n",
      "363/363 [==============================] - 3s 8ms/step - loss: 0.4267 - output_1_loss: 0.4124 - output_2_loss: 0.5554 - output_1_root_mean_squared_error: 0.6422 - output_2_root_mean_squared_error: 0.7453 - val_loss: 0.3969 - val_output_1_loss: 0.3817 - val_output_2_loss: 0.5335 - val_output_1_root_mean_squared_error: 0.6178 - val_output_2_root_mean_squared_error: 0.7304\n",
      "Epoch 4/50\n",
      "363/363 [==============================] - 3s 8ms/step - loss: 0.4268 - output_1_loss: 0.4124 - output_2_loss: 0.5571 - output_1_root_mean_squared_error: 0.6422 - output_2_root_mean_squared_error: 0.7464 - val_loss: 0.3942 - val_output_1_loss: 0.3792 - val_output_2_loss: 0.5297 - val_output_1_root_mean_squared_error: 0.6158 - val_output_2_root_mean_squared_error: 0.7278\n",
      "Epoch 5/50\n",
      "363/363 [==============================] - 3s 8ms/step - loss: 0.4262 - output_1_loss: 0.4118 - output_2_loss: 0.5553 - output_1_root_mean_squared_error: 0.6417 - output_2_root_mean_squared_error: 0.7452 - val_loss: 0.4143 - val_output_1_loss: 0.4013 - val_output_2_loss: 0.5310 - val_output_1_root_mean_squared_error: 0.6335 - val_output_2_root_mean_squared_error: 0.7287\n",
      "Epoch 6/50\n",
      "363/363 [==============================] - 3s 8ms/step - loss: 0.4240 - output_1_loss: 0.4095 - output_2_loss: 0.5545 - output_1_root_mean_squared_error: 0.6400 - output_2_root_mean_squared_error: 0.7447 - val_loss: 0.4154 - val_output_1_loss: 0.3986 - val_output_2_loss: 0.5663 - val_output_1_root_mean_squared_error: 0.6314 - val_output_2_root_mean_squared_error: 0.7525\n",
      "Epoch 7/50\n",
      "363/363 [==============================] - 3s 8ms/step - loss: 0.4251 - output_1_loss: 0.4107 - output_2_loss: 0.5542 - output_1_root_mean_squared_error: 0.6409 - output_2_root_mean_squared_error: 0.7445 - val_loss: 0.4380 - val_output_1_loss: 0.4256 - val_output_2_loss: 0.5502 - val_output_1_root_mean_squared_error: 0.6524 - val_output_2_root_mean_squared_error: 0.7417\n",
      "Epoch 8/50\n",
      "363/363 [==============================] - 3s 8ms/step - loss: 0.4252 - output_1_loss: 0.4109 - output_2_loss: 0.5539 - output_1_root_mean_squared_error: 0.6410 - output_2_root_mean_squared_error: 0.7443 - val_loss: 0.5999 - val_output_1_loss: 0.5969 - val_output_2_loss: 0.6270 - val_output_1_root_mean_squared_error: 0.7726 - val_output_2_root_mean_squared_error: 0.7918\n",
      "Epoch 9/50\n",
      "363/363 [==============================] - 3s 8ms/step - loss: 0.4246 - output_1_loss: 0.4102 - output_2_loss: 0.5539 - output_1_root_mean_squared_error: 0.6405 - output_2_root_mean_squared_error: 0.7443 - val_loss: 0.3959 - val_output_1_loss: 0.3804 - val_output_2_loss: 0.5354 - val_output_1_root_mean_squared_error: 0.6167 - val_output_2_root_mean_squared_error: 0.7317\n",
      "Epoch 10/50\n",
      "363/363 [==============================] - 3s 8ms/step - loss: 0.4244 - output_1_loss: 0.4101 - output_2_loss: 0.5526 - output_1_root_mean_squared_error: 0.6404 - output_2_root_mean_squared_error: 0.7434 - val_loss: 0.5161 - val_output_1_loss: 0.5034 - val_output_2_loss: 0.6308 - val_output_1_root_mean_squared_error: 0.7095 - val_output_2_root_mean_squared_error: 0.7942\n",
      "Epoch 11/50\n",
      "363/363 [==============================] - 3s 8ms/step - loss: 0.4227 - output_1_loss: 0.4083 - output_2_loss: 0.5518 - output_1_root_mean_squared_error: 0.6390 - output_2_root_mean_squared_error: 0.7429 - val_loss: 0.3928 - val_output_1_loss: 0.3770 - val_output_2_loss: 0.5353 - val_output_1_root_mean_squared_error: 0.6140 - val_output_2_root_mean_squared_error: 0.7316\n",
      "Epoch 12/50\n",
      "363/363 [==============================] - 3s 8ms/step - loss: 0.4231 - output_1_loss: 0.4089 - output_2_loss: 0.5515 - output_1_root_mean_squared_error: 0.6394 - output_2_root_mean_squared_error: 0.7426 - val_loss: 0.5049 - val_output_1_loss: 0.4705 - val_output_2_loss: 0.8136 - val_output_1_root_mean_squared_error: 0.6860 - val_output_2_root_mean_squared_error: 0.9020\n",
      "Epoch 13/50\n",
      "363/363 [==============================] - 3s 8ms/step - loss: 0.4228 - output_1_loss: 0.4083 - output_2_loss: 0.5534 - output_1_root_mean_squared_error: 0.6390 - output_2_root_mean_squared_error: 0.7439 - val_loss: 0.4024 - val_output_1_loss: 0.3869 - val_output_2_loss: 0.5410 - val_output_1_root_mean_squared_error: 0.6220 - val_output_2_root_mean_squared_error: 0.7355\n",
      "Epoch 14/50\n",
      "363/363 [==============================] - 3s 9ms/step - loss: 0.4218 - output_1_loss: 0.4076 - output_2_loss: 0.5500 - output_1_root_mean_squared_error: 0.6384 - output_2_root_mean_squared_error: 0.7416 - val_loss: 0.4177 - val_output_1_loss: 0.4039 - val_output_2_loss: 0.5424 - val_output_1_root_mean_squared_error: 0.6355 - val_output_2_root_mean_squared_error: 0.7365\n",
      "Epoch 15/50\n",
      "363/363 [==============================] - 3s 9ms/step - loss: 0.4217 - output_1_loss: 0.4075 - output_2_loss: 0.5497 - output_1_root_mean_squared_error: 0.6383 - output_2_root_mean_squared_error: 0.7414 - val_loss: 0.4311 - val_output_1_loss: 0.4172 - val_output_2_loss: 0.5564 - val_output_1_root_mean_squared_error: 0.6459 - val_output_2_root_mean_squared_error: 0.7459\n",
      "Epoch 16/50\n",
      "363/363 [==============================] - 3s 8ms/step - loss: 0.4213 - output_1_loss: 0.4071 - output_2_loss: 0.5496 - output_1_root_mean_squared_error: 0.6380 - output_2_root_mean_squared_error: 0.7413 - val_loss: 0.3955 - val_output_1_loss: 0.3809 - val_output_2_loss: 0.5270 - val_output_1_root_mean_squared_error: 0.6172 - val_output_2_root_mean_squared_error: 0.7259\n",
      "Epoch 17/50\n",
      "363/363 [==============================] - 3s 8ms/step - loss: 0.4244 - output_1_loss: 0.4103 - output_2_loss: 0.5517 - output_1_root_mean_squared_error: 0.6405 - output_2_root_mean_squared_error: 0.7428 - val_loss: 0.4518 - val_output_1_loss: 0.4401 - val_output_2_loss: 0.5564 - val_output_1_root_mean_squared_error: 0.6634 - val_output_2_root_mean_squared_error: 0.7459\n",
      "Epoch 18/50\n",
      "363/363 [==============================] - 3s 8ms/step - loss: 0.4208 - output_1_loss: 0.4066 - output_2_loss: 0.5485 - output_1_root_mean_squared_error: 0.6376 - output_2_root_mean_squared_error: 0.7406 - val_loss: 0.3910 - val_output_1_loss: 0.3761 - val_output_2_loss: 0.5256 - val_output_1_root_mean_squared_error: 0.6133 - val_output_2_root_mean_squared_error: 0.7250\n",
      "Epoch 19/50\n",
      "363/363 [==============================] - 3s 8ms/step - loss: 0.4229 - output_1_loss: 0.4090 - output_2_loss: 0.5475 - output_1_root_mean_squared_error: 0.6395 - output_2_root_mean_squared_error: 0.7399 - val_loss: 0.4195 - val_output_1_loss: 0.4073 - val_output_2_loss: 0.5294 - val_output_1_root_mean_squared_error: 0.6382 - val_output_2_root_mean_squared_error: 0.7276\n",
      "Epoch 20/50\n",
      "363/363 [==============================] - 3s 8ms/step - loss: 0.4209 - output_1_loss: 0.4067 - output_2_loss: 0.5487 - output_1_root_mean_squared_error: 0.6377 - output_2_root_mean_squared_error: 0.7408 - val_loss: 0.4290 - val_output_1_loss: 0.4162 - val_output_2_loss: 0.5443 - val_output_1_root_mean_squared_error: 0.6452 - val_output_2_root_mean_squared_error: 0.7377\n",
      "Epoch 21/50\n",
      "363/363 [==============================] - 3s 8ms/step - loss: 0.4196 - output_1_loss: 0.4056 - output_2_loss: 0.5460 - output_1_root_mean_squared_error: 0.6369 - output_2_root_mean_squared_error: 0.7389 - val_loss: 0.3936 - val_output_1_loss: 0.3786 - val_output_2_loss: 0.5292 - val_output_1_root_mean_squared_error: 0.6153 - val_output_2_root_mean_squared_error: 0.7275\n",
      "Epoch 22/50\n",
      "363/363 [==============================] - 3s 8ms/step - loss: 0.4214 - output_1_loss: 0.4074 - output_2_loss: 0.5473 - output_1_root_mean_squared_error: 0.6383 - output_2_root_mean_squared_error: 0.7398 - val_loss: 0.4657 - val_output_1_loss: 0.4535 - val_output_2_loss: 0.5755 - val_output_1_root_mean_squared_error: 0.6734 - val_output_2_root_mean_squared_error: 0.7586\n",
      "Epoch 23/50\n",
      "363/363 [==============================] - 3s 8ms/step - loss: 0.4191 - output_1_loss: 0.4050 - output_2_loss: 0.5464 - output_1_root_mean_squared_error: 0.6364 - output_2_root_mean_squared_error: 0.7392 - val_loss: 0.4374 - val_output_1_loss: 0.4232 - val_output_2_loss: 0.5653 - val_output_1_root_mean_squared_error: 0.6506 - val_output_2_root_mean_squared_error: 0.7519\n",
      "Epoch 24/50\n",
      "363/363 [==============================] - 3s 8ms/step - loss: 0.4186 - output_1_loss: 0.4045 - output_2_loss: 0.5452 - output_1_root_mean_squared_error: 0.6360 - output_2_root_mean_squared_error: 0.7384 - val_loss: 0.5078 - val_output_1_loss: 0.5001 - val_output_2_loss: 0.5769 - val_output_1_root_mean_squared_error: 0.7072 - val_output_2_root_mean_squared_error: 0.7596\n",
      "Epoch 25/50\n",
      "363/363 [==============================] - 3s 8ms/step - loss: 0.4177 - output_1_loss: 0.4038 - output_2_loss: 0.5436 - output_1_root_mean_squared_error: 0.6354 - output_2_root_mean_squared_error: 0.7373 - val_loss: 0.3970 - val_output_1_loss: 0.3822 - val_output_2_loss: 0.5296 - val_output_1_root_mean_squared_error: 0.6183 - val_output_2_root_mean_squared_error: 0.7278\n",
      "Epoch 26/50\n",
      "363/363 [==============================] - 3s 9ms/step - loss: 0.4174 - output_1_loss: 0.4035 - output_2_loss: 0.5432 - output_1_root_mean_squared_error: 0.6352 - output_2_root_mean_squared_error: 0.7370 - val_loss: 0.4204 - val_output_1_loss: 0.4063 - val_output_2_loss: 0.5473 - val_output_1_root_mean_squared_error: 0.6374 - val_output_2_root_mean_squared_error: 0.7398\n",
      "Epoch 27/50\n",
      "363/363 [==============================] - 3s 9ms/step - loss: 0.4186 - output_1_loss: 0.4046 - output_2_loss: 0.5445 - output_1_root_mean_squared_error: 0.6361 - output_2_root_mean_squared_error: 0.7379 - val_loss: 0.3970 - val_output_1_loss: 0.3831 - val_output_2_loss: 0.5227 - val_output_1_root_mean_squared_error: 0.6189 - val_output_2_root_mean_squared_error: 0.7230\n",
      "Epoch 28/50\n",
      "363/363 [==============================] - 3s 8ms/step - loss: 0.4171 - output_1_loss: 0.4031 - output_2_loss: 0.5431 - output_1_root_mean_squared_error: 0.6349 - output_2_root_mean_squared_error: 0.7370 - val_loss: 0.4427 - val_output_1_loss: 0.4301 - val_output_2_loss: 0.5555 - val_output_1_root_mean_squared_error: 0.6559 - val_output_2_root_mean_squared_error: 0.7454\n"
     ]
    }
   ],
   "source": [
    "# Early stopping\n",
    "early_stopping_cb = tf.keras.callbacks.EarlyStopping(patience=10, restore_best_weights=True)\n",
    "history = model.fit(\n",
    "    (X_train_wide, X_train_deep), (y_train, y_train), epochs=50,\n",
    "    validation_data=((X_valid_wide, X_valid_deep), (y_valid, y_valid)),\n",
    "    callbacks=[checkpoint_cb, early_stopping_cb]\n",
    ")"
   ]
  },
  {
   "cell_type": "code",
   "execution_count": 68,
   "metadata": {},
   "outputs": [
    {
     "name": "stdout",
     "output_type": "stream",
     "text": [
      "Epoch 1/50\n",
      "361/363 [============================>.] - ETA: 0s - loss: 0.4187 - output_1_loss: 0.4046 - output_2_loss: 0.5462 - output_1_root_mean_squared_error: 0.6361 - output_2_root_mean_squared_error: 0.7390Epoch=0, val/train=0.94\n",
      "363/363 [==============================] - 3s 8ms/step - loss: 0.4194 - output_1_loss: 0.4052 - output_2_loss: 0.5473 - output_1_root_mean_squared_error: 0.6366 - output_2_root_mean_squared_error: 0.7398 - val_loss: 0.3926 - val_output_1_loss: 0.3776 - val_output_2_loss: 0.5278 - val_output_1_root_mean_squared_error: 0.6145 - val_output_2_root_mean_squared_error: 0.7265\n",
      "Epoch 2/50\n",
      "359/363 [============================>.] - ETA: 0s - loss: 0.4229 - output_1_loss: 0.4090 - output_2_loss: 0.5485 - output_1_root_mean_squared_error: 0.6395 - output_2_root_mean_squared_error: 0.7406Epoch=1, val/train=1.18\n",
      "363/363 [==============================] - 3s 8ms/step - loss: 0.4229 - output_1_loss: 0.4089 - output_2_loss: 0.5490 - output_1_root_mean_squared_error: 0.6394 - output_2_root_mean_squared_error: 0.7410 - val_loss: 0.5004 - val_output_1_loss: 0.4857 - val_output_2_loss: 0.6334 - val_output_1_root_mean_squared_error: 0.6969 - val_output_2_root_mean_squared_error: 0.7958\n",
      "Epoch 3/50\n",
      "361/363 [============================>.] - ETA: 0s - loss: 0.4213 - output_1_loss: 0.4074 - output_2_loss: 0.5465 - output_1_root_mean_squared_error: 0.6383 - output_2_root_mean_squared_error: 0.7392Epoch=2, val/train=0.94\n",
      "363/363 [==============================] - 3s 8ms/step - loss: 0.4211 - output_1_loss: 0.4072 - output_2_loss: 0.5462 - output_1_root_mean_squared_error: 0.6381 - output_2_root_mean_squared_error: 0.7390 - val_loss: 0.3946 - val_output_1_loss: 0.3800 - val_output_2_loss: 0.5262 - val_output_1_root_mean_squared_error: 0.6164 - val_output_2_root_mean_squared_error: 0.7254\n",
      "Epoch 4/50\n",
      "357/363 [============================>.] - ETA: 0s - loss: 0.4190 - output_1_loss: 0.4049 - output_2_loss: 0.5466 - output_1_root_mean_squared_error: 0.6363 - output_2_root_mean_squared_error: 0.7393Epoch=3, val/train=0.96\n",
      "363/363 [==============================] - 3s 8ms/step - loss: 0.4208 - output_1_loss: 0.4067 - output_2_loss: 0.5477 - output_1_root_mean_squared_error: 0.6377 - output_2_root_mean_squared_error: 0.7400 - val_loss: 0.4036 - val_output_1_loss: 0.3900 - val_output_2_loss: 0.5262 - val_output_1_root_mean_squared_error: 0.6245 - val_output_2_root_mean_squared_error: 0.7254\n",
      "Epoch 5/50\n",
      "359/363 [============================>.] - ETA: 0s - loss: 0.4205 - output_1_loss: 0.4064 - output_2_loss: 0.5472 - output_1_root_mean_squared_error: 0.6375 - output_2_root_mean_squared_error: 0.7397Epoch=4, val/train=0.93\n",
      "363/363 [==============================] - 3s 8ms/step - loss: 0.4203 - output_1_loss: 0.4063 - output_2_loss: 0.5462 - output_1_root_mean_squared_error: 0.6374 - output_2_root_mean_squared_error: 0.7391 - val_loss: 0.3924 - val_output_1_loss: 0.3778 - val_output_2_loss: 0.5241 - val_output_1_root_mean_squared_error: 0.6146 - val_output_2_root_mean_squared_error: 0.7240\n",
      "Epoch 6/50\n",
      "361/363 [============================>.] - ETA: 0s - loss: 0.4176 - output_1_loss: 0.4034 - output_2_loss: 0.5451 - output_1_root_mean_squared_error: 0.6351 - output_2_root_mean_squared_error: 0.7383Epoch=5, val/train=0.97\n",
      "363/363 [==============================] - 3s 8ms/step - loss: 0.4179 - output_1_loss: 0.4038 - output_2_loss: 0.5451 - output_1_root_mean_squared_error: 0.6354 - output_2_root_mean_squared_error: 0.7383 - val_loss: 0.4072 - val_output_1_loss: 0.3936 - val_output_2_loss: 0.5292 - val_output_1_root_mean_squared_error: 0.6274 - val_output_2_root_mean_squared_error: 0.7275\n",
      "Epoch 7/50\n",
      "357/363 [============================>.] - ETA: 0s - loss: 0.4181 - output_1_loss: 0.4040 - output_2_loss: 0.5441 - output_1_root_mean_squared_error: 0.6356 - output_2_root_mean_squared_error: 0.7376Epoch=6, val/train=0.94\n",
      "363/363 [==============================] - 3s 8ms/step - loss: 0.4184 - output_1_loss: 0.4045 - output_2_loss: 0.5441 - output_1_root_mean_squared_error: 0.6360 - output_2_root_mean_squared_error: 0.7377 - val_loss: 0.3921 - val_output_1_loss: 0.3769 - val_output_2_loss: 0.5282 - val_output_1_root_mean_squared_error: 0.6139 - val_output_2_root_mean_squared_error: 0.7268\n",
      "Epoch 8/50\n",
      "358/363 [============================>.] - ETA: 0s - loss: 0.4162 - output_1_loss: 0.4020 - output_2_loss: 0.5438 - output_1_root_mean_squared_error: 0.6341 - output_2_root_mean_squared_error: 0.7374Epoch=7, val/train=1.17\n",
      "363/363 [==============================] - 3s 8ms/step - loss: 0.4181 - output_1_loss: 0.4041 - output_2_loss: 0.5442 - output_1_root_mean_squared_error: 0.6357 - output_2_root_mean_squared_error: 0.7377 - val_loss: 0.4900 - val_output_1_loss: 0.4832 - val_output_2_loss: 0.5520 - val_output_1_root_mean_squared_error: 0.6951 - val_output_2_root_mean_squared_error: 0.7430\n",
      "Epoch 9/50\n",
      "363/363 [==============================] - ETA: 0s - loss: 0.4176 - output_1_loss: 0.4036 - output_2_loss: 0.5441 - output_1_root_mean_squared_error: 0.6353 - output_2_root_mean_squared_error: 0.7376Epoch=8, val/train=0.95\n",
      "363/363 [==============================] - 3s 9ms/step - loss: 0.4176 - output_1_loss: 0.4036 - output_2_loss: 0.5441 - output_1_root_mean_squared_error: 0.6353 - output_2_root_mean_squared_error: 0.7376 - val_loss: 0.3951 - val_output_1_loss: 0.3803 - val_output_2_loss: 0.5279 - val_output_1_root_mean_squared_error: 0.6167 - val_output_2_root_mean_squared_error: 0.7266\n",
      "Epoch 10/50\n",
      "361/363 [============================>.] - ETA: 0s - loss: 0.4180 - output_1_loss: 0.4042 - output_2_loss: 0.5428 - output_1_root_mean_squared_error: 0.6357 - output_2_root_mean_squared_error: 0.7368Epoch=9, val/train=1.09\n",
      "363/363 [==============================] - 3s 8ms/step - loss: 0.4182 - output_1_loss: 0.4043 - output_2_loss: 0.5430 - output_1_root_mean_squared_error: 0.6359 - output_2_root_mean_squared_error: 0.7369 - val_loss: 0.4557 - val_output_1_loss: 0.4461 - val_output_2_loss: 0.5422 - val_output_1_root_mean_squared_error: 0.6679 - val_output_2_root_mean_squared_error: 0.7363\n",
      "Epoch 11/50\n",
      "360/363 [============================>.] - ETA: 0s - loss: 0.4172 - output_1_loss: 0.4033 - output_2_loss: 0.5420 - output_1_root_mean_squared_error: 0.6351 - output_2_root_mean_squared_error: 0.7362Epoch=10, val/train=0.94\n",
      "363/363 [==============================] - 3s 8ms/step - loss: 0.4168 - output_1_loss: 0.4029 - output_2_loss: 0.5418 - output_1_root_mean_squared_error: 0.6347 - output_2_root_mean_squared_error: 0.7361 - val_loss: 0.3927 - val_output_1_loss: 0.3779 - val_output_2_loss: 0.5263 - val_output_1_root_mean_squared_error: 0.6147 - val_output_2_root_mean_squared_error: 0.7254\n",
      "Epoch 12/50\n",
      "361/363 [============================>.] - ETA: 0s - loss: 0.4175 - output_1_loss: 0.4036 - output_2_loss: 0.5426 - output_1_root_mean_squared_error: 0.6353 - output_2_root_mean_squared_error: 0.7366Epoch=11, val/train=1.20\n",
      "363/363 [==============================] - 3s 8ms/step - loss: 0.4165 - output_1_loss: 0.4026 - output_2_loss: 0.5418 - output_1_root_mean_squared_error: 0.6345 - output_2_root_mean_squared_error: 0.7361 - val_loss: 0.4998 - val_output_1_loss: 0.4754 - val_output_2_loss: 0.7193 - val_output_1_root_mean_squared_error: 0.6895 - val_output_2_root_mean_squared_error: 0.8481\n",
      "Epoch 13/50\n",
      "357/363 [============================>.] - ETA: 0s - loss: 0.4173 - output_1_loss: 0.4032 - output_2_loss: 0.5443 - output_1_root_mean_squared_error: 0.6350 - output_2_root_mean_squared_error: 0.7378Epoch=12, val/train=1.00\n",
      "363/363 [==============================] - 3s 8ms/step - loss: 0.4163 - output_1_loss: 0.4022 - output_2_loss: 0.5433 - output_1_root_mean_squared_error: 0.6342 - output_2_root_mean_squared_error: 0.7371 - val_loss: 0.4172 - val_output_1_loss: 0.4048 - val_output_2_loss: 0.5288 - val_output_1_root_mean_squared_error: 0.6363 - val_output_2_root_mean_squared_error: 0.7272\n",
      "Epoch 14/50\n",
      "361/363 [============================>.] - ETA: 0s - loss: 0.4154 - output_1_loss: 0.4016 - output_2_loss: 0.5397 - output_1_root_mean_squared_error: 0.6337 - output_2_root_mean_squared_error: 0.7346Epoch=13, val/train=0.94\n",
      "363/363 [==============================] - 3s 8ms/step - loss: 0.4152 - output_1_loss: 0.4014 - output_2_loss: 0.5395 - output_1_root_mean_squared_error: 0.6336 - output_2_root_mean_squared_error: 0.7345 - val_loss: 0.3883 - val_output_1_loss: 0.3730 - val_output_2_loss: 0.5254 - val_output_1_root_mean_squared_error: 0.6108 - val_output_2_root_mean_squared_error: 0.7249\n",
      "Epoch 15/50\n",
      "360/363 [============================>.] - ETA: 0s - loss: 0.4159 - output_1_loss: 0.4021 - output_2_loss: 0.5397 - output_1_root_mean_squared_error: 0.6341 - output_2_root_mean_squared_error: 0.7346Epoch=14, val/train=1.12\n",
      "363/363 [==============================] - 3s 8ms/step - loss: 0.4148 - output_1_loss: 0.4010 - output_2_loss: 0.5388 - output_1_root_mean_squared_error: 0.6333 - output_2_root_mean_squared_error: 0.7340 - val_loss: 0.4638 - val_output_1_loss: 0.4534 - val_output_2_loss: 0.5575 - val_output_1_root_mean_squared_error: 0.6733 - val_output_2_root_mean_squared_error: 0.7466\n",
      "Epoch 16/50\n",
      "361/363 [============================>.] - ETA: 0s - loss: 0.4151 - output_1_loss: 0.4012 - output_2_loss: 0.5396 - output_1_root_mean_squared_error: 0.6334 - output_2_root_mean_squared_error: 0.7346Epoch=15, val/train=0.94\n",
      "363/363 [==============================] - 3s 8ms/step - loss: 0.4143 - output_1_loss: 0.4004 - output_2_loss: 0.5387 - output_1_root_mean_squared_error: 0.6328 - output_2_root_mean_squared_error: 0.7339 - val_loss: 0.3879 - val_output_1_loss: 0.3722 - val_output_2_loss: 0.5290 - val_output_1_root_mean_squared_error: 0.6101 - val_output_2_root_mean_squared_error: 0.7273\n",
      "Epoch 17/50\n",
      "361/363 [============================>.] - ETA: 0s - loss: 0.4152 - output_1_loss: 0.4015 - output_2_loss: 0.5383 - output_1_root_mean_squared_error: 0.6337 - output_2_root_mean_squared_error: 0.7337Epoch=16, val/train=1.04\n",
      "363/363 [==============================] - 3s 9ms/step - loss: 0.4161 - output_1_loss: 0.4024 - output_2_loss: 0.5391 - output_1_root_mean_squared_error: 0.6344 - output_2_root_mean_squared_error: 0.7342 - val_loss: 0.4314 - val_output_1_loss: 0.4211 - val_output_2_loss: 0.5241 - val_output_1_root_mean_squared_error: 0.6489 - val_output_2_root_mean_squared_error: 0.7240\n",
      "Epoch 18/50\n",
      "363/363 [==============================] - ETA: 0s - loss: 0.4131 - output_1_loss: 0.3995 - output_2_loss: 0.5362 - output_1_root_mean_squared_error: 0.6320 - output_2_root_mean_squared_error: 0.7323Epoch=17, val/train=0.93\n",
      "363/363 [==============================] - 3s 9ms/step - loss: 0.4131 - output_1_loss: 0.3995 - output_2_loss: 0.5362 - output_1_root_mean_squared_error: 0.6320 - output_2_root_mean_squared_error: 0.7323 - val_loss: 0.3848 - val_output_1_loss: 0.3702 - val_output_2_loss: 0.5168 - val_output_1_root_mean_squared_error: 0.6084 - val_output_2_root_mean_squared_error: 0.7189\n",
      "Epoch 19/50\n",
      "363/363 [==============================] - ETA: 0s - loss: 0.4144 - output_1_loss: 0.4011 - output_2_loss: 0.5339 - output_1_root_mean_squared_error: 0.6333 - output_2_root_mean_squared_error: 0.7307Epoch=18, val/train=0.95\n",
      "363/363 [==============================] - 3s 8ms/step - loss: 0.4144 - output_1_loss: 0.4011 - output_2_loss: 0.5339 - output_1_root_mean_squared_error: 0.6333 - output_2_root_mean_squared_error: 0.7307 - val_loss: 0.3925 - val_output_1_loss: 0.3782 - val_output_2_loss: 0.5206 - val_output_1_root_mean_squared_error: 0.6150 - val_output_2_root_mean_squared_error: 0.7215\n",
      "Epoch 20/50\n",
      "359/363 [============================>.] - ETA: 0s - loss: 0.4100 - output_1_loss: 0.3965 - output_2_loss: 0.5311 - output_1_root_mean_squared_error: 0.6297 - output_2_root_mean_squared_error: 0.7288Epoch=19, val/train=0.99\n",
      "363/363 [==============================] - 3s 8ms/step - loss: 0.4112 - output_1_loss: 0.3977 - output_2_loss: 0.5331 - output_1_root_mean_squared_error: 0.6306 - output_2_root_mean_squared_error: 0.7302 - val_loss: 0.4066 - val_output_1_loss: 0.3921 - val_output_2_loss: 0.5368 - val_output_1_root_mean_squared_error: 0.6262 - val_output_2_root_mean_squared_error: 0.7327\n",
      "Epoch 21/50\n",
      "361/363 [============================>.] - ETA: 0s - loss: 0.4086 - output_1_loss: 0.3953 - output_2_loss: 0.5285 - output_1_root_mean_squared_error: 0.6287 - output_2_root_mean_squared_error: 0.7270Epoch=20, val/train=0.95\n",
      "363/363 [==============================] - 3s 8ms/step - loss: 0.4087 - output_1_loss: 0.3954 - output_2_loss: 0.5284 - output_1_root_mean_squared_error: 0.6288 - output_2_root_mean_squared_error: 0.7269 - val_loss: 0.3862 - val_output_1_loss: 0.3688 - val_output_2_loss: 0.5428 - val_output_1_root_mean_squared_error: 0.6073 - val_output_2_root_mean_squared_error: 0.7367\n",
      "Epoch 22/50\n",
      "359/363 [============================>.] - ETA: 0s - loss: 0.4065 - output_1_loss: 0.3935 - output_2_loss: 0.5240 - output_1_root_mean_squared_error: 0.6273 - output_2_root_mean_squared_error: 0.7239Epoch=21, val/train=1.02\n",
      "363/363 [==============================] - 3s 8ms/step - loss: 0.4087 - output_1_loss: 0.3956 - output_2_loss: 0.5267 - output_1_root_mean_squared_error: 0.6289 - output_2_root_mean_squared_error: 0.7257 - val_loss: 0.4159 - val_output_1_loss: 0.4050 - val_output_2_loss: 0.5144 - val_output_1_root_mean_squared_error: 0.6364 - val_output_2_root_mean_squared_error: 0.7172\n",
      "Epoch 23/50\n",
      "360/363 [============================>.] - ETA: 0s - loss: 0.4040 - output_1_loss: 0.3910 - output_2_loss: 0.5209 - output_1_root_mean_squared_error: 0.6253 - output_2_root_mean_squared_error: 0.7217Epoch=22, val/train=1.01\n",
      "363/363 [==============================] - 3s 8ms/step - loss: 0.4045 - output_1_loss: 0.3915 - output_2_loss: 0.5211 - output_1_root_mean_squared_error: 0.6257 - output_2_root_mean_squared_error: 0.7219 - val_loss: 0.4096 - val_output_1_loss: 0.3967 - val_output_2_loss: 0.5262 - val_output_1_root_mean_squared_error: 0.6298 - val_output_2_root_mean_squared_error: 0.7254\n",
      "Epoch 24/50\n",
      "359/363 [============================>.] - ETA: 0s - loss: 0.4028 - output_1_loss: 0.3901 - output_2_loss: 0.5172 - output_1_root_mean_squared_error: 0.6245 - output_2_root_mean_squared_error: 0.7192Epoch=23, val/train=0.95\n",
      "363/363 [==============================] - 3s 8ms/step - loss: 0.4022 - output_1_loss: 0.3895 - output_2_loss: 0.5162 - output_1_root_mean_squared_error: 0.6241 - output_2_root_mean_squared_error: 0.7184 - val_loss: 0.3824 - val_output_1_loss: 0.3693 - val_output_2_loss: 0.4999 - val_output_1_root_mean_squared_error: 0.6077 - val_output_2_root_mean_squared_error: 0.7070\n",
      "Epoch 25/50\n",
      "360/363 [============================>.] - ETA: 0s - loss: 0.3987 - output_1_loss: 0.3864 - output_2_loss: 0.5089 - output_1_root_mean_squared_error: 0.6216 - output_2_root_mean_squared_error: 0.7134Epoch=24, val/train=0.98\n",
      "363/363 [==============================] - 3s 8ms/step - loss: 0.3982 - output_1_loss: 0.3860 - output_2_loss: 0.5082 - output_1_root_mean_squared_error: 0.6213 - output_2_root_mean_squared_error: 0.7129 - val_loss: 0.3883 - val_output_1_loss: 0.3704 - val_output_2_loss: 0.5488 - val_output_1_root_mean_squared_error: 0.6086 - val_output_2_root_mean_squared_error: 0.7408\n",
      "Epoch 26/50\n",
      "361/363 [============================>.] - ETA: 0s - loss: 0.3958 - output_1_loss: 0.3841 - output_2_loss: 0.5010 - output_1_root_mean_squared_error: 0.6197 - output_2_root_mean_squared_error: 0.7078Epoch=25, val/train=0.95\n",
      "363/363 [==============================] - 3s 8ms/step - loss: 0.3952 - output_1_loss: 0.3835 - output_2_loss: 0.5005 - output_1_root_mean_squared_error: 0.6193 - output_2_root_mean_squared_error: 0.7075 - val_loss: 0.3752 - val_output_1_loss: 0.3619 - val_output_2_loss: 0.4947 - val_output_1_root_mean_squared_error: 0.6016 - val_output_2_root_mean_squared_error: 0.7033\n",
      "Epoch 27/50\n",
      "357/363 [============================>.] - ETA: 0s - loss: 0.3916 - output_1_loss: 0.3802 - output_2_loss: 0.4936 - output_1_root_mean_squared_error: 0.6166 - output_2_root_mean_squared_error: 0.7026Epoch=26, val/train=0.99\n",
      "363/363 [==============================] - 3s 8ms/step - loss: 0.3916 - output_1_loss: 0.3803 - output_2_loss: 0.4938 - output_1_root_mean_squared_error: 0.6166 - output_2_root_mean_squared_error: 0.7027 - val_loss: 0.3870 - val_output_1_loss: 0.3722 - val_output_2_loss: 0.5208 - val_output_1_root_mean_squared_error: 0.6101 - val_output_2_root_mean_squared_error: 0.7217\n",
      "Epoch 28/50\n",
      "360/363 [============================>.] - ETA: 0s - loss: 0.3882 - output_1_loss: 0.3773 - output_2_loss: 0.4857 - output_1_root_mean_squared_error: 0.6143 - output_2_root_mean_squared_error: 0.6969Epoch=27, val/train=1.10\n",
      "363/363 [==============================] - 3s 8ms/step - loss: 0.3878 - output_1_loss: 0.3770 - output_2_loss: 0.4848 - output_1_root_mean_squared_error: 0.6140 - output_2_root_mean_squared_error: 0.6963 - val_loss: 0.4267 - val_output_1_loss: 0.4126 - val_output_2_loss: 0.5537 - val_output_1_root_mean_squared_error: 0.6424 - val_output_2_root_mean_squared_error: 0.7441\n",
      "Epoch 29/50\n",
      "356/363 [============================>.] - ETA: 0s - loss: 0.3834 - output_1_loss: 0.3731 - output_2_loss: 0.4761 - output_1_root_mean_squared_error: 0.6108 - output_2_root_mean_squared_error: 0.6900Epoch=28, val/train=0.98\n",
      "363/363 [==============================] - 3s 8ms/step - loss: 0.3848 - output_1_loss: 0.3744 - output_2_loss: 0.4786 - output_1_root_mean_squared_error: 0.6119 - output_2_root_mean_squared_error: 0.6918 - val_loss: 0.3769 - val_output_1_loss: 0.3563 - val_output_2_loss: 0.5624 - val_output_1_root_mean_squared_error: 0.5969 - val_output_2_root_mean_squared_error: 0.7500\n",
      "Epoch 30/50\n",
      "361/363 [============================>.] - ETA: 0s - loss: 0.3814 - output_1_loss: 0.3716 - output_2_loss: 0.4694 - output_1_root_mean_squared_error: 0.6096 - output_2_root_mean_squared_error: 0.6851Epoch=29, val/train=1.22\n",
      "363/363 [==============================] - 3s 8ms/step - loss: 0.3811 - output_1_loss: 0.3714 - output_2_loss: 0.4693 - output_1_root_mean_squared_error: 0.6094 - output_2_root_mean_squared_error: 0.6850 - val_loss: 0.4647 - val_output_1_loss: 0.4618 - val_output_2_loss: 0.4905 - val_output_1_root_mean_squared_error: 0.6796 - val_output_2_root_mean_squared_error: 0.7004\n",
      "Epoch 31/50\n",
      "358/363 [============================>.] - ETA: 0s - loss: 0.3810 - output_1_loss: 0.3717 - output_2_loss: 0.4645 - output_1_root_mean_squared_error: 0.6097 - output_2_root_mean_squared_error: 0.6815Epoch=30, val/train=0.95\n",
      "363/363 [==============================] - 3s 8ms/step - loss: 0.3803 - output_1_loss: 0.3711 - output_2_loss: 0.4631 - output_1_root_mean_squared_error: 0.6092 - output_2_root_mean_squared_error: 0.6805 - val_loss: 0.3623 - val_output_1_loss: 0.3528 - val_output_2_loss: 0.4477 - val_output_1_root_mean_squared_error: 0.5940 - val_output_2_root_mean_squared_error: 0.6691\n",
      "Epoch 32/50\n",
      "361/363 [============================>.] - ETA: 0s - loss: 0.3744 - output_1_loss: 0.3654 - output_2_loss: 0.4557 - output_1_root_mean_squared_error: 0.6045 - output_2_root_mean_squared_error: 0.6751Epoch=31, val/train=1.06\n",
      "363/363 [==============================] - 3s 8ms/step - loss: 0.3755 - output_1_loss: 0.3665 - output_2_loss: 0.4564 - output_1_root_mean_squared_error: 0.6054 - output_2_root_mean_squared_error: 0.6756 - val_loss: 0.3972 - val_output_1_loss: 0.3872 - val_output_2_loss: 0.4872 - val_output_1_root_mean_squared_error: 0.6222 - val_output_2_root_mean_squared_error: 0.6980\n",
      "Epoch 33/50\n",
      "358/363 [============================>.] - ETA: 0s - loss: 0.3737 - output_1_loss: 0.3649 - output_2_loss: 0.4526 - output_1_root_mean_squared_error: 0.6041 - output_2_root_mean_squared_error: 0.6728Epoch=32, val/train=1.23\n",
      "363/363 [==============================] - 3s 8ms/step - loss: 0.3732 - output_1_loss: 0.3643 - output_2_loss: 0.4530 - output_1_root_mean_squared_error: 0.6036 - output_2_root_mean_squared_error: 0.6731 - val_loss: 0.4607 - val_output_1_loss: 0.4426 - val_output_2_loss: 0.6241 - val_output_1_root_mean_squared_error: 0.6653 - val_output_2_root_mean_squared_error: 0.7900\n",
      "Epoch 34/50\n",
      "360/363 [============================>.] - ETA: 0s - loss: 0.3691 - output_1_loss: 0.3607 - output_2_loss: 0.4452 - output_1_root_mean_squared_error: 0.6006 - output_2_root_mean_squared_error: 0.6672Epoch=33, val/train=1.38\n",
      "363/363 [==============================] - 3s 8ms/step - loss: 0.3702 - output_1_loss: 0.3619 - output_2_loss: 0.4457 - output_1_root_mean_squared_error: 0.6015 - output_2_root_mean_squared_error: 0.6676 - val_loss: 0.5108 - val_output_1_loss: 0.4897 - val_output_2_loss: 0.7007 - val_output_1_root_mean_squared_error: 0.6998 - val_output_2_root_mean_squared_error: 0.8371\n",
      "Epoch 35/50\n",
      "359/363 [============================>.] - ETA: 0s - loss: 0.3712 - output_1_loss: 0.3630 - output_2_loss: 0.4449 - output_1_root_mean_squared_error: 0.6025 - output_2_root_mean_squared_error: 0.6670Epoch=34, val/train=1.89\n",
      "363/363 [==============================] - 3s 8ms/step - loss: 0.3704 - output_1_loss: 0.3622 - output_2_loss: 0.4441 - output_1_root_mean_squared_error: 0.6018 - output_2_root_mean_squared_error: 0.6664 - val_loss: 0.6991 - val_output_1_loss: 0.6629 - val_output_2_loss: 1.0249 - val_output_1_root_mean_squared_error: 0.8142 - val_output_2_root_mean_squared_error: 1.0124\n",
      "Epoch 36/50\n",
      "357/363 [============================>.] - ETA: 0s - loss: 0.3688 - output_1_loss: 0.3606 - output_2_loss: 0.4421 - output_1_root_mean_squared_error: 0.6005 - output_2_root_mean_squared_error: 0.6649Epoch=35, val/train=0.98\n",
      "363/363 [==============================] - 3s 8ms/step - loss: 0.3689 - output_1_loss: 0.3608 - output_2_loss: 0.4418 - output_1_root_mean_squared_error: 0.6007 - output_2_root_mean_squared_error: 0.6647 - val_loss: 0.3607 - val_output_1_loss: 0.3472 - val_output_2_loss: 0.4822 - val_output_1_root_mean_squared_error: 0.5892 - val_output_2_root_mean_squared_error: 0.6944\n",
      "Epoch 37/50\n",
      "360/363 [============================>.] - ETA: 0s - loss: 0.3658 - output_1_loss: 0.3578 - output_2_loss: 0.4369 - output_1_root_mean_squared_error: 0.5982 - output_2_root_mean_squared_error: 0.6610Epoch=36, val/train=0.93\n",
      "363/363 [==============================] - 3s 8ms/step - loss: 0.3673 - output_1_loss: 0.3595 - output_2_loss: 0.4380 - output_1_root_mean_squared_error: 0.5996 - output_2_root_mean_squared_error: 0.6618 - val_loss: 0.3422 - val_output_1_loss: 0.3339 - val_output_2_loss: 0.4170 - val_output_1_root_mean_squared_error: 0.5778 - val_output_2_root_mean_squared_error: 0.6457\n",
      "Epoch 38/50\n",
      "358/363 [============================>.] - ETA: 0s - loss: 0.3658 - output_1_loss: 0.3580 - output_2_loss: 0.4360 - output_1_root_mean_squared_error: 0.5983 - output_2_root_mean_squared_error: 0.6603Epoch=37, val/train=0.94\n",
      "363/363 [==============================] - 3s 8ms/step - loss: 0.3654 - output_1_loss: 0.3576 - output_2_loss: 0.4355 - output_1_root_mean_squared_error: 0.5980 - output_2_root_mean_squared_error: 0.6599 - val_loss: 0.3449 - val_output_1_loss: 0.3358 - val_output_2_loss: 0.4266 - val_output_1_root_mean_squared_error: 0.5795 - val_output_2_root_mean_squared_error: 0.6532\n",
      "Epoch 39/50\n",
      "360/363 [============================>.] - ETA: 0s - loss: 0.3652 - output_1_loss: 0.3578 - output_2_loss: 0.4320 - output_1_root_mean_squared_error: 0.5982 - output_2_root_mean_squared_error: 0.6573Epoch=38, val/train=0.94\n",
      "363/363 [==============================] - 3s 8ms/step - loss: 0.3658 - output_1_loss: 0.3583 - output_2_loss: 0.4332 - output_1_root_mean_squared_error: 0.5986 - output_2_root_mean_squared_error: 0.6582 - val_loss: 0.3431 - val_output_1_loss: 0.3350 - val_output_2_loss: 0.4167 - val_output_1_root_mean_squared_error: 0.5788 - val_output_2_root_mean_squared_error: 0.6455\n",
      "Epoch 40/50\n",
      "358/363 [============================>.] - ETA: 0s - loss: 0.3609 - output_1_loss: 0.3535 - output_2_loss: 0.4270 - output_1_root_mean_squared_error: 0.5946 - output_2_root_mean_squared_error: 0.6534Epoch=39, val/train=0.97\n",
      "363/363 [==============================] - 3s 8ms/step - loss: 0.3608 - output_1_loss: 0.3534 - output_2_loss: 0.4269 - output_1_root_mean_squared_error: 0.5945 - output_2_root_mean_squared_error: 0.6534 - val_loss: 0.3493 - val_output_1_loss: 0.3412 - val_output_2_loss: 0.4219 - val_output_1_root_mean_squared_error: 0.5842 - val_output_2_root_mean_squared_error: 0.6496\n",
      "Epoch 41/50\n",
      "359/363 [============================>.] - ETA: 0s - loss: 0.3626 - output_1_loss: 0.3553 - output_2_loss: 0.4282 - output_1_root_mean_squared_error: 0.5960 - output_2_root_mean_squared_error: 0.6544Epoch=40, val/train=0.93\n",
      "363/363 [==============================] - 3s 8ms/step - loss: 0.3625 - output_1_loss: 0.3552 - output_2_loss: 0.4281 - output_1_root_mean_squared_error: 0.5960 - output_2_root_mean_squared_error: 0.6543 - val_loss: 0.3359 - val_output_1_loss: 0.3273 - val_output_2_loss: 0.4130 - val_output_1_root_mean_squared_error: 0.5721 - val_output_2_root_mean_squared_error: 0.6426\n",
      "Epoch 42/50\n",
      "360/363 [============================>.] - ETA: 0s - loss: 0.3604 - output_1_loss: 0.3531 - output_2_loss: 0.4255 - output_1_root_mean_squared_error: 0.5943 - output_2_root_mean_squared_error: 0.6523Epoch=41, val/train=0.99\n",
      "363/363 [==============================] - 3s 8ms/step - loss: 0.3604 - output_1_loss: 0.3532 - output_2_loss: 0.4250 - output_1_root_mean_squared_error: 0.5943 - output_2_root_mean_squared_error: 0.6519 - val_loss: 0.3550 - val_output_1_loss: 0.3458 - val_output_2_loss: 0.4374 - val_output_1_root_mean_squared_error: 0.5881 - val_output_2_root_mean_squared_error: 0.6613\n",
      "Epoch 43/50\n",
      "356/363 [============================>.] - ETA: 0s - loss: 0.3576 - output_1_loss: 0.3502 - output_2_loss: 0.4238 - output_1_root_mean_squared_error: 0.5918 - output_2_root_mean_squared_error: 0.6510Epoch=42, val/train=1.04\n",
      "363/363 [==============================] - 3s 8ms/step - loss: 0.3600 - output_1_loss: 0.3529 - output_2_loss: 0.4243 - output_1_root_mean_squared_error: 0.5940 - output_2_root_mean_squared_error: 0.6514 - val_loss: 0.3761 - val_output_1_loss: 0.3644 - val_output_2_loss: 0.4816 - val_output_1_root_mean_squared_error: 0.6037 - val_output_2_root_mean_squared_error: 0.6940\n",
      "Epoch 44/50\n",
      "358/363 [============================>.] - ETA: 0s - loss: 0.3599 - output_1_loss: 0.3529 - output_2_loss: 0.4226 - output_1_root_mean_squared_error: 0.5940 - output_2_root_mean_squared_error: 0.6500Epoch=43, val/train=1.22\n",
      "363/363 [==============================] - 3s 8ms/step - loss: 0.3603 - output_1_loss: 0.3534 - output_2_loss: 0.4230 - output_1_root_mean_squared_error: 0.5945 - output_2_root_mean_squared_error: 0.6504 - val_loss: 0.4413 - val_output_1_loss: 0.4263 - val_output_2_loss: 0.5763 - val_output_1_root_mean_squared_error: 0.6529 - val_output_2_root_mean_squared_error: 0.7592\n",
      "Epoch 45/50\n",
      "361/363 [============================>.] - ETA: 0s - loss: 0.3574 - output_1_loss: 0.3505 - output_2_loss: 0.4194 - output_1_root_mean_squared_error: 0.5920 - output_2_root_mean_squared_error: 0.6476Epoch=44, val/train=1.37\n",
      "363/363 [==============================] - 3s 8ms/step - loss: 0.3575 - output_1_loss: 0.3506 - output_2_loss: 0.4197 - output_1_root_mean_squared_error: 0.5921 - output_2_root_mean_squared_error: 0.6478 - val_loss: 0.4884 - val_output_1_loss: 0.4565 - val_output_2_loss: 0.7754 - val_output_1_root_mean_squared_error: 0.6756 - val_output_2_root_mean_squared_error: 0.8806\n",
      "Epoch 46/50\n",
      "358/363 [============================>.] - ETA: 0s - loss: 0.3570 - output_1_loss: 0.3501 - output_2_loss: 0.4194 - output_1_root_mean_squared_error: 0.5917 - output_2_root_mean_squared_error: 0.6476Epoch=45, val/train=1.80\n",
      "363/363 [==============================] - 3s 8ms/step - loss: 0.3578 - output_1_loss: 0.3509 - output_2_loss: 0.4198 - output_1_root_mean_squared_error: 0.5924 - output_2_root_mean_squared_error: 0.6479 - val_loss: 0.6442 - val_output_1_loss: 0.6108 - val_output_2_loss: 0.9451 - val_output_1_root_mean_squared_error: 0.7815 - val_output_2_root_mean_squared_error: 0.9722\n",
      "Epoch 47/50\n",
      "357/363 [============================>.] - ETA: 0s - loss: 0.3549 - output_1_loss: 0.3481 - output_2_loss: 0.4161 - output_1_root_mean_squared_error: 0.5900 - output_2_root_mean_squared_error: 0.6450Epoch=46, val/train=1.27\n",
      "363/363 [==============================] - 3s 8ms/step - loss: 0.3556 - output_1_loss: 0.3488 - output_2_loss: 0.4160 - output_1_root_mean_squared_error: 0.5906 - output_2_root_mean_squared_error: 0.6450 - val_loss: 0.4521 - val_output_1_loss: 0.4297 - val_output_2_loss: 0.6537 - val_output_1_root_mean_squared_error: 0.6555 - val_output_2_root_mean_squared_error: 0.8085\n",
      "Epoch 48/50\n",
      "360/363 [============================>.] - ETA: 0s - loss: 0.3549 - output_1_loss: 0.3482 - output_2_loss: 0.4151 - output_1_root_mean_squared_error: 0.5901 - output_2_root_mean_squared_error: 0.6442Epoch=47, val/train=1.99\n",
      "363/363 [==============================] - 3s 8ms/step - loss: 0.3543 - output_1_loss: 0.3476 - output_2_loss: 0.4147 - output_1_root_mean_squared_error: 0.5895 - output_2_root_mean_squared_error: 0.6439 - val_loss: 0.7048 - val_output_1_loss: 0.6700 - val_output_2_loss: 1.0176 - val_output_1_root_mean_squared_error: 0.8185 - val_output_2_root_mean_squared_error: 1.0088\n",
      "Epoch 49/50\n",
      "360/363 [============================>.] - ETA: 0s - loss: 0.3546 - output_1_loss: 0.3479 - output_2_loss: 0.4144 - output_1_root_mean_squared_error: 0.5898 - output_2_root_mean_squared_error: 0.6437Epoch=48, val/train=0.95\n",
      "363/363 [==============================] - 3s 8ms/step - loss: 0.3547 - output_1_loss: 0.3481 - output_2_loss: 0.4146 - output_1_root_mean_squared_error: 0.5900 - output_2_root_mean_squared_error: 0.6439 - val_loss: 0.3359 - val_output_1_loss: 0.3273 - val_output_2_loss: 0.4130 - val_output_1_root_mean_squared_error: 0.5721 - val_output_2_root_mean_squared_error: 0.6426\n",
      "Epoch 50/50\n",
      "362/363 [============================>.] - ETA: 0s - loss: 0.3552 - output_1_loss: 0.3487 - output_2_loss: 0.4137 - output_1_root_mean_squared_error: 0.5905 - output_2_root_mean_squared_error: 0.6432Epoch=49, val/train=1.26\n",
      "363/363 [==============================] - 3s 8ms/step - loss: 0.3547 - output_1_loss: 0.3482 - output_2_loss: 0.4133 - output_1_root_mean_squared_error: 0.5901 - output_2_root_mean_squared_error: 0.6429 - val_loss: 0.4467 - val_output_1_loss: 0.4323 - val_output_2_loss: 0.5758 - val_output_1_root_mean_squared_error: 0.6575 - val_output_2_root_mean_squared_error: 0.7588\n"
     ]
    }
   ],
   "source": [
    "# Custom callback\n",
    "class PrintValTrainratioCallback(tf.keras.callbacks.Callback):\n",
    "    def on_epoch_end(self, epoch, logs):\n",
    "        ratio = logs[\"val_loss\"] / logs[\"loss\"]\n",
    "        print(f\"Epoch={epoch}, val/train={ratio:.2f}\")\n",
    "\n",
    "history = model.fit(\n",
    "    (X_train_wide, X_train_deep), (y_train, y_train), epochs=20,\n",
    "    validation_data=((X_valid_wide, X_valid_deep), (y_valid, y_valid)),\n",
    "    callbacks=[PrintValTrainratioCallback()]\n",
    ")"
   ]
  },
  {
   "cell_type": "markdown",
   "metadata": {},
   "source": [
    "### Using TensorBoard for Visualization"
   ]
  },
  {
   "cell_type": "code",
   "execution_count": 71,
   "metadata": {},
   "outputs": [
    {
     "data": {
      "text/plain": [
       "PosixPath('my_logs/run_2024_04_03_11_50_48')"
      ]
     },
     "execution_count": 71,
     "metadata": {},
     "output_type": "execute_result"
    }
   ],
   "source": [
    "from pathlib import Path\n",
    "from time import strftime\n",
    "\n",
    "def get_run_logdir(root_logdir=\"my_logs\"):\n",
    "    return Path(root_logdir) / strftime(\"run_%Y_%m_%d_%H_%M_%S\")\n",
    "\n",
    "run_logdir = get_run_logdir()\n",
    "run_logdir"
   ]
  },
  {
   "cell_type": "code",
   "execution_count": 73,
   "metadata": {},
   "outputs": [
    {
     "name": "stdout",
     "output_type": "stream",
     "text": [
      "Epoch 1/20\n"
     ]
    },
    {
     "name": "stderr",
     "output_type": "stream",
     "text": [
      "2024-04-03 11:55:21.613485: I tensorflow/tsl/profiler/lib/profiler_session.cc:104] Profiler session initializing.\n",
      "2024-04-03 11:55:21.613496: I tensorflow/tsl/profiler/lib/profiler_session.cc:119] Profiler session started.\n",
      "2024-04-03 11:55:21.613560: I tensorflow/tsl/profiler/lib/profiler_session.cc:131] Profiler session tear down.\n"
     ]
    },
    {
     "name": "stdout",
     "output_type": "stream",
     "text": [
      "140/363 [==========>...................] - ETA: 1s - loss: 2.1131 - root_mean_squared_error: 1.4537"
     ]
    },
    {
     "name": "stderr",
     "output_type": "stream",
     "text": [
      "2024-04-03 11:55:22.265047: I tensorflow/tsl/profiler/lib/profiler_session.cc:104] Profiler session initializing.\n",
      "2024-04-03 11:55:22.265058: I tensorflow/tsl/profiler/lib/profiler_session.cc:119] Profiler session started.\n"
     ]
    },
    {
     "name": "stdout",
     "output_type": "stream",
     "text": [
      "234/363 [==================>...........] - ETA: 0s - loss: 1.8178 - root_mean_squared_error: 1.3482"
     ]
    },
    {
     "name": "stderr",
     "output_type": "stream",
     "text": [
      "2024-04-03 11:55:22.729696: I tensorflow/tsl/profiler/lib/profiler_session.cc:70] Profiler session collecting data.\n",
      "2024-04-03 11:55:22.765326: I tensorflow/tsl/profiler/lib/profiler_session.cc:131] Profiler session tear down.\n",
      "2024-04-03 11:55:22.765543: I tensorflow/tsl/profiler/rpc/client/save_profile.cc:144] Collecting XSpace to repository: my_logs/run_2024_04_03_11_55_21/plugins/profile/2024_04_03_11_55_22/nikolaoss-mbp.xplane.pb\n"
     ]
    },
    {
     "name": "stdout",
     "output_type": "stream",
     "text": [
      "363/363 [==============================] - 2s 6ms/step - loss: 1.5897 - root_mean_squared_error: 1.2608 - val_loss: 1.5444 - val_root_mean_squared_error: 1.2427\n",
      "Epoch 2/20\n",
      "363/363 [==============================] - 2s 5ms/step - loss: 0.9336 - root_mean_squared_error: 0.9663 - val_loss: 0.7986 - val_root_mean_squared_error: 0.8936\n",
      "Epoch 3/20\n",
      "363/363 [==============================] - 2s 5ms/step - loss: 0.7438 - root_mean_squared_error: 0.8624 - val_loss: 0.6913 - val_root_mean_squared_error: 0.8314\n",
      "Epoch 4/20\n",
      "363/363 [==============================] - 2s 6ms/step - loss: 0.6918 - root_mean_squared_error: 0.8318 - val_loss: 0.6587 - val_root_mean_squared_error: 0.8116\n",
      "Epoch 5/20\n",
      "363/363 [==============================] - 2s 5ms/step - loss: 0.6723 - root_mean_squared_error: 0.8200 - val_loss: 0.6491 - val_root_mean_squared_error: 0.8057\n",
      "Epoch 6/20\n",
      "363/363 [==============================] - 2s 6ms/step - loss: 0.6560 - root_mean_squared_error: 0.8099 - val_loss: 0.6239 - val_root_mean_squared_error: 0.7898\n",
      "Epoch 7/20\n",
      "363/363 [==============================] - 2s 5ms/step - loss: 0.6420 - root_mean_squared_error: 0.8013 - val_loss: 0.6070 - val_root_mean_squared_error: 0.7791\n",
      "Epoch 8/20\n",
      "363/363 [==============================] - 2s 5ms/step - loss: 0.6282 - root_mean_squared_error: 0.7926 - val_loss: 0.5963 - val_root_mean_squared_error: 0.7722\n",
      "Epoch 9/20\n",
      "363/363 [==============================] - 2s 5ms/step - loss: 0.6142 - root_mean_squared_error: 0.7837 - val_loss: 0.5806 - val_root_mean_squared_error: 0.7620\n",
      "Epoch 10/20\n",
      "363/363 [==============================] - 2s 6ms/step - loss: 0.6006 - root_mean_squared_error: 0.7750 - val_loss: 0.5677 - val_root_mean_squared_error: 0.7535\n",
      "Epoch 11/20\n",
      "363/363 [==============================] - 2s 5ms/step - loss: 0.5884 - root_mean_squared_error: 0.7670 - val_loss: 0.5654 - val_root_mean_squared_error: 0.7519\n",
      "Epoch 12/20\n",
      "363/363 [==============================] - 2s 6ms/step - loss: 0.5760 - root_mean_squared_error: 0.7589 - val_loss: 0.5414 - val_root_mean_squared_error: 0.7358\n",
      "Epoch 13/20\n",
      "363/363 [==============================] - 2s 5ms/step - loss: 0.5642 - root_mean_squared_error: 0.7512 - val_loss: 0.5312 - val_root_mean_squared_error: 0.7289\n",
      "Epoch 14/20\n",
      "363/363 [==============================] - 2s 5ms/step - loss: 0.5527 - root_mean_squared_error: 0.7434 - val_loss: 0.5204 - val_root_mean_squared_error: 0.7214\n",
      "Epoch 15/20\n",
      "363/363 [==============================] - 2s 5ms/step - loss: 0.5419 - root_mean_squared_error: 0.7362 - val_loss: 0.5082 - val_root_mean_squared_error: 0.7129\n",
      "Epoch 16/20\n",
      "363/363 [==============================] - 2s 5ms/step - loss: 0.5310 - root_mean_squared_error: 0.7287 - val_loss: 0.4998 - val_root_mean_squared_error: 0.7069\n",
      "Epoch 17/20\n",
      "363/363 [==============================] - 2s 6ms/step - loss: 0.5218 - root_mean_squared_error: 0.7223 - val_loss: 0.4908 - val_root_mean_squared_error: 0.7005\n",
      "Epoch 18/20\n",
      "363/363 [==============================] - 2s 5ms/step - loss: 0.5121 - root_mean_squared_error: 0.7156 - val_loss: 0.4827 - val_root_mean_squared_error: 0.6948\n",
      "Epoch 19/20\n",
      "363/363 [==============================] - 2s 6ms/step - loss: 0.5036 - root_mean_squared_error: 0.7096 - val_loss: 0.4706 - val_root_mean_squared_error: 0.6860\n",
      "Epoch 20/20\n",
      "363/363 [==============================] - 2s 6ms/step - loss: 0.4966 - root_mean_squared_error: 0.7047 - val_loss: 0.4712 - val_root_mean_squared_error: 0.6864\n"
     ]
    }
   ],
   "source": [
    "tf.keras.backend.clear_session()\n",
    "tf.random.set_seed(42)\n",
    "norm_layer = tf.keras.layers.Normalization(input_shape=X_train.shape[1:])\n",
    "model = tf.keras.Sequential([\n",
    "    norm_layer,\n",
    "    tf.keras.layers.Dense(30, activation=\"softplus\"),\n",
    "    tf.keras.layers.Dense(30, activation=\"softplus\"),\n",
    "    tf.keras.layers.Dense(1)\n",
    "])\n",
    "optimizer = tf.keras.optimizers.legacy.SGD(learning_rate=1e-3)\n",
    "model.compile(loss=\"mse\", optimizer=optimizer, metrics=[\"RootMeanSquaredError\"])\n",
    "norm_layer.adapt(X_train)\n",
    "\n",
    "# Use the Tensorboard Callback to create the logdir and collect the event files during training\n",
    "tensorboard_cb = tf.keras.callbacks.TensorBoard(get_run_logdir(),\n",
    "                                                profile_batch=(100, 200))\n",
    "\n",
    "history = model.fit(X_train, y_train, epochs=20,\n",
    "                    validation_data=(X_valid, y_valid),\n",
    "                    callbacks=[tensorboard_cb])"
   ]
  },
  {
   "cell_type": "code",
   "execution_count": 75,
   "metadata": {},
   "outputs": [
    {
     "name": "stdout",
     "output_type": "stream",
     "text": [
      "The tensorboard extension is already loaded. To reload it, use:\n",
      "  %reload_ext tensorboard\n"
     ]
    },
    {
     "data": {
      "text/plain": [
       "Reusing TensorBoard on port 6006 (pid 1268), started 0:01:13 ago. (Use '!kill 1268' to kill it.)"
      ]
     },
     "metadata": {},
     "output_type": "display_data"
    },
    {
     "data": {
      "text/html": [
       "\n",
       "      <iframe id=\"tensorboard-frame-47d6c6cbe2637300\" width=\"100%\" height=\"800\" frameborder=\"0\">\n",
       "      </iframe>\n",
       "      <script>\n",
       "        (function() {\n",
       "          const frame = document.getElementById(\"tensorboard-frame-47d6c6cbe2637300\");\n",
       "          const url = new URL(\"http://localhost\");\n",
       "          const port = 6006;\n",
       "          if (port) {\n",
       "            url.port = port;\n",
       "          }\n",
       "          frame.src = url;\n",
       "        })();\n",
       "      </script>\n",
       "    "
      ],
      "text/plain": [
       "<IPython.core.display.HTML object>"
      ]
     },
     "metadata": {},
     "output_type": "display_data"
    }
   ],
   "source": [
    "# Start the Tensorboard server\n",
    "%load_ext tensorboard\n",
    "%tensorboard --logdir=./my_logs"
   ]
  },
  {
   "cell_type": "code",
   "execution_count": 76,
   "metadata": {},
   "outputs": [],
   "source": [
    "test_logdir = get_run_logdir()\n",
    "writer = tf.summary.create_file_writer(str(test_logdir))\n",
    "with writer.as_default():\n",
    "    for step in range(1, 1000 + 1):\n",
    "        tf.summary.scalar(\"my_scalar\", np.sin(step / 10), step=step)\n",
    "        \n",
    "        data = (np.random.randn(100) + 2) * step / 100  # gets larger\n",
    "        tf.summary.histogram(\"my_hist\", data, buckets=50, step=step)\n",
    "        \n",
    "        images = np.random.rand(2, 32, 32, 3) * step / 1000  # gets brighter\n",
    "        tf.summary.image(\"my_images\", images, step=step)\n",
    "        \n",
    "        texts = [\"The step is \" + str(step), \"Its square is \" + str(step ** 2)]\n",
    "        tf.summary.text(\"my_text\", texts, step=step)\n",
    "        \n",
    "        sine_wave = tf.math.sin(tf.range(12000) / 48000 * 2 * np.pi * step)\n",
    "        audio = tf.reshape(tf.cast(sine_wave, tf.float32), [1, -1, 1])\n",
    "        tf.summary.audio(\"my_audio\", audio, sample_rate=48000, step=step)"
   ]
  },
  {
   "cell_type": "markdown",
   "metadata": {},
   "source": [
    "### Fine-Tuning Neural Network Hyperparameters"
   ]
  },
  {
   "cell_type": "code",
   "execution_count": 79,
   "metadata": {},
   "outputs": [],
   "source": [
    "(X_train_full, y_train_full), (X_test, y_test) = fashion_mnist\n",
    "X_train, y_train = X_train_full[:-5000], y_train_full[:-5000]\n",
    "X_valid, y_valid = X_train_full[-5000:], y_train_full[-5000:]"
   ]
  },
  {
   "cell_type": "code",
   "execution_count": 80,
   "metadata": {},
   "outputs": [],
   "source": [
    "tf.keras.backend.clear_session()\n",
    "tf.random.set_seed(42)"
   ]
  },
  {
   "cell_type": "code",
   "execution_count": 78,
   "metadata": {},
   "outputs": [],
   "source": [
    "# Use the keras-tuner library to tune an MLP classifier for the Fashion MNIST dataset\n",
    "import keras_tuner as kt\n",
    "\n",
    "def build_model(hp):\n",
    "    n_hidden = hp.Int(\"n_hidden\", min_value=0, max_value=8, default=2)\n",
    "    n_neurons = hp.Int(\"n_neurons\", min_value=16, max_value=256)\n",
    "    learning_rate = hp.Float(\"learning_rate\", min_value=1e-4, max_value=1e-2,\n",
    "                             sampling=\"log\")\n",
    "    optimizer = hp.Choice(\"optimizer\", values=[\"sgd\", \"adam\"])\n",
    "    if optimizer == \"sgd\":\n",
    "        optimizer = tf.keras.optimizers.legacy.SGD(learning_rate=learning_rate)\n",
    "    else:\n",
    "        optimizer = tf.keras.optimizers.legacy.Adam(learning_rate=learning_rate)\n",
    "\n",
    "    model = tf.keras.Sequential()\n",
    "    model.add(tf.keras.layers.Flatten())\n",
    "    for _ in range(n_hidden):\n",
    "        model.add(tf.keras.layers.Dense(n_neurons, activation=\"softplus\"))\n",
    "    model.add(tf.keras.layers.Dense(10, activation=\"softmax\"))\n",
    "    model.compile(loss=\"sparse_categorical_crossentropy\", optimizer=optimizer,\n",
    "                  metrics=[\"accuracy\"])\n",
    "    return model"
   ]
  },
  {
   "cell_type": "code",
   "execution_count": 81,
   "metadata": {},
   "outputs": [
    {
     "name": "stdout",
     "output_type": "stream",
     "text": [
      "Trial 5 Complete [00h 02m 12s]\n",
      "val_accuracy: 0.8460000157356262\n",
      "\n",
      "Best val_accuracy So Far: 0.8592000007629395\n",
      "Total elapsed time: 00h 12m 05s\n"
     ]
    }
   ],
   "source": [
    "random_search_tuner = kt.RandomSearch(\n",
    "    build_model, objective=\"val_accuracy\", max_trials=5, overwrite=True,\n",
    "    directory=\"my_fashion_mnist\", project_name=\"my_rnd_search\", seed=42\n",
    ")\n",
    "random_search_tuner.search(X_train, y_train, epochs=10,\n",
    "                           validation_data=(X_valid, y_valid))"
   ]
  },
  {
   "cell_type": "code",
   "execution_count": 82,
   "metadata": {},
   "outputs": [
    {
     "data": {
      "text/plain": [
       "<keras.src.engine.sequential.Sequential at 0x46adabd90>"
      ]
     },
     "execution_count": 82,
     "metadata": {},
     "output_type": "execute_result"
    }
   ],
   "source": [
    "top3_models = random_search_tuner.get_best_models(num_models=3)\n",
    "best_model = top3_models[0]\n"
   ]
  },
  {
   "cell_type": "code",
   "execution_count": 83,
   "metadata": {},
   "outputs": [
    {
     "data": {
      "text/plain": [
       "{'n_hidden': 7,\n",
       " 'n_neurons': 100,\n",
       " 'learning_rate': 0.0012482904754698163,\n",
       " 'optimizer': 'sgd'}"
      ]
     },
     "execution_count": 83,
     "metadata": {},
     "output_type": "execute_result"
    }
   ],
   "source": [
    "top3_params = random_search_tuner.get_best_hyperparameters(num_trials=3)\n",
    "top3_params[0].values"
   ]
  },
  {
   "cell_type": "code",
   "execution_count": 84,
   "metadata": {},
   "outputs": [
    {
     "name": "stdout",
     "output_type": "stream",
     "text": [
      "Trial 1 summary\n",
      "Hyperparameters:\n",
      "n_hidden: 7\n",
      "n_neurons: 100\n",
      "learning_rate: 0.0012482904754698163\n",
      "optimizer: sgd\n",
      "Score: 0.8592000007629395\n"
     ]
    }
   ],
   "source": [
    "best_trial = random_search_tuner.oracle.get_best_trials(num_trials=1)[0]\n",
    "best_trial.summary()"
   ]
  },
  {
   "cell_type": "code",
   "execution_count": 85,
   "metadata": {},
   "outputs": [
    {
     "data": {
      "text/plain": [
       "0.8592000007629395"
      ]
     },
     "execution_count": 85,
     "metadata": {},
     "output_type": "execute_result"
    }
   ],
   "source": [
    "best_trial.metrics.get_last_value(\"val_accuracy\")"
   ]
  },
  {
   "cell_type": "code",
   "execution_count": 86,
   "metadata": {},
   "outputs": [
    {
     "name": "stdout",
     "output_type": "stream",
     "text": [
      "Epoch 1/10\n",
      "1875/1875 [==============================] - 16s 8ms/step - loss: 0.3254 - accuracy: 0.8796\n",
      "Epoch 2/10\n",
      "1875/1875 [==============================] - 16s 8ms/step - loss: 0.3170 - accuracy: 0.8823\n",
      "Epoch 3/10\n",
      "1875/1875 [==============================] - 16s 8ms/step - loss: 0.3090 - accuracy: 0.8860\n",
      "Epoch 4/10\n",
      "1875/1875 [==============================] - 16s 8ms/step - loss: 0.3013 - accuracy: 0.8880\n",
      "Epoch 5/10\n",
      "1875/1875 [==============================] - 16s 8ms/step - loss: 0.2948 - accuracy: 0.8905\n",
      "Epoch 6/10\n",
      "1875/1875 [==============================] - 16s 8ms/step - loss: 0.2884 - accuracy: 0.8916\n",
      "Epoch 7/10\n",
      "1875/1875 [==============================] - 16s 8ms/step - loss: 0.2823 - accuracy: 0.8939\n",
      "Epoch 8/10\n",
      "1875/1875 [==============================] - 16s 8ms/step - loss: 0.2773 - accuracy: 0.8959\n",
      "Epoch 9/10\n",
      "1875/1875 [==============================] - 16s 8ms/step - loss: 0.2726 - accuracy: 0.8971\n",
      "Epoch 10/10\n",
      "1875/1875 [==============================] - 16s 9ms/step - loss: 0.2672 - accuracy: 0.8993\n",
      "313/313 [==============================] - 2s 7ms/step - loss: 0.4042 - accuracy: 0.8575\n"
     ]
    }
   ],
   "source": [
    "# Continue training the best model on the full training set\n",
    "best_model.fit(X_train_full, y_train_full, epochs=10)\n",
    "test_loss, test_accuracy = best_model.evaluate(X_test, y_test)"
   ]
  },
  {
   "cell_type": "code",
   "execution_count": 87,
   "metadata": {},
   "outputs": [],
   "source": [
    "# Subclass the kt.HyperModel class to fine-tune preprocessing or model.fit arguments\n",
    "class MyClassificationHyperModel(kt.HyperModel):\n",
    "    def build(self, hp):\n",
    "        # exact same thing as before\n",
    "        return build_model(hp)\n",
    "\n",
    "    def fit(self, hp, model, X, y, **kwargs):\n",
    "        if hp.Boolean(\"normalize\"):\n",
    "            norm_layer = tf.keras.layers.Normalization()\n",
    "            X = norm_layer(X)\n",
    "        return model.fit(X, y, **kwargs)\n",
    "        "
   ]
  },
  {
   "cell_type": "code",
   "execution_count": 88,
   "metadata": {},
   "outputs": [],
   "source": [
    "hyperband_tuner = kt.Hyperband(\n",
    "    MyClassificationHyperModel(), objective=\"val_accuracy\", seed=42,\n",
    "    max_epochs=10, factor=3, hyperband_iterations=2,\n",
    "    overwrite=True, directory=\"my_fashion_mnist\", project_name=\"hyperband\"\n",
    ")"
   ]
  },
  {
   "cell_type": "code",
   "execution_count": 89,
   "metadata": {},
   "outputs": [
    {
     "name": "stdout",
     "output_type": "stream",
     "text": [
      "Trial 50 Complete [00h 01m 12s]\n",
      "val_accuracy: 0.8723999857902527\n",
      "\n",
      "Best val_accuracy So Far: 0.878600001335144\n",
      "Total elapsed time: 00h 36m 05s\n",
      "\n",
      "Search: Running Trial #51\n",
      "\n",
      "Value             |Best Value So Far |Hyperparameter\n",
      "2                 |7                 |n_hidden\n",
      "203               |100               |n_neurons\n",
      "0.00046153        |0.00044489        |learning_rate\n",
      "sgd               |adam              |optimizer\n",
      "True              |False             |normalize\n",
      "4                 |10                |tuner/epochs\n",
      "0                 |4                 |tuner/initial_epoch\n",
      "1                 |2                 |tuner/bracket\n",
      "0                 |2                 |tuner/round\n",
      "\n",
      "Epoch 1/4\n",
      "1719/1719 [==============================] - 10s 6ms/step - loss: 2.0929 - accuracy: 0.7010 - val_loss: 0.7597 - val_accuracy: 0.7698\n",
      "Epoch 2/4\n",
      " 378/1719 [=====>........................] - ETA: 6:54:46 - loss: 0.6828 - accuracy: 0.7781"
     ]
    }
   ],
   "source": [
    "root_logdir = Path(hyperband_tuner.project_dir) / \"tensorboard\"\n",
    "tensorboard_cb = tf.keras.callbacks.TensorBoard(root_logdir)\n",
    "early_stopping_cb = tf.keras.callbacks.EarlyStopping(patience=2)\n",
    "hyperband_tuner.search(X_train, y_train, epochs=10,\n",
    "                       validation_data=(X_valid, y_valid),\n",
    "                       callbacks=[early_stopping_cb, tensorboard_cb])"
   ]
  },
  {
   "cell_type": "code",
   "execution_count": null,
   "metadata": {},
   "outputs": [],
   "source": []
  }
 ],
 "metadata": {
  "kernelspec": {
   "display_name": "handson-ml3-DRIwlIAE-py3.10",
   "language": "python",
   "name": "python3"
  },
  "language_info": {
   "codemirror_mode": {
    "name": "ipython",
    "version": 3
   },
   "file_extension": ".py",
   "mimetype": "text/x-python",
   "name": "python",
   "nbconvert_exporter": "python",
   "pygments_lexer": "ipython3",
   "version": "3.10.7"
  }
 },
 "nbformat": 4,
 "nbformat_minor": 2
}
