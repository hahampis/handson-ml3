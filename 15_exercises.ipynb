{
 "cells": [
  {
   "cell_type": "markdown",
   "metadata": {},
   "source": [
    "Instead of the book exercises, we are going to deal with our own dataset from Withings. We are going to (try and) predict my weight using RNNs!"
   ]
  },
  {
   "cell_type": "code",
   "execution_count": 18,
   "metadata": {},
   "outputs": [],
   "source": [
    "import os\n",
    "import numpy as np\n",
    "import pandas as pd\n",
    "import matplotlib.pyplot as plt\n",
    "import tensorflow as tf\n",
    "from pathlib import Path\n"
   ]
  },
  {
   "cell_type": "code",
   "execution_count": 19,
   "metadata": {},
   "outputs": [
    {
     "data": {
      "text/plain": [
       "PosixPath('/Users/nikolaoschachampis/Downloads/withings_data/weight.csv')"
      ]
     },
     "execution_count": 19,
     "metadata": {},
     "output_type": "execute_result"
    }
   ],
   "source": [
    "csv_path = Path(os.path.expanduser(\"~/Downloads/withings_data/weight.csv\"))\n",
    "csv_path"
   ]
  },
  {
   "cell_type": "code",
   "execution_count": 65,
   "metadata": {},
   "outputs": [
    {
     "data": {
      "text/html": [
       "<div>\n",
       "<style scoped>\n",
       "    .dataframe tbody tr th:only-of-type {\n",
       "        vertical-align: middle;\n",
       "    }\n",
       "\n",
       "    .dataframe tbody tr th {\n",
       "        vertical-align: top;\n",
       "    }\n",
       "\n",
       "    .dataframe thead th {\n",
       "        text-align: right;\n",
       "    }\n",
       "</style>\n",
       "<table border=\"1\" class=\"dataframe\">\n",
       "  <thead>\n",
       "    <tr style=\"text-align: right;\">\n",
       "      <th></th>\n",
       "      <th>Weight (kg)</th>\n",
       "      <th>Fat mass (kg)</th>\n",
       "      <th>Bone mass (kg)</th>\n",
       "      <th>Muscle mass (kg)</th>\n",
       "      <th>Hydration (kg)</th>\n",
       "      <th>Comments</th>\n",
       "    </tr>\n",
       "    <tr>\n",
       "      <th>Date</th>\n",
       "      <th></th>\n",
       "      <th></th>\n",
       "      <th></th>\n",
       "      <th></th>\n",
       "      <th></th>\n",
       "      <th></th>\n",
       "    </tr>\n",
       "  </thead>\n",
       "  <tbody>\n",
       "    <tr>\n",
       "      <th>2024-05-16 09:14:29</th>\n",
       "      <td>75.55</td>\n",
       "      <td>15.80</td>\n",
       "      <td>2.98</td>\n",
       "      <td>56.76</td>\n",
       "      <td>41.65</td>\n",
       "      <td>NaN</td>\n",
       "    </tr>\n",
       "    <tr>\n",
       "      <th>2024-05-14 08:52:56</th>\n",
       "      <td>75.72</td>\n",
       "      <td>16.03</td>\n",
       "      <td>2.98</td>\n",
       "      <td>56.70</td>\n",
       "      <td>41.61</td>\n",
       "      <td>NaN</td>\n",
       "    </tr>\n",
       "    <tr>\n",
       "      <th>2024-04-26 08:31:35</th>\n",
       "      <td>75.88</td>\n",
       "      <td>15.33</td>\n",
       "      <td>3.01</td>\n",
       "      <td>57.52</td>\n",
       "      <td>42.28</td>\n",
       "      <td>NaN</td>\n",
       "    </tr>\n",
       "    <tr>\n",
       "      <th>2024-04-23 08:23:13</th>\n",
       "      <td>74.25</td>\n",
       "      <td>15.15</td>\n",
       "      <td>2.95</td>\n",
       "      <td>56.13</td>\n",
       "      <td>41.13</td>\n",
       "      <td>NaN</td>\n",
       "    </tr>\n",
       "    <tr>\n",
       "      <th>2024-04-19 08:10:33</th>\n",
       "      <td>74.32</td>\n",
       "      <td>15.27</td>\n",
       "      <td>2.95</td>\n",
       "      <td>56.09</td>\n",
       "      <td>41.10</td>\n",
       "      <td>NaN</td>\n",
       "    </tr>\n",
       "    <tr>\n",
       "      <th>...</th>\n",
       "      <td>...</td>\n",
       "      <td>...</td>\n",
       "      <td>...</td>\n",
       "      <td>...</td>\n",
       "      <td>...</td>\n",
       "      <td>...</td>\n",
       "    </tr>\n",
       "    <tr>\n",
       "      <th>2016-11-20 20:42:35</th>\n",
       "      <td>84.50</td>\n",
       "      <td>NaN</td>\n",
       "      <td>NaN</td>\n",
       "      <td>NaN</td>\n",
       "      <td>NaN</td>\n",
       "      <td>NaN</td>\n",
       "    </tr>\n",
       "    <tr>\n",
       "      <th>2016-10-18 20:11:12</th>\n",
       "      <td>83.00</td>\n",
       "      <td>NaN</td>\n",
       "      <td>NaN</td>\n",
       "      <td>NaN</td>\n",
       "      <td>NaN</td>\n",
       "      <td>NaN</td>\n",
       "    </tr>\n",
       "    <tr>\n",
       "      <th>2016-10-10 21:19:21</th>\n",
       "      <td>82.00</td>\n",
       "      <td>NaN</td>\n",
       "      <td>NaN</td>\n",
       "      <td>NaN</td>\n",
       "      <td>NaN</td>\n",
       "      <td>NaN</td>\n",
       "    </tr>\n",
       "    <tr>\n",
       "      <th>2016-10-03 08:00:22</th>\n",
       "      <td>83.00</td>\n",
       "      <td>NaN</td>\n",
       "      <td>NaN</td>\n",
       "      <td>NaN</td>\n",
       "      <td>NaN</td>\n",
       "      <td>NaN</td>\n",
       "    </tr>\n",
       "    <tr>\n",
       "      <th>2016-09-27 20:05:27</th>\n",
       "      <td>84.00</td>\n",
       "      <td>NaN</td>\n",
       "      <td>NaN</td>\n",
       "      <td>NaN</td>\n",
       "      <td>NaN</td>\n",
       "      <td>NaN</td>\n",
       "    </tr>\n",
       "  </tbody>\n",
       "</table>\n",
       "<p>469 rows × 6 columns</p>\n",
       "</div>"
      ],
      "text/plain": [
       "                     Weight (kg)  Fat mass (kg)  Bone mass (kg)  \\\n",
       "Date                                                              \n",
       "2024-05-16 09:14:29        75.55          15.80            2.98   \n",
       "2024-05-14 08:52:56        75.72          16.03            2.98   \n",
       "2024-04-26 08:31:35        75.88          15.33            3.01   \n",
       "2024-04-23 08:23:13        74.25          15.15            2.95   \n",
       "2024-04-19 08:10:33        74.32          15.27            2.95   \n",
       "...                          ...            ...             ...   \n",
       "2016-11-20 20:42:35        84.50            NaN             NaN   \n",
       "2016-10-18 20:11:12        83.00            NaN             NaN   \n",
       "2016-10-10 21:19:21        82.00            NaN             NaN   \n",
       "2016-10-03 08:00:22        83.00            NaN             NaN   \n",
       "2016-09-27 20:05:27        84.00            NaN             NaN   \n",
       "\n",
       "                     Muscle mass (kg)  Hydration (kg) Comments  \n",
       "Date                                                            \n",
       "2024-05-16 09:14:29             56.76           41.65      NaN  \n",
       "2024-05-14 08:52:56             56.70           41.61      NaN  \n",
       "2024-04-26 08:31:35             57.52           42.28      NaN  \n",
       "2024-04-23 08:23:13             56.13           41.13      NaN  \n",
       "2024-04-19 08:10:33             56.09           41.10      NaN  \n",
       "...                               ...             ...      ...  \n",
       "2016-11-20 20:42:35               NaN             NaN      NaN  \n",
       "2016-10-18 20:11:12               NaN             NaN      NaN  \n",
       "2016-10-10 21:19:21               NaN             NaN      NaN  \n",
       "2016-10-03 08:00:22               NaN             NaN      NaN  \n",
       "2016-09-27 20:05:27               NaN             NaN      NaN  \n",
       "\n",
       "[469 rows x 6 columns]"
      ]
     },
     "execution_count": 65,
     "metadata": {},
     "output_type": "execute_result"
    }
   ],
   "source": [
    "weight_df = pd.read_csv(csv_path, index_col=\"Date\", parse_dates=True)\n",
    "weight_df"
   ]
  },
  {
   "cell_type": "markdown",
   "metadata": {},
   "source": [
    "We have 469 data points ranging from 2016 to 2024."
   ]
  },
  {
   "cell_type": "code",
   "execution_count": 66,
   "metadata": {},
   "outputs": [
    {
     "data": {
      "text/plain": [
       "DatetimeIndex(['2024-05-16 09:14:29', '2024-05-14 08:52:56',\n",
       "               '2024-04-26 08:31:35', '2024-04-23 08:23:13',\n",
       "               '2024-04-19 08:10:33', '2024-04-16 08:12:17',\n",
       "               '2024-04-12 08:14:38', '2024-04-09 08:55:31',\n",
       "               '2024-04-05 08:55:50', '2024-04-02 09:01:46',\n",
       "               ...\n",
       "               '2017-06-20 20:41:54', '2017-06-20 20:35:20',\n",
       "               '2017-06-03 10:03:46', '2017-05-06 22:15:44',\n",
       "               '2016-12-16 20:47:04', '2016-11-20 20:42:35',\n",
       "               '2016-10-18 20:11:12', '2016-10-10 21:19:21',\n",
       "               '2016-10-03 08:00:22', '2016-09-27 20:05:27'],\n",
       "              dtype='datetime64[ns]', name='Date', length=469, freq=None)"
      ]
     },
     "execution_count": 66,
     "metadata": {},
     "output_type": "execute_result"
    }
   ],
   "source": [
    "weight_df.index"
   ]
  },
  {
   "cell_type": "code",
   "execution_count": 67,
   "metadata": {},
   "outputs": [
    {
     "name": "stdout",
     "output_type": "stream",
     "text": [
      "<class 'pandas.core.frame.DataFrame'>\n",
      "DatetimeIndex: 469 entries, 2024-05-16 09:14:29 to 2016-09-27 20:05:27\n",
      "Data columns (total 6 columns):\n",
      " #   Column            Non-Null Count  Dtype  \n",
      "---  ------            --------------  -----  \n",
      " 0   Weight (kg)       469 non-null    float64\n",
      " 1   Fat mass (kg)     393 non-null    float64\n",
      " 2   Bone mass (kg)    393 non-null    float64\n",
      " 3   Muscle mass (kg)  393 non-null    float64\n",
      " 4   Hydration (kg)    393 non-null    float64\n",
      " 5   Comments          1 non-null      object \n",
      "dtypes: float64(5), object(1)\n",
      "memory usage: 25.6+ KB\n"
     ]
    }
   ],
   "source": [
    "weight_df.info()"
   ]
  },
  {
   "cell_type": "markdown",
   "metadata": {},
   "source": [
    "For simplicity, let's keep only the `Weight (kg)` column (resulting to a `Series` object):"
   ]
  },
  {
   "cell_type": "code",
   "execution_count": 68,
   "metadata": {},
   "outputs": [
    {
     "data": {
      "text/plain": [
       "Date\n",
       "2024-05-16 09:14:29    75.55\n",
       "2024-05-14 08:52:56    75.72\n",
       "2024-04-26 08:31:35    75.88\n",
       "2024-04-23 08:23:13    74.25\n",
       "2024-04-19 08:10:33    74.32\n",
       "                       ...  \n",
       "2016-11-20 20:42:35    84.50\n",
       "2016-10-18 20:11:12    83.00\n",
       "2016-10-10 21:19:21    82.00\n",
       "2016-10-03 08:00:22    83.00\n",
       "2016-09-27 20:05:27    84.00\n",
       "Name: Weight (kg), Length: 469, dtype: float64"
      ]
     },
     "execution_count": 68,
     "metadata": {},
     "output_type": "execute_result"
    }
   ],
   "source": [
    "weight_df = weight_df[\"Weight (kg)\"]\n",
    "weight_df"
   ]
  },
  {
   "cell_type": "code",
   "execution_count": 69,
   "metadata": {},
   "outputs": [
    {
     "data": {
      "text/plain": [
       "<Axes: xlabel='Date'>"
      ]
     },
     "execution_count": 69,
     "metadata": {},
     "output_type": "execute_result"
    },
    {
     "data": {
      "image/png": "[encoded data removed]",
      "text/plain": [
       "<Figure size 640x480 with 1 Axes>"
      ]
     },
     "metadata": {},
     "output_type": "display_data"
    }
   ],
   "source": [
    "weight_df.plot(grid=True)"
   ]
  },
  {
   "cell_type": "markdown",
   "metadata": {},
   "source": [
    "Let's resample the dataframe to have monthly data points:"
   ]
  },
  {
   "cell_type": "code",
   "execution_count": 71,
   "metadata": {},
   "outputs": [
    {
     "data": {
      "text/plain": [
       "Date\n",
       "2016-09-30    84.000000\n",
       "2016-10-31    82.666667\n",
       "2016-11-30    84.500000\n",
       "2016-12-31    84.000000\n",
       "2017-01-31          NaN\n",
       "                ...    \n",
       "2024-01-31    73.596667\n",
       "2024-02-29    74.367143\n",
       "2024-03-31    74.214286\n",
       "2024-04-30    74.507500\n",
       "2024-05-31    75.635000\n",
       "Freq: ME, Name: Weight (kg), Length: 93, dtype: float64"
      ]
     },
     "execution_count": 71,
     "metadata": {},
     "output_type": "execute_result"
    }
   ],
   "source": [
    "df_monthly = weight_df.resample('ME').mean()\n",
    "df_monthly"
   ]
  },
  {
   "cell_type": "code",
   "execution_count": 72,
   "metadata": {},
   "outputs": [
    {
     "name": "stdout",
     "output_type": "stream",
     "text": [
      "<class 'pandas.core.series.Series'>\n",
      "DatetimeIndex: 93 entries, 2016-09-30 to 2024-05-31\n",
      "Freq: ME\n",
      "Series name: Weight (kg)\n",
      "Non-Null Count  Dtype  \n",
      "--------------  -----  \n",
      "86 non-null     float64\n",
      "dtypes: float64(1)\n",
      "memory usage: 1.5 KB\n"
     ]
    }
   ],
   "source": [
    "df_monthly.info()"
   ]
  },
  {
   "cell_type": "markdown",
   "metadata": {},
   "source": [
    "We have NaN values. Let's fill them out:"
   ]
  },
  {
   "cell_type": "code",
   "execution_count": 73,
   "metadata": {},
   "outputs": [
    {
     "data": {
      "text/plain": [
       "Date\n",
       "2016-09-30    84.000000\n",
       "2016-10-31    82.666667\n",
       "2016-11-30    84.500000\n",
       "2016-12-31    84.000000\n",
       "2017-01-31    83.756000\n",
       "                ...    \n",
       "2024-01-31    73.596667\n",
       "2024-02-29    74.367143\n",
       "2024-03-31    74.214286\n",
       "2024-04-30    74.507500\n",
       "2024-05-31    75.635000\n",
       "Freq: ME, Name: Weight (kg), Length: 93, dtype: float64"
      ]
     },
     "execution_count": 73,
     "metadata": {},
     "output_type": "execute_result"
    }
   ],
   "source": [
    "df_monthly = df_monthly.interpolate()\n",
    "df_monthly"
   ]
  },
  {
   "cell_type": "code",
   "execution_count": 76,
   "metadata": {},
   "outputs": [
    {
     "name": "stdout",
     "output_type": "stream",
     "text": [
      "<class 'pandas.core.series.Series'>\n",
      "DatetimeIndex: 93 entries, 2016-09-30 to 2024-05-31\n",
      "Freq: ME\n",
      "Series name: Weight (kg)\n",
      "Non-Null Count  Dtype  \n",
      "--------------  -----  \n",
      "93 non-null     float64\n",
      "dtypes: float64(1)\n",
      "memory usage: 3.5 KB\n"
     ]
    }
   ],
   "source": [
    "df_monthly.info()"
   ]
  },
  {
   "cell_type": "code",
   "execution_count": 77,
   "metadata": {},
   "outputs": [
    {
     "data": {
      "text/plain": [
       "<Axes: xlabel='Date'>"
      ]
     },
     "execution_count": 77,
     "metadata": {},
     "output_type": "execute_result"
    },
    {
     "data": {
      "image/png": "[encoded data removed]",
      "text/plain": [
       "<Figure size 640x480 with 1 Axes>"
      ]
     },
     "metadata": {},
     "output_type": "display_data"
    }
   ],
   "source": [
    "df_monthly.plot(grid=True, marker=\".\")"
   ]
  },
  {
   "cell_type": "markdown",
   "metadata": {},
   "source": [
    "There are definetely trends here, but there doesn't appear to be any significant seasonality.\n",
    "\n",
    "Ideally, we should remove trends and seasonality using differencing, but let's skip that for now.\n",
    "\n",
    "Also, we should run an ARMA and a linear model first to have them as baselines."
   ]
  },
  {
   "cell_type": "code",
   "execution_count": 88,
   "metadata": {},
   "outputs": [
    {
     "data": {
      "text/plain": [
       "2019-06-30    85.802021\n",
       "Freq: ME, dtype: float64"
      ]
     },
     "execution_count": 88,
     "metadata": {},
     "output_type": "execute_result"
    }
   ],
   "source": [
    "from statsmodels.tsa.arima.model import ARIMA\n",
    "\n",
    "origin, today = \"2016-09-30\", \"2019-05-31\"\n",
    "weight_series = df_monthly.loc[origin:today].asfreq(\"ME\")\n",
    "model = ARIMA(weight_series,\n",
    "              order=(1, 1, 1))  # also applies 1 round of differencing\n",
    "model = model.fit()\n",
    "y_pred = model.forecast()\n",
    "y_pred"
   ]
  },
  {
   "cell_type": "code",
   "execution_count": 83,
   "metadata": {},
   "outputs": [
    {
     "data": {
      "text/plain": [
       "85.5975"
      ]
     },
     "execution_count": 83,
     "metadata": {},
     "output_type": "execute_result"
    }
   ],
   "source": [
    "df_monthly[\"2019-06-30\"]  # target value"
   ]
  },
  {
   "cell_type": "markdown",
   "metadata": {},
   "source": [
    "The SARIMA model prediction looks good enough for one month. Let's try to compute the MAE on a series of predictions:"
   ]
  },
  {
   "cell_type": "code",
   "execution_count": 89,
   "metadata": {},
   "outputs": [
    {
     "name": "stderr",
     "output_type": "stream",
     "text": [
      "/Users/nikolaoschachampis/Library/Caches/pypoetry/virtualenvs/handson-ml3-DRIwlIAE-py3.10/lib/python3.10/site-packages/statsmodels/tsa/statespace/sarimax.py:966: UserWarning: Non-stationary starting autoregressive parameters found. Using zeros as starting parameters.\n",
      "  warn('Non-stationary starting autoregressive parameters'\n",
      "/Users/nikolaoschachampis/Library/Caches/pypoetry/virtualenvs/handson-ml3-DRIwlIAE-py3.10/lib/python3.10/site-packages/statsmodels/tsa/statespace/sarimax.py:966: UserWarning: Non-stationary starting autoregressive parameters found. Using zeros as starting parameters.\n",
      "  warn('Non-stationary starting autoregressive parameters'\n",
      "/Users/nikolaoschachampis/Library/Caches/pypoetry/virtualenvs/handson-ml3-DRIwlIAE-py3.10/lib/python3.10/site-packages/statsmodels/tsa/statespace/sarimax.py:966: UserWarning: Non-stationary starting autoregressive parameters found. Using zeros as starting parameters.\n",
      "  warn('Non-stationary starting autoregressive parameters'\n",
      "/Users/nikolaoschachampis/Library/Caches/pypoetry/virtualenvs/handson-ml3-DRIwlIAE-py3.10/lib/python3.10/site-packages/statsmodels/tsa/statespace/sarimax.py:966: UserWarning: Non-stationary starting autoregressive parameters found. Using zeros as starting parameters.\n",
      "  warn('Non-stationary starting autoregressive parameters'\n",
      "/Users/nikolaoschachampis/Library/Caches/pypoetry/virtualenvs/handson-ml3-DRIwlIAE-py3.10/lib/python3.10/site-packages/statsmodels/tsa/statespace/sarimax.py:966: UserWarning: Non-stationary starting autoregressive parameters found. Using zeros as starting parameters.\n",
      "  warn('Non-stationary starting autoregressive parameters'\n",
      "/Users/nikolaoschachampis/Library/Caches/pypoetry/virtualenvs/handson-ml3-DRIwlIAE-py3.10/lib/python3.10/site-packages/statsmodels/tsa/statespace/sarimax.py:966: UserWarning: Non-stationary starting autoregressive parameters found. Using zeros as starting parameters.\n",
      "  warn('Non-stationary starting autoregressive parameters'\n",
      "/Users/nikolaoschachampis/Library/Caches/pypoetry/virtualenvs/handson-ml3-DRIwlIAE-py3.10/lib/python3.10/site-packages/statsmodels/tsa/statespace/sarimax.py:966: UserWarning: Non-stationary starting autoregressive parameters found. Using zeros as starting parameters.\n",
      "  warn('Non-stationary starting autoregressive parameters'\n",
      "/Users/nikolaoschachampis/Library/Caches/pypoetry/virtualenvs/handson-ml3-DRIwlIAE-py3.10/lib/python3.10/site-packages/statsmodels/tsa/statespace/sarimax.py:966: UserWarning: Non-stationary starting autoregressive parameters found. Using zeros as starting parameters.\n",
      "  warn('Non-stationary starting autoregressive parameters'\n"
     ]
    }
   ],
   "source": [
    "# \"today\" loops from 2019-03-01 up to 2022-05-31\n",
    "# every loop, we train from origin to \"today\" and forecast the next month\n",
    "origin, start_date, end_date = \"2016-09-30\", \"2019-03-01\", \"2022-05-31\"\n",
    "time_period = pd.date_range(start_date, end_date, freq=\"ME\")\n",
    "weight_series = df_monthly.loc[origin:end_date].asfreq(\"ME\")\n",
    "y_preds = []\n",
    "for today in time_period.shift(-1):\n",
    "    model = ARIMA(weight_series[origin:today],  # train on data up to \"today\"\n",
    "                  order=(1, 1, 1))\n",
    "    model = model.fit()  # note that we retrain the model every day!\n",
    "    y_pred = model.forecast().iloc[0]\n",
    "    y_preds.append(y_pred)\n",
    "\n",
    "y_preds = pd.Series(y_preds, index=time_period)\n",
    "mae = (y_preds - weight_series[time_period]).abs().mean()"
   ]
  },
  {
   "cell_type": "code",
   "execution_count": 90,
   "metadata": {},
   "outputs": [
    {
     "data": {
      "text/plain": [
       "0.7912105697520178"
      ]
     },
     "execution_count": 90,
     "metadata": {},
     "output_type": "execute_result"
    }
   ],
   "source": [
    "mae"
   ]
  },
  {
   "cell_type": "markdown",
   "metadata": {},
   "source": [
    "I think it will be hard to beat that! Also in the figure below, the predictions overlap almost perfectly with the targets so they are not visible:"
   ]
  },
  {
   "cell_type": "code",
   "execution_count": 99,
   "metadata": {},
   "outputs": [
    {
     "data": {
      "image/png": "[encoded data removed]",
      "text/plain": [
       "<Figure size 800x300 with 1 Axes>"
      ]
     },
     "metadata": {},
     "output_type": "display_data"
    }
   ],
   "source": [
    "# displays the ARIMA forecasts\n",
    "fig, ax = plt.subplots(figsize=(8, 3))\n",
    "weight_series.loc[time_period].plot(label=\"True\", ax=ax, marker=\".\", grid=True)\n",
    "ax.plot(y_preds, color=\"r\", marker=\"+\", label=\"ARIMA Forecasts\")\n",
    "plt.legend()\n",
    "plt.show()"
   ]
  },
  {
   "cell_type": "markdown",
   "metadata": {},
   "source": [
    "Now let's try a linear model. First, let's split the data to train, validation and test periods and divide by 100 so the values are near the 0-1 range:"
   ]
  },
  {
   "cell_type": "code",
   "execution_count": 101,
   "metadata": {},
   "outputs": [],
   "source": [
    "weight_train = df_monthly[\"2016-09-30\": \"2021-12-31\"] / 100\n",
    "weight_valid = df_monthly[\"2022-01-31\": \"2023-03-31\"] / 100\n",
    "weight_test = df_monthly[\"2023-04-30\":] / 100"
   ]
  },
  {
   "cell_type": "markdown",
   "metadata": {},
   "source": [
    "And now let's create the datasets:"
   ]
  },
  {
   "cell_type": "code",
   "execution_count": 143,
   "metadata": {},
   "outputs": [],
   "source": [
    "seq_length = 3\n",
    "train_ds = tf.keras.utils.timeseries_dataset_from_array(\n",
    "    weight_train.to_numpy(),\n",
    "    targets=weight_train[seq_length:],\n",
    "    sequence_length=seq_length,\n",
    "    batch_size=4,\n",
    "    shuffle=True,\n",
    "    seed=42\n",
    ")\n",
    "valid_ds = tf.keras.utils.timeseries_dataset_from_array(\n",
    "    weight_valid.to_numpy(),\n",
    "    targets=weight_valid[seq_length:],\n",
    "    sequence_length=seq_length,\n",
    "    batch_size=4\n",
    ")\n",
    "test_ds = tf.keras.utils.timeseries_dataset_from_array(\n",
    "    weight_test.to_numpy(),\n",
    "    targets=weight_test[seq_length:],\n",
    "    sequence_length=seq_length,\n",
    "    batch_size=4\n",
    ")"
   ]
  },
  {
   "cell_type": "code",
   "execution_count": 144,
   "metadata": {},
   "outputs": [
    {
     "name": "stdout",
     "output_type": "stream",
     "text": [
      "(<tf.Tensor: shape=(4, 3), dtype=float64, numpy=\n",
      "array([[0.85975 , 0.85725 , 0.855975],\n",
      "       [0.8686  , 0.87712 , 0.87424 ],\n",
      "       [0.83512 , 0.83268 , 0.83024 ],\n",
      "       [0.86085 , 0.85975 , 0.85725 ]])>, <tf.Tensor: shape=(4,), dtype=float64, numpy=array([0.8547  , 0.87042 , 0.8278  , 0.855975])>)\n"
     ]
    }
   ],
   "source": [
    "for item in train_ds.take(1):\n",
    "    print(item)"
   ]
  },
  {
   "cell_type": "markdown",
   "metadata": {},
   "source": [
    "So, one training \"example\" is a sequence of three consecutive monthly weights (e.g. 0.8741, 0.8799, 0.88944), with a corresponding target (next month's weight) of 0.879455.\n",
    "\n",
    "Let's try the linear model:"
   ]
  },
  {
   "cell_type": "code",
   "execution_count": 145,
   "metadata": {},
   "outputs": [
    {
     "name": "stderr",
     "output_type": "stream",
     "text": [
      "WARNING:absl:At this time, the v2.11+ optimizer `tf.keras.optimizers.SGD` runs slowly on M1/M2 Macs, please use the legacy Keras optimizer instead, located at `tf.keras.optimizers.legacy.SGD`.\n"
     ]
    },
    {
     "name": "stdout",
     "output_type": "stream",
     "text": [
      "Epoch 1/500\n"
     ]
    },
    {
     "name": "stderr",
     "output_type": "stream",
     "text": [
      "2024-05-19 14:07:29.866420: E tensorflow/core/grappler/optimizers/meta_optimizer.cc:961] model_pruner failed: INVALID_ARGUMENT: Graph does not contain terminal node SGD/AssignVariableOp.\n"
     ]
    },
    {
     "name": "stdout",
     "output_type": "stream",
     "text": [
      "16/16 [==============================] - 0s 14ms/step - loss: 0.0126 - mae: 0.1394 - val_loss: 0.0047 - val_mae: 0.0964\n",
      "Epoch 2/500\n",
      "16/16 [==============================] - 0s 6ms/step - loss: 0.0015 - mae: 0.0502 - val_loss: 1.2240e-04 - val_mae: 0.0147\n",
      "Epoch 3/500\n",
      "16/16 [==============================] - 0s 6ms/step - loss: 3.6577e-04 - mae: 0.0228 - val_loss: 2.3993e-05 - val_mae: 0.0059\n",
      "Epoch 4/500\n",
      "16/16 [==============================] - 0s 6ms/step - loss: 1.7230e-04 - mae: 0.0141 - val_loss: 3.2568e-04 - val_mae: 0.0250\n",
      "Epoch 5/500\n",
      "16/16 [==============================] - 0s 6ms/step - loss: 1.1261e-04 - mae: 0.0118 - val_loss: 9.5273e-05 - val_mae: 0.0127\n",
      "Epoch 6/500\n",
      "16/16 [==============================] - 0s 6ms/step - loss: 1.0234e-04 - mae: 0.0101 - val_loss: 1.7868e-04 - val_mae: 0.0181\n",
      "Epoch 7/500\n",
      "16/16 [==============================] - 0s 7ms/step - loss: 9.8033e-05 - mae: 0.0098 - val_loss: 1.3021e-04 - val_mae: 0.0152\n",
      "Epoch 8/500\n",
      "16/16 [==============================] - 0s 6ms/step - loss: 1.0437e-04 - mae: 0.0101 - val_loss: 1.3270e-04 - val_mae: 0.0154\n",
      "Epoch 9/500\n",
      "16/16 [==============================] - 0s 6ms/step - loss: 9.7299e-05 - mae: 0.0100 - val_loss: 1.9644e-04 - val_mae: 0.0191\n",
      "Epoch 10/500\n",
      "16/16 [==============================] - 0s 6ms/step - loss: 1.0005e-04 - mae: 0.0100 - val_loss: 1.2321e-04 - val_mae: 0.0148\n",
      "Epoch 11/500\n",
      "16/16 [==============================] - 0s 6ms/step - loss: 1.0835e-04 - mae: 0.0106 - val_loss: 1.8159e-04 - val_mae: 0.0183\n",
      "Epoch 12/500\n",
      "16/16 [==============================] - 0s 6ms/step - loss: 1.0337e-04 - mae: 0.0100 - val_loss: 2.0413e-04 - val_mae: 0.0195\n",
      "Epoch 13/500\n",
      "16/16 [==============================] - 0s 6ms/step - loss: 9.9277e-05 - mae: 0.0103 - val_loss: 1.1502e-04 - val_mae: 0.0142\n",
      "Epoch 14/500\n",
      "16/16 [==============================] - 0s 6ms/step - loss: 1.2105e-04 - mae: 0.0112 - val_loss: 2.0928e-04 - val_mae: 0.0198\n",
      "Epoch 15/500\n",
      "16/16 [==============================] - 0s 6ms/step - loss: 1.0101e-04 - mae: 0.0099 - val_loss: 1.7074e-04 - val_mae: 0.0177\n",
      "Epoch 16/500\n",
      "16/16 [==============================] - 0s 6ms/step - loss: 1.0808e-04 - mae: 0.0104 - val_loss: 1.4128e-04 - val_mae: 0.0159\n",
      "Epoch 17/500\n",
      "16/16 [==============================] - 0s 6ms/step - loss: 1.0267e-04 - mae: 0.0102 - val_loss: 9.4867e-05 - val_mae: 0.0127\n",
      "Epoch 18/500\n",
      "16/16 [==============================] - 0s 6ms/step - loss: 1.2633e-04 - mae: 0.0116 - val_loss: 1.3112e-04 - val_mae: 0.0153\n",
      "Epoch 19/500\n",
      "16/16 [==============================] - 0s 6ms/step - loss: 1.0435e-04 - mae: 0.0106 - val_loss: 1.7662e-04 - val_mae: 0.0180\n",
      "Epoch 20/500\n",
      "16/16 [==============================] - 0s 6ms/step - loss: 9.9087e-05 - mae: 0.0100 - val_loss: 1.7023e-04 - val_mae: 0.0177\n",
      "Epoch 21/500\n",
      "16/16 [==============================] - 0s 6ms/step - loss: 1.0784e-04 - mae: 0.0103 - val_loss: 2.2496e-04 - val_mae: 0.0205\n",
      "Epoch 22/500\n",
      "16/16 [==============================] - 0s 6ms/step - loss: 9.7347e-05 - mae: 0.0106 - val_loss: 9.4934e-05 - val_mae: 0.0127\n",
      "Epoch 23/500\n",
      "16/16 [==============================] - 0s 6ms/step - loss: 1.0948e-04 - mae: 0.0111 - val_loss: 1.5791e-04 - val_mae: 0.0170\n",
      "Epoch 24/500\n",
      "16/16 [==============================] - 0s 5ms/step - loss: 9.6787e-05 - mae: 0.0100 - val_loss: 1.3629e-04 - val_mae: 0.0156\n",
      "Epoch 25/500\n",
      "16/16 [==============================] - 0s 6ms/step - loss: 1.0503e-04 - mae: 0.0103 - val_loss: 1.0951e-04 - val_mae: 0.0138\n",
      "Epoch 26/500\n",
      "16/16 [==============================] - 0s 6ms/step - loss: 1.0400e-04 - mae: 0.0104 - val_loss: 1.2243e-04 - val_mae: 0.0147\n",
      "Epoch 27/500\n",
      "16/16 [==============================] - 0s 6ms/step - loss: 1.0033e-04 - mae: 0.0099 - val_loss: 1.6608e-04 - val_mae: 0.0174\n",
      "Epoch 28/500\n",
      "16/16 [==============================] - 0s 6ms/step - loss: 9.8306e-05 - mae: 0.0100 - val_loss: 9.0271e-05 - val_mae: 0.0123\n",
      "Epoch 29/500\n",
      "16/16 [==============================] - 0s 6ms/step - loss: 1.0827e-04 - mae: 0.0105 - val_loss: 2.1804e-04 - val_mae: 0.0202\n",
      "Epoch 30/500\n",
      "16/16 [==============================] - 0s 6ms/step - loss: 9.9568e-05 - mae: 0.0106 - val_loss: 7.7297e-05 - val_mae: 0.0112\n",
      "Epoch 31/500\n",
      "16/16 [==============================] - 0s 6ms/step - loss: 1.0326e-04 - mae: 0.0103 - val_loss: 2.0828e-04 - val_mae: 0.0197\n",
      "Epoch 32/500\n",
      "16/16 [==============================] - 0s 6ms/step - loss: 1.0091e-04 - mae: 0.0101 - val_loss: 1.5211e-04 - val_mae: 0.0166\n",
      "Epoch 33/500\n",
      "16/16 [==============================] - 0s 6ms/step - loss: 1.1501e-04 - mae: 0.0111 - val_loss: 1.5279e-04 - val_mae: 0.0167\n",
      "Epoch 34/500\n",
      "16/16 [==============================] - 0s 5ms/step - loss: 1.1024e-04 - mae: 0.0111 - val_loss: 7.8510e-05 - val_mae: 0.0114\n",
      "Epoch 35/500\n",
      "16/16 [==============================] - 0s 6ms/step - loss: 1.1448e-04 - mae: 0.0107 - val_loss: 1.1281e-04 - val_mae: 0.0141\n",
      "Epoch 36/500\n",
      "16/16 [==============================] - 0s 6ms/step - loss: 1.1264e-04 - mae: 0.0110 - val_loss: 2.0818e-04 - val_mae: 0.0197\n",
      "Epoch 37/500\n",
      "16/16 [==============================] - 0s 6ms/step - loss: 1.0134e-04 - mae: 0.0105 - val_loss: 1.3820e-04 - val_mae: 0.0158\n",
      "Epoch 38/500\n",
      "16/16 [==============================] - 0s 6ms/step - loss: 1.0435e-04 - mae: 0.0104 - val_loss: 7.6601e-05 - val_mae: 0.0112\n",
      "Epoch 39/500\n",
      "16/16 [==============================] - 0s 6ms/step - loss: 1.0531e-04 - mae: 0.0104 - val_loss: 1.5457e-04 - val_mae: 0.0168\n",
      "Epoch 40/500\n",
      "16/16 [==============================] - 0s 6ms/step - loss: 9.7930e-05 - mae: 0.0099 - val_loss: 1.4700e-04 - val_mae: 0.0163\n",
      "Epoch 41/500\n",
      "16/16 [==============================] - 0s 6ms/step - loss: 9.8646e-05 - mae: 0.0102 - val_loss: 1.3251e-04 - val_mae: 0.0154\n",
      "Epoch 42/500\n",
      "16/16 [==============================] - 0s 6ms/step - loss: 1.0964e-04 - mae: 0.0106 - val_loss: 2.1422e-04 - val_mae: 0.0200\n",
      "Epoch 43/500\n",
      "16/16 [==============================] - 0s 6ms/step - loss: 9.5539e-05 - mae: 0.0101 - val_loss: 9.5298e-05 - val_mae: 0.0128\n",
      "Epoch 44/500\n",
      "16/16 [==============================] - 0s 6ms/step - loss: 9.7055e-05 - mae: 0.0099 - val_loss: 2.1224e-04 - val_mae: 0.0199\n",
      "Epoch 45/500\n",
      "16/16 [==============================] - 0s 6ms/step - loss: 1.0201e-04 - mae: 0.0108 - val_loss: 8.1385e-05 - val_mae: 0.0116\n",
      "Epoch 46/500\n",
      "16/16 [==============================] - 0s 6ms/step - loss: 1.0343e-04 - mae: 0.0104 - val_loss: 1.6196e-04 - val_mae: 0.0172\n",
      "Epoch 47/500\n",
      "16/16 [==============================] - 0s 6ms/step - loss: 1.0193e-04 - mae: 0.0103 - val_loss: 1.7808e-04 - val_mae: 0.0181\n",
      "Epoch 48/500\n",
      "16/16 [==============================] - 0s 6ms/step - loss: 9.8030e-05 - mae: 0.0100 - val_loss: 1.3453e-04 - val_mae: 0.0155\n",
      "Epoch 49/500\n",
      "16/16 [==============================] - 0s 6ms/step - loss: 1.0170e-04 - mae: 0.0101 - val_loss: 1.1548e-04 - val_mae: 0.0142\n",
      "Epoch 50/500\n",
      "16/16 [==============================] - 0s 6ms/step - loss: 1.0272e-04 - mae: 0.0104 - val_loss: 1.2859e-04 - val_mae: 0.0151\n",
      "Epoch 51/500\n",
      "16/16 [==============================] - 0s 6ms/step - loss: 1.1080e-04 - mae: 0.0108 - val_loss: 2.3905e-04 - val_mae: 0.0212\n",
      "Epoch 52/500\n",
      "16/16 [==============================] - 0s 6ms/step - loss: 1.0696e-04 - mae: 0.0117 - val_loss: 5.6728e-05 - val_mae: 0.0094\n",
      "Epoch 53/500\n",
      "16/16 [==============================] - 0s 6ms/step - loss: 1.0871e-04 - mae: 0.0107 - val_loss: 2.0065e-04 - val_mae: 0.0193\n"
     ]
    }
   ],
   "source": [
    "tf.random.set_seed(42)\n",
    "model = tf.keras.Sequential([\n",
    "    tf.keras.layers.Dense(1, input_shape=[seq_length])\n",
    "])\n",
    "early_stopping_cb = tf.keras.callbacks.EarlyStopping(\n",
    "    monitor=\"val_mae\", patience=50, restore_best_weights=True)\n",
    "opt = tf.keras.optimizers.SGD(learning_rate=0.02, momentum=0.9)\n",
    "model.compile(loss=tf.keras.losses.Huber(), optimizer=opt, metrics=[\"mae\"])\n",
    "history = model.fit(train_ds, validation_data=valid_ds, epochs=500,\n",
    "                    callbacks=[early_stopping_cb])"
   ]
  },
  {
   "cell_type": "markdown",
   "metadata": {},
   "source": [
    "In order to compare the mae with the ARIMA model, we have to multiply it by 100 since we used scaled data to train the linear model:"
   ]
  },
  {
   "cell_type": "code",
   "execution_count": 146,
   "metadata": {},
   "outputs": [
    {
     "name": "stdout",
     "output_type": "stream",
     "text": [
      "3/3 [==============================] - 0s 5ms/step - loss: 2.3993e-05 - mae: 0.0059\n",
      "0.5945245269685984\n"
     ]
    }
   ],
   "source": [
    "valid_loss, valid_mae = model.evaluate(valid_ds)\n",
    "print(valid_mae * 100)"
   ]
  },
  {
   "cell_type": "markdown",
   "metadata": {},
   "source": [
    "The Mean Absolute Error of the linear model is 0.4Kg, better than the ARIMA model :)\n",
    "\n",
    "Let's try a SimpleRNN:"
   ]
  },
  {
   "cell_type": "code",
   "execution_count": 147,
   "metadata": {},
   "outputs": [],
   "source": [
    "def fit_and_evaluate(model, train_set, valid_set, learning_rate, epochs=500):\n",
    "    early_stopping_cb = tf.keras.callbacks.EarlyStopping(\n",
    "        monitor=\"val_mae\", patience=50, restore_best_weights=True)\n",
    "    opt = tf.keras.optimizers.legacy.SGD(learning_rate=learning_rate, momentum=0.9)\n",
    "    model.compile(loss=tf.keras.losses.Huber(), optimizer=opt, metrics=[\"mae\"])\n",
    "    history = model.fit(train_set, validation_data=valid_set, epochs=epochs,\n",
    "                        callbacks=[early_stopping_cb])\n",
    "    valid_loss, valid_mae = model.evaluate(valid_set)\n",
    "    return valid_mae * 100"
   ]
  },
  {
   "cell_type": "code",
   "execution_count": 148,
   "metadata": {},
   "outputs": [
    {
     "name": "stdout",
     "output_type": "stream",
     "text": [
      "Epoch 1/500\n",
      "16/16 [==============================] - 0s 14ms/step - loss: 1.5203e-04 - mae: 0.0118 - val_loss: 1.9330e-04 - val_mae: 0.0189\n",
      "Epoch 2/500\n",
      "16/16 [==============================] - 0s 6ms/step - loss: 1.0467e-04 - mae: 0.0103 - val_loss: 1.1396e-04 - val_mae: 0.0141\n",
      "Epoch 3/500\n",
      "16/16 [==============================] - 0s 6ms/step - loss: 1.0298e-04 - mae: 0.0104 - val_loss: 1.4147e-04 - val_mae: 0.0160\n",
      "Epoch 4/500\n",
      "16/16 [==============================] - 0s 6ms/step - loss: 1.0080e-04 - mae: 0.0101 - val_loss: 2.1030e-04 - val_mae: 0.0198\n",
      "Epoch 5/500\n",
      "16/16 [==============================] - 0s 6ms/step - loss: 1.2000e-04 - mae: 0.0124 - val_loss: 1.0124e-04 - val_mae: 0.0132\n",
      "Epoch 6/500\n",
      "16/16 [==============================] - 0s 6ms/step - loss: 1.0624e-04 - mae: 0.0104 - val_loss: 1.7815e-04 - val_mae: 0.0181\n",
      "Epoch 7/500\n",
      "16/16 [==============================] - 0s 6ms/step - loss: 1.0980e-04 - mae: 0.0105 - val_loss: 1.3529e-04 - val_mae: 0.0156\n",
      "Epoch 8/500\n",
      "16/16 [==============================] - 0s 6ms/step - loss: 1.0833e-04 - mae: 0.0104 - val_loss: 1.4786e-04 - val_mae: 0.0164\n",
      "Epoch 9/500\n",
      "16/16 [==============================] - 0s 6ms/step - loss: 1.0093e-04 - mae: 0.0101 - val_loss: 1.3692e-04 - val_mae: 0.0157\n",
      "Epoch 10/500\n",
      "16/16 [==============================] - 0s 6ms/step - loss: 1.0330e-04 - mae: 0.0101 - val_loss: 1.4701e-04 - val_mae: 0.0163\n",
      "Epoch 11/500\n",
      "16/16 [==============================] - 0s 6ms/step - loss: 1.0401e-04 - mae: 0.0105 - val_loss: 1.2498e-04 - val_mae: 0.0149\n",
      "Epoch 12/500\n",
      "16/16 [==============================] - 0s 6ms/step - loss: 1.0217e-04 - mae: 0.0101 - val_loss: 1.4050e-04 - val_mae: 0.0159\n",
      "Epoch 13/500\n",
      "16/16 [==============================] - 0s 6ms/step - loss: 9.8986e-05 - mae: 0.0099 - val_loss: 1.6333e-04 - val_mae: 0.0173\n",
      "Epoch 14/500\n",
      "16/16 [==============================] - 0s 5ms/step - loss: 1.0005e-04 - mae: 0.0100 - val_loss: 1.6120e-04 - val_mae: 0.0172\n",
      "Epoch 15/500\n",
      "16/16 [==============================] - 0s 6ms/step - loss: 9.8812e-05 - mae: 0.0098 - val_loss: 1.3837e-04 - val_mae: 0.0158\n",
      "Epoch 16/500\n",
      "16/16 [==============================] - 0s 6ms/step - loss: 1.0243e-04 - mae: 0.0102 - val_loss: 2.4782e-04 - val_mae: 0.0216\n",
      "Epoch 17/500\n",
      "16/16 [==============================] - 0s 6ms/step - loss: 1.1187e-04 - mae: 0.0110 - val_loss: 1.1945e-04 - val_mae: 0.0145\n",
      "Epoch 18/500\n",
      "16/16 [==============================] - 0s 6ms/step - loss: 1.1592e-04 - mae: 0.0116 - val_loss: 7.2417e-05 - val_mae: 0.0108\n",
      "Epoch 19/500\n",
      "16/16 [==============================] - 0s 6ms/step - loss: 1.2190e-04 - mae: 0.0121 - val_loss: 2.2001e-04 - val_mae: 0.0203\n",
      "Epoch 20/500\n",
      "16/16 [==============================] - 0s 6ms/step - loss: 1.0090e-04 - mae: 0.0105 - val_loss: 1.2502e-04 - val_mae: 0.0149\n",
      "Epoch 21/500\n",
      "16/16 [==============================] - 0s 6ms/step - loss: 9.7108e-05 - mae: 0.0097 - val_loss: 1.9593e-04 - val_mae: 0.0191\n",
      "Epoch 22/500\n",
      "16/16 [==============================] - 0s 7ms/step - loss: 1.0337e-04 - mae: 0.0108 - val_loss: 9.7672e-05 - val_mae: 0.0129\n",
      "Epoch 23/500\n",
      "16/16 [==============================] - 0s 6ms/step - loss: 1.0240e-04 - mae: 0.0103 - val_loss: 1.5935e-04 - val_mae: 0.0170\n",
      "Epoch 24/500\n",
      "16/16 [==============================] - 0s 6ms/step - loss: 9.6104e-05 - mae: 0.0098 - val_loss: 1.3272e-04 - val_mae: 0.0154\n",
      "Epoch 25/500\n",
      "16/16 [==============================] - 0s 6ms/step - loss: 1.0250e-04 - mae: 0.0101 - val_loss: 1.2438e-04 - val_mae: 0.0149\n",
      "Epoch 26/500\n",
      "16/16 [==============================] - 0s 6ms/step - loss: 1.0175e-04 - mae: 0.0102 - val_loss: 1.9701e-04 - val_mae: 0.0191\n",
      "Epoch 27/500\n",
      "16/16 [==============================] - 0s 6ms/step - loss: 1.0144e-04 - mae: 0.0098 - val_loss: 1.6280e-04 - val_mae: 0.0172\n",
      "Epoch 28/500\n",
      "16/16 [==============================] - 0s 6ms/step - loss: 1.0783e-04 - mae: 0.0113 - val_loss: 1.1290e-04 - val_mae: 0.0141\n",
      "Epoch 29/500\n",
      "16/16 [==============================] - 0s 6ms/step - loss: 1.0706e-04 - mae: 0.0102 - val_loss: 1.3694e-04 - val_mae: 0.0157\n",
      "Epoch 30/500\n",
      "16/16 [==============================] - 0s 6ms/step - loss: 1.0230e-04 - mae: 0.0101 - val_loss: 1.9970e-04 - val_mae: 0.0193\n",
      "Epoch 31/500\n",
      "16/16 [==============================] - 0s 6ms/step - loss: 1.0308e-04 - mae: 0.0101 - val_loss: 1.5778e-04 - val_mae: 0.0170\n",
      "Epoch 32/500\n",
      "16/16 [==============================] - 0s 6ms/step - loss: 9.5399e-05 - mae: 0.0096 - val_loss: 9.7283e-05 - val_mae: 0.0129\n",
      "Epoch 33/500\n",
      "16/16 [==============================] - 0s 6ms/step - loss: 9.9828e-05 - mae: 0.0101 - val_loss: 1.5769e-04 - val_mae: 0.0170\n",
      "Epoch 34/500\n",
      "16/16 [==============================] - 0s 6ms/step - loss: 1.0264e-04 - mae: 0.0108 - val_loss: 7.2591e-05 - val_mae: 0.0108\n",
      "Epoch 35/500\n",
      "16/16 [==============================] - 0s 6ms/step - loss: 1.2836e-04 - mae: 0.0107 - val_loss: 2.2596e-04 - val_mae: 0.0206\n",
      "Epoch 36/500\n",
      "16/16 [==============================] - 0s 6ms/step - loss: 9.9133e-05 - mae: 0.0104 - val_loss: 1.3096e-04 - val_mae: 0.0153\n",
      "Epoch 37/500\n",
      "16/16 [==============================] - 0s 6ms/step - loss: 1.0281e-04 - mae: 0.0104 - val_loss: 1.1582e-04 - val_mae: 0.0143\n",
      "Epoch 38/500\n",
      "16/16 [==============================] - 0s 6ms/step - loss: 1.0083e-04 - mae: 0.0100 - val_loss: 1.6441e-04 - val_mae: 0.0173\n",
      "Epoch 39/500\n",
      "16/16 [==============================] - 0s 6ms/step - loss: 1.0469e-04 - mae: 0.0104 - val_loss: 1.3870e-04 - val_mae: 0.0158\n",
      "Epoch 40/500\n",
      "16/16 [==============================] - 0s 6ms/step - loss: 1.0125e-04 - mae: 0.0102 - val_loss: 1.0725e-04 - val_mae: 0.0137\n",
      "Epoch 41/500\n",
      "16/16 [==============================] - 0s 6ms/step - loss: 9.8638e-05 - mae: 0.0102 - val_loss: 1.8439e-04 - val_mae: 0.0185\n",
      "Epoch 42/500\n",
      "16/16 [==============================] - 0s 6ms/step - loss: 9.7029e-05 - mae: 0.0099 - val_loss: 1.2385e-04 - val_mae: 0.0148\n",
      "Epoch 43/500\n",
      "16/16 [==============================] - 0s 6ms/step - loss: 9.7502e-05 - mae: 0.0100 - val_loss: 1.2130e-04 - val_mae: 0.0147\n",
      "Epoch 44/500\n",
      "16/16 [==============================] - 0s 6ms/step - loss: 9.8693e-05 - mae: 0.0100 - val_loss: 1.0776e-04 - val_mae: 0.0137\n",
      "Epoch 45/500\n",
      "16/16 [==============================] - 0s 6ms/step - loss: 1.0223e-04 - mae: 0.0103 - val_loss: 1.7225e-04 - val_mae: 0.0178\n",
      "Epoch 46/500\n",
      "16/16 [==============================] - 0s 6ms/step - loss: 9.6993e-05 - mae: 0.0099 - val_loss: 1.2592e-04 - val_mae: 0.0150\n",
      "Epoch 47/500\n",
      "16/16 [==============================] - 0s 6ms/step - loss: 1.0013e-04 - mae: 0.0100 - val_loss: 1.0156e-04 - val_mae: 0.0132\n",
      "Epoch 48/500\n",
      "16/16 [==============================] - 0s 6ms/step - loss: 1.0044e-04 - mae: 0.0100 - val_loss: 1.5039e-04 - val_mae: 0.0165\n",
      "Epoch 49/500\n",
      "16/16 [==============================] - 0s 6ms/step - loss: 1.0012e-04 - mae: 0.0101 - val_loss: 1.1781e-04 - val_mae: 0.0144\n",
      "Epoch 50/500\n",
      "16/16 [==============================] - 0s 6ms/step - loss: 1.0189e-04 - mae: 0.0104 - val_loss: 1.5079e-04 - val_mae: 0.0165\n",
      "Epoch 51/500\n",
      "16/16 [==============================] - 0s 6ms/step - loss: 9.7053e-05 - mae: 0.0098 - val_loss: 1.3457e-04 - val_mae: 0.0155\n",
      "Epoch 52/500\n",
      "16/16 [==============================] - 0s 6ms/step - loss: 1.1198e-04 - mae: 0.0110 - val_loss: 1.0462e-04 - val_mae: 0.0135\n",
      "Epoch 53/500\n",
      "16/16 [==============================] - 0s 6ms/step - loss: 9.8342e-05 - mae: 0.0098 - val_loss: 1.3490e-04 - val_mae: 0.0156\n",
      "Epoch 54/500\n",
      "16/16 [==============================] - 0s 6ms/step - loss: 1.0338e-04 - mae: 0.0103 - val_loss: 1.1006e-04 - val_mae: 0.0139\n",
      "Epoch 55/500\n",
      "16/16 [==============================] - 0s 6ms/step - loss: 1.0778e-04 - mae: 0.0103 - val_loss: 1.5289e-04 - val_mae: 0.0167\n",
      "Epoch 56/500\n",
      "16/16 [==============================] - 0s 6ms/step - loss: 1.0706e-04 - mae: 0.0104 - val_loss: 2.0133e-04 - val_mae: 0.0194\n",
      "Epoch 57/500\n",
      "16/16 [==============================] - 0s 6ms/step - loss: 1.0813e-04 - mae: 0.0115 - val_loss: 7.3570e-05 - val_mae: 0.0109\n",
      "Epoch 58/500\n",
      "16/16 [==============================] - 0s 6ms/step - loss: 9.7794e-05 - mae: 0.0102 - val_loss: 1.6130e-04 - val_mae: 0.0172\n",
      "Epoch 59/500\n",
      "16/16 [==============================] - 0s 6ms/step - loss: 1.0188e-04 - mae: 0.0102 - val_loss: 1.3867e-04 - val_mae: 0.0158\n",
      "Epoch 60/500\n",
      "16/16 [==============================] - 0s 6ms/step - loss: 1.0088e-04 - mae: 0.0102 - val_loss: 9.7257e-05 - val_mae: 0.0129\n",
      "Epoch 61/500\n",
      "16/16 [==============================] - 0s 6ms/step - loss: 1.0104e-04 - mae: 0.0100 - val_loss: 1.0876e-04 - val_mae: 0.0138\n",
      "Epoch 62/500\n",
      "16/16 [==============================] - 0s 7ms/step - loss: 1.0202e-04 - mae: 0.0103 - val_loss: 9.2912e-05 - val_mae: 0.0126\n",
      "Epoch 63/500\n",
      "16/16 [==============================] - 0s 6ms/step - loss: 1.0120e-04 - mae: 0.0098 - val_loss: 1.3022e-04 - val_mae: 0.0153\n",
      "Epoch 64/500\n",
      "16/16 [==============================] - 0s 5ms/step - loss: 9.8334e-05 - mae: 0.0101 - val_loss: 8.6367e-05 - val_mae: 0.0120\n",
      "Epoch 65/500\n",
      "16/16 [==============================] - 0s 6ms/step - loss: 9.6914e-05 - mae: 0.0099 - val_loss: 1.8529e-04 - val_mae: 0.0185\n",
      "Epoch 66/500\n",
      "16/16 [==============================] - 0s 5ms/step - loss: 1.0243e-04 - mae: 0.0107 - val_loss: 8.4921e-05 - val_mae: 0.0119\n",
      "Epoch 67/500\n",
      "16/16 [==============================] - 0s 5ms/step - loss: 9.8472e-05 - mae: 0.0103 - val_loss: 1.3245e-04 - val_mae: 0.0154\n",
      "Epoch 68/500\n",
      "16/16 [==============================] - 0s 5ms/step - loss: 9.8068e-05 - mae: 0.0100 - val_loss: 1.0697e-04 - val_mae: 0.0136\n",
      "3/3 [==============================] - 0s 4ms/step - loss: 7.2417e-05 - mae: 0.0108\n",
      "1.079887617379427\n"
     ]
    }
   ],
   "source": [
    "tf.keras.backend.clear_session()\n",
    "simple_rnn_model = tf.keras.Sequential([\n",
    "    tf.keras.layers.SimpleRNN(1, input_shape=[None, 1])\n",
    "])\n",
    "print(fit_and_evaluate(model, train_ds, valid_ds, learning_rate=0.02))"
   ]
  },
  {
   "cell_type": "markdown",
   "metadata": {},
   "source": [
    "It performs similar to the linear model.\n",
    "\n",
    "Let's try a bigger model:"
   ]
  },
  {
   "cell_type": "code",
   "execution_count": 114,
   "metadata": {},
   "outputs": [
    {
     "name": "stdout",
     "output_type": "stream",
     "text": [
      "Epoch 1/500\n",
      "16/16 [==============================] - 0s 7ms/step - loss: 0.0960 - mae: 0.3645 - val_loss: 0.0560 - val_mae: 0.3345\n",
      "Epoch 2/500\n",
      "16/16 [==============================] - 0s 2ms/step - loss: 0.0143 - mae: 0.1441 - val_loss: 0.0162 - val_mae: 0.1797\n",
      "Epoch 3/500\n",
      "16/16 [==============================] - 0s 2ms/step - loss: 0.0027 - mae: 0.0621 - val_loss: 0.0079 - val_mae: 0.1253\n",
      "Epoch 4/500\n",
      "16/16 [==============================] - 0s 2ms/step - loss: 0.0016 - mae: 0.0474 - val_loss: 0.0067 - val_mae: 0.1160\n",
      "Epoch 5/500\n",
      "16/16 [==============================] - 0s 2ms/step - loss: 0.0011 - mae: 0.0372 - val_loss: 0.0048 - val_mae: 0.0974\n",
      "Epoch 6/500\n",
      "16/16 [==============================] - 0s 2ms/step - loss: 8.2045e-04 - mae: 0.0302 - val_loss: 0.0014 - val_mae: 0.0534\n",
      "Epoch 7/500\n",
      "16/16 [==============================] - 0s 2ms/step - loss: 7.4838e-04 - mae: 0.0301 - val_loss: 0.0025 - val_mae: 0.0704\n",
      "Epoch 8/500\n",
      "16/16 [==============================] - 0s 2ms/step - loss: 7.3172e-04 - mae: 0.0304 - val_loss: 0.0013 - val_mae: 0.0505\n",
      "Epoch 9/500\n",
      "16/16 [==============================] - 0s 2ms/step - loss: 7.1221e-04 - mae: 0.0305 - val_loss: 0.0015 - val_mae: 0.0543\n",
      "Epoch 10/500\n",
      "16/16 [==============================] - 0s 2ms/step - loss: 8.1733e-04 - mae: 0.0324 - val_loss: 7.8871e-04 - val_mae: 0.0395\n",
      "Epoch 11/500\n",
      "16/16 [==============================] - 0s 2ms/step - loss: 6.5588e-04 - mae: 0.0292 - val_loss: 0.0014 - val_mae: 0.0525\n",
      "Epoch 12/500\n",
      "16/16 [==============================] - 0s 2ms/step - loss: 6.0460e-04 - mae: 0.0287 - val_loss: 0.0016 - val_mae: 0.0564\n",
      "Epoch 13/500\n",
      "16/16 [==============================] - 0s 2ms/step - loss: 5.7538e-04 - mae: 0.0271 - val_loss: 3.2227e-04 - val_mae: 0.0250\n",
      "Epoch 14/500\n",
      "16/16 [==============================] - 0s 2ms/step - loss: 7.7999e-04 - mae: 0.0331 - val_loss: 6.4591e-04 - val_mae: 0.0357\n",
      "Epoch 15/500\n",
      "16/16 [==============================] - 0s 2ms/step - loss: 7.6286e-04 - mae: 0.0316 - val_loss: 3.7584e-04 - val_mae: 0.0270\n",
      "Epoch 16/500\n",
      "16/16 [==============================] - 0s 2ms/step - loss: 7.2943e-04 - mae: 0.0310 - val_loss: 2.6933e-04 - val_mae: 0.0228\n",
      "Epoch 17/500\n",
      "16/16 [==============================] - 0s 2ms/step - loss: 5.7919e-04 - mae: 0.0275 - val_loss: 4.9724e-04 - val_mae: 0.0312\n",
      "Epoch 18/500\n",
      "16/16 [==============================] - 0s 2ms/step - loss: 5.3761e-04 - mae: 0.0278 - val_loss: 8.7549e-04 - val_mae: 0.0416\n",
      "Epoch 19/500\n",
      "16/16 [==============================] - 0s 2ms/step - loss: 5.2222e-04 - mae: 0.0278 - val_loss: 0.0012 - val_mae: 0.0486\n",
      "Epoch 20/500\n",
      "16/16 [==============================] - 0s 2ms/step - loss: 4.2383e-04 - mae: 0.0236 - val_loss: 1.8942e-04 - val_mae: 0.0189\n",
      "Epoch 21/500\n",
      "16/16 [==============================] - 0s 2ms/step - loss: 5.7226e-04 - mae: 0.0268 - val_loss: 2.3214e-04 - val_mae: 0.0211\n",
      "Epoch 22/500\n",
      "16/16 [==============================] - 0s 2ms/step - loss: 6.7834e-04 - mae: 0.0291 - val_loss: 5.0790e-04 - val_mae: 0.0316\n",
      "Epoch 23/500\n",
      "16/16 [==============================] - 0s 2ms/step - loss: 4.2000e-04 - mae: 0.0230 - val_loss: 5.7174e-05 - val_mae: 0.0100\n",
      "Epoch 24/500\n",
      "16/16 [==============================] - 0s 2ms/step - loss: 4.3270e-04 - mae: 0.0235 - val_loss: 1.1617e-04 - val_mae: 0.0146\n",
      "Epoch 25/500\n",
      "16/16 [==============================] - 0s 2ms/step - loss: 4.8588e-04 - mae: 0.0257 - val_loss: 1.0679e-05 - val_mae: 0.0029\n",
      "Epoch 26/500\n",
      "16/16 [==============================] - 0s 2ms/step - loss: 4.7923e-04 - mae: 0.0254 - val_loss: 2.5308e-05 - val_mae: 0.0066\n",
      "Epoch 27/500\n",
      "16/16 [==============================] - 0s 2ms/step - loss: 4.7454e-04 - mae: 0.0255 - val_loss: 3.7287e-05 - val_mae: 0.0081\n",
      "Epoch 28/500\n",
      "16/16 [==============================] - 0s 2ms/step - loss: 3.5361e-04 - mae: 0.0224 - val_loss: 2.0052e-05 - val_mae: 0.0057\n",
      "Epoch 29/500\n",
      "16/16 [==============================] - 0s 2ms/step - loss: 3.4640e-04 - mae: 0.0217 - val_loss: 1.1610e-04 - val_mae: 0.0146\n",
      "Epoch 30/500\n",
      "16/16 [==============================] - 0s 2ms/step - loss: 2.7010e-04 - mae: 0.0198 - val_loss: 4.1792e-04 - val_mae: 0.0286\n",
      "Epoch 31/500\n",
      "16/16 [==============================] - 0s 2ms/step - loss: 3.5092e-04 - mae: 0.0218 - val_loss: 5.7231e-04 - val_mae: 0.0335\n",
      "Epoch 32/500\n",
      "16/16 [==============================] - 0s 2ms/step - loss: 3.0361e-04 - mae: 0.0203 - val_loss: 3.6330e-04 - val_mae: 0.0266\n",
      "Epoch 33/500\n",
      "16/16 [==============================] - 0s 2ms/step - loss: 2.9474e-04 - mae: 0.0199 - val_loss: 2.0109e-04 - val_mae: 0.0196\n",
      "Epoch 34/500\n",
      "16/16 [==============================] - 0s 2ms/step - loss: 3.3009e-04 - mae: 0.0210 - val_loss: 5.3544e-05 - val_mae: 0.0094\n",
      "Epoch 35/500\n",
      "16/16 [==============================] - 0s 2ms/step - loss: 4.5878e-04 - mae: 0.0247 - val_loss: 8.4830e-05 - val_mae: 0.0123\n",
      "Epoch 36/500\n",
      "16/16 [==============================] - 0s 2ms/step - loss: 3.5353e-04 - mae: 0.0219 - val_loss: 6.7937e-05 - val_mae: 0.0109\n",
      "Epoch 37/500\n",
      "16/16 [==============================] - 0s 2ms/step - loss: 2.2249e-04 - mae: 0.0176 - val_loss: 5.3781e-05 - val_mae: 0.0097\n",
      "Epoch 38/500\n",
      "16/16 [==============================] - 0s 2ms/step - loss: 2.9255e-04 - mae: 0.0210 - val_loss: 9.7987e-05 - val_mae: 0.0133\n",
      "Epoch 39/500\n",
      "16/16 [==============================] - 0s 2ms/step - loss: 3.0072e-04 - mae: 0.0206 - val_loss: 2.2978e-04 - val_mae: 0.0210\n",
      "Epoch 40/500\n",
      "16/16 [==============================] - 0s 2ms/step - loss: 2.2563e-04 - mae: 0.0173 - val_loss: 4.2109e-05 - val_mae: 0.0086\n",
      "Epoch 41/500\n",
      "16/16 [==============================] - 0s 2ms/step - loss: 1.9482e-04 - mae: 0.0162 - val_loss: 1.1658e-05 - val_mae: 0.0040\n",
      "Epoch 42/500\n",
      "16/16 [==============================] - 0s 2ms/step - loss: 2.6737e-04 - mae: 0.0188 - val_loss: 1.1804e-04 - val_mae: 0.0147\n",
      "Epoch 43/500\n",
      "16/16 [==============================] - 0s 2ms/step - loss: 3.0318e-04 - mae: 0.0206 - val_loss: 4.9573e-05 - val_mae: 0.0089\n",
      "Epoch 44/500\n",
      "16/16 [==============================] - 0s 2ms/step - loss: 2.2321e-04 - mae: 0.0171 - val_loss: 1.9743e-05 - val_mae: 0.0051\n",
      "Epoch 45/500\n",
      "16/16 [==============================] - 0s 2ms/step - loss: 1.7138e-04 - mae: 0.0152 - val_loss: 8.6568e-05 - val_mae: 0.0124\n",
      "Epoch 46/500\n",
      "16/16 [==============================] - 0s 2ms/step - loss: 3.0274e-04 - mae: 0.0204 - val_loss: 5.7719e-05 - val_mae: 0.0098\n",
      "Epoch 47/500\n",
      "16/16 [==============================] - 0s 2ms/step - loss: 1.7293e-04 - mae: 0.0149 - val_loss: 5.5921e-05 - val_mae: 0.0096\n",
      "Epoch 48/500\n",
      "16/16 [==============================] - 0s 2ms/step - loss: 1.5575e-04 - mae: 0.0142 - val_loss: 5.1377e-05 - val_mae: 0.0095\n",
      "Epoch 49/500\n",
      "16/16 [==============================] - 0s 2ms/step - loss: 1.6648e-04 - mae: 0.0145 - val_loss: 1.0176e-05 - val_mae: 0.0034\n",
      "Epoch 50/500\n",
      "16/16 [==============================] - 0s 2ms/step - loss: 1.8102e-04 - mae: 0.0153 - val_loss: 8.5429e-05 - val_mae: 0.0123\n",
      "Epoch 51/500\n",
      "16/16 [==============================] - 0s 2ms/step - loss: 2.0857e-04 - mae: 0.0159 - val_loss: 2.5924e-04 - val_mae: 0.0223\n",
      "Epoch 52/500\n",
      "16/16 [==============================] - 0s 2ms/step - loss: 2.3674e-04 - mae: 0.0180 - val_loss: 9.6134e-06 - val_mae: 0.0030\n",
      "Epoch 53/500\n",
      "16/16 [==============================] - 0s 2ms/step - loss: 1.6367e-04 - mae: 0.0141 - val_loss: 1.3331e-05 - val_mae: 0.0037\n",
      "Epoch 54/500\n",
      "16/16 [==============================] - 0s 2ms/step - loss: 2.1888e-04 - mae: 0.0172 - val_loss: 1.6914e-04 - val_mae: 0.0179\n",
      "Epoch 55/500\n",
      "16/16 [==============================] - 0s 2ms/step - loss: 2.3032e-04 - mae: 0.0176 - val_loss: 1.6148e-04 - val_mae: 0.0174\n",
      "Epoch 56/500\n",
      "16/16 [==============================] - 0s 2ms/step - loss: 1.4946e-04 - mae: 0.0133 - val_loss: 8.3741e-05 - val_mae: 0.0122\n",
      "Epoch 57/500\n",
      "16/16 [==============================] - 0s 2ms/step - loss: 1.6139e-04 - mae: 0.0145 - val_loss: 1.1850e-05 - val_mae: 0.0033\n",
      "Epoch 58/500\n",
      "16/16 [==============================] - 0s 2ms/step - loss: 1.6713e-04 - mae: 0.0142 - val_loss: 5.3651e-05 - val_mae: 0.0097\n",
      "Epoch 59/500\n",
      "16/16 [==============================] - 0s 2ms/step - loss: 2.0683e-04 - mae: 0.0171 - val_loss: 6.8948e-05 - val_mae: 0.0109\n",
      "Epoch 60/500\n",
      "16/16 [==============================] - 0s 2ms/step - loss: 2.3912e-04 - mae: 0.0168 - val_loss: 9.4753e-05 - val_mae: 0.0131\n",
      "Epoch 61/500\n",
      "16/16 [==============================] - 0s 2ms/step - loss: 2.0596e-04 - mae: 0.0164 - val_loss: 8.2403e-05 - val_mae: 0.0121\n",
      "Epoch 62/500\n",
      "16/16 [==============================] - 0s 2ms/step - loss: 1.5618e-04 - mae: 0.0133 - val_loss: 1.3823e-05 - val_mae: 0.0039\n",
      "Epoch 63/500\n",
      "16/16 [==============================] - 0s 2ms/step - loss: 1.4301e-04 - mae: 0.0132 - val_loss: 1.9391e-05 - val_mae: 0.0050\n",
      "Epoch 64/500\n",
      "16/16 [==============================] - 0s 2ms/step - loss: 1.4497e-04 - mae: 0.0127 - val_loss: 2.0417e-04 - val_mae: 0.0197\n",
      "Epoch 65/500\n",
      "16/16 [==============================] - 0s 2ms/step - loss: 1.6669e-04 - mae: 0.0149 - val_loss: 6.0131e-04 - val_mae: 0.0344\n",
      "Epoch 66/500\n",
      "16/16 [==============================] - 0s 2ms/step - loss: 2.4259e-04 - mae: 0.0175 - val_loss: 2.6667e-04 - val_mae: 0.0227\n",
      "Epoch 67/500\n",
      "16/16 [==============================] - 0s 2ms/step - loss: 1.2888e-04 - mae: 0.0127 - val_loss: 2.3071e-05 - val_mae: 0.0057\n",
      "Epoch 68/500\n",
      "16/16 [==============================] - 0s 2ms/step - loss: 1.3139e-04 - mae: 0.0120 - val_loss: 2.6648e-04 - val_mae: 0.0227\n",
      "Epoch 69/500\n",
      "16/16 [==============================] - 0s 2ms/step - loss: 1.3917e-04 - mae: 0.0136 - val_loss: 3.6928e-04 - val_mae: 0.0268\n",
      "Epoch 70/500\n",
      "16/16 [==============================] - 0s 2ms/step - loss: 1.5332e-04 - mae: 0.0141 - val_loss: 1.5875e-04 - val_mae: 0.0173\n",
      "Epoch 71/500\n",
      "16/16 [==============================] - 0s 2ms/step - loss: 1.5966e-04 - mae: 0.0137 - val_loss: 9.9419e-06 - val_mae: 0.0033\n",
      "Epoch 72/500\n",
      "16/16 [==============================] - 0s 2ms/step - loss: 1.4876e-04 - mae: 0.0127 - val_loss: 1.5959e-05 - val_mae: 0.0044\n",
      "Epoch 73/500\n",
      "16/16 [==============================] - 0s 2ms/step - loss: 1.7604e-04 - mae: 0.0143 - val_loss: 5.5147e-05 - val_mae: 0.0096\n",
      "Epoch 74/500\n",
      "16/16 [==============================] - 0s 2ms/step - loss: 1.3394e-04 - mae: 0.0119 - val_loss: 3.9462e-04 - val_mae: 0.0278\n",
      "Epoch 75/500\n",
      "16/16 [==============================] - 0s 2ms/step - loss: 1.4529e-04 - mae: 0.0134 - val_loss: 2.3823e-04 - val_mae: 0.0214\n",
      "3/3 [==============================] - 0s 839us/step - loss: 1.0679e-05 - mae: 0.0029\n",
      "0.286208582110703\n"
     ]
    }
   ],
   "source": [
    "tf.keras.backend.clear_session()\n",
    "with tf.device(\"/cpu:0\"):\n",
    "    univar_model = tf.keras.Sequential([\n",
    "        tf.keras.layers.SimpleRNN(8, input_shape=[None, 1]),\n",
    "        tf.keras.layers.Dense(1)  # no activation function by default\n",
    "    ])\n",
    "    print(fit_and_evaluate(univar_model, train_ds, valid_ds, learning_rate=0.05))"
   ]
  },
  {
   "cell_type": "markdown",
   "metadata": {},
   "source": [
    "Even better!\n",
    "\n",
    "The MAE is just fine already, but let's also use a Deep RNN just for fun:"
   ]
  },
  {
   "cell_type": "code",
   "execution_count": 149,
   "metadata": {},
   "outputs": [
    {
     "name": "stdout",
     "output_type": "stream",
     "text": [
      "Epoch 1/500\n",
      "16/16 [==============================] - 1s 12ms/step - loss: 0.0401 - mae: 0.2470 - val_loss: 0.0108 - val_mae: 0.1470\n",
      "Epoch 2/500\n",
      "16/16 [==============================] - 0s 3ms/step - loss: 0.0074 - mae: 0.1013 - val_loss: 2.9367e-04 - val_mae: 0.0238\n",
      "Epoch 3/500\n",
      "16/16 [==============================] - 0s 3ms/step - loss: 9.5268e-04 - mae: 0.0346 - val_loss: 0.0015 - val_mae: 0.0543\n",
      "Epoch 4/500\n",
      "16/16 [==============================] - 0s 3ms/step - loss: 9.8677e-04 - mae: 0.0359 - val_loss: 0.0015 - val_mae: 0.0545\n",
      "Epoch 5/500\n",
      "16/16 [==============================] - 0s 3ms/step - loss: 0.0010 - mae: 0.0376 - val_loss: 0.0015 - val_mae: 0.0544\n",
      "Epoch 6/500\n",
      "16/16 [==============================] - 0s 3ms/step - loss: 7.3545e-04 - mae: 0.0313 - val_loss: 0.0022 - val_mae: 0.0658\n",
      "Epoch 7/500\n",
      "16/16 [==============================] - 0s 2ms/step - loss: 7.1124e-04 - mae: 0.0299 - val_loss: 0.0015 - val_mae: 0.0551\n",
      "Epoch 8/500\n",
      "16/16 [==============================] - 0s 2ms/step - loss: 6.4216e-04 - mae: 0.0299 - val_loss: 0.0019 - val_mae: 0.0621\n",
      "Epoch 9/500\n",
      "16/16 [==============================] - 0s 2ms/step - loss: 5.9230e-04 - mae: 0.0279 - val_loss: 0.0021 - val_mae: 0.0644\n",
      "Epoch 10/500\n",
      "16/16 [==============================] - 0s 2ms/step - loss: 5.9536e-04 - mae: 0.0279 - val_loss: 0.0028 - val_mae: 0.0747\n",
      "Epoch 11/500\n",
      "16/16 [==============================] - 0s 2ms/step - loss: 6.4024e-04 - mae: 0.0285 - val_loss: 0.0032 - val_mae: 0.0794\n",
      "Epoch 12/500\n",
      "16/16 [==============================] - 0s 2ms/step - loss: 6.0354e-04 - mae: 0.0268 - val_loss: 0.0017 - val_mae: 0.0579\n",
      "Epoch 13/500\n",
      "16/16 [==============================] - 0s 2ms/step - loss: 4.5766e-04 - mae: 0.0255 - val_loss: 0.0023 - val_mae: 0.0682\n",
      "Epoch 14/500\n",
      "16/16 [==============================] - 0s 2ms/step - loss: 5.8786e-04 - mae: 0.0282 - val_loss: 0.0017 - val_mae: 0.0586\n",
      "Epoch 15/500\n",
      "16/16 [==============================] - 0s 3ms/step - loss: 5.2037e-04 - mae: 0.0261 - val_loss: 8.6061e-04 - val_mae: 0.0412\n",
      "Epoch 16/500\n",
      "16/16 [==============================] - 0s 3ms/step - loss: 3.6228e-04 - mae: 0.0226 - val_loss: 0.0014 - val_mae: 0.0523\n",
      "Epoch 17/500\n",
      "16/16 [==============================] - 0s 3ms/step - loss: 3.3025e-04 - mae: 0.0212 - val_loss: 6.7461e-04 - val_mae: 0.0364\n",
      "Epoch 18/500\n",
      "16/16 [==============================] - 0s 3ms/step - loss: 3.2018e-04 - mae: 0.0211 - val_loss: 5.6578e-04 - val_mae: 0.0333\n",
      "Epoch 19/500\n",
      "16/16 [==============================] - 0s 3ms/step - loss: 3.4709e-04 - mae: 0.0220 - val_loss: 7.5780e-04 - val_mae: 0.0386\n",
      "Epoch 20/500\n",
      "16/16 [==============================] - 0s 2ms/step - loss: 3.1607e-04 - mae: 0.0202 - val_loss: 7.1100e-04 - val_mae: 0.0374\n",
      "Epoch 21/500\n",
      "16/16 [==============================] - 0s 2ms/step - loss: 3.7136e-04 - mae: 0.0227 - val_loss: 3.0613e-05 - val_mae: 0.0070\n",
      "Epoch 22/500\n",
      "16/16 [==============================] - 0s 3ms/step - loss: 2.8957e-04 - mae: 0.0211 - val_loss: 5.5745e-04 - val_mae: 0.0330\n",
      "Epoch 23/500\n",
      "16/16 [==============================] - 0s 2ms/step - loss: 2.4460e-04 - mae: 0.0182 - val_loss: 8.4271e-05 - val_mae: 0.0120\n",
      "Epoch 24/500\n",
      "16/16 [==============================] - 0s 2ms/step - loss: 2.3748e-04 - mae: 0.0180 - val_loss: 4.5378e-05 - val_mae: 0.0087\n",
      "Epoch 25/500\n",
      "16/16 [==============================] - 0s 2ms/step - loss: 2.1330e-04 - mae: 0.0171 - val_loss: 3.3417e-04 - val_mae: 0.0254\n",
      "Epoch 26/500\n",
      "16/16 [==============================] - 0s 3ms/step - loss: 1.9727e-04 - mae: 0.0164 - val_loss: 9.0317e-05 - val_mae: 0.0125\n",
      "Epoch 27/500\n",
      "16/16 [==============================] - 0s 3ms/step - loss: 1.8289e-04 - mae: 0.0162 - val_loss: 1.8444e-04 - val_mae: 0.0186\n",
      "Epoch 28/500\n",
      "16/16 [==============================] - 0s 2ms/step - loss: 2.0273e-04 - mae: 0.0170 - val_loss: 4.8361e-04 - val_mae: 0.0307\n",
      "Epoch 29/500\n",
      "16/16 [==============================] - 0s 3ms/step - loss: 3.2780e-04 - mae: 0.0211 - val_loss: 1.7247e-05 - val_mae: 0.0047\n",
      "Epoch 30/500\n",
      "16/16 [==============================] - 0s 3ms/step - loss: 2.0815e-04 - mae: 0.0162 - val_loss: 2.0228e-05 - val_mae: 0.0054\n",
      "Epoch 31/500\n",
      "16/16 [==============================] - 0s 2ms/step - loss: 2.7072e-04 - mae: 0.0187 - val_loss: 1.2439e-04 - val_mae: 0.0149\n",
      "Epoch 32/500\n",
      "16/16 [==============================] - 0s 2ms/step - loss: 1.7788e-04 - mae: 0.0156 - val_loss: 6.9132e-05 - val_mae: 0.0106\n",
      "Epoch 33/500\n",
      "16/16 [==============================] - 0s 2ms/step - loss: 1.6745e-04 - mae: 0.0149 - val_loss: 1.4735e-05 - val_mae: 0.0039\n",
      "Epoch 34/500\n",
      "16/16 [==============================] - 0s 2ms/step - loss: 1.3357e-04 - mae: 0.0134 - val_loss: 4.0268e-05 - val_mae: 0.0080\n",
      "Epoch 35/500\n",
      "16/16 [==============================] - 0s 2ms/step - loss: 1.3888e-04 - mae: 0.0133 - val_loss: 1.5167e-05 - val_mae: 0.0044\n",
      "Epoch 36/500\n",
      "16/16 [==============================] - 0s 2ms/step - loss: 1.6276e-04 - mae: 0.0152 - val_loss: 2.3278e-04 - val_mae: 0.0209\n",
      "Epoch 37/500\n",
      "16/16 [==============================] - 0s 2ms/step - loss: 1.9511e-04 - mae: 0.0156 - val_loss: 3.5558e-04 - val_mae: 0.0262\n",
      "Epoch 38/500\n",
      "16/16 [==============================] - 0s 2ms/step - loss: 1.9729e-04 - mae: 0.0157 - val_loss: 1.9428e-05 - val_mae: 0.0049\n",
      "Epoch 39/500\n",
      "16/16 [==============================] - 0s 2ms/step - loss: 1.7728e-04 - mae: 0.0154 - val_loss: 4.2314e-05 - val_mae: 0.0080\n",
      "Epoch 40/500\n",
      "16/16 [==============================] - 0s 2ms/step - loss: 1.2796e-04 - mae: 0.0129 - val_loss: 1.0987e-04 - val_mae: 0.0139\n",
      "Epoch 41/500\n",
      "16/16 [==============================] - 0s 2ms/step - loss: 1.1805e-04 - mae: 0.0122 - val_loss: 1.3859e-05 - val_mae: 0.0038\n",
      "Epoch 42/500\n",
      "16/16 [==============================] - 0s 3ms/step - loss: 1.6449e-04 - mae: 0.0148 - val_loss: 3.6420e-05 - val_mae: 0.0075\n",
      "Epoch 43/500\n",
      "16/16 [==============================] - 0s 2ms/step - loss: 1.1527e-04 - mae: 0.0118 - val_loss: 2.8968e-04 - val_mae: 0.0235\n",
      "Epoch 44/500\n",
      "16/16 [==============================] - 0s 2ms/step - loss: 1.5914e-04 - mae: 0.0147 - val_loss: 5.3563e-04 - val_mae: 0.0323\n",
      "Epoch 45/500\n",
      "16/16 [==============================] - 0s 2ms/step - loss: 2.2405e-04 - mae: 0.0176 - val_loss: 1.5893e-04 - val_mae: 0.0170\n",
      "Epoch 46/500\n",
      "16/16 [==============================] - 0s 2ms/step - loss: 1.6322e-04 - mae: 0.0143 - val_loss: 1.8195e-05 - val_mae: 0.0050\n",
      "Epoch 47/500\n",
      "16/16 [==============================] - 0s 2ms/step - loss: 1.4506e-04 - mae: 0.0135 - val_loss: 2.1620e-04 - val_mae: 0.0201\n",
      "Epoch 48/500\n",
      "16/16 [==============================] - 0s 2ms/step - loss: 2.2280e-04 - mae: 0.0174 - val_loss: 3.0803e-04 - val_mae: 0.0242\n",
      "Epoch 49/500\n",
      "16/16 [==============================] - 0s 2ms/step - loss: 1.4338e-04 - mae: 0.0136 - val_loss: 2.8308e-04 - val_mae: 0.0232\n",
      "Epoch 50/500\n",
      "16/16 [==============================] - 0s 2ms/step - loss: 1.0698e-04 - mae: 0.0112 - val_loss: 1.2113e-04 - val_mae: 0.0146\n",
      "Epoch 51/500\n",
      "16/16 [==============================] - 0s 2ms/step - loss: 1.1111e-04 - mae: 0.0119 - val_loss: 1.7476e-04 - val_mae: 0.0179\n",
      "Epoch 52/500\n",
      "16/16 [==============================] - 0s 2ms/step - loss: 1.0248e-04 - mae: 0.0110 - val_loss: 1.1961e-04 - val_mae: 0.0145\n",
      "Epoch 53/500\n",
      "16/16 [==============================] - 0s 3ms/step - loss: 1.0477e-04 - mae: 0.0113 - val_loss: 4.9971e-05 - val_mae: 0.0088\n",
      "Epoch 54/500\n",
      "16/16 [==============================] - 0s 3ms/step - loss: 1.3541e-04 - mae: 0.0131 - val_loss: 1.9188e-04 - val_mae: 0.0188\n",
      "Epoch 55/500\n",
      "16/16 [==============================] - 0s 3ms/step - loss: 1.1049e-04 - mae: 0.0115 - val_loss: 7.1201e-05 - val_mae: 0.0107\n",
      "Epoch 56/500\n",
      "16/16 [==============================] - 0s 3ms/step - loss: 1.0582e-04 - mae: 0.0115 - val_loss: 8.6595e-05 - val_mae: 0.0120\n",
      "Epoch 57/500\n",
      "16/16 [==============================] - 0s 3ms/step - loss: 1.0316e-04 - mae: 0.0107 - val_loss: 1.3709e-04 - val_mae: 0.0157\n",
      "Epoch 58/500\n",
      "16/16 [==============================] - 0s 2ms/step - loss: 1.0817e-04 - mae: 0.0111 - val_loss: 1.9848e-04 - val_mae: 0.0192\n",
      "Epoch 59/500\n",
      "16/16 [==============================] - 0s 2ms/step - loss: 1.0883e-04 - mae: 0.0116 - val_loss: 5.2574e-04 - val_mae: 0.0320\n",
      "Epoch 60/500\n",
      "16/16 [==============================] - 0s 3ms/step - loss: 1.8022e-04 - mae: 0.0153 - val_loss: 3.2406e-04 - val_mae: 0.0249\n",
      "Epoch 61/500\n",
      "16/16 [==============================] - 0s 2ms/step - loss: 1.0869e-04 - mae: 0.0117 - val_loss: 2.7318e-04 - val_mae: 0.0228\n",
      "Epoch 62/500\n",
      "16/16 [==============================] - 0s 2ms/step - loss: 1.0524e-04 - mae: 0.0111 - val_loss: 2.3018e-04 - val_mae: 0.0208\n",
      "Epoch 63/500\n",
      "16/16 [==============================] - 0s 2ms/step - loss: 1.0695e-04 - mae: 0.0111 - val_loss: 2.2742e-04 - val_mae: 0.0206\n",
      "Epoch 64/500\n",
      "16/16 [==============================] - 0s 2ms/step - loss: 1.2121e-04 - mae: 0.0128 - val_loss: 4.9692e-05 - val_mae: 0.0087\n",
      "Epoch 65/500\n",
      "16/16 [==============================] - 0s 2ms/step - loss: 1.2568e-04 - mae: 0.0122 - val_loss: 4.1515e-04 - val_mae: 0.0283\n",
      "Epoch 66/500\n",
      "16/16 [==============================] - 0s 2ms/step - loss: 1.3229e-04 - mae: 0.0133 - val_loss: 1.4419e-04 - val_mae: 0.0161\n",
      "Epoch 67/500\n",
      "16/16 [==============================] - 0s 2ms/step - loss: 1.0392e-04 - mae: 0.0112 - val_loss: 1.7664e-05 - val_mae: 0.0049\n",
      "Epoch 68/500\n",
      "16/16 [==============================] - 0s 2ms/step - loss: 1.3533e-04 - mae: 0.0126 - val_loss: 2.9179e-04 - val_mae: 0.0236\n",
      "Epoch 69/500\n",
      "16/16 [==============================] - 0s 2ms/step - loss: 1.0225e-04 - mae: 0.0110 - val_loss: 7.7543e-05 - val_mae: 0.0112\n",
      "Epoch 70/500\n",
      "16/16 [==============================] - 0s 2ms/step - loss: 1.0027e-04 - mae: 0.0107 - val_loss: 2.4541e-04 - val_mae: 0.0215\n",
      "Epoch 71/500\n",
      "16/16 [==============================] - 0s 3ms/step - loss: 1.2846e-04 - mae: 0.0123 - val_loss: 7.0706e-05 - val_mae: 0.0106\n",
      "Epoch 72/500\n",
      "16/16 [==============================] - 0s 2ms/step - loss: 1.0479e-04 - mae: 0.0112 - val_loss: 8.3059e-05 - val_mae: 0.0117\n",
      "Epoch 73/500\n",
      "16/16 [==============================] - 0s 2ms/step - loss: 1.1850e-04 - mae: 0.0122 - val_loss: 4.4694e-05 - val_mae: 0.0083\n",
      "Epoch 74/500\n",
      "16/16 [==============================] - 0s 3ms/step - loss: 1.3375e-04 - mae: 0.0128 - val_loss: 3.8458e-04 - val_mae: 0.0272\n",
      "Epoch 75/500\n",
      "16/16 [==============================] - 0s 3ms/step - loss: 1.0906e-04 - mae: 0.0112 - val_loss: 2.0459e-04 - val_mae: 0.0195\n",
      "Epoch 76/500\n",
      "16/16 [==============================] - 0s 2ms/step - loss: 1.3015e-04 - mae: 0.0124 - val_loss: 2.3966e-04 - val_mae: 0.0212\n",
      "Epoch 77/500\n",
      "16/16 [==============================] - 0s 2ms/step - loss: 1.5688e-04 - mae: 0.0133 - val_loss: 3.2142e-04 - val_mae: 0.0248\n",
      "Epoch 78/500\n",
      "16/16 [==============================] - 0s 2ms/step - loss: 1.5771e-04 - mae: 0.0133 - val_loss: 2.4383e-04 - val_mae: 0.0214\n",
      "Epoch 79/500\n",
      "16/16 [==============================] - 0s 2ms/step - loss: 1.1457e-04 - mae: 0.0120 - val_loss: 1.5532e-04 - val_mae: 0.0168\n",
      "Epoch 80/500\n",
      "16/16 [==============================] - 0s 2ms/step - loss: 1.0092e-04 - mae: 0.0105 - val_loss: 2.6777e-04 - val_mae: 0.0225\n",
      "Epoch 81/500\n",
      "16/16 [==============================] - 0s 2ms/step - loss: 1.3483e-04 - mae: 0.0115 - val_loss: 3.0729e-04 - val_mae: 0.0242\n",
      "Epoch 82/500\n",
      "16/16 [==============================] - 0s 2ms/step - loss: 1.8133e-04 - mae: 0.0155 - val_loss: 3.1381e-04 - val_mae: 0.0245\n",
      "Epoch 83/500\n",
      "16/16 [==============================] - 0s 2ms/step - loss: 1.1961e-04 - mae: 0.0113 - val_loss: 1.7679e-05 - val_mae: 0.0049\n",
      "Epoch 84/500\n",
      "16/16 [==============================] - 0s 2ms/step - loss: 1.2179e-04 - mae: 0.0128 - val_loss: 7.2071e-05 - val_mae: 0.0107\n",
      "Epoch 85/500\n",
      "16/16 [==============================] - 0s 2ms/step - loss: 1.5930e-04 - mae: 0.0141 - val_loss: 6.2496e-05 - val_mae: 0.0099\n",
      "Epoch 86/500\n",
      "16/16 [==============================] - 0s 2ms/step - loss: 1.7246e-04 - mae: 0.0147 - val_loss: 4.6145e-04 - val_mae: 0.0299\n",
      "Epoch 87/500\n",
      "16/16 [==============================] - 0s 2ms/step - loss: 1.1042e-04 - mae: 0.0127 - val_loss: 2.7832e-04 - val_mae: 0.0230\n",
      "Epoch 88/500\n",
      "16/16 [==============================] - 0s 2ms/step - loss: 1.0150e-04 - mae: 0.0109 - val_loss: 3.7325e-04 - val_mae: 0.0268\n",
      "Epoch 89/500\n",
      "16/16 [==============================] - 0s 2ms/step - loss: 1.4215e-04 - mae: 0.0131 - val_loss: 5.2130e-04 - val_mae: 0.0318\n",
      "Epoch 90/500\n",
      "16/16 [==============================] - 0s 2ms/step - loss: 1.0596e-04 - mae: 0.0111 - val_loss: 5.7049e-04 - val_mae: 0.0333\n",
      "Epoch 91/500\n",
      "16/16 [==============================] - 0s 3ms/step - loss: 1.3242e-04 - mae: 0.0135 - val_loss: 2.3434e-04 - val_mae: 0.0210\n",
      "3/3 [==============================] - 0s 1ms/step - loss: 1.3859e-05 - mae: 0.0038\n",
      "0.378466141410172\n"
     ]
    }
   ],
   "source": [
    "with tf.device(\"/cpu:0\"):\n",
    "    deep_model = tf.keras.Sequential([\n",
    "        tf.keras.layers.SimpleRNN(8, return_sequences=True, input_shape=[None, 1]),\n",
    "        tf.keras.layers.SimpleRNN(8, return_sequences=True),\n",
    "        tf.keras.layers.SimpleRNN(8),\n",
    "        tf.keras.layers.Dense(1)\n",
    "    ])\n",
    "    print(fit_and_evaluate(deep_model, train_ds, valid_ds, learning_rate=0.01))"
   ]
  },
  {
   "cell_type": "markdown",
   "metadata": {},
   "source": [
    "It doesn't add much, in fact it performed worse.\n",
    "\n",
    "But how can I predict my next month's weight?"
   ]
  },
  {
   "cell_type": "code",
   "execution_count": 150,
   "metadata": {},
   "outputs": [
    {
     "data": {
      "text/plain": [
       "array([[[0.74214286],\n",
       "        [0.745075  ],\n",
       "        [0.75635   ]]])"
      ]
     },
     "execution_count": 150,
     "metadata": {},
     "output_type": "execute_result"
    }
   ],
   "source": [
    "# RNNS take 3D inputs of shape (batch_size, time_steps, features)\n",
    "X = weight_test.to_numpy()[np.newaxis, -seq_length:, np.newaxis]\n",
    "X"
   ]
  },
  {
   "cell_type": "code",
   "execution_count": 151,
   "metadata": {},
   "outputs": [
    {
     "name": "stdout",
     "output_type": "stream",
     "text": [
      "1/1 [==============================] - 0s 55ms/step\n"
     ]
    },
    {
     "data": {
      "text/plain": [
       "array([[0.7320942]], dtype=float32)"
      ]
     },
     "execution_count": 151,
     "metadata": {},
     "output_type": "execute_result"
    }
   ],
   "source": [
    "# predict my weight for June 2024 based on the last 3 months weights\n",
    "univar_model.predict(X)"
   ]
  },
  {
   "cell_type": "markdown",
   "metadata": {},
   "source": [
    "73.2?? I find that hard to believe I'm afraid, I'm on an upward trend.. but a man can hope!\n",
    "\n",
    "What about the deep model?\n"
   ]
  },
  {
   "cell_type": "code",
   "execution_count": 152,
   "metadata": {},
   "outputs": [
    {
     "name": "stdout",
     "output_type": "stream",
     "text": [
      "WARNING:tensorflow:5 out of the last 10 calls to <function Model.make_predict_function.<locals>.predict_function at 0x390543400> triggered tf.function retracing. Tracing is expensive and the excessive number of tracings could be due to (1) creating @tf.function repeatedly in a loop, (2) passing tensors with different shapes, (3) passing Python objects instead of tensors. For (1), please define your @tf.function outside of the loop. For (2), @tf.function has reduce_retracing=True option that can avoid unnecessary retracing. For (3), please refer to https://www.tensorflow.org/guide/function#controlling_retracing and https://www.tensorflow.org/api_docs/python/tf/function for  more details.\n"
     ]
    },
    {
     "name": "stderr",
     "output_type": "stream",
     "text": [
      "WARNING:tensorflow:5 out of the last 10 calls to <function Model.make_predict_function.<locals>.predict_function at 0x390543400> triggered tf.function retracing. Tracing is expensive and the excessive number of tracings could be due to (1) creating @tf.function repeatedly in a loop, (2) passing tensors with different shapes, (3) passing Python objects instead of tensors. For (1), please define your @tf.function outside of the loop. For (2), @tf.function has reduce_retracing=True option that can avoid unnecessary retracing. For (3), please refer to https://www.tensorflow.org/guide/function#controlling_retracing and https://www.tensorflow.org/api_docs/python/tf/function for  more details.\n"
     ]
    },
    {
     "name": "stdout",
     "output_type": "stream",
     "text": [
      "1/1 [==============================] - 0s 160ms/step\n"
     ]
    },
    {
     "data": {
      "text/plain": [
       "array([[0.7555474]], dtype=float32)"
      ]
     },
     "execution_count": 152,
     "metadata": {},
     "output_type": "execute_result"
    }
   ],
   "source": [
    "deep_model.predict(X)"
   ]
  },
  {
   "cell_type": "markdown",
   "metadata": {},
   "source": [
    "That one seems more reasonable."
   ]
  },
  {
   "cell_type": "markdown",
   "metadata": {},
   "source": [
    "\n",
    "Let's predict the next 3 months by concatenating the predictions to the inputs:"
   ]
  },
  {
   "cell_type": "code",
   "execution_count": 153,
   "metadata": {},
   "outputs": [
    {
     "name": "stdout",
     "output_type": "stream",
     "text": [
      "1/1 [==============================] - 0s 17ms/step\n",
      "1/1 [==============================] - 0s 58ms/step\n",
      "1/1 [==============================] - 0s 15ms/step\n"
     ]
    }
   ],
   "source": [
    "X = weight_test.to_numpy()[np.newaxis, -seq_length:, np.newaxis]\n",
    "for step_ahead in range(3):\n",
    "    y_pred_one = univar_model.predict(X)\n",
    "    X = np.concatenate([X, y_pred_one.reshape(1, 1, 1)], axis=1)"
   ]
  },
  {
   "cell_type": "code",
   "execution_count": 154,
   "metadata": {},
   "outputs": [
    {
     "data": {
      "text/plain": [
       "array([[[0.73209423],\n",
       "        [0.36999536],\n",
       "        [0.58903873]]])"
      ]
     },
     "execution_count": 154,
     "metadata": {},
     "output_type": "execute_result"
    }
   ],
   "source": [
    "X[:, -3:,:]"
   ]
  },
  {
   "cell_type": "markdown",
   "metadata": {},
   "source": [
    "Hmm, the predictions look awful this way...\n"
   ]
  },
  {
   "cell_type": "code",
   "execution_count": 156,
   "metadata": {},
   "outputs": [
    {
     "name": "stdout",
     "output_type": "stream",
     "text": [
      "1/1 [==============================] - 0s 21ms/step\n",
      "1/1 [==============================] - 0s 22ms/step\n",
      "1/1 [==============================] - 0s 23ms/step\n"
     ]
    },
    {
     "data": {
      "text/plain": [
       "array([[[0.7555474 ],\n",
       "        [0.37289545],\n",
       "        [0.88959074]]])"
      ]
     },
     "execution_count": 156,
     "metadata": {},
     "output_type": "execute_result"
    }
   ],
   "source": [
    "X = weight_test.to_numpy()[np.newaxis, -seq_length:, np.newaxis]\n",
    "for step_ahead in range(3):\n",
    "    y_pred_one = deep_model.predict(X)\n",
    "    X = np.concatenate([X, y_pred_one.reshape(1, 1, 1)], axis=1)\n",
    "\n",
    "X[:, -3:,:]"
   ]
  },
  {
   "cell_type": "markdown",
   "metadata": {},
   "source": [
    "\n",
    "What if we train an RNN to predict the next 3 values in one shot?"
   ]
  },
  {
   "cell_type": "code",
   "execution_count": 157,
   "metadata": {},
   "outputs": [],
   "source": [
    "def split_inputs_and_targets(univar_series, ahead=3):\n",
    "    return univar_series[:, :-ahead], univar_series[:, -ahead:]"
   ]
  },
  {
   "cell_type": "code",
   "execution_count": 206,
   "metadata": {},
   "outputs": [],
   "source": [
    "# Use 6 months of data to predict the next 3 months\n",
    "new_seq_length = 6\n",
    "ahead_train_ds = tf.keras.utils.timeseries_dataset_from_array(\n",
    "    weight_train.to_numpy(),\n",
    "    targets=None,\n",
    "    sequence_length=new_seq_length + 3,\n",
    "    batch_size=4,\n",
    "    shuffle=True,\n",
    "    seed=42\n",
    ")\n",
    "ahead_valid_ds = tf.keras.utils.timeseries_dataset_from_array(\n",
    "    weight_valid.to_numpy(),\n",
    "    targets=None,\n",
    "    sequence_length=new_seq_length + 3,\n",
    "    batch_size=4\n",
    ")\n",
    "ahead_test_ds = tf.keras.utils.timeseries_dataset_from_array(\n",
    "    weight_test.to_numpy(),\n",
    "    targets=None,\n",
    "    sequence_length=new_seq_length + 3,\n",
    "    batch_size=4\n",
    ")"
   ]
  },
  {
   "cell_type": "code",
   "execution_count": 207,
   "metadata": {},
   "outputs": [
    {
     "name": "stdout",
     "output_type": "stream",
     "text": [
      "tf.Tensor(\n",
      "[[0.81453333 0.81853333 0.8127     0.82985    0.829275   0.83255\n",
      "  0.826325   0.8269     0.8266    ]\n",
      " [0.8035     0.817675   0.81453333 0.81853333 0.8127     0.82985\n",
      "  0.829275   0.83255    0.826325  ]\n",
      " [0.83512    0.83268    0.83024    0.8278     0.8085     0.80776667\n",
      "  0.8035     0.817675   0.81453333]\n",
      " [0.83993333 0.83316667 0.84710556 0.84878235 0.845475   0.86085\n",
      "  0.85975    0.85725    0.855975  ]], shape=(4, 9), dtype=float64)\n"
     ]
    }
   ],
   "source": [
    "for item in ahead_train_ds.take(1):\n",
    "    print(item)"
   ]
  },
  {
   "cell_type": "code",
   "execution_count": 208,
   "metadata": {},
   "outputs": [],
   "source": [
    "ahead_train_ds = ahead_train_ds.map(split_inputs_and_targets)\n",
    "ahead_valid_ds = ahead_valid_ds.map(split_inputs_and_targets)\n",
    "ahead_test_ds = ahead_test_ds.map(split_inputs_and_targets)"
   ]
  },
  {
   "cell_type": "code",
   "execution_count": 209,
   "metadata": {},
   "outputs": [
    {
     "name": "stdout",
     "output_type": "stream",
     "text": [
      "(<tf.Tensor: shape=(4, 6), dtype=float64, numpy=\n",
      "array([[0.83512   , 0.83268   , 0.83024   , 0.8278    , 0.8085    ,\n",
      "        0.80776667],\n",
      "       [0.855975  , 0.8547    , 0.8669    , 0.8686    , 0.87712   ,\n",
      "        0.87424   ],\n",
      "       [0.82985   , 0.829275  , 0.83255   , 0.826325  , 0.8269    ,\n",
      "        0.8266    ],\n",
      "       [0.81346667, 0.7914    , 0.78373333, 0.77606667, 0.7684    ,\n",
      "        0.7497625 ]])>, <tf.Tensor: shape=(4, 3), dtype=float64, numpy=\n",
      "array([[0.8035    , 0.817675  , 0.81453333],\n",
      "       [0.87042   , 0.8741    , 0.8799    ],\n",
      "       [0.8244    , 0.8148    , 0.835525  ],\n",
      "       [0.7419625 , 0.73203   , 0.72408333]])>)\n"
     ]
    }
   ],
   "source": [
    "for item in ahead_train_ds.take(1):\n",
    "    print(item)"
   ]
  },
  {
   "cell_type": "code",
   "execution_count": 210,
   "metadata": {},
   "outputs": [
    {
     "name": "stdout",
     "output_type": "stream",
     "text": [
      "Epoch 1/500\n",
      "14/14 [==============================] - 0s 9ms/step - loss: 0.2483 - mae: 0.5606 - val_loss: 0.0315 - val_mae: 0.2496\n",
      "Epoch 2/500\n",
      "14/14 [==============================] - 0s 2ms/step - loss: 0.0180 - mae: 0.1673 - val_loss: 0.0096 - val_mae: 0.1374\n",
      "Epoch 3/500\n",
      "14/14 [==============================] - 0s 2ms/step - loss: 0.0041 - mae: 0.0775 - val_loss: 0.0019 - val_mae: 0.0608\n",
      "Epoch 4/500\n",
      "14/14 [==============================] - 0s 2ms/step - loss: 0.0021 - mae: 0.0503 - val_loss: 0.0104 - val_mae: 0.1431\n",
      "Epoch 5/500\n",
      "14/14 [==============================] - 0s 2ms/step - loss: 0.0014 - mae: 0.0405 - val_loss: 0.0045 - val_mae: 0.0944\n",
      "Epoch 6/500\n",
      "14/14 [==============================] - 0s 2ms/step - loss: 0.0015 - mae: 0.0471 - val_loss: 0.0059 - val_mae: 0.1087\n",
      "Epoch 7/500\n",
      "14/14 [==============================] - 0s 2ms/step - loss: 0.0014 - mae: 0.0401 - val_loss: 0.0070 - val_mae: 0.1184\n",
      "Epoch 8/500\n",
      "14/14 [==============================] - 0s 2ms/step - loss: 0.0014 - mae: 0.0431 - val_loss: 0.0054 - val_mae: 0.1037\n",
      "Epoch 9/500\n",
      "14/14 [==============================] - 0s 2ms/step - loss: 0.0015 - mae: 0.0414 - val_loss: 0.0070 - val_mae: 0.1179\n",
      "Epoch 10/500\n",
      "14/14 [==============================] - 0s 2ms/step - loss: 0.0015 - mae: 0.0445 - val_loss: 0.0052 - val_mae: 0.1013\n",
      "Epoch 11/500\n",
      "14/14 [==============================] - 0s 2ms/step - loss: 0.0014 - mae: 0.0415 - val_loss: 0.0067 - val_mae: 0.1160\n",
      "Epoch 12/500\n",
      "14/14 [==============================] - 0s 2ms/step - loss: 0.0014 - mae: 0.0392 - val_loss: 0.0061 - val_mae: 0.1100\n",
      "Epoch 13/500\n",
      "14/14 [==============================] - 0s 2ms/step - loss: 0.0015 - mae: 0.0454 - val_loss: 0.0059 - val_mae: 0.1080\n",
      "Epoch 14/500\n",
      "14/14 [==============================] - 0s 2ms/step - loss: 0.0014 - mae: 0.0403 - val_loss: 0.0065 - val_mae: 0.1135\n",
      "Epoch 15/500\n",
      "14/14 [==============================] - 0s 2ms/step - loss: 0.0014 - mae: 0.0398 - val_loss: 0.0058 - val_mae: 0.1068\n",
      "Epoch 16/500\n",
      "14/14 [==============================] - 0s 2ms/step - loss: 0.0013 - mae: 0.0415 - val_loss: 0.0055 - val_mae: 0.1036\n",
      "Epoch 17/500\n",
      "14/14 [==============================] - 0s 2ms/step - loss: 0.0013 - mae: 0.0410 - val_loss: 0.0055 - val_mae: 0.1040\n",
      "Epoch 18/500\n",
      "14/14 [==============================] - 0s 2ms/step - loss: 0.0014 - mae: 0.0406 - val_loss: 0.0061 - val_mae: 0.1094\n",
      "Epoch 19/500\n",
      "14/14 [==============================] - 0s 2ms/step - loss: 0.0014 - mae: 0.0421 - val_loss: 0.0058 - val_mae: 0.1071\n",
      "Epoch 20/500\n",
      "14/14 [==============================] - 0s 2ms/step - loss: 0.0013 - mae: 0.0400 - val_loss: 0.0061 - val_mae: 0.1103\n",
      "Epoch 21/500\n",
      "14/14 [==============================] - 0s 2ms/step - loss: 0.0013 - mae: 0.0420 - val_loss: 0.0051 - val_mae: 0.1008\n",
      "Epoch 22/500\n",
      "14/14 [==============================] - 0s 2ms/step - loss: 0.0013 - mae: 0.0399 - val_loss: 0.0065 - val_mae: 0.1135\n",
      "Epoch 23/500\n",
      "14/14 [==============================] - 0s 2ms/step - loss: 0.0014 - mae: 0.0421 - val_loss: 0.0046 - val_mae: 0.0960\n",
      "Epoch 24/500\n",
      "14/14 [==============================] - 0s 2ms/step - loss: 0.0013 - mae: 0.0407 - val_loss: 0.0066 - val_mae: 0.1142\n",
      "Epoch 25/500\n",
      "14/14 [==============================] - 0s 2ms/step - loss: 0.0013 - mae: 0.0393 - val_loss: 0.0051 - val_mae: 0.1001\n",
      "Epoch 26/500\n",
      "14/14 [==============================] - 0s 2ms/step - loss: 0.0013 - mae: 0.0433 - val_loss: 0.0051 - val_mae: 0.1006\n",
      "Epoch 27/500\n",
      "14/14 [==============================] - 0s 2ms/step - loss: 0.0013 - mae: 0.0378 - val_loss: 0.0065 - val_mae: 0.1131\n",
      "Epoch 28/500\n",
      "14/14 [==============================] - 0s 2ms/step - loss: 0.0013 - mae: 0.0406 - val_loss: 0.0045 - val_mae: 0.0939\n",
      "Epoch 29/500\n",
      "14/14 [==============================] - 0s 2ms/step - loss: 0.0014 - mae: 0.0416 - val_loss: 0.0060 - val_mae: 0.1078\n",
      "Epoch 30/500\n",
      "14/14 [==============================] - 0s 2ms/step - loss: 0.0013 - mae: 0.0411 - val_loss: 0.0056 - val_mae: 0.1060\n",
      "Epoch 31/500\n",
      "14/14 [==============================] - 0s 2ms/step - loss: 0.0013 - mae: 0.0385 - val_loss: 0.0058 - val_mae: 0.1072\n",
      "Epoch 32/500\n",
      "14/14 [==============================] - 0s 2ms/step - loss: 0.0012 - mae: 0.0402 - val_loss: 0.0046 - val_mae: 0.0949\n",
      "Epoch 33/500\n",
      "14/14 [==============================] - 0s 2ms/step - loss: 0.0013 - mae: 0.0399 - val_loss: 0.0055 - val_mae: 0.1031\n",
      "Epoch 34/500\n",
      "14/14 [==============================] - 0s 2ms/step - loss: 0.0013 - mae: 0.0420 - val_loss: 0.0048 - val_mae: 0.0978\n",
      "Epoch 35/500\n",
      "14/14 [==============================] - 0s 2ms/step - loss: 0.0012 - mae: 0.0384 - val_loss: 0.0061 - val_mae: 0.1103\n",
      "Epoch 36/500\n",
      "14/14 [==============================] - 0s 2ms/step - loss: 0.0012 - mae: 0.0376 - val_loss: 0.0049 - val_mae: 0.0980\n",
      "Epoch 37/500\n",
      "14/14 [==============================] - 0s 2ms/step - loss: 0.0013 - mae: 0.0419 - val_loss: 0.0054 - val_mae: 0.1030\n",
      "Epoch 38/500\n",
      "14/14 [==============================] - 0s 2ms/step - loss: 0.0012 - mae: 0.0390 - val_loss: 0.0049 - val_mae: 0.0989\n",
      "Epoch 39/500\n",
      "14/14 [==============================] - 0s 2ms/step - loss: 0.0013 - mae: 0.0395 - val_loss: 0.0056 - val_mae: 0.1052\n",
      "Epoch 40/500\n",
      "14/14 [==============================] - 0s 2ms/step - loss: 0.0012 - mae: 0.0393 - val_loss: 0.0046 - val_mae: 0.0955\n",
      "Epoch 41/500\n",
      "14/14 [==============================] - 0s 2ms/step - loss: 0.0013 - mae: 0.0411 - val_loss: 0.0047 - val_mae: 0.0970\n",
      "Epoch 42/500\n",
      "14/14 [==============================] - 0s 2ms/step - loss: 0.0012 - mae: 0.0371 - val_loss: 0.0059 - val_mae: 0.1076\n",
      "Epoch 43/500\n",
      "14/14 [==============================] - 0s 2ms/step - loss: 0.0012 - mae: 0.0370 - val_loss: 0.0043 - val_mae: 0.0913\n",
      "Epoch 44/500\n",
      "14/14 [==============================] - 0s 2ms/step - loss: 0.0012 - mae: 0.0407 - val_loss: 0.0048 - val_mae: 0.0967\n",
      "Epoch 45/500\n",
      "14/14 [==============================] - 0s 2ms/step - loss: 0.0012 - mae: 0.0382 - val_loss: 0.0052 - val_mae: 0.1012\n",
      "Epoch 46/500\n",
      "14/14 [==============================] - 0s 2ms/step - loss: 0.0012 - mae: 0.0380 - val_loss: 0.0052 - val_mae: 0.1007\n",
      "Epoch 47/500\n",
      "14/14 [==============================] - 0s 2ms/step - loss: 0.0012 - mae: 0.0380 - val_loss: 0.0046 - val_mae: 0.0948\n",
      "Epoch 48/500\n",
      "14/14 [==============================] - 0s 2ms/step - loss: 0.0012 - mae: 0.0397 - val_loss: 0.0049 - val_mae: 0.0983\n",
      "Epoch 49/500\n",
      "14/14 [==============================] - 0s 2ms/step - loss: 0.0012 - mae: 0.0381 - val_loss: 0.0044 - val_mae: 0.0926\n",
      "Epoch 50/500\n",
      "14/14 [==============================] - 0s 2ms/step - loss: 0.0012 - mae: 0.0385 - val_loss: 0.0044 - val_mae: 0.0918\n",
      "Epoch 51/500\n",
      "14/14 [==============================] - 0s 2ms/step - loss: 0.0012 - mae: 0.0385 - val_loss: 0.0045 - val_mae: 0.0930\n",
      "Epoch 52/500\n",
      "14/14 [==============================] - 0s 2ms/step - loss: 0.0011 - mae: 0.0375 - val_loss: 0.0050 - val_mae: 0.0985\n",
      "Epoch 53/500\n",
      "14/14 [==============================] - 0s 2ms/step - loss: 0.0011 - mae: 0.0381 - val_loss: 0.0043 - val_mae: 0.0916\n",
      "2/2 [==============================] - 0s 1ms/step - loss: 0.0019 - mae: 0.0608\n",
      "6.075727194547653\n"
     ]
    }
   ],
   "source": [
    "tf.keras.backend.clear_session()\n",
    "with tf.device(\"/cpu:0\"):\n",
    "    ahead_model = tf.keras.Sequential([\n",
    "        tf.keras.layers.SimpleRNN(8, input_shape=[None, 1]),\n",
    "        tf.keras.layers.Dense(3)\n",
    "    ])\n",
    "    print(fit_and_evaluate(ahead_model, ahead_train_ds, ahead_valid_ds,\n",
    "                 learning_rate=0.02))"
   ]
  },
  {
   "cell_type": "code",
   "execution_count": 211,
   "metadata": {},
   "outputs": [
    {
     "name": "stdout",
     "output_type": "stream",
     "text": [
      "2/2 [==============================] - 0s 40ms/step - loss: 2.8626e-04 - mae: 0.0214\n"
     ]
    },
    {
     "data": {
      "text/plain": [
       "2.1444737911224365"
      ]
     },
     "execution_count": 211,
     "metadata": {},
     "output_type": "execute_result"
    }
   ],
   "source": [
    "test_loss, test_mae = ahead_model.evaluate(ahead_test_ds)\n",
    "test_mae * 100"
   ]
  },
  {
   "cell_type": "code",
   "execution_count": 212,
   "metadata": {},
   "outputs": [
    {
     "name": "stdout",
     "output_type": "stream",
     "text": [
      "1/1 [==============================] - 0s 78ms/step\n"
     ]
    },
    {
     "data": {
      "text/plain": [
       "array([[0.7548543, 0.7503047, 0.7741708]], dtype=float32)"
      ]
     },
     "execution_count": 212,
     "metadata": {},
     "output_type": "execute_result"
    }
   ],
   "source": [
    "X = weight_test.to_numpy()[np.newaxis, -new_seq_length:]  # shape [1, 6, 1]\n",
    "Y_pred = ahead_model.predict(X)  # shape [1, 3]\n",
    "Y_pred"
   ]
  },
  {
   "cell_type": "markdown",
   "metadata": {},
   "source": [
    "\n",
    "We should try a Sequence-to-Sequence model next.\n",
    "\n",
    "\n",
    "Also, think harder about how exactly to chop the data into windows (what windows are the most appropriate).\n",
    "\n",
    "Also use differencing in the raw data to remove trend."
   ]
  },
  {
   "cell_type": "markdown",
   "metadata": {},
   "source": [
    "**Sequence-to-Sequence model**"
   ]
  },
  {
   "cell_type": "code",
   "execution_count": 216,
   "metadata": {},
   "outputs": [],
   "source": [
    "# Helper functions\n",
    "def to_windows(dataset, length):\n",
    "    dataset = dataset.window(length, shift=1, drop_remainder=True)\n",
    "    return dataset.flat_map(lambda window_ds: window_ds.batch(length))\n",
    "\n",
    "def to_seq2seq_dataset(series, seq_length=6, ahead=3,\n",
    "                       batch_size=4, shuffle=False, seed=None):\n",
    "    ds = to_windows(tf.data.Dataset.from_tensor_slices(series), length=ahead + 1)\n",
    "    ds = to_windows(ds, seq_length).map(lambda S: (S[:, 0], S[:, 1:]))\n",
    "    if shuffle:\n",
    "        ds = ds.shuffle(8 * batch_size, seed=seed)\n",
    "    return ds.batch(batch_size)"
   ]
  },
  {
   "cell_type": "code",
   "execution_count": 217,
   "metadata": {},
   "outputs": [],
   "source": [
    "seq2seq_train = to_seq2seq_dataset(weight_train, shuffle=True, seed=42)\n",
    "seq2seq_valid = to_seq2seq_dataset(weight_valid)\n",
    "seq2seq_test = to_seq2seq_dataset(weight_test)"
   ]
  },
  {
   "cell_type": "code",
   "execution_count": 218,
   "metadata": {},
   "outputs": [
    {
     "name": "stdout",
     "output_type": "stream",
     "text": [
      "(<tf.Tensor: shape=(4, 6), dtype=float64, numpy=\n",
      "array([[0.84      , 0.83756   , 0.83512   , 0.83268   , 0.83024   ,\n",
      "        0.8278    ],\n",
      "       [0.85975   , 0.85725   , 0.855975  , 0.8547    , 0.8669    ,\n",
      "        0.8686    ],\n",
      "       [0.82666667, 0.845     , 0.84      , 0.83756   , 0.83512   ,\n",
      "        0.83268   ],\n",
      "       [0.86085   , 0.85975   , 0.85725   , 0.855975  , 0.8547    ,\n",
      "        0.8669    ]])>, <tf.Tensor: shape=(4, 6, 3), dtype=float64, numpy=\n",
      "array([[[0.83756   , 0.83512   , 0.83268   ],\n",
      "        [0.83512   , 0.83268   , 0.83024   ],\n",
      "        [0.83268   , 0.83024   , 0.8278    ],\n",
      "        [0.83024   , 0.8278    , 0.8085    ],\n",
      "        [0.8278    , 0.8085    , 0.80776667],\n",
      "        [0.8085    , 0.80776667, 0.8035    ]],\n",
      "\n",
      "       [[0.85725   , 0.855975  , 0.8547    ],\n",
      "        [0.855975  , 0.8547    , 0.8669    ],\n",
      "        [0.8547    , 0.8669    , 0.8686    ],\n",
      "        [0.8669    , 0.8686    , 0.87712   ],\n",
      "        [0.8686    , 0.87712   , 0.87424   ],\n",
      "        [0.87712   , 0.87424   , 0.87042   ]],\n",
      "\n",
      "       [[0.845     , 0.84      , 0.83756   ],\n",
      "        [0.84      , 0.83756   , 0.83512   ],\n",
      "        [0.83756   , 0.83512   , 0.83268   ],\n",
      "        [0.83512   , 0.83268   , 0.83024   ],\n",
      "        [0.83268   , 0.83024   , 0.8278    ],\n",
      "        [0.83024   , 0.8278    , 0.8085    ]],\n",
      "\n",
      "       [[0.85975   , 0.85725   , 0.855975  ],\n",
      "        [0.85725   , 0.855975  , 0.8547    ],\n",
      "        [0.855975  , 0.8547    , 0.8669    ],\n",
      "        [0.8547    , 0.8669    , 0.8686    ],\n",
      "        [0.8669    , 0.8686    , 0.87712   ],\n",
      "        [0.8686    , 0.87712   , 0.87424   ]]])>)\n"
     ]
    }
   ],
   "source": [
    "for item in seq2seq_train.take(1):\n",
    "    print(item)"
   ]
  },
  {
   "cell_type": "markdown",
   "metadata": {},
   "source": [
    "For the first training instance, the first time step of the input is `0.84` and the corresponding output is `[0.83756   , 0.83512   , 0.83268]`."
   ]
  },
  {
   "cell_type": "code",
   "execution_count": 220,
   "metadata": {},
   "outputs": [
    {
     "name": "stdout",
     "output_type": "stream",
     "text": [
      "Epoch 1/500\n",
      "14/14 [==============================] - 0s 10ms/step - loss: 0.1388 - mae: 0.3961 - val_loss: 0.0248 - val_mae: 0.1873\n",
      "Epoch 2/500\n",
      "14/14 [==============================] - 0s 2ms/step - loss: 0.0230 - mae: 0.1703 - val_loss: 0.0064 - val_mae: 0.0957\n",
      "Epoch 3/500\n",
      "14/14 [==============================] - 0s 2ms/step - loss: 0.0084 - mae: 0.1073 - val_loss: 0.0012 - val_mae: 0.0429\n",
      "Epoch 4/500\n",
      "14/14 [==============================] - 0s 2ms/step - loss: 0.0041 - mae: 0.0714 - val_loss: 0.0019 - val_mae: 0.0541\n",
      "Epoch 5/500\n",
      "14/14 [==============================] - 0s 2ms/step - loss: 0.0026 - mae: 0.0578 - val_loss: 0.0015 - val_mae: 0.0454\n",
      "Epoch 6/500\n",
      "14/14 [==============================] - 0s 2ms/step - loss: 0.0027 - mae: 0.0577 - val_loss: 0.0016 - val_mae: 0.0491\n",
      "Epoch 7/500\n",
      "14/14 [==============================] - 0s 2ms/step - loss: 0.0023 - mae: 0.0556 - val_loss: 0.0032 - val_mae: 0.0763\n",
      "Epoch 8/500\n",
      "14/14 [==============================] - 0s 2ms/step - loss: 0.0020 - mae: 0.0511 - val_loss: 0.0040 - val_mae: 0.0860\n",
      "Epoch 9/500\n",
      "14/14 [==============================] - 0s 2ms/step - loss: 0.0015 - mae: 0.0438 - val_loss: 0.0027 - val_mae: 0.0691\n",
      "Epoch 10/500\n",
      "14/14 [==============================] - 0s 2ms/step - loss: 0.0018 - mae: 0.0483 - val_loss: 0.0033 - val_mae: 0.0772\n",
      "Epoch 11/500\n",
      "14/14 [==============================] - 0s 2ms/step - loss: 0.0014 - mae: 0.0410 - val_loss: 0.0033 - val_mae: 0.0776\n",
      "Epoch 12/500\n",
      "14/14 [==============================] - 0s 2ms/step - loss: 0.0011 - mae: 0.0349 - val_loss: 0.0016 - val_mae: 0.0529\n",
      "Epoch 13/500\n",
      "14/14 [==============================] - 0s 2ms/step - loss: 0.0017 - mae: 0.0485 - val_loss: 0.0022 - val_mae: 0.0624\n",
      "Epoch 14/500\n",
      "14/14 [==============================] - 0s 2ms/step - loss: 0.0016 - mae: 0.0444 - val_loss: 0.0029 - val_mae: 0.0716\n",
      "Epoch 15/500\n",
      "14/14 [==============================] - 0s 2ms/step - loss: 0.0018 - mae: 0.0480 - val_loss: 0.0034 - val_mae: 0.0779\n",
      "Epoch 16/500\n",
      "14/14 [==============================] - 0s 2ms/step - loss: 0.0013 - mae: 0.0405 - val_loss: 0.0023 - val_mae: 0.0628\n",
      "Epoch 17/500\n",
      "14/14 [==============================] - 0s 2ms/step - loss: 0.0017 - mae: 0.0455 - val_loss: 0.0026 - val_mae: 0.0680\n",
      "Epoch 18/500\n",
      "14/14 [==============================] - 0s 2ms/step - loss: 0.0013 - mae: 0.0408 - val_loss: 0.0030 - val_mae: 0.0723\n",
      "Epoch 19/500\n",
      "14/14 [==============================] - 0s 2ms/step - loss: 0.0014 - mae: 0.0413 - val_loss: 0.0024 - val_mae: 0.0653\n",
      "Epoch 20/500\n",
      "14/14 [==============================] - 0s 2ms/step - loss: 0.0014 - mae: 0.0406 - val_loss: 0.0025 - val_mae: 0.0663\n",
      "Epoch 21/500\n",
      "14/14 [==============================] - 0s 2ms/step - loss: 0.0014 - mae: 0.0422 - val_loss: 0.0045 - val_mae: 0.0905\n",
      "Epoch 22/500\n",
      "14/14 [==============================] - 0s 2ms/step - loss: 9.3004e-04 - mae: 0.0328 - val_loss: 0.0020 - val_mae: 0.0578\n",
      "Epoch 23/500\n",
      "14/14 [==============================] - 0s 2ms/step - loss: 0.0014 - mae: 0.0415 - val_loss: 0.0012 - val_mae: 0.0432\n",
      "Epoch 24/500\n",
      "14/14 [==============================] - 0s 2ms/step - loss: 0.0018 - mae: 0.0472 - val_loss: 0.0021 - val_mae: 0.0611\n",
      "Epoch 25/500\n",
      "14/14 [==============================] - 0s 2ms/step - loss: 0.0020 - mae: 0.0488 - val_loss: 0.0016 - val_mae: 0.0512\n",
      "Epoch 26/500\n",
      "14/14 [==============================] - 0s 2ms/step - loss: 0.0018 - mae: 0.0468 - val_loss: 0.0025 - val_mae: 0.0653\n",
      "Epoch 27/500\n",
      "14/14 [==============================] - 0s 2ms/step - loss: 0.0013 - mae: 0.0414 - val_loss: 0.0023 - val_mae: 0.0619\n",
      "Epoch 28/500\n",
      "14/14 [==============================] - 0s 2ms/step - loss: 0.0018 - mae: 0.0485 - val_loss: 0.0039 - val_mae: 0.0847\n",
      "Epoch 29/500\n",
      "14/14 [==============================] - 0s 2ms/step - loss: 0.0016 - mae: 0.0435 - val_loss: 0.0035 - val_mae: 0.0792\n",
      "Epoch 30/500\n",
      "14/14 [==============================] - 0s 2ms/step - loss: 0.0013 - mae: 0.0384 - val_loss: 0.0019 - val_mae: 0.0559\n",
      "Epoch 31/500\n",
      "14/14 [==============================] - 0s 2ms/step - loss: 0.0016 - mae: 0.0421 - val_loss: 0.0021 - val_mae: 0.0599\n",
      "Epoch 32/500\n",
      "14/14 [==============================] - 0s 2ms/step - loss: 0.0016 - mae: 0.0448 - val_loss: 0.0015 - val_mae: 0.0495\n",
      "Epoch 33/500\n",
      "14/14 [==============================] - 0s 2ms/step - loss: 0.0016 - mae: 0.0452 - val_loss: 0.0027 - val_mae: 0.0701\n",
      "Epoch 34/500\n",
      "14/14 [==============================] - 0s 2ms/step - loss: 0.0013 - mae: 0.0391 - val_loss: 0.0026 - val_mae: 0.0683\n",
      "Epoch 35/500\n",
      "14/14 [==============================] - 0s 2ms/step - loss: 0.0018 - mae: 0.0465 - val_loss: 0.0023 - val_mae: 0.0639\n",
      "Epoch 36/500\n",
      "14/14 [==============================] - 0s 2ms/step - loss: 0.0017 - mae: 0.0475 - val_loss: 0.0024 - val_mae: 0.0654\n",
      "Epoch 37/500\n",
      "14/14 [==============================] - 0s 2ms/step - loss: 0.0013 - mae: 0.0401 - val_loss: 0.0019 - val_mae: 0.0570\n",
      "Epoch 38/500\n",
      "14/14 [==============================] - 0s 2ms/step - loss: 0.0017 - mae: 0.0460 - val_loss: 0.0028 - val_mae: 0.0706\n",
      "Epoch 39/500\n",
      "14/14 [==============================] - 0s 3ms/step - loss: 0.0016 - mae: 0.0447 - val_loss: 0.0037 - val_mae: 0.0824\n",
      "Epoch 40/500\n",
      "14/14 [==============================] - 0s 2ms/step - loss: 0.0015 - mae: 0.0432 - val_loss: 0.0025 - val_mae: 0.0660\n",
      "Epoch 41/500\n",
      "14/14 [==============================] - 0s 2ms/step - loss: 0.0018 - mae: 0.0479 - val_loss: 0.0053 - val_mae: 0.0994\n",
      "Epoch 42/500\n",
      "14/14 [==============================] - 0s 2ms/step - loss: 0.0011 - mae: 0.0368 - val_loss: 0.0029 - val_mae: 0.0709\n",
      "Epoch 43/500\n",
      "14/14 [==============================] - 0s 2ms/step - loss: 0.0012 - mae: 0.0386 - val_loss: 0.0033 - val_mae: 0.0773\n",
      "Epoch 44/500\n",
      "14/14 [==============================] - 0s 2ms/step - loss: 0.0010 - mae: 0.0352 - val_loss: 0.0024 - val_mae: 0.0649\n",
      "Epoch 45/500\n",
      "14/14 [==============================] - 0s 2ms/step - loss: 9.8263e-04 - mae: 0.0342 - val_loss: 0.0031 - val_mae: 0.0755\n",
      "Epoch 46/500\n",
      "14/14 [==============================] - 0s 2ms/step - loss: 0.0011 - mae: 0.0359 - val_loss: 0.0026 - val_mae: 0.0688\n",
      "Epoch 47/500\n",
      "14/14 [==============================] - 0s 2ms/step - loss: 0.0012 - mae: 0.0388 - val_loss: 0.0028 - val_mae: 0.0716\n",
      "Epoch 48/500\n",
      "14/14 [==============================] - 0s 2ms/step - loss: 0.0014 - mae: 0.0414 - val_loss: 0.0030 - val_mae: 0.0743\n",
      "Epoch 49/500\n",
      "14/14 [==============================] - 0s 2ms/step - loss: 0.0014 - mae: 0.0406 - val_loss: 0.0018 - val_mae: 0.0554\n",
      "Epoch 50/500\n",
      "14/14 [==============================] - 0s 2ms/step - loss: 0.0020 - mae: 0.0502 - val_loss: 0.0030 - val_mae: 0.0743\n",
      "Epoch 51/500\n",
      "14/14 [==============================] - 0s 2ms/step - loss: 0.0012 - mae: 0.0397 - val_loss: 0.0020 - val_mae: 0.0576\n",
      "Epoch 52/500\n",
      "14/14 [==============================] - 0s 2ms/step - loss: 0.0011 - mae: 0.0363 - val_loss: 0.0027 - val_mae: 0.0697\n",
      "Epoch 53/500\n",
      "14/14 [==============================] - 0s 2ms/step - loss: 8.3933e-04 - mae: 0.0319 - val_loss: 0.0028 - val_mae: 0.0703\n",
      "2/2 [==============================] - 0s 5ms/step - loss: 0.0012 - mae: 0.0429\n",
      "4.293398931622505\n"
     ]
    }
   ],
   "source": [
    "with tf.device(\"/cpu:0\"):\n",
    "    seq2seq_model = tf.keras.Sequential([\n",
    "        tf.keras.layers.SimpleRNN(8, return_sequences=True, input_shape=[None, 1]),\n",
    "        tf.keras.layers.Dense(3)  # because we want to predict the next 3 months\n",
    "    ])\n",
    "    print(fit_and_evaluate(seq2seq_model, seq2seq_train, seq2seq_valid,\n",
    "                 learning_rate=0.1))"
   ]
  },
  {
   "cell_type": "code",
   "execution_count": 221,
   "metadata": {},
   "outputs": [
    {
     "name": "stdout",
     "output_type": "stream",
     "text": [
      "1/1 [==============================] - 0s 373ms/step\n"
     ]
    },
    {
     "data": {
      "text/plain": [
       "array([[[0.72835505, 0.70961845, 0.6213119 ],\n",
       "        [0.75074196, 0.6925887 , 0.65463233],\n",
       "        [0.7700995 , 0.73469996, 0.651423  ],\n",
       "        [0.78276706, 0.74155366, 0.6481169 ],\n",
       "        [0.78181314, 0.7369404 , 0.6507663 ],\n",
       "        [0.784299  , 0.73871064, 0.65198165]]], dtype=float32)"
      ]
     },
     "execution_count": 221,
     "metadata": {},
     "output_type": "execute_result"
    }
   ],
   "source": [
    "X = weight_test.to_numpy()[np.newaxis, -new_seq_length:]\n",
    "seq2seq_model.predict(X)"
   ]
  },
  {
   "cell_type": "code",
   "execution_count": 222,
   "metadata": {},
   "outputs": [
    {
     "name": "stdout",
     "output_type": "stream",
     "text": [
      "1/1 [==============================] - 0s 18ms/step\n"
     ]
    },
    {
     "data": {
      "text/plain": [
       "array([0.784299  , 0.73871064, 0.65198165], dtype=float32)"
      ]
     },
     "execution_count": 222,
     "metadata": {},
     "output_type": "execute_result"
    }
   ],
   "source": [
    "# we only care about the last time step's output\n",
    "y_pred_3 = seq2seq_model.predict(X)[0, -1]\n",
    "y_pred_3"
   ]
  },
  {
   "cell_type": "markdown",
   "metadata": {},
   "source": [
    "All in all, we got mixed results with RNN networks."
   ]
  }
 ],
 "metadata": {
  "kernelspec": {
   "display_name": "handson-ml3-DRIwlIAE-py3.10",
   "language": "python",
   "name": "python3"
  },
  "language_info": {
   "codemirror_mode": {
    "name": "ipython",
    "version": 3
   },
   "file_extension": ".py",
   "mimetype": "text/x-python",
   "name": "python",
   "nbconvert_exporter": "python",
   "pygments_lexer": "ipython3",
   "version": "3.10.7"
  }
 },
 "nbformat": 4,
 "nbformat_minor": 2
}
